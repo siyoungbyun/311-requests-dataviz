{
 "cells": [
  {
   "cell_type": "markdown",
   "metadata": {
    "colab_type": "text",
    "id": "OgTiIE0zxdfi"
   },
   "source": [
    "# __Static Portfolio - 311 Service Requests in Chicago__\n",
    "\n",
    "### Data Preprocessing\n",
    "\n",
    "- [Preprocessing of data](https://colab.research.google.com/drive/1l6l6Lp4xRcRU9rqpS7WInSlaStZVaTgb)"
   ]
  },
  {
   "cell_type": "markdown",
   "metadata": {
    "colab_type": "text",
    "id": "X7VRTmxoxpeP"
   },
   "source": [
    "### Import Dependencies"
   ]
  },
  {
   "cell_type": "code",
   "execution_count": 1,
   "metadata": {
    "colab": {
     "base_uri": "https://localhost:8080/",
     "height": 919
    },
    "colab_type": "code",
    "id": "jMoILTsmxPWW",
    "outputId": "ec6075d1-fe83-402a-f59b-1e43824ae693"
   },
   "outputs": [
    {
     "data": {
      "text/plain": [
       "DataTransformerRegistry.enable('default')"
      ]
     },
     "execution_count": 1,
     "metadata": {},
     "output_type": "execute_result"
    }
   ],
   "source": [
    "import altair as alt\n",
    "import pandas as pd\n",
    "import geopandas as gpd\n",
    "\n",
    "alt.data_transformers.disable_max_rows()"
   ]
  },
  {
   "cell_type": "markdown",
   "metadata": {
    "colab_type": "text",
    "id": "_H9WjleM06-U"
   },
   "source": [
    "### Helper Functions"
   ]
  },
  {
   "cell_type": "code",
   "execution_count": 2,
   "metadata": {
    "colab": {},
    "colab_type": "code",
    "id": "vhO_kEUkYifZ"
   },
   "outputs": [],
   "source": [
    "def create_count_df_by_time(df, time_col):\n",
    "\n",
    "    df = df[[time_col, \"CREATED_YEAR\", \"STATUS\"]]\\\n",
    "        .groupby([time_col, \"CREATED_YEAR\"])\\\n",
    "        .STATUS.agg(\"count\")\\\n",
    "        .reset_index(name=\"COUNT\")\n",
    "    df[\"COUNT\"] = df[\"COUNT\"].div(1000)\n",
    "    return df\n",
    "\n",
    "def create_count_df_by_year(dfs, time_col, verbose=False):\n",
    "    \n",
    "    merged_df = create_count_df_by_time(dfs[0], time_col)\n",
    "    for df in dfs[1:]:\n",
    "        df = create_count_df_by_time(df, time_col)\n",
    "        merged_df = merged_df.append(df, ignore_index=True)\n",
    "    if verbose:\n",
    "        print(merged_df.sample(n=5))\n",
    "    return merged_df"
   ]
  },
  {
   "cell_type": "markdown",
   "metadata": {
    "colab_type": "text",
    "id": "Or7ujCeBOTJA"
   },
   "source": [
    "### Theme"
   ]
  },
  {
   "cell_type": "code",
   "execution_count": 26,
   "metadata": {
    "colab": {
     "base_uri": "https://localhost:8080/"
    },
    "colab_type": "code",
    "id": "g0pEwrg8OX9h",
    "outputId": "53cc8a10-1f01-45d7-9b89-9962910d795e"
   },
   "outputs": [
    {
     "data": {
      "text/plain": [
       "ThemeRegistry.enable('theme_311')"
      ]
     },
     "execution_count": 26,
     "metadata": {},
     "output_type": "execute_result"
    }
   ],
   "source": [
    "def theme_311():\n",
    "    # Theme Template from https://towardsdatascience.com/consistently-beautiful-visualizations-with-altair-themes-c7f9f889602\n",
    "\n",
    "    markColor = \"#1696d2\"\n",
    "    axisColor = \"#000000\"\n",
    "    backgroundColor = \"#f4f3f3\"\n",
    "    font = \"Roboto\"\n",
    "    labelFont = \"Roboto\"\n",
    "    sourceFont = \"Roboto\"\n",
    "    gridColor = \"#d6d4d4\"\n",
    "    main_palette = [\n",
    "        \"#76b7b2\", \"#f28e2b\", \"#e15759\",\n",
    "        \"#4e79a7\", \"#59a14f\", \"#edc948\",\n",
    "        \"#b07aa1\", \"#ff9da7\", \"#9c755f\",\n",
    "        \"#bab0ac\"\n",
    "    ]\n",
    "    sequential_palette = [\n",
    "        \"#e1f5fe\", \"#b3e5fc\", \"#81d4fa\", \n",
    "        \"#4fc3f7\", \"#29b6f6\", \"#03a9f4\",\n",
    "        \"#039be5\", \"#0288d1\", \"#0277bd\",\n",
    "        \"#01579b\"\n",
    "    ]\n",
    "    return {\n",
    "        \"config\": {\n",
    "            \"title\": {\n",
    "                \"anchor\": \"start\",\n",
    "                \"fontSize\": 24,\n",
    "                \"font\": font,\n",
    "                \"fontColor\": \"#000000\"\n",
    "            },\n",
    "            \"subtitle\": {\n",
    "                \"font\": font,\n",
    "                \"fontSize\": 22,\n",
    "                \"fontColor\": \"#838383\",\n",
    "                \"subtitlePadding\": 10\n",
    "            },\n",
    "            \"caption\": {\n",
    "                \"font\": font,\n",
    "                \"fontSize\": 26,\n",
    "                \"fontColor\": \"#000000\"\n",
    "            },\n",
    "            \"axisX\": {\n",
    "               \"domain\": True,\n",
    "               \"domainColor\": axisColor,\n",
    "               \"domainWidth\": 1,\n",
    "               \"grid\": False,\n",
    "               \"labelFontSize\": 13,\n",
    "               \"labelFont\": labelFont,\n",
    "               \"labelAngle\": 0,\n",
    "               \"tickColor\": axisColor,\n",
    "               \"tickSize\": 5,\n",
    "               \"titleFontSize\": 12,\n",
    "               \"titlePadding\": 10,\n",
    "               \"titleFont\": font,\n",
    "               \"title\": \"\",\n",
    "           },\n",
    "           \"axisY\": {\n",
    "               \"domain\": False,\n",
    "               \"grid\": True,\n",
    "               \"gridColor\": gridColor,\n",
    "               \"gridWidth\": 1,\n",
    "               \"labelFontSize\": 12,\n",
    "               \"labelFont\": labelFont,\n",
    "               \"labelPadding\": 8,\n",
    "               \"ticks\": False,\n",
    "               \"titleFontSize\": 12,\n",
    "               \"titlePadding\": 10,\n",
    "               \"titleFont\": font,\n",
    "               \"titleAngle\": 270,\n",
    "           },\n",
    "           \"background\": backgroundColor,\n",
    "           \"legend\": {\n",
    "               \"labelFontSize\": 12,\n",
    "               \"labelFont\": labelFont,\n",
    "               \"symbolSize\": 300,\n",
    "               \"symbolType\": \"circle\",\n",
    "               \"titleFontSize\": 15,\n",
    "               \"titlePadding\": 10,\n",
    "               \"titleFont\": font,\n",
    "               \"orient\": \"right\",\n",
    "               \"offset\": 20,\n",
    "           },\n",
    "           \"range\": {\n",
    "               \"category\": main_palette,\n",
    "               \"diverging\": sequential_palette,\n",
    "           },\n",
    "           \"geoshape\": {\n",
    "               \"category\": main_palette,\n",
    "               \"diverging\": sequential_palette,\n",
    "           },\n",
    "           \"area\": {\n",
    "               \"category\": main_palette,\n",
    "               \"fill\": markColor,\n",
    "               \"opacity\": 0.7,\n",
    "           },\n",
    "           \"line\": {\n",
    "               \"color\": markColor,\n",
    "               \"stroke\": markColor,\n",
    "               \"strokewidth\": 5,\n",
    "           },\n",
    "           \"point\": {\n",
    "               \"filled\": True,\n",
    "           },\n",
    "           \"circle\": {\n",
    "               \"color\": \"#4e79a7\",\n",
    "               \"size\": 13,\n",
    "           },\n",
    "           \"text\": {\n",
    "               \"font\": sourceFont,\n",
    "               \"color\": markColor,\n",
    "               \"fontSize\": 11,\n",
    "               \"align\": \"right\",\n",
    "               \"fontWeight\": 400,\n",
    "               \"size\": 11,\n",
    "           }, \n",
    "           \"bar\": {\n",
    "                \"size\": 40,\n",
    "                \"binSpacing\": 1,\n",
    "                \"continuousBandSize\": 30,\n",
    "                \"discreteBandSize\": 30,\n",
    "                \"fill\": markColor,\n",
    "                \"stroke\": False,\n",
    "                \"opacity\": 0.7\n",
    "            }, \n",
    "       },\n",
    "    }\n",
    "\n",
    "alt.themes.register(\"theme_311\", theme_311)\n",
    "alt.themes.enable(\"theme_311\")"
   ]
  },
  {
   "cell_type": "markdown",
   "metadata": {
    "colab_type": "text",
    "id": "RWkX0dByQSHc"
   },
   "source": [
    "### __1. Load the dataset__"
   ]
  },
  {
   "cell_type": "code",
   "execution_count": 4,
   "metadata": {
    "colab": {},
    "colab_type": "code",
    "id": "giSnEZkXyMyq"
   },
   "outputs": [],
   "source": [
    "# Load the dataset for 2018\n",
    "data_dir_2018 = \"./data/cleaned_311_2018.csv\"\n",
    "df_2018 = pd.read_csv(data_dir_2018)\n",
    "# Load the dataset for 2019\n",
    "data_dir_2019 = \"./data/cleaned_311_2019.csv\"\n",
    "df_2019 = pd.read_csv(data_dir_2019)\n",
    "# Load the entire dataset\n",
    "data_dir = \"./data/cleaned_311.csv\"\n",
    "df = pd.read_csv(data_dir)"
   ]
  },
  {
   "cell_type": "code",
   "execution_count": 25,
   "metadata": {
    "colab": {},
    "colab_type": "code",
    "id": "JH5ZChmoDUn0"
   },
   "outputs": [
    {
     "ename": "FileNotFoundError",
     "evalue": "[Errno 2] File ./data/311_requests_by_day.csv does not exist: './data/311_requests_by_day.csv'",
     "output_type": "error",
     "traceback": [
      "\u001b[0;31m---------------------------------------------------------------------------\u001b[0m",
      "\u001b[0;31mFileNotFoundError\u001b[0m                         Traceback (most recent call last)",
      "\u001b[0;32m<ipython-input-25-e65337a4b8af>\u001b[0m in \u001b[0;36m<module>\u001b[0;34m\u001b[0m\n\u001b[1;32m      1\u001b[0m \u001b[0mday_filename\u001b[0m \u001b[0;34m=\u001b[0m \u001b[0;34m\"./data/311_requests_by_day.csv\"\u001b[0m\u001b[0;34m\u001b[0m\u001b[0;34m\u001b[0m\u001b[0m\n\u001b[0;32m----> 2\u001b[0;31m \u001b[0mday_source\u001b[0m \u001b[0;34m=\u001b[0m \u001b[0mpd\u001b[0m\u001b[0;34m.\u001b[0m\u001b[0mread_csv\u001b[0m\u001b[0;34m(\u001b[0m\u001b[0mday_filename\u001b[0m\u001b[0;34m)\u001b[0m\u001b[0;34m\u001b[0m\u001b[0;34m\u001b[0m\u001b[0m\n\u001b[0m\u001b[1;32m      3\u001b[0m \u001b[0;34m\u001b[0m\u001b[0m\n\u001b[1;32m      4\u001b[0m \u001b[0mmonth_filename\u001b[0m \u001b[0;34m=\u001b[0m \u001b[0;34m\"./data/311_requests_by_month.csv\"\u001b[0m\u001b[0;34m\u001b[0m\u001b[0;34m\u001b[0m\u001b[0m\n\u001b[1;32m      5\u001b[0m \u001b[0mmonth_source\u001b[0m \u001b[0;34m=\u001b[0m \u001b[0mpd\u001b[0m\u001b[0;34m.\u001b[0m\u001b[0mread_csv\u001b[0m\u001b[0;34m(\u001b[0m\u001b[0mmonth_filename\u001b[0m\u001b[0;34m)\u001b[0m\u001b[0;34m\u001b[0m\u001b[0;34m\u001b[0m\u001b[0m\n",
      "\u001b[0;32m/usr/local/lib/python3.7/dist-packages/pandas/io/parsers.py\u001b[0m in \u001b[0;36mparser_f\u001b[0;34m(filepath_or_buffer, sep, delimiter, header, names, index_col, usecols, squeeze, prefix, mangle_dupe_cols, dtype, engine, converters, true_values, false_values, skipinitialspace, skiprows, skipfooter, nrows, na_values, keep_default_na, na_filter, verbose, skip_blank_lines, parse_dates, infer_datetime_format, keep_date_col, date_parser, dayfirst, cache_dates, iterator, chunksize, compression, thousands, decimal, lineterminator, quotechar, quoting, doublequote, escapechar, comment, encoding, dialect, error_bad_lines, warn_bad_lines, delim_whitespace, low_memory, memory_map, float_precision)\u001b[0m\n\u001b[1;32m    674\u001b[0m         )\n\u001b[1;32m    675\u001b[0m \u001b[0;34m\u001b[0m\u001b[0m\n\u001b[0;32m--> 676\u001b[0;31m         \u001b[0;32mreturn\u001b[0m \u001b[0m_read\u001b[0m\u001b[0;34m(\u001b[0m\u001b[0mfilepath_or_buffer\u001b[0m\u001b[0;34m,\u001b[0m \u001b[0mkwds\u001b[0m\u001b[0;34m)\u001b[0m\u001b[0;34m\u001b[0m\u001b[0;34m\u001b[0m\u001b[0m\n\u001b[0m\u001b[1;32m    677\u001b[0m \u001b[0;34m\u001b[0m\u001b[0m\n\u001b[1;32m    678\u001b[0m     \u001b[0mparser_f\u001b[0m\u001b[0;34m.\u001b[0m\u001b[0m__name__\u001b[0m \u001b[0;34m=\u001b[0m \u001b[0mname\u001b[0m\u001b[0;34m\u001b[0m\u001b[0;34m\u001b[0m\u001b[0m\n",
      "\u001b[0;32m/usr/local/lib/python3.7/dist-packages/pandas/io/parsers.py\u001b[0m in \u001b[0;36m_read\u001b[0;34m(filepath_or_buffer, kwds)\u001b[0m\n\u001b[1;32m    446\u001b[0m \u001b[0;34m\u001b[0m\u001b[0m\n\u001b[1;32m    447\u001b[0m     \u001b[0;31m# Create the parser.\u001b[0m\u001b[0;34m\u001b[0m\u001b[0;34m\u001b[0m\u001b[0;34m\u001b[0m\u001b[0m\n\u001b[0;32m--> 448\u001b[0;31m     \u001b[0mparser\u001b[0m \u001b[0;34m=\u001b[0m \u001b[0mTextFileReader\u001b[0m\u001b[0;34m(\u001b[0m\u001b[0mfp_or_buf\u001b[0m\u001b[0;34m,\u001b[0m \u001b[0;34m**\u001b[0m\u001b[0mkwds\u001b[0m\u001b[0;34m)\u001b[0m\u001b[0;34m\u001b[0m\u001b[0;34m\u001b[0m\u001b[0m\n\u001b[0m\u001b[1;32m    449\u001b[0m \u001b[0;34m\u001b[0m\u001b[0m\n\u001b[1;32m    450\u001b[0m     \u001b[0;32mif\u001b[0m \u001b[0mchunksize\u001b[0m \u001b[0;32mor\u001b[0m \u001b[0miterator\u001b[0m\u001b[0;34m:\u001b[0m\u001b[0;34m\u001b[0m\u001b[0;34m\u001b[0m\u001b[0m\n",
      "\u001b[0;32m/usr/local/lib/python3.7/dist-packages/pandas/io/parsers.py\u001b[0m in \u001b[0;36m__init__\u001b[0;34m(self, f, engine, **kwds)\u001b[0m\n\u001b[1;32m    878\u001b[0m             \u001b[0mself\u001b[0m\u001b[0;34m.\u001b[0m\u001b[0moptions\u001b[0m\u001b[0;34m[\u001b[0m\u001b[0;34m\"has_index_names\"\u001b[0m\u001b[0;34m]\u001b[0m \u001b[0;34m=\u001b[0m \u001b[0mkwds\u001b[0m\u001b[0;34m[\u001b[0m\u001b[0;34m\"has_index_names\"\u001b[0m\u001b[0;34m]\u001b[0m\u001b[0;34m\u001b[0m\u001b[0;34m\u001b[0m\u001b[0m\n\u001b[1;32m    879\u001b[0m \u001b[0;34m\u001b[0m\u001b[0m\n\u001b[0;32m--> 880\u001b[0;31m         \u001b[0mself\u001b[0m\u001b[0;34m.\u001b[0m\u001b[0m_make_engine\u001b[0m\u001b[0;34m(\u001b[0m\u001b[0mself\u001b[0m\u001b[0;34m.\u001b[0m\u001b[0mengine\u001b[0m\u001b[0;34m)\u001b[0m\u001b[0;34m\u001b[0m\u001b[0;34m\u001b[0m\u001b[0m\n\u001b[0m\u001b[1;32m    881\u001b[0m \u001b[0;34m\u001b[0m\u001b[0m\n\u001b[1;32m    882\u001b[0m     \u001b[0;32mdef\u001b[0m \u001b[0mclose\u001b[0m\u001b[0;34m(\u001b[0m\u001b[0mself\u001b[0m\u001b[0;34m)\u001b[0m\u001b[0;34m:\u001b[0m\u001b[0;34m\u001b[0m\u001b[0;34m\u001b[0m\u001b[0m\n",
      "\u001b[0;32m/usr/local/lib/python3.7/dist-packages/pandas/io/parsers.py\u001b[0m in \u001b[0;36m_make_engine\u001b[0;34m(self, engine)\u001b[0m\n\u001b[1;32m   1112\u001b[0m     \u001b[0;32mdef\u001b[0m \u001b[0m_make_engine\u001b[0m\u001b[0;34m(\u001b[0m\u001b[0mself\u001b[0m\u001b[0;34m,\u001b[0m \u001b[0mengine\u001b[0m\u001b[0;34m=\u001b[0m\u001b[0;34m\"c\"\u001b[0m\u001b[0;34m)\u001b[0m\u001b[0;34m:\u001b[0m\u001b[0;34m\u001b[0m\u001b[0;34m\u001b[0m\u001b[0m\n\u001b[1;32m   1113\u001b[0m         \u001b[0;32mif\u001b[0m \u001b[0mengine\u001b[0m \u001b[0;34m==\u001b[0m \u001b[0;34m\"c\"\u001b[0m\u001b[0;34m:\u001b[0m\u001b[0;34m\u001b[0m\u001b[0;34m\u001b[0m\u001b[0m\n\u001b[0;32m-> 1114\u001b[0;31m             \u001b[0mself\u001b[0m\u001b[0;34m.\u001b[0m\u001b[0m_engine\u001b[0m \u001b[0;34m=\u001b[0m \u001b[0mCParserWrapper\u001b[0m\u001b[0;34m(\u001b[0m\u001b[0mself\u001b[0m\u001b[0;34m.\u001b[0m\u001b[0mf\u001b[0m\u001b[0;34m,\u001b[0m \u001b[0;34m**\u001b[0m\u001b[0mself\u001b[0m\u001b[0;34m.\u001b[0m\u001b[0moptions\u001b[0m\u001b[0;34m)\u001b[0m\u001b[0;34m\u001b[0m\u001b[0;34m\u001b[0m\u001b[0m\n\u001b[0m\u001b[1;32m   1115\u001b[0m         \u001b[0;32melse\u001b[0m\u001b[0;34m:\u001b[0m\u001b[0;34m\u001b[0m\u001b[0;34m\u001b[0m\u001b[0m\n\u001b[1;32m   1116\u001b[0m             \u001b[0;32mif\u001b[0m \u001b[0mengine\u001b[0m \u001b[0;34m==\u001b[0m \u001b[0;34m\"python\"\u001b[0m\u001b[0;34m:\u001b[0m\u001b[0;34m\u001b[0m\u001b[0;34m\u001b[0m\u001b[0m\n",
      "\u001b[0;32m/usr/local/lib/python3.7/dist-packages/pandas/io/parsers.py\u001b[0m in \u001b[0;36m__init__\u001b[0;34m(self, src, **kwds)\u001b[0m\n\u001b[1;32m   1889\u001b[0m         \u001b[0mkwds\u001b[0m\u001b[0;34m[\u001b[0m\u001b[0;34m\"usecols\"\u001b[0m\u001b[0;34m]\u001b[0m \u001b[0;34m=\u001b[0m \u001b[0mself\u001b[0m\u001b[0;34m.\u001b[0m\u001b[0musecols\u001b[0m\u001b[0;34m\u001b[0m\u001b[0;34m\u001b[0m\u001b[0m\n\u001b[1;32m   1890\u001b[0m \u001b[0;34m\u001b[0m\u001b[0m\n\u001b[0;32m-> 1891\u001b[0;31m         \u001b[0mself\u001b[0m\u001b[0;34m.\u001b[0m\u001b[0m_reader\u001b[0m \u001b[0;34m=\u001b[0m \u001b[0mparsers\u001b[0m\u001b[0;34m.\u001b[0m\u001b[0mTextReader\u001b[0m\u001b[0;34m(\u001b[0m\u001b[0msrc\u001b[0m\u001b[0;34m,\u001b[0m \u001b[0;34m**\u001b[0m\u001b[0mkwds\u001b[0m\u001b[0;34m)\u001b[0m\u001b[0;34m\u001b[0m\u001b[0;34m\u001b[0m\u001b[0m\n\u001b[0m\u001b[1;32m   1892\u001b[0m         \u001b[0mself\u001b[0m\u001b[0;34m.\u001b[0m\u001b[0munnamed_cols\u001b[0m \u001b[0;34m=\u001b[0m \u001b[0mself\u001b[0m\u001b[0;34m.\u001b[0m\u001b[0m_reader\u001b[0m\u001b[0;34m.\u001b[0m\u001b[0munnamed_cols\u001b[0m\u001b[0;34m\u001b[0m\u001b[0;34m\u001b[0m\u001b[0m\n\u001b[1;32m   1893\u001b[0m \u001b[0;34m\u001b[0m\u001b[0m\n",
      "\u001b[0;32mpandas/_libs/parsers.pyx\u001b[0m in \u001b[0;36mpandas._libs.parsers.TextReader.__cinit__\u001b[0;34m()\u001b[0m\n",
      "\u001b[0;32mpandas/_libs/parsers.pyx\u001b[0m in \u001b[0;36mpandas._libs.parsers.TextReader._setup_parser_source\u001b[0;34m()\u001b[0m\n",
      "\u001b[0;31mFileNotFoundError\u001b[0m: [Errno 2] File ./data/311_requests_by_day.csv does not exist: './data/311_requests_by_day.csv'"
     ]
    }
   ],
   "source": [
    "day_filename = \"./data/311_requests_by_day.csv\"\n",
    "day_source = pd.read_csv(day_filename)\n",
    "\n",
    "month_filename = \"./data/311_requests_by_month.csv\"\n",
    "month_source = pd.read_csv(month_filename)"
   ]
  },
  {
   "cell_type": "markdown",
   "metadata": {
    "colab_type": "text",
    "id": "KLZdyRmVQavp"
   },
   "source": [
    "### __2. The Number of 311 Service Requests in Chicago in 2017 and 2018__"
   ]
  },
  {
   "cell_type": "markdown",
   "metadata": {
    "colab_type": "text",
    "id": "TDfZ-KM4Quk8"
   },
   "source": [
    "#### Code for data visualization"
   ]
  },
  {
   "cell_type": "code",
   "execution_count": 16,
   "metadata": {
    "colab": {},
    "colab_type": "code",
    "id": "WoEY7PVBDKxt"
   },
   "outputs": [],
   "source": [
    "month_count = alt.Chart(month_source).mark_bar(opacity=0.7, size=45).encode(\n",
    "    x=alt.X(\n",
    "        'CREATED_YEAR:N',\n",
    "        axis=alt.Axis(labelAngle=0),\n",
    "        title=\"\"\n",
    "        ),\n",
    "    y=alt.Y(\n",
    "        'COUNT:Q',\n",
    "        title=\"The Number of 311 Requests (in 1000)\",\n",
    "        ),\n",
    "    color=alt.Color(\n",
    "        \"CREATED_YEAR:N\",\n",
    "        legend=alt.Legend(title=\"\"),\n",
    "        ),\n",
    "    column=alt.Column(\n",
    "        'MONTH:N',\n",
    "        sort=['July','August','September','October','November','December']\n",
    "        )\n",
    ").properties(\n",
    "    title={\n",
    "      \"text\": [\"The Number of 311 Service Requests in 2018 and 2019\", \"by Month (July - December) and Day of Week\"], \n",
    "      \"subtitle\": [\"Chicago Data Portal - 311 Service Requests\"],\n",
    "      \"subtitleColor\": \"grey\"\n",
    "    },\n",
    "    width=120,\n",
    "    height=300\n",
    ")"
   ]
  },
  {
   "cell_type": "code",
   "execution_count": 23,
   "metadata": {
    "colab": {},
    "colab_type": "code",
    "id": "vruz_wj3H7xZ"
   },
   "outputs": [],
   "source": [
    "day_count = alt.Chart(day_source).mark_area().encode(\n",
    "    x=alt.X(\n",
    "        \"CREATED_DAY_OF_WEEK:N\",\n",
    "        axis=alt.Axis(labelAngle=0),\n",
    "        title=\"Day of Week\",\n",
    "        sort=['Monday','Tuesday','Wednesday','Thursday','Friday','Saturday','Sunday']\n",
    "        ),\n",
    "    y=alt.Y(\n",
    "        \"COUNT:Q\",\n",
    "        title=\"The Number of 311 Requests (in 1000)\"\n",
    "        ),\n",
    "    color=alt.Color(\n",
    "        \"CREATED_YEAR:N\",\n",
    "        legend=alt.Legend(title=\"\"),\n",
    "        )\n",
    "    ).properties(\n",
    "        width=830,\n",
    "        height=300\n",
    "    )\n",
    "count = alt.vconcat(month_count, day_count)"
   ]
  },
  {
   "cell_type": "markdown",
   "metadata": {
    "colab_type": "text",
    "id": "YBAzTi37Q5OJ"
   },
   "source": [
    "#### *Chart #1*"
   ]
  },
  {
   "cell_type": "code",
   "execution_count": 24,
   "metadata": {
    "colab": {
     "base_uri": "https://localhost:8080/",
     "height": 836
    },
    "colab_type": "code",
    "id": "62N2igEgPW_D",
    "outputId": "f50f0fb7-2715-43a2-9e56-78df272d4c72"
   },
   "outputs": [
    {
     "data": {
      "text/html": [
       "\n",
       "<div id=\"altair-viz-5b8f643ac8d34320acc3dddffa732dc4\"></div>\n",
       "<script type=\"text/javascript\">\n",
       "  (function(spec, embedOpt){\n",
       "    const outputDiv = document.getElementById(\"altair-viz-5b8f643ac8d34320acc3dddffa732dc4\");\n",
       "    const paths = {\n",
       "      \"vega\": \"https://cdn.jsdelivr.net/npm//vega@5?noext\",\n",
       "      \"vega-lib\": \"https://cdn.jsdelivr.net/npm//vega-lib?noext\",\n",
       "      \"vega-lite\": \"https://cdn.jsdelivr.net/npm//vega-lite@4.0.2?noext\",\n",
       "      \"vega-embed\": \"https://cdn.jsdelivr.net/npm//vega-embed@6?noext\",\n",
       "    };\n",
       "\n",
       "    function loadScript(lib) {\n",
       "      return new Promise(function(resolve, reject) {\n",
       "        var s = document.createElement('script');\n",
       "        s.src = paths[lib];\n",
       "        s.async = true;\n",
       "        s.onload = () => resolve(paths[lib]);\n",
       "        s.onerror = () => reject(`Error loading script: ${paths[lib]}`);\n",
       "        document.getElementsByTagName(\"head\")[0].appendChild(s);\n",
       "      });\n",
       "    }\n",
       "\n",
       "    function showError(err) {\n",
       "      outputDiv.innerHTML = `<div class=\"error\" style=\"color:red;\">${err}</div>`;\n",
       "      throw err;\n",
       "    }\n",
       "\n",
       "    function displayChart(vegaEmbed) {\n",
       "      vegaEmbed(outputDiv, spec, embedOpt)\n",
       "        .catch(err => showError(`Javascript Error: ${err.message}<br>This usually means there's a typo in your chart specification. See the javascript console for the full traceback.`));\n",
       "    }\n",
       "\n",
       "    if(typeof define === \"function\" && define.amd) {\n",
       "      requirejs.config({paths});\n",
       "      require([\"vega-embed\"], displayChart, err => showError(`Error loading script: ${err.message}`));\n",
       "    } else if (typeof vegaEmbed === \"function\") {\n",
       "      displayChart(vegaEmbed);\n",
       "    } else {\n",
       "      loadScript(\"vega\")\n",
       "        .then(() => loadScript(\"vega-lite\"))\n",
       "        .then(() => loadScript(\"vega-embed\"))\n",
       "        .catch(showError)\n",
       "        .then(() => displayChart(vegaEmbed));\n",
       "    }\n",
       "  })({\"config\": {\"title\": {\"anchor\": \"start\", \"fontSize\": 24, \"font\": \"Roboto\", \"fontColor\": \"#000000\"}, \"subtitle\": {\"font\": \"Roboto\", \"fontSize\": 22, \"fontColor\": \"#838383\", \"subtitlePadding\": 10}, \"caption\": {\"font\": \"Roboto\", \"fontSize\": 22, \"fontColor\": \"#000000\"}, \"axisX\": {\"domain\": true, \"domainColor\": \"#000000\", \"domainWidth\": 1, \"grid\": false, \"labelFontSize\": 13, \"labelFont\": \"Roboto\", \"labelAngle\": 0, \"tickColor\": \"#000000\", \"tickSize\": 5, \"titleFontSize\": 12, \"titlePadding\": 10, \"titleFont\": \"Roboto\", \"title\": \"\"}, \"axisY\": {\"domain\": false, \"grid\": true, \"gridColor\": \"#d6d4d4\", \"gridWidth\": 1, \"labelFontSize\": 12, \"labelFont\": \"Roboto\", \"labelPadding\": 8, \"ticks\": false, \"titleFontSize\": 12, \"titlePadding\": 10, \"titleFont\": \"Roboto\", \"titleAngle\": 270}, \"background\": \"#f4f3f3\", \"legend\": {\"labelFontSize\": 12, \"labelFont\": \"Roboto\", \"symbolSize\": 300, \"symbolType\": \"circle\", \"titleFontSize\": 15, \"titlePadding\": 10, \"titleFont\": \"Roboto\", \"orient\": \"right\", \"offset\": 20}, \"range\": {\"category\": [\"#76b7b2\", \"#f28e2b\", \"#e15759\", \"#4e79a7\", \"#59a14f\", \"#edc948\", \"#b07aa1\", \"#ff9da7\", \"#9c755f\", \"#bab0ac\"], \"diverging\": [\"#e1f5fe\", \"#b3e5fc\", \"#81d4fa\", \"#4fc3f7\", \"#29b6f6\", \"#03a9f4\", \"#039be5\", \"#0288d1\", \"#0277bd\", \"#01579b\"]}, \"geoshape\": {\"category\": [\"#76b7b2\", \"#f28e2b\", \"#e15759\", \"#4e79a7\", \"#59a14f\", \"#edc948\", \"#b07aa1\", \"#ff9da7\", \"#9c755f\", \"#bab0ac\"], \"diverging\": [\"#e1f5fe\", \"#b3e5fc\", \"#81d4fa\", \"#4fc3f7\", \"#29b6f6\", \"#03a9f4\", \"#039be5\", \"#0288d1\", \"#0277bd\", \"#01579b\"]}, \"area\": {\"category\": [\"#76b7b2\", \"#f28e2b\", \"#e15759\", \"#4e79a7\", \"#59a14f\", \"#edc948\", \"#b07aa1\", \"#ff9da7\", \"#9c755f\", \"#bab0ac\"], \"fill\": \"#1696d2\", \"opacity\": 0.7}, \"line\": {\"color\": \"#1696d2\", \"stroke\": \"#1696d2\", \"strokewidth\": 5}, \"point\": {\"filled\": true}, \"circle\": {\"color\": \"#4e79a7\", \"size\": 13}, \"text\": {\"font\": \"Roboto\", \"color\": \"#1696d2\", \"fontSize\": 11, \"align\": \"right\", \"fontWeight\": 400, \"size\": 11}, \"bar\": {\"size\": 40, \"binSpacing\": 1, \"continuousBandSize\": 30, \"discreteBandSize\": 30, \"fill\": \"#1696d2\", \"stroke\": false, \"opacity\": 0.7}}, \"vconcat\": [{\"data\": {\"name\": \"data-d320bd407cf431c8389e9ba502a417fb\"}, \"mark\": {\"type\": \"bar\", \"opacity\": 0.7, \"size\": 45}, \"encoding\": {\"color\": {\"type\": \"nominal\", \"field\": \"CREATED_YEAR\", \"legend\": {\"title\": \"\"}}, \"column\": {\"type\": \"nominal\", \"field\": \"MONTH\", \"sort\": [\"July\", \"August\", \"September\", \"October\", \"November\", \"December\"]}, \"x\": {\"type\": \"nominal\", \"axis\": {\"labelAngle\": 0}, \"field\": \"CREATED_YEAR\", \"title\": \"\"}, \"y\": {\"type\": \"quantitative\", \"field\": \"COUNT\", \"title\": \"The Number of 311 Requests (in 1000)\"}}, \"height\": 300, \"title\": {\"text\": [\"The Number of 311 Service Requests in 2018 and 2019\", \"by Month (July - December) and Day of Week\"], \"subtitle\": [\"Chicago Data Portal - 311 Service Requests\"], \"subtitleColor\": \"grey\"}, \"width\": 120}, {\"data\": {\"name\": \"data-68035dfb6c5ec97b840054f1f2317163\"}, \"mark\": \"area\", \"encoding\": {\"color\": {\"type\": \"nominal\", \"field\": \"CREATED_YEAR\", \"legend\": {\"title\": \"\"}}, \"x\": {\"type\": \"nominal\", \"axis\": {\"labelAngle\": 0}, \"field\": \"CREATED_DAY_OF_WEEK\", \"sort\": [\"Monday\", \"Tuesday\", \"Wednesday\", \"Thursday\", \"Friday\", \"Saturday\", \"Sunday\"], \"title\": \"Day of Week\"}, \"y\": {\"type\": \"quantitative\", \"field\": \"COUNT\", \"title\": \"The Number of 311 Requests (in 1000)\"}}, \"height\": 300, \"width\": 830}], \"$schema\": \"https://vega.github.io/schema/vega-lite/v4.0.2.json\", \"datasets\": {\"data-d320bd407cf431c8389e9ba502a417fb\": [{\"CREATED_MONTH\": 7, \"CREATED_YEAR\": 2018, \"COUNT\": 96.752, \"MONTH\": \"July\"}, {\"CREATED_MONTH\": 8, \"CREATED_YEAR\": 2018, \"COUNT\": 89.687, \"MONTH\": \"August\"}, {\"CREATED_MONTH\": 9, \"CREATED_YEAR\": 2018, \"COUNT\": 78.895, \"MONTH\": \"September\"}, {\"CREATED_MONTH\": 10, \"CREATED_YEAR\": 2018, \"COUNT\": 73.762, \"MONTH\": \"October\"}, {\"CREATED_MONTH\": 11, \"CREATED_YEAR\": 2018, \"COUNT\": 52.453, \"MONTH\": \"November\"}, {\"CREATED_MONTH\": 12, \"CREATED_YEAR\": 2018, \"COUNT\": 65.293, \"MONTH\": \"December\"}, {\"CREATED_MONTH\": 7, \"CREATED_YEAR\": 2019, \"COUNT\": 199.403, \"MONTH\": \"July\"}, {\"CREATED_MONTH\": 8, \"CREATED_YEAR\": 2019, \"COUNT\": 207.463, \"MONTH\": \"August\"}, {\"CREATED_MONTH\": 9, \"CREATED_YEAR\": 2019, \"COUNT\": 193.306, \"MONTH\": \"September\"}, {\"CREATED_MONTH\": 10, \"CREATED_YEAR\": 2019, \"COUNT\": 178.25, \"MONTH\": \"October\"}, {\"CREATED_MONTH\": 11, \"CREATED_YEAR\": 2019, \"COUNT\": 144.94, \"MONTH\": \"November\"}, {\"CREATED_MONTH\": 12, \"CREATED_YEAR\": 2019, \"COUNT\": 143.387, \"MONTH\": \"December\"}], \"data-68035dfb6c5ec97b840054f1f2317163\": [{\"CREATED_DAY_OF_WEEK\": \"Sunday\", \"CREATED_YEAR\": 2018, \"COUNT\": 28.918}, {\"CREATED_DAY_OF_WEEK\": \"Monday\", \"CREATED_YEAR\": 2018, \"COUNT\": 84.809}, {\"CREATED_DAY_OF_WEEK\": \"Tuesday\", \"CREATED_YEAR\": 2018, \"COUNT\": 84.888}, {\"CREATED_DAY_OF_WEEK\": \"Wednesday\", \"CREATED_YEAR\": 2018, \"COUNT\": 80.42}, {\"CREATED_DAY_OF_WEEK\": \"Thursday\", \"CREATED_YEAR\": 2018, \"COUNT\": 78.572}, {\"CREATED_DAY_OF_WEEK\": \"Friday\", \"CREATED_YEAR\": 2018, \"COUNT\": 69.579}, {\"CREATED_DAY_OF_WEEK\": \"Saturday\", \"CREATED_YEAR\": 2018, \"COUNT\": 29.656}, {\"CREATED_DAY_OF_WEEK\": \"Sunday\", \"CREATED_YEAR\": 2019, \"COUNT\": 119.181}, {\"CREATED_DAY_OF_WEEK\": \"Monday\", \"CREATED_YEAR\": 2019, \"COUNT\": 181.091}, {\"CREATED_DAY_OF_WEEK\": \"Tuesday\", \"CREATED_YEAR\": 2019, \"COUNT\": 171.78}, {\"CREATED_DAY_OF_WEEK\": \"Wednesday\", \"CREATED_YEAR\": 2019, \"COUNT\": 164.941}, {\"CREATED_DAY_OF_WEEK\": \"Thursday\", \"CREATED_YEAR\": 2019, \"COUNT\": 162.178}, {\"CREATED_DAY_OF_WEEK\": \"Friday\", \"CREATED_YEAR\": 2019, \"COUNT\": 156.739}, {\"CREATED_DAY_OF_WEEK\": \"Saturday\", \"CREATED_YEAR\": 2019, \"COUNT\": 110.839}]}}, {\"mode\": \"vega-lite\"});\n",
       "</script>"
      ],
      "text/plain": [
       "alt.VConcatChart(...)"
      ]
     },
     "execution_count": 24,
     "metadata": {},
     "output_type": "execute_result"
    }
   ],
   "source": [
    "count"
   ]
  },
  {
   "cell_type": "markdown",
   "metadata": {
    "colab_type": "text",
    "id": "mTWZuiAdRKXe"
   },
   "source": [
    "The charts above, created from [Chicago Data Portal](https://data.cityofchicago.org/Service-Requests/311-Service-Requests/v6vf-nfxy), show *the number of 311 service requests made in 2018 and 2019 by month and day of week*. Notice that this chart only shows the number of 311 requests from July to December. This is because the dataset is only available from July to December for 2018 (*the dataset was created with the creation of the new 311 system and only partial legacy data is available*), so the data from January to June has been redacted in the chart.\n",
    "\n",
    "These two charts show that there were consistently __more 311 service requests in 2019 than in 2018__, which is consistent with the City of Chicago's claim that 311 became more accessible through its recent upgrade in late 2018/early 2019. Another interesting observation is that there are less 311 service requests during weekends than during weekdays, a pattern that one would expect to find in crime data, which can also be found in Chicago Data Portal."
   ]
  },
  {
   "cell_type": "markdown",
   "metadata": {
    "colab_type": "text",
    "id": "k1LilkVrVwyO"
   },
   "source": [
    "### __3. The Number of 311 Service Requests by Owner Department in Chicago in 2017 and 2018__"
   ]
  },
  {
   "cell_type": "markdown",
   "metadata": {
    "colab_type": "text",
    "id": "TrgvybOKX9PX"
   },
   "source": [
    "#### Code for data visualization"
   ]
  },
  {
   "cell_type": "code",
   "execution_count": 0,
   "metadata": {
    "colab": {},
    "colab_type": "code",
    "id": "XEJJbw0j1F6D"
   },
   "outputs": [],
   "source": [
    "dept_count = df_2018.groupby(['OWNER_DEPARTMENT', \"CREATED_YEAR\"]).size().sort_values(ascending=False).reset_index(name='COUNT')\n",
    "top_10_type_2018 = dept_count.nlargest(8, 'COUNT')\n",
    "dept_count = df_2019.groupby(['OWNER_DEPARTMENT', \"CREATED_YEAR\"]).size().sort_values(ascending=False).reset_index(name='COUNT')\n",
    "top_10_type_2019 = dept_count.nlargest(8, 'COUNT')\n",
    "top_10_type = top_10_type_2018.append(top_10_type_2019, ignore_index=True)\n",
    "dept = [\n",
    "        \"Streets and Sanitation\",\n",
    "        \"CDOT - Department of Transportation\",\n",
    "        \"DWM - Department of Water Management\",\n",
    "        \"DOB - Buildings\",\n",
    "        \"Animal Care and Control\",\n",
    "        \"BACP - Business Affairs and Consumer Protection\",\n",
    "        \"311 City Services\"\n",
    "        ]\n",
    "top_10_type = top_10_type[top_10_type.OWNER_DEPARTMENT.isin(dept)].reset_index(drop=True)\n",
    "dept_dict = {\n",
    "    \"Streets and Sanitation\": \"Streets and Sanitation\",\n",
    "    \"CDOT - Department of Transportation\": \"Transportation\",\n",
    "    \"DWM - Department of Water Management\": \"Water Management\",\n",
    "    \"DOB - Buildings\": \"Buildings\",\n",
    "    \"Animal Care and Control\": \"Animal Care / Control\",\n",
    "    \"BACP - Business Affairs and Consumer Protection\": \"Business Affairs\",\n",
    "    \"311 City Services\": \"311 City Services\"\n",
    "    }\n",
    "top_10_type[\"OWNER_DEPARTMENT\"] = top_10_type[\"OWNER_DEPARTMENT\"].apply(lambda x: dept_dict[x])\n",
    "top_10_type[\"COUNT\"] = top_10_type[\"COUNT\"] / 1000"
   ]
  },
  {
   "cell_type": "code",
   "execution_count": 0,
   "metadata": {
    "colab": {},
    "colab_type": "code",
    "id": "DTrVZz2KGQlp"
   },
   "outputs": [],
   "source": [
    "dept_count_chart = alt.Chart(top_10_type).mark_bar(opacity=0.7, size=45).encode(\n",
    "    x=alt.X(\n",
    "        'CREATED_YEAR:N',\n",
    "        axis=alt.Axis(labelAngle=0),\n",
    "        title=\"\"\n",
    "        ),\n",
    "    y=alt.Y(\n",
    "        'COUNT:Q',\n",
    "        title=\"The Number of 311 Requests (in 1000)\",\n",
    "        ),\n",
    "    color=alt.Color(\n",
    "        \"CREATED_YEAR:N\",\n",
    "        legend=alt.Legend(title=\"Year\"),\n",
    "        ),\n",
    "    column=alt.Column(\n",
    "        'OWNER_DEPARTMENT:N',\n",
    "        title=\"Owner Department\"\n",
    "        )\n",
    ").properties(\n",
    "    title={\n",
    "      \"text\": [\"The Number of 311 Service Requests in 2018 and 2019\", \"by Owner Department\"], \n",
    "      \"subtitle\": [\"Chicago Data Portal - 311 Service Requests\"],\n",
    "      \"subtitleColor\": \"grey\"\n",
    "    },\n",
    "    width=100,\n",
    "    height=300\n",
    ")\n"
   ]
  },
  {
   "cell_type": "markdown",
   "metadata": {
    "colab_type": "text",
    "id": "VyhFWljOKjXz"
   },
   "source": [
    "#### *Chart #2*"
   ]
  },
  {
   "cell_type": "code",
   "execution_count": 0,
   "metadata": {
    "colab": {
     "base_uri": "https://localhost:8080/",
     "height": 472
    },
    "colab_type": "code",
    "id": "mWou3BIvKXeJ",
    "outputId": "3387baa1-7e19-4497-bea7-65431db3280a"
   },
   "outputs": [
    {
     "data": {
      "text/html": [
       "\n",
       "<div id=\"altair-viz-cdf571c0549943039c8e78d108240803\"></div>\n",
       "<script type=\"text/javascript\">\n",
       "  (function(spec, embedOpt){\n",
       "    const outputDiv = document.getElementById(\"altair-viz-cdf571c0549943039c8e78d108240803\");\n",
       "    const paths = {\n",
       "      \"vega\": \"https://cdn.jsdelivr.net/npm//vega@5?noext\",\n",
       "      \"vega-lib\": \"https://cdn.jsdelivr.net/npm//vega-lib?noext\",\n",
       "      \"vega-lite\": \"https://cdn.jsdelivr.net/npm//vega-lite@4.0.2?noext\",\n",
       "      \"vega-embed\": \"https://cdn.jsdelivr.net/npm//vega-embed@6?noext\",\n",
       "    };\n",
       "\n",
       "    function loadScript(lib) {\n",
       "      return new Promise(function(resolve, reject) {\n",
       "        var s = document.createElement('script');\n",
       "        s.src = paths[lib];\n",
       "        s.async = true;\n",
       "        s.onload = () => resolve(paths[lib]);\n",
       "        s.onerror = () => reject(`Error loading script: ${paths[lib]}`);\n",
       "        document.getElementsByTagName(\"head\")[0].appendChild(s);\n",
       "      });\n",
       "    }\n",
       "\n",
       "    function showError(err) {\n",
       "      outputDiv.innerHTML = `<div class=\"error\" style=\"color:red;\">${err}</div>`;\n",
       "      throw err;\n",
       "    }\n",
       "\n",
       "    function displayChart(vegaEmbed) {\n",
       "      vegaEmbed(outputDiv, spec, embedOpt)\n",
       "        .catch(err => showError(`Javascript Error: ${err.message}<br>This usually means there's a typo in your chart specification. See the javascript console for the full traceback.`));\n",
       "    }\n",
       "\n",
       "    if(typeof define === \"function\" && define.amd) {\n",
       "      requirejs.config({paths});\n",
       "      require([\"vega-embed\"], displayChart, err => showError(`Error loading script: ${err.message}`));\n",
       "    } else if (typeof vegaEmbed === \"function\") {\n",
       "      displayChart(vegaEmbed);\n",
       "    } else {\n",
       "      loadScript(\"vega\")\n",
       "        .then(() => loadScript(\"vega-lite\"))\n",
       "        .then(() => loadScript(\"vega-embed\"))\n",
       "        .catch(showError)\n",
       "        .then(() => displayChart(vegaEmbed));\n",
       "    }\n",
       "  })({\"config\": {\"title\": {\"anchor\": \"start\", \"fontSize\": 24, \"font\": \"Roboto\", \"fontColor\": \"#000000\"}, \"subtitle\": {\"font\": \"Roboto\", \"fontSize\": 22, \"fontColor\": \"#838383\", \"subtitlePadding\": 10}, \"caption\": {\"font\": \"Roboto\", \"fontSize\": 22, \"fontColor\": \"#000000\"}, \"axisX\": {\"domain\": true, \"domainColor\": \"#000000\", \"domainWidth\": 1, \"grid\": false, \"labelFontSize\": 13, \"labelFont\": \"Roboto\", \"labelAngle\": 0, \"tickColor\": \"#000000\", \"tickSize\": 5, \"titleFontSize\": 12, \"titlePadding\": 10, \"titleFont\": \"Roboto\", \"title\": \"\"}, \"axisY\": {\"domain\": false, \"grid\": true, \"gridColor\": \"#d6d4d4\", \"gridWidth\": 1, \"labelFontSize\": 12, \"labelFont\": \"Roboto\", \"labelPadding\": 8, \"ticks\": false, \"titleFontSize\": 12, \"titlePadding\": 10, \"titleFont\": \"Roboto\", \"titleAngle\": 270}, \"background\": \"#f4f3f3\", \"legend\": {\"labelFontSize\": 12, \"labelFont\": \"Roboto\", \"symbolSize\": 300, \"symbolType\": \"circle\", \"titleFontSize\": 15, \"titlePadding\": 10, \"titleFont\": \"Roboto\", \"orient\": \"right\", \"offset\": 20}, \"range\": {\"category\": [\"#76b7b2\", \"#f28e2b\", \"#e15759\", \"#4e79a7\", \"#59a14f\", \"#edc948\", \"#b07aa1\", \"#ff9da7\", \"#9c755f\", \"#bab0ac\"], \"diverging\": [\"#e1f5fe\", \"#b3e5fc\", \"#81d4fa\", \"#4fc3f7\", \"#29b6f6\", \"#03a9f4\", \"#039be5\", \"#0288d1\", \"#0277bd\", \"#01579b\"]}, \"geoshape\": {\"category\": [\"#76b7b2\", \"#f28e2b\", \"#e15759\", \"#4e79a7\", \"#59a14f\", \"#edc948\", \"#b07aa1\", \"#ff9da7\", \"#9c755f\", \"#bab0ac\"], \"diverging\": [\"#e1f5fe\", \"#b3e5fc\", \"#81d4fa\", \"#4fc3f7\", \"#29b6f6\", \"#03a9f4\", \"#039be5\", \"#0288d1\", \"#0277bd\", \"#01579b\"]}, \"area\": {\"category\": [\"#76b7b2\", \"#f28e2b\", \"#e15759\", \"#4e79a7\", \"#59a14f\", \"#edc948\", \"#b07aa1\", \"#ff9da7\", \"#9c755f\", \"#bab0ac\"], \"fill\": \"#1696d2\", \"opacity\": 0.7}, \"line\": {\"color\": \"#1696d2\", \"stroke\": \"#1696d2\", \"strokewidth\": 5}, \"point\": {\"filled\": true}, \"circle\": {\"color\": \"#4e79a7\", \"size\": 13}, \"text\": {\"font\": \"Roboto\", \"color\": \"#1696d2\", \"fontSize\": 11, \"align\": \"right\", \"fontWeight\": 400, \"size\": 11}, \"bar\": {\"size\": 40, \"binSpacing\": 1, \"continuousBandSize\": 30, \"discreteBandSize\": 30, \"fill\": \"#1696d2\", \"stroke\": false, \"opacity\": 0.7}}, \"data\": {\"name\": \"data-9136068f1ba24bfdf136c9e75dc2781c\"}, \"mark\": {\"type\": \"bar\", \"opacity\": 0.7, \"size\": 45}, \"encoding\": {\"color\": {\"type\": \"nominal\", \"field\": \"CREATED_YEAR\", \"legend\": {\"title\": \"Year\"}}, \"column\": {\"type\": \"nominal\", \"field\": \"OWNER_DEPARTMENT\", \"title\": \"Owner Department\"}, \"x\": {\"type\": \"nominal\", \"axis\": {\"labelAngle\": 0}, \"field\": \"CREATED_YEAR\", \"title\": \"\"}, \"y\": {\"type\": \"quantitative\", \"field\": \"COUNT\", \"title\": \"The Number of 311 Requests (in 1000)\"}}, \"height\": 300, \"title\": {\"text\": [\"The Number of 311 Service Requests in 2018 and 2019\", \"by Owner Department\"], \"subtitle\": [\"Chicago Data Portal - 311 Service Requests\"], \"subtitleColor\": \"grey\"}, \"width\": 100, \"$schema\": \"https://vega.github.io/schema/vega-lite/v4.0.2.json\", \"datasets\": {\"data-9136068f1ba24bfdf136c9e75dc2781c\": [{\"OWNER_DEPARTMENT\": \"Streets and Sanitation\", \"CREATED_YEAR\": 2018, \"COUNT\": 240.046}, {\"OWNER_DEPARTMENT\": \"Transportation\", \"CREATED_YEAR\": 2018, \"COUNT\": 128.437}, {\"OWNER_DEPARTMENT\": \"Water Management\", \"CREATED_YEAR\": 2018, \"COUNT\": 23.557}, {\"OWNER_DEPARTMENT\": \"Buildings\", \"CREATED_YEAR\": 2018, \"COUNT\": 18.499}, {\"OWNER_DEPARTMENT\": \"Animal Care / Control\", \"CREATED_YEAR\": 2018, \"COUNT\": 17.958}, {\"OWNER_DEPARTMENT\": \"311 City Services\", \"CREATED_YEAR\": 2018, \"COUNT\": 17.812}, {\"OWNER_DEPARTMENT\": \"Business Affairs\", \"CREATED_YEAR\": 2018, \"COUNT\": 6.026}, {\"OWNER_DEPARTMENT\": \"311 City Services\", \"CREATED_YEAR\": 2019, \"COUNT\": 348.179}, {\"OWNER_DEPARTMENT\": \"Streets and Sanitation\", \"CREATED_YEAR\": 2019, \"COUNT\": 252.26}, {\"OWNER_DEPARTMENT\": \"Transportation\", \"CREATED_YEAR\": 2019, \"COUNT\": 151.071}, {\"OWNER_DEPARTMENT\": \"Water Management\", \"CREATED_YEAR\": 2019, \"COUNT\": 24.976}, {\"OWNER_DEPARTMENT\": \"Animal Care / Control\", \"CREATED_YEAR\": 2019, \"COUNT\": 19.242}, {\"OWNER_DEPARTMENT\": \"Buildings\", \"CREATED_YEAR\": 2019, \"COUNT\": 18.044}, {\"OWNER_DEPARTMENT\": \"Business Affairs\", \"CREATED_YEAR\": 2019, \"COUNT\": 6.263}]}}, {\"mode\": \"vega-lite\"});\n",
       "</script>"
      ],
      "text/plain": [
       "alt.Chart(...)"
      ]
     },
     "execution_count": 57,
     "metadata": {
      "tags": []
     },
     "output_type": "execute_result"
    }
   ],
   "source": [
    "dept_count_chart"
   ]
  },
  {
   "cell_type": "markdown",
   "metadata": {
    "colab_type": "text",
    "id": "2rDsWiWuKnH2"
   },
   "source": [
    "From this chart, we can see that the huge increase in the number of 311 service requests from 2018 to 2019 is due to the increase in 311 City Services. Looking at the dataset, the only service request type that dealt by 311 City Services Department is `311 Information Calls`. This observation makes sense, since the development of the new 311 system should have given easier access to the 311 service, so it makes sense that people would use the new 311 system to request simple information."
   ]
  },
  {
   "cell_type": "markdown",
   "metadata": {
    "colab_type": "text",
    "id": "uGOMTjVh88Of"
   },
   "source": [
    "### __4. The Percentage of 311 Service Request Status in Chicago in 2017 and 2018__"
   ]
  },
  {
   "cell_type": "markdown",
   "metadata": {
    "colab_type": "text",
    "id": "RozSsZFE9B3p"
   },
   "source": [
    "#### Code for chart"
   ]
  },
  {
   "cell_type": "code",
   "execution_count": 0,
   "metadata": {
    "colab": {},
    "colab_type": "code",
    "id": "LWoUnls4B-BS"
   },
   "outputs": [],
   "source": [
    "status_df_2018 = df_2018['STATUS'].value_counts(normalize=True).reset_index(name='COUNT')\n",
    "status_df_2018[\"YEAR\"] = 2018\n",
    "status_df_2019 = df_2019['STATUS'].value_counts(normalize=True).reset_index(name='COUNT')\n",
    "status_df_2019[\"YEAR\"] = 2019\n",
    "status_df = status_df_2018.append(status_df_2019, ignore_index=True)\n",
    "bars = alt.Chart(status_df).mark_bar(opacity=0.7, size=100).encode(\n",
    "    x=alt.X(\n",
    "        'sum(COUNT):Q',\n",
    "        stack=\"normalize\",\n",
    "        title=\"Percentage of Status\"\n",
    "        ),\n",
    "    y=alt.Y(\n",
    "        'YEAR:N',\n",
    "        title=\"Year\"\n",
    "        ),\n",
    "    color=alt.Color(\n",
    "        'index',\n",
    "        legend=alt.Legend(title=\"Status\", orient='right')\n",
    "    )          \n",
    ").properties(\n",
    "    title={\n",
    "      \"text\": [\"The Percentage of 311 Service Request Status in 2018 and 2019\", \"(Second-half of 2018 and 2019)\"], \n",
    "      \"subtitle\": [\"Chicago Data Portal - 311 Service Requests\"],\n",
    "      \"subtitleColor\": \"grey\"\n",
    "    },\n",
    "    width=600,\n",
    "    height=300\n",
    ")\n",
    "average_days = pd.DataFrame({\n",
    "    'Year': [2018, 2019],\n",
    "    'Average': [\n",
    "                df_2018[df_2018['STATUS']==\"Completed\"][\"DAYS_TAKEN\"].mean(),\n",
    "                df_2019[df_2019['STATUS']==\"Completed\"][\"DAYS_TAKEN\"].mean()\n",
    "                ]\n",
    "})\n",
    "\n",
    "days = alt.Chart(average_days).mark_bar(opacity=0.7, color='#f28e2b').encode(\n",
    "    x=alt.X('Year:N', axis=alt.Axis(labelAngle=0)),\n",
    "    y=alt.Y('Average', title=\"Average Number of Days\")\n",
    ").properties(\n",
    "    width=100,\n",
    "    height= 300\n",
    ")"
   ]
  },
  {
   "cell_type": "markdown",
   "metadata": {
    "colab_type": "text",
    "id": "Xo3cX_RL9H9r"
   },
   "source": [
    "#### *Chart #3*"
   ]
  },
  {
   "cell_type": "code",
   "execution_count": 0,
   "metadata": {
    "colab": {
     "base_uri": "https://localhost:8080/",
     "height": 443
    },
    "colab_type": "code",
    "id": "VXhepczI6AUh",
    "outputId": "f48bd288-9344-41d4-b3e3-b465dec59293"
   },
   "outputs": [
    {
     "data": {
      "text/html": [
       "\n",
       "<div id=\"altair-viz-9cf29ad7a65544f290b05cbf63251c71\"></div>\n",
       "<script type=\"text/javascript\">\n",
       "  (function(spec, embedOpt){\n",
       "    const outputDiv = document.getElementById(\"altair-viz-9cf29ad7a65544f290b05cbf63251c71\");\n",
       "    const paths = {\n",
       "      \"vega\": \"https://cdn.jsdelivr.net/npm//vega@5?noext\",\n",
       "      \"vega-lib\": \"https://cdn.jsdelivr.net/npm//vega-lib?noext\",\n",
       "      \"vega-lite\": \"https://cdn.jsdelivr.net/npm//vega-lite@4.0.2?noext\",\n",
       "      \"vega-embed\": \"https://cdn.jsdelivr.net/npm//vega-embed@6?noext\",\n",
       "    };\n",
       "\n",
       "    function loadScript(lib) {\n",
       "      return new Promise(function(resolve, reject) {\n",
       "        var s = document.createElement('script');\n",
       "        s.src = paths[lib];\n",
       "        s.async = true;\n",
       "        s.onload = () => resolve(paths[lib]);\n",
       "        s.onerror = () => reject(`Error loading script: ${paths[lib]}`);\n",
       "        document.getElementsByTagName(\"head\")[0].appendChild(s);\n",
       "      });\n",
       "    }\n",
       "\n",
       "    function showError(err) {\n",
       "      outputDiv.innerHTML = `<div class=\"error\" style=\"color:red;\">${err}</div>`;\n",
       "      throw err;\n",
       "    }\n",
       "\n",
       "    function displayChart(vegaEmbed) {\n",
       "      vegaEmbed(outputDiv, spec, embedOpt)\n",
       "        .catch(err => showError(`Javascript Error: ${err.message}<br>This usually means there's a typo in your chart specification. See the javascript console for the full traceback.`));\n",
       "    }\n",
       "\n",
       "    if(typeof define === \"function\" && define.amd) {\n",
       "      requirejs.config({paths});\n",
       "      require([\"vega-embed\"], displayChart, err => showError(`Error loading script: ${err.message}`));\n",
       "    } else if (typeof vegaEmbed === \"function\") {\n",
       "      displayChart(vegaEmbed);\n",
       "    } else {\n",
       "      loadScript(\"vega\")\n",
       "        .then(() => loadScript(\"vega-lite\"))\n",
       "        .then(() => loadScript(\"vega-embed\"))\n",
       "        .catch(showError)\n",
       "        .then(() => displayChart(vegaEmbed));\n",
       "    }\n",
       "  })({\"config\": {\"title\": {\"anchor\": \"start\", \"fontSize\": 24, \"font\": \"Roboto\", \"fontColor\": \"#000000\"}, \"subtitle\": {\"font\": \"Roboto\", \"fontSize\": 22, \"fontColor\": \"#838383\", \"subtitlePadding\": 10}, \"caption\": {\"font\": \"Roboto\", \"fontSize\": 22, \"fontColor\": \"#000000\"}, \"axisX\": {\"domain\": true, \"domainColor\": \"#000000\", \"domainWidth\": 1, \"grid\": false, \"labelFontSize\": 13, \"labelFont\": \"Roboto\", \"labelAngle\": 0, \"tickColor\": \"#000000\", \"tickSize\": 5, \"titleFontSize\": 12, \"titlePadding\": 10, \"titleFont\": \"Roboto\", \"title\": \"\"}, \"axisY\": {\"domain\": false, \"grid\": true, \"gridColor\": \"#d6d4d4\", \"gridWidth\": 1, \"labelFontSize\": 12, \"labelFont\": \"Roboto\", \"labelPadding\": 8, \"ticks\": false, \"titleFontSize\": 12, \"titlePadding\": 10, \"titleFont\": \"Roboto\", \"titleAngle\": 270}, \"background\": \"#f4f3f3\", \"legend\": {\"labelFontSize\": 12, \"labelFont\": \"Roboto\", \"symbolSize\": 300, \"symbolType\": \"circle\", \"titleFontSize\": 15, \"titlePadding\": 10, \"titleFont\": \"Roboto\", \"orient\": \"right\", \"offset\": 20}, \"range\": {\"category\": [\"#76b7b2\", \"#f28e2b\", \"#e15759\", \"#4e79a7\", \"#59a14f\", \"#edc948\", \"#b07aa1\", \"#ff9da7\", \"#9c755f\", \"#bab0ac\"], \"diverging\": [\"#e1f5fe\", \"#b3e5fc\", \"#81d4fa\", \"#4fc3f7\", \"#29b6f6\", \"#03a9f4\", \"#039be5\", \"#0288d1\", \"#0277bd\", \"#01579b\"]}, \"geoshape\": {\"category\": [\"#76b7b2\", \"#f28e2b\", \"#e15759\", \"#4e79a7\", \"#59a14f\", \"#edc948\", \"#b07aa1\", \"#ff9da7\", \"#9c755f\", \"#bab0ac\"], \"diverging\": [\"#e1f5fe\", \"#b3e5fc\", \"#81d4fa\", \"#4fc3f7\", \"#29b6f6\", \"#03a9f4\", \"#039be5\", \"#0288d1\", \"#0277bd\", \"#01579b\"]}, \"area\": {\"category\": [\"#76b7b2\", \"#f28e2b\", \"#e15759\", \"#4e79a7\", \"#59a14f\", \"#edc948\", \"#b07aa1\", \"#ff9da7\", \"#9c755f\", \"#bab0ac\"], \"fill\": \"#1696d2\", \"opacity\": 0.7}, \"line\": {\"color\": \"#1696d2\", \"stroke\": \"#1696d2\", \"strokewidth\": 5}, \"point\": {\"filled\": true}, \"circle\": {\"color\": \"#4e79a7\", \"size\": 13}, \"text\": {\"font\": \"Roboto\", \"color\": \"#1696d2\", \"fontSize\": 11, \"align\": \"right\", \"fontWeight\": 400, \"size\": 11}, \"bar\": {\"size\": 40, \"binSpacing\": 1, \"continuousBandSize\": 30, \"discreteBandSize\": 30, \"fill\": \"#1696d2\", \"stroke\": false, \"opacity\": 0.7}}, \"hconcat\": [{\"data\": {\"name\": \"data-a0a2dc3da1bfd0e7588f14b8a74cb457\"}, \"mark\": {\"type\": \"bar\", \"opacity\": 0.7, \"size\": 100}, \"encoding\": {\"color\": {\"type\": \"nominal\", \"field\": \"index\", \"legend\": {\"orient\": \"right\", \"title\": \"Status\"}}, \"x\": {\"type\": \"quantitative\", \"aggregate\": \"sum\", \"field\": \"COUNT\", \"stack\": \"normalize\", \"title\": \"Percentage of Status\"}, \"y\": {\"type\": \"nominal\", \"field\": \"YEAR\", \"title\": \"Year\"}}, \"height\": 300, \"title\": {\"text\": [\"The Percentage of 311 Service Request Status in 2018 and 2019\", \"(Second-half of 2018 and 2019)\"], \"subtitle\": [\"Chicago Data Portal - 311 Service Requests\"], \"subtitleColor\": \"grey\"}, \"width\": 600}, {\"data\": {\"name\": \"data-44d46695de2de573f721e3927c540866\"}, \"mark\": {\"type\": \"bar\", \"color\": \"#f28e2b\", \"opacity\": 0.7}, \"encoding\": {\"x\": {\"type\": \"nominal\", \"axis\": {\"labelAngle\": 0}, \"field\": \"Year\"}, \"y\": {\"type\": \"quantitative\", \"field\": \"Average\", \"title\": \"Average Number of Days\"}}, \"height\": 300, \"width\": 100}], \"$schema\": \"https://vega.github.io/schema/vega-lite/v4.0.2.json\", \"datasets\": {\"data-a0a2dc3da1bfd0e7588f14b8a74cb457\": [{\"index\": \"Completed\", \"COUNT\": 0.9808861707110993, \"YEAR\": 2018}, {\"index\": \"Open\", \"COUNT\": 0.013943551599896681, \"YEAR\": 2018}, {\"index\": \"Canceled\", \"COUNT\": 0.005170277689004076, \"YEAR\": 2018}, {\"index\": \"Completed\", \"COUNT\": 0.922830019057904, \"YEAR\": 2019}, {\"index\": \"Open\", \"COUNT\": 0.05596536767318273, \"YEAR\": 2019}, {\"index\": \"Canceled\", \"COUNT\": 0.021204613268913305, \"YEAR\": 2019}], \"data-44d46695de2de573f721e3927c540866\": [{\"Year\": 2018, \"Average\": 27.90784182455201}, {\"Year\": 2019, \"Average\": 6.135657457934963}]}}, {\"mode\": \"vega-lite\"});\n",
       "</script>"
      ],
      "text/plain": [
       "alt.HConcatChart(...)"
      ]
     },
     "execution_count": 59,
     "metadata": {
      "tags": []
     },
     "output_type": "execute_result"
    }
   ],
   "source": [
    "bars | days"
   ]
  },
  {
   "cell_type": "markdown",
   "metadata": {
    "colab_type": "text",
    "id": "l9LjGEInTm9e"
   },
   "source": [
    "Just comparing the current status of 311 service requests of 2018 and 2019 (July - December), higher percentage of requests were completed in 2018 than in 2019. This is to be expected, since there were more time to complete the request. However, it is interesting that the average number of days taken to complete a 311 request in 2018 is around 28 days whereas it only takes 6 days on average to complete a 311 request in 2019."
   ]
  },
  {
   "cell_type": "markdown",
   "metadata": {
    "colab_type": "text",
    "id": "ByWPKdUtZnso"
   },
   "source": [
    "### __5. Relationship between Budget and 311 Service Requests__"
   ]
  },
  {
   "cell_type": "markdown",
   "metadata": {
    "colab_type": "text",
    "id": "pY7uturFeLjY"
   },
   "source": [
    "#### Code for Data Visualization"
   ]
  },
  {
   "cell_type": "code",
   "execution_count": 0,
   "metadata": {
    "colab": {},
    "colab_type": "code",
    "id": "xR0ymiCDZoVX"
   },
   "outputs": [],
   "source": [
    "budget_dir = \"/content/gdrive/My Drive/CAPP-30239-Data-Viz/assignment-2/data/budget/2019_Budget_Ordinance.csv\"\n",
    "budget_df = pd.read_csv(budget_dir)\n",
    "dept = [\n",
    "        \"DSS\",\n",
    "        \"CDOT\",\n",
    "        \"DWM\",\n",
    "        \"BUILDINGS\",\n",
    "        \"ANIMAL CARE / CONTROL\",\n",
    "]\n",
    "dept_dict = {\n",
    "    \"DSS\": \"Streets and Sanitation\",\n",
    "    \"CDOT\": \"Transportation\",\n",
    "    \"DWM\": \"Water Management\",\n",
    "    \"BUILDINGS\": \"Buildings\",\n",
    "    \"ANIMAL CARE / CONTROL\": \"Animal Care / Control\",\n",
    "}\n",
    "budget_df = budget_df[budget_df[\"DEPARTMENT DESCRIPTION\"].isin(dept)].reset_index(drop=True)\n",
    "budget_df[\"DEPARTMENT DESCRIPTION\"] = budget_df[\"DEPARTMENT DESCRIPTION\"].apply(lambda x: dept_dict[x])\n",
    "budget_df = budget_df.groupby(['DEPARTMENT DESCRIPTION'])['2019 ORDINANCE (AMOUNT $)'].agg('sum').reset_index()\n",
    "budget_df[\"2019 ORDINANCE (AMOUNT $)\"] = budget_df[\"2019 ORDINANCE (AMOUNT $)\"]/1000000\n",
    "budget_df = budget_df.rename(columns={\"DEPARTMENT DESCRIPTION\": \"OWNER_DEPARTMENT\"})\n",
    "budget_df = budget_df.merge(top_10_type[top_10_type[\"CREATED_YEAR\"]==2019], on='OWNER_DEPARTMENT', how='left')"
   ]
  },
  {
   "cell_type": "code",
   "execution_count": 0,
   "metadata": {
    "colab": {},
    "colab_type": "code",
    "id": "DToD3GNKbKu-"
   },
   "outputs": [],
   "source": [
    "points = alt.Chart(budget_df).mark_point(size=180).encode(\n",
    "    x=alt.X('COUNT:Q', title=\"Number of 311 Requests (in 1000)\"),\n",
    "    y=alt.Y('2019 ORDINANCE (AMOUNT $):Q', title=\"2019 Budget Ordinance (in $1000000)\"),\n",
    "    color='OWNER_DEPARTMENT'\n",
    ").properties(\n",
    "    title={\n",
    "      \"text\": [\"Scatterplot for\", \"the Number of 311 Requests\", \"and the Budget Ordinance of Chicago (2019)\"], \n",
    "      \"subtitle\": [\"Chicago Data Portal - 311 Service Requests\", \"Chicago Data Portal - Budget - 2019 Budget Ordinance - Appropriations\"],\n",
    "      \"subtitleColor\": \"grey\"\n",
    "    },\n",
    "    width=500,\n",
    "    height=500\n",
    ")\n",
    "\n",
    "text = points.mark_text(\n",
    "    align='left',\n",
    "    baseline='middle',\n",
    "    dx=15\n",
    ").encode(\n",
    "    text='OWNER_DEPARTMENT'\n",
    ")\n",
    "\n",
    "scatterplot = points + text"
   ]
  },
  {
   "cell_type": "markdown",
   "metadata": {
    "colab_type": "text",
    "id": "x6HIf9GHeWv1"
   },
   "source": [
    "#### *Chart #4*"
   ]
  },
  {
   "cell_type": "code",
   "execution_count": 0,
   "metadata": {
    "colab": {
     "base_uri": "https://localhost:8080/",
     "height": 687
    },
    "colab_type": "code",
    "id": "tCicsRRreggi",
    "outputId": "0433310f-aaae-439f-afd4-0cec8d045b2e"
   },
   "outputs": [
    {
     "data": {
      "text/html": [
       "\n",
       "<div id=\"altair-viz-aae604aaeb7b471d884de0c7234cea69\"></div>\n",
       "<script type=\"text/javascript\">\n",
       "  (function(spec, embedOpt){\n",
       "    const outputDiv = document.getElementById(\"altair-viz-aae604aaeb7b471d884de0c7234cea69\");\n",
       "    const paths = {\n",
       "      \"vega\": \"https://cdn.jsdelivr.net/npm//vega@5?noext\",\n",
       "      \"vega-lib\": \"https://cdn.jsdelivr.net/npm//vega-lib?noext\",\n",
       "      \"vega-lite\": \"https://cdn.jsdelivr.net/npm//vega-lite@4.0.2?noext\",\n",
       "      \"vega-embed\": \"https://cdn.jsdelivr.net/npm//vega-embed@6?noext\",\n",
       "    };\n",
       "\n",
       "    function loadScript(lib) {\n",
       "      return new Promise(function(resolve, reject) {\n",
       "        var s = document.createElement('script');\n",
       "        s.src = paths[lib];\n",
       "        s.async = true;\n",
       "        s.onload = () => resolve(paths[lib]);\n",
       "        s.onerror = () => reject(`Error loading script: ${paths[lib]}`);\n",
       "        document.getElementsByTagName(\"head\")[0].appendChild(s);\n",
       "      });\n",
       "    }\n",
       "\n",
       "    function showError(err) {\n",
       "      outputDiv.innerHTML = `<div class=\"error\" style=\"color:red;\">${err}</div>`;\n",
       "      throw err;\n",
       "    }\n",
       "\n",
       "    function displayChart(vegaEmbed) {\n",
       "      vegaEmbed(outputDiv, spec, embedOpt)\n",
       "        .catch(err => showError(`Javascript Error: ${err.message}<br>This usually means there's a typo in your chart specification. See the javascript console for the full traceback.`));\n",
       "    }\n",
       "\n",
       "    if(typeof define === \"function\" && define.amd) {\n",
       "      requirejs.config({paths});\n",
       "      require([\"vega-embed\"], displayChart, err => showError(`Error loading script: ${err.message}`));\n",
       "    } else if (typeof vegaEmbed === \"function\") {\n",
       "      displayChart(vegaEmbed);\n",
       "    } else {\n",
       "      loadScript(\"vega\")\n",
       "        .then(() => loadScript(\"vega-lite\"))\n",
       "        .then(() => loadScript(\"vega-embed\"))\n",
       "        .catch(showError)\n",
       "        .then(() => displayChart(vegaEmbed));\n",
       "    }\n",
       "  })({\"config\": {\"title\": {\"anchor\": \"start\", \"fontSize\": 24, \"font\": \"Roboto\", \"fontColor\": \"#000000\"}, \"subtitle\": {\"font\": \"Roboto\", \"fontSize\": 22, \"fontColor\": \"#838383\", \"subtitlePadding\": 10}, \"caption\": {\"font\": \"Roboto\", \"fontSize\": 22, \"fontColor\": \"#000000\"}, \"axisX\": {\"domain\": true, \"domainColor\": \"#000000\", \"domainWidth\": 1, \"grid\": false, \"labelFontSize\": 13, \"labelFont\": \"Roboto\", \"labelAngle\": 0, \"tickColor\": \"#000000\", \"tickSize\": 5, \"titleFontSize\": 12, \"titlePadding\": 10, \"titleFont\": \"Roboto\", \"title\": \"\"}, \"axisY\": {\"domain\": false, \"grid\": true, \"gridColor\": \"#d6d4d4\", \"gridWidth\": 1, \"labelFontSize\": 12, \"labelFont\": \"Roboto\", \"labelPadding\": 8, \"ticks\": false, \"titleFontSize\": 12, \"titlePadding\": 10, \"titleFont\": \"Roboto\", \"titleAngle\": 270}, \"background\": \"#f4f3f3\", \"legend\": {\"labelFontSize\": 12, \"labelFont\": \"Roboto\", \"symbolSize\": 300, \"symbolType\": \"circle\", \"titleFontSize\": 15, \"titlePadding\": 10, \"titleFont\": \"Roboto\", \"orient\": \"right\", \"offset\": 20}, \"range\": {\"category\": [\"#76b7b2\", \"#f28e2b\", \"#e15759\", \"#4e79a7\", \"#59a14f\", \"#edc948\", \"#b07aa1\", \"#ff9da7\", \"#9c755f\", \"#bab0ac\"], \"diverging\": [\"#e1f5fe\", \"#b3e5fc\", \"#81d4fa\", \"#4fc3f7\", \"#29b6f6\", \"#03a9f4\", \"#039be5\", \"#0288d1\", \"#0277bd\", \"#01579b\"]}, \"geoshape\": {\"category\": [\"#76b7b2\", \"#f28e2b\", \"#e15759\", \"#4e79a7\", \"#59a14f\", \"#edc948\", \"#b07aa1\", \"#ff9da7\", \"#9c755f\", \"#bab0ac\"], \"diverging\": [\"#e1f5fe\", \"#b3e5fc\", \"#81d4fa\", \"#4fc3f7\", \"#29b6f6\", \"#03a9f4\", \"#039be5\", \"#0288d1\", \"#0277bd\", \"#01579b\"]}, \"area\": {\"category\": [\"#76b7b2\", \"#f28e2b\", \"#e15759\", \"#4e79a7\", \"#59a14f\", \"#edc948\", \"#b07aa1\", \"#ff9da7\", \"#9c755f\", \"#bab0ac\"], \"fill\": \"#1696d2\", \"opacity\": 0.7}, \"line\": {\"color\": \"#1696d2\", \"stroke\": \"#1696d2\", \"strokewidth\": 5}, \"point\": {\"filled\": true}, \"circle\": {\"color\": \"#4e79a7\", \"size\": 13}, \"text\": {\"font\": \"Roboto\", \"color\": \"#1696d2\", \"fontSize\": 11, \"align\": \"right\", \"fontWeight\": 400, \"size\": 11}, \"bar\": {\"size\": 40, \"binSpacing\": 1, \"continuousBandSize\": 30, \"discreteBandSize\": 30, \"fill\": \"#1696d2\", \"stroke\": false, \"opacity\": 0.7}}, \"layer\": [{\"mark\": {\"type\": \"point\", \"size\": 180}, \"encoding\": {\"color\": {\"type\": \"nominal\", \"field\": \"OWNER_DEPARTMENT\"}, \"x\": {\"type\": \"quantitative\", \"field\": \"COUNT\", \"title\": \"Number of 311 Requests (in 1000)\"}, \"y\": {\"type\": \"quantitative\", \"field\": \"2019 ORDINANCE (AMOUNT $)\", \"title\": \"2019 Budget Ordinance (in $1000000)\"}}, \"height\": 500, \"title\": {\"text\": [\"Scatterplot for\", \"the Number of 311 Requests\", \"and the Budget Ordinance of Chicago (2019)\"], \"subtitle\": [\"Chicago Data Portal - 311 Service Requests\", \"Chicago Data Portal - Budget - 2019 Budget Ordinance - Appropriations\"], \"subtitleColor\": \"grey\"}, \"width\": 500}, {\"mark\": {\"type\": \"text\", \"align\": \"left\", \"baseline\": \"middle\", \"dx\": 15}, \"encoding\": {\"color\": {\"type\": \"nominal\", \"field\": \"OWNER_DEPARTMENT\"}, \"text\": {\"type\": \"nominal\", \"field\": \"OWNER_DEPARTMENT\"}, \"x\": {\"type\": \"quantitative\", \"field\": \"COUNT\", \"title\": \"Number of 311 Requests (in 1000)\"}, \"y\": {\"type\": \"quantitative\", \"field\": \"2019 ORDINANCE (AMOUNT $)\", \"title\": \"2019 Budget Ordinance (in $1000000)\"}}, \"height\": 500, \"title\": {\"text\": [\"Scatterplot for\", \"the Number of 311 Requests\", \"and the Budget Ordinance of Chicago (2019)\"], \"subtitle\": [\"Chicago Data Portal - 311 Service Requests\", \"Chicago Data Portal - Budget - 2019 Budget Ordinance - Appropriations\"], \"subtitleColor\": \"grey\"}, \"width\": 500}], \"data\": {\"name\": \"data-b92d853f38cfee72b3b6f31621e2792f\"}, \"$schema\": \"https://vega.github.io/schema/vega-lite/v4.0.2.json\", \"datasets\": {\"data-b92d853f38cfee72b3b6f31621e2792f\": [{\"OWNER_DEPARTMENT\": \"Animal Care / Control\", \"2019 ORDINANCE (AMOUNT $)\": 6.843307, \"CREATED_YEAR\": 2019, \"COUNT\": 19.242}, {\"OWNER_DEPARTMENT\": \"Buildings\", \"2019 ORDINANCE (AMOUNT $)\": 38.119079, \"CREATED_YEAR\": 2019, \"COUNT\": 18.044}, {\"OWNER_DEPARTMENT\": \"Streets and Sanitation\", \"2019 ORDINANCE (AMOUNT $)\": 268.02634, \"CREATED_YEAR\": 2019, \"COUNT\": 252.26}, {\"OWNER_DEPARTMENT\": \"Transportation\", \"2019 ORDINANCE (AMOUNT $)\": 543.060487, \"CREATED_YEAR\": 2019, \"COUNT\": 151.071}, {\"OWNER_DEPARTMENT\": \"Water Management\", \"2019 ORDINANCE (AMOUNT $)\": 310.450401, \"CREATED_YEAR\": 2019, \"COUNT\": 24.976}]}}, {\"mode\": \"vega-lite\"});\n",
       "</script>"
      ],
      "text/plain": [
       "alt.LayerChart(...)"
      ]
     },
     "execution_count": 62,
     "metadata": {
      "tags": []
     },
     "output_type": "execute_result"
    }
   ],
   "source": [
    "scatterplot"
   ]
  },
  {
   "cell_type": "markdown",
   "metadata": {
    "colab_type": "text",
    "id": "4Jv7SfJIf6n6"
   },
   "source": [
    "Using the data from [Chicago Data Portal](https://data.cityofchicago.org/Administration-Finance/Budget-2019-Budget-Ordinance-Appropriations/h9rt-tsn7), I had hoped to see some relationship between the amount of budget allocated to various departments and the number of 311 requests handled by them. Unfortunately, from the departments that handle the most number of 311 service requests, it was difficult to notice any distinct pattern. In hindsight, I should have looked deeper into the budget allocation within each department, since not all requests cost the same. For instance, the requests that the department of Transportation handle may take more resources than the requests that are dealt by Animal Care / Control."
   ]
  },
  {
   "cell_type": "markdown",
   "metadata": {
    "colab_type": "text",
    "id": "QD4A8ONIvjUw"
   },
   "source": [
    "### __6. Potholes__\n",
    "\n",
    "The department of Streets and Sanitations receives many 311 service requests regarding potholes. Let us see if there are any geographical patterns regarding pothole-related requests.\n"
   ]
  },
  {
   "cell_type": "markdown",
   "metadata": {
    "colab_type": "text",
    "id": "jwzifWu_w0K4"
   },
   "source": [
    "#### Code for data visualization"
   ]
  },
  {
   "cell_type": "code",
   "execution_count": 0,
   "metadata": {
    "colab": {
     "base_uri": "https://localhost:8080/",
     "height": 71
    },
    "colab_type": "code",
    "id": "fJ8BaBC-5vRa",
    "outputId": "80a31fdf-e8da-4995-8b63-e96b9b788231"
   },
   "outputs": [
    {
     "name": "stderr",
     "output_type": "stream",
     "text": [
      "/usr/local/lib/python3.6/dist-packages/IPython/core/interactiveshell.py:2718: DtypeWarning: Columns (28) have mixed types. Specify dtype option on import or set low_memory=False.\n",
      "  interactivity=interactivity, compiler=compiler, result=result)\n"
     ]
    }
   ],
   "source": [
    "census_json = \"/content/gdrive/My Drive/CAPP-30239-Data-Viz/assignment-2/data/census_tract_boundary/tracts.geojson\"\n",
    "gdf = gpd.read_file(census_json)\n",
    "gdf.crs = \"epsg:4326\"\n",
    "data_geojson = alt.InlineData(values=gdf.to_json(), format=alt.DataFormat(property='features', type='json'))\n",
    "\n",
    "pothole_filename = \"/content/gdrive/My Drive/CAPP-30239-Data-Viz/assignment-2/data/tracts_311_pothole.csv\"\n",
    "pothole_df = pd.read_csv(pothole_filename)\n",
    "pothole_df = pothole_df.sample(n=10000)\n",
    "\n",
    "chicago_map = alt.Chart(data_geojson).mark_geoshape(\n",
    "    fill='lightgray',\n",
    "    stroke='white',\n",
    "    strokeWidth=0.5\n",
    "    ).properties(\n",
    "        width=600,\n",
    "        height=600,\n",
    "        title={\n",
    "        \"text\": [\"Scatter Plot Map of\", \"the Number of 311 Requests for Potholes\", \"per Census Tract in Chicago (2018-2020)\"], \n",
    "        \"subtitle\": [\"Chicago Data Portal - 311 Service Requests\", \"Chicago Data Portal - Boundaries - Census Tracts\"],\n",
    "        \"subtitleColor\": \"grey\",\n",
    "        \"color\": \"black\"\n",
    "        }\n",
    "     ).encode()\n",
    "\n",
    "points = alt.Chart(pothole_df).mark_circle(\n",
    "    size=10,\n",
    "    baseline='top'\n",
    ").encode(\n",
    "    longitude='LONGITUDE:Q',\n",
    "    latitude='LATITUDE:Q',\n",
    "    tooltip=['SR_NUMBER', 'ZIP_CODE', 'WARD']\n",
    ")\n",
    "\n",
    "pothole_map = chicago_map + points"
   ]
  },
  {
   "cell_type": "markdown",
   "metadata": {
    "colab_type": "text",
    "id": "jDuQOVBMw9TG"
   },
   "source": [
    "#### *Chart #5*"
   ]
  },
  {
   "cell_type": "code",
   "execution_count": 0,
   "metadata": {
    "colab": {
     "base_uri": "https://localhost:8080/",
     "height": 741
    },
    "colab_type": "code",
    "id": "jo57toJz58Nf",
    "outputId": "34d61f1d-ab9e-41d6-decb-e0a8fedf37e2"
   },
   "outputs": [],
   "source": [
    "pothole_map"
   ]
  },
  {
   "cell_type": "markdown",
   "metadata": {
    "colab_type": "text",
    "id": "ARDiXZhPvbPa"
   },
   "source": [
    "This chart shows that many pothole-related 311 requests are focused in the northern part of Chicago such as River North, Lincoln Park, or Logan Park. However, it is not clear from this chart if potholes are simply more frequent in these parts of the city or there are more 311 requests overall."
   ]
  },
  {
   "cell_type": "markdown",
   "metadata": {
    "colab_type": "text",
    "id": "P8g4_ZOYQ35H"
   },
   "source": [
    "### __7. Census Tracts of Chicago__"
   ]
  },
  {
   "cell_type": "markdown",
   "metadata": {
    "colab_type": "text",
    "id": "6kJ2wt6Kx3O6"
   },
   "source": [
    "#### Code for Data Visualization"
   ]
  },
  {
   "cell_type": "code",
   "execution_count": 0,
   "metadata": {
    "colab": {},
    "colab_type": "code",
    "id": "-a3TVmqg_2Qf"
   },
   "outputs": [],
   "source": [
    "census_json = \"/content/gdrive/My Drive/CAPP-30239-Data-Viz/assignment-2/data/census_tract_boundary/tracts.geojson\"\n",
    "tracts_311_count_filename = \"/content/gdrive/My Drive/CAPP-30239-Data-Viz/assignment-2/data/tracts_count.csv\"\n",
    "tracts_count = pd.read_csv(tracts_311_count_filename)\n",
    "gdf = gpd.read_file(census_json)\n",
    "gdf = gdf.merge(tracts_count, on='namelsad10', how='left')\n",
    "gdf.crs = \"epsg:4326\"\n",
    "data_geojson = alt.InlineData(values=gdf.to_json(), format=alt.DataFormat(property='features', type='json')) \n",
    "\n",
    "map_chart = alt.Chart(data_geojson).mark_geoshape(\n",
    "    stroke='black',\n",
    "    strokeWidth=0.5,\n",
    "    ).encode(\n",
    "        color = alt.Color(\n",
    "            'properties.color:N',\n",
    "            legend=alt.Legend(\n",
    "                title=\"Number of Requests\",\n",
    "                titleFontSize = 11,\n",
    "                columns=3,\n",
    "                labelFontSize=0,\n",
    "                symbolSize=1000,\n",
    "                columnPadding=0,\n",
    "                rowPadding=0,\n",
    "                labelPadding=0\n",
    "                ),\n",
    "            scale=alt.Scale(\n",
    "                domain=[\"#64acbe\", \"#b0d5df\", \"#e8e8e8\", \"#627f8c\", \"#ad9ea5\", \"#e4acac\", \"#574249\", \"#985356\", \"#c85a5a\"],\n",
    "                range=[\"#73ae80\", \"#b8d6be\", \"#cccccc\", \"#5a9178\", \"#90b2b3\", \"#b5c0da\", \"#2a5a5b\", \"#567994\", \"#6c83b5\"]\n",
    "                )\n",
    "        ),\n",
    "        opacity=alt.value(0.8),\n",
    "    ).properties(\n",
    "        title={\n",
    "        \"text\": [\"Bivariate Choropleth Map of the Number of 311 Requests\", \"per Census Tract in Chicago (2018-2020)\"], \n",
    "        \"subtitle\": [\"Chicago Data Portal - 311 Service Requests\", \"Chicago Data Portal - Boundaries - Census Tracts\"],\n",
    "        \"subtitleColor\": \"grey\",\n",
    "        \"color\": \"black\"\n",
    "        },\n",
    "        projection={\"type\":'mercator'},\n",
    "        width = 600,\n",
    "        height = 600\n",
    ")\n"
   ]
  },
  {
   "cell_type": "markdown",
   "metadata": {
    "colab_type": "text",
    "id": "m3jNwS2Wx0AR"
   },
   "source": [
    "#### *Chart #6*"
   ]
  },
  {
   "cell_type": "code",
   "execution_count": 0,
   "metadata": {
    "colab": {
     "base_uri": "https://localhost:8080/",
     "height": 715
    },
    "colab_type": "code",
    "id": "piC0OtqOxc5U",
    "outputId": "87ad1f7d-8b76-4e29-a561-293df7eadc5d"
   },
   "outputs": [],
   "source": [
    "map_chart"
   ]
  },
  {
   "cell_type": "markdown",
   "metadata": {
    "colab_type": "text",
    "id": "j87yHdX1zPVO"
   },
   "source": [
    "__Reading the bivariate choropleth map__\n",
    "\n",
    "As you can see on the right side of the Chicago map, there are a total of 9 different color on this map. The number of 311 service requests is represented by *x-axis* (i.e., the right, the more), and the average household income level is represented by the *y-axis* (i.e., the up, the more).\n",
    "\n",
    "\n",
    "__Findings__\n",
    "\n",
    "Using the `geojson` data from [Chicago Data Portal](https://data.cityofchicago.org/Facilities-Geographic-Boundaries/Boundaries-Census-Tracts-2010/5jrd-6zik) and [US Census Data](https://data.census.gov/cedsci/table?q=Income%20and%20Earnings&g=0500000US17031.140000&t=Income%20and%20Earnings&hidePreview=true&table=S1901&tid=ACSST5Y2018.S1901&lastDisplayedRow=0&vintage=2017&mode=), I charted a bivariate choropleth map of using the number of 311 requests and the average household income level by census tract in Chicago. There seem to be some visual patterns here. First of all, there seem to be a clear divide in the average household income level where the north and east of Chicago is generally more wealthy than other parts of Chicago. Furthermore, areas above the downtown along the river (e.g., River North, West Lakeview) seem to be high in both average household income level and the number of 311 requests. "
   ]
  },
  {
   "cell_type": "markdown",
   "metadata": {
    "colab_type": "text",
    "id": "GDUJzgYXeg2u"
   },
   "source": [
    "### __8. What is wrong with Census Tract 8382?__\n",
    "\n",
    "Let us look at the table below. It looks like __Census Tract 8382__ has an outstanding number of 311 service requests. By just looking at this statistics, one might think that this part of the city has some serious issues."
   ]
  },
  {
   "cell_type": "code",
   "execution_count": 0,
   "metadata": {
    "colab": {
     "base_uri": "https://localhost:8080/",
     "height": 204
    },
    "colab_type": "code",
    "id": "7uUY8Na7eRWo",
    "outputId": "d808ee1b-49b6-4b8b-b8a1-7a2098902954"
   },
   "outputs": [
    {
     "data": {
      "text/html": [
       "<div>\n",
       "<style scoped>\n",
       "    .dataframe tbody tr th:only-of-type {\n",
       "        vertical-align: middle;\n",
       "    }\n",
       "\n",
       "    .dataframe tbody tr th {\n",
       "        vertical-align: top;\n",
       "    }\n",
       "\n",
       "    .dataframe thead th {\n",
       "        text-align: right;\n",
       "    }\n",
       "</style>\n",
       "<table border=\"1\" class=\"dataframe\">\n",
       "  <thead>\n",
       "    <tr style=\"text-align: right;\">\n",
       "      <th></th>\n",
       "      <th>namelsad10</th>\n",
       "      <th>Number_of_Requests</th>\n",
       "      <th>Household_Income</th>\n",
       "      <th>color</th>\n",
       "    </tr>\n",
       "  </thead>\n",
       "  <tbody>\n",
       "    <tr>\n",
       "      <th>746</th>\n",
       "      <td>Census Tract 8382</td>\n",
       "      <td>610687</td>\n",
       "      <td>17817</td>\n",
       "      <td>#574249</td>\n",
       "    </tr>\n",
       "    <tr>\n",
       "      <th>752</th>\n",
       "      <td>Census Tract 8391</td>\n",
       "      <td>6573</td>\n",
       "      <td>22076</td>\n",
       "      <td>#574249</td>\n",
       "    </tr>\n",
       "    <tr>\n",
       "      <th>405</th>\n",
       "      <td>Census Tract 4910</td>\n",
       "      <td>5807</td>\n",
       "      <td>6707</td>\n",
       "      <td>#c85a5a</td>\n",
       "    </tr>\n",
       "    <tr>\n",
       "      <th>159</th>\n",
       "      <td>Census Tract 2315</td>\n",
       "      <td>5665</td>\n",
       "      <td>8036</td>\n",
       "      <td>#c85a5a</td>\n",
       "    </tr>\n",
       "    <tr>\n",
       "      <th>436</th>\n",
       "      <td>Census Tract 5302</td>\n",
       "      <td>5391</td>\n",
       "      <td>8114</td>\n",
       "      <td>#c85a5a</td>\n",
       "    </tr>\n",
       "  </tbody>\n",
       "</table>\n",
       "</div>"
      ],
      "text/plain": [
       "            namelsad10  Number_of_Requests  Household_Income    color\n",
       "746  Census Tract 8382              610687             17817  #574249\n",
       "752  Census Tract 8391                6573             22076  #574249\n",
       "405  Census Tract 4910                5807              6707  #c85a5a\n",
       "159  Census Tract 2315                5665              8036  #c85a5a\n",
       "436  Census Tract 5302                5391              8114  #c85a5a"
      ]
     },
     "execution_count": 67,
     "metadata": {
      "tags": []
     },
     "output_type": "execute_result"
    }
   ],
   "source": [
    "tracts_count.sort_values('Number_of_Requests', ascending=False).head(5)"
   ]
  },
  {
   "cell_type": "markdown",
   "metadata": {
    "colab_type": "text",
    "id": "-UjWor-Af81T"
   },
   "source": [
    "However, this might not be the case. We already know from one of the charts that a high number of the 311 service requests are directed to __311 City Services__. It is possible that the location of all __311 INFORMATION ONLY CALLS__ that are directed to __311 City Services__ are simply coded to [__311 Operations__](https://goo.gl/maps/5znZXVSsybrMcqxw7). Indeed, if you look at Google Maps, you can see that __311 Operations__ is located in Census Tract 8382."
   ]
  },
  {
   "cell_type": "markdown",
   "metadata": {
    "colab_type": "text",
    "id": "urH5QgoV4FRW"
   },
   "source": [
    "#### Code for Data Visualization"
   ]
  },
  {
   "cell_type": "code",
   "execution_count": 0,
   "metadata": {
    "colab": {
     "base_uri": "https://localhost:8080/",
     "height": 71
    },
    "colab_type": "code",
    "id": "c9Ip5wgAhP1R",
    "outputId": "0f487124-2ca4-4fc4-b7c9-dfb4a2079d04"
   },
   "outputs": [
    {
     "name": "stderr",
     "output_type": "stream",
     "text": [
      "/usr/local/lib/python3.6/dist-packages/IPython/core/interactiveshell.py:2718: DtypeWarning: Columns (28) have mixed types. Specify dtype option on import or set low_memory=False.\n",
      "  interactivity=interactivity, compiler=compiler, result=result)\n"
     ]
    }
   ],
   "source": [
    "census_json = \"/content/gdrive/My Drive/CAPP-30239-Data-Viz/assignment-2/data/census_tract_boundary/tracts.geojson\"\n",
    "gdf = gpd.read_file(census_json)\n",
    "gdf.crs = \"epsg:4326\"\n",
    "data_geojson = alt.InlineData(values=gdf.to_json(), format=alt.DataFormat(property='features', type='json'))\n",
    "\n",
    "call_filename = \"/content/gdrive/My Drive/CAPP-30239-Data-Viz/assignment-2/data/tracts_311_call.csv\"\n",
    "call_df = pd.read_csv(call_filename)\n",
    "call_df = call_df.sample(n=10000)\n",
    "\n",
    "census_map = alt.Chart(data_geojson).mark_geoshape(\n",
    "    fill='lightgray',\n",
    "    stroke='white',\n",
    "    strokeWidth=0.5\n",
    "    ).properties(\n",
    "        width=800,\n",
    "        height=800,\n",
    "        title={\n",
    "        \"text\": [\"Location of 311 Information-only Calls\", \"by Census Tract in Chicago (2018-2020)\"], \n",
    "        \"subtitle\": [\"Chicago Data Portal - 311 Service Requests\", \"Chicago Data Portal - Boundaries - Census Tracts\"],\n",
    "        \"subtitleColor\": \"grey\",\n",
    "        \"color\": \"black\"\n",
    "        }\n",
    "     ).encode()\n",
    "\n",
    "points = alt.Chart(call_df).transform_aggregate(\n",
    "    latitude='mean(LATITUDE)',\n",
    "    longitude='mean(LONGITUDE)',\n",
    "    count='count(SR_NUMBER)',\n",
    "    groupby=['namelsad10']\n",
    ").mark_circle().encode(\n",
    "    longitude='longitude:Q',\n",
    "    latitude='latitude:Q',\n",
    "    size=alt.Size('count:Q', title='Number of 311 Requests'),\n",
    "    tooltip=['namelsad10:N','count:Q']\n",
    ").properties(\n",
    "    title='Number of 311 Requests'\n",
    ")\n",
    "\n",
    "info_311 = census_map + points"
   ]
  },
  {
   "cell_type": "markdown",
   "metadata": {
    "colab_type": "text",
    "id": "exlH5v6L4ITc"
   },
   "source": [
    "#### *Chart # 7*"
   ]
  },
  {
   "cell_type": "code",
   "execution_count": 0,
   "metadata": {
    "colab": {
     "base_uri": "https://localhost:8080/",
     "height": 915
    },
    "colab_type": "code",
    "id": "z6gpXVdYrG-P",
    "outputId": "a92cd723-5041-4b7e-bf7d-c9870657490c"
   },
   "outputs": [],
   "source": [
    "info_311"
   ]
  },
  {
   "cell_type": "markdown",
   "metadata": {
    "colab_type": "text",
    "id": "b8XJyENDuCRH"
   },
   "source": [
    "Because of the limited Colab resources, it was not possible to plot all of the __311 INFORMATION ONLY CALLS__. So I plotted random 30000 data points on the map. As you can see above, the overwhelming majority of them are located in Census Tract 8382. This supports our hypothesis that Census Tract 8382 is not a big mess!"
   ]
  }
 ],
 "metadata": {
  "colab": {
   "authorship_tag": "ABX9TyPAiw51G9SGbSBz19XjEVwj",
   "collapsed_sections": [
    "_H9WjleM06-U",
    "Or7ujCeBOTJA"
   ],
   "name": "static_portfolio.ipynb",
   "provenance": []
  },
  "kernelspec": {
   "display_name": "Python 3",
   "language": "python",
   "name": "python3"
  },
  "language_info": {
   "codemirror_mode": {
    "name": "ipython",
    "version": 3
   },
   "file_extension": ".py",
   "mimetype": "text/x-python",
   "name": "python",
   "nbconvert_exporter": "python",
   "pygments_lexer": "ipython3",
   "version": "3.7.6"
  }
 },
 "nbformat": 4,
 "nbformat_minor": 1
}
