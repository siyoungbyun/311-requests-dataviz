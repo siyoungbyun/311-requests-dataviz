{
  "nbformat": 4,
  "nbformat_minor": 0,
  "metadata": {
    "colab": {
      "name": "static_portfolio.ipynb",
      "provenance": [],
      "collapsed_sections": [
        "_H9WjleM06-U",
        "Or7ujCeBOTJA"
      ],
      "authorship_tag": "ABX9TyPAiw51G9SGbSBz19XjEVwj"
    },
    "kernelspec": {
      "name": "python3",
      "display_name": "Python 3"
    }
  },
  "cells": [
    {
      "cell_type": "markdown",
      "metadata": {
        "id": "OgTiIE0zxdfi",
        "colab_type": "text"
      },
      "source": [
        "# __Static Portfolio - 311 Service Requests in Chicago__\n",
        "\n",
        "### Data Preprocessing\n",
        "\n",
        "- [Preprocessing of data](https://colab.research.google.com/drive/1l6l6Lp4xRcRU9rqpS7WInSlaStZVaTgb)"
      ]
    },
    {
      "cell_type": "markdown",
      "metadata": {
        "id": "X7VRTmxoxpeP",
        "colab_type": "text"
      },
      "source": [
        "### Import Dependencies"
      ]
    },
    {
      "cell_type": "code",
      "metadata": {
        "id": "jMoILTsmxPWW",
        "colab_type": "code",
        "outputId": "ec6075d1-fe83-402a-f59b-1e43824ae693",
        "colab": {
          "base_uri": "https://localhost:8080/",
          "height": 919
        }
      },
      "source": [
        "!apt install python3-rtree\n",
        "!pip install git+git://github.com/geopandas/geopandas.git -U\n",
        "!pip3 install vega altair -U\n",
        "\n",
        "from google.colab import drive\n",
        "import altair as alt\n",
        "import pandas as pd\n",
        "import geopandas as gpd\n",
        "\n",
        "drive.mount('/content/gdrive')\n",
        "alt.data_transformers.disable_max_rows()"
      ],
      "execution_count": 0,
      "outputs": [
        {
          "output_type": "stream",
          "text": [
            "Reading package lists... Done\n",
            "Building dependency tree       \n",
            "Reading state information... Done\n",
            "python3-rtree is already the newest version (0.8.3+ds-1).\n",
            "The following package was automatically installed and is no longer required:\n",
            "  libnvidia-common-430\n",
            "Use 'apt autoremove' to remove it.\n",
            "0 upgraded, 0 newly installed, 0 to remove and 16 not upgraded.\n",
            "Collecting git+git://github.com/geopandas/geopandas.git\n",
            "  Cloning git://github.com/geopandas/geopandas.git to /tmp/pip-req-build-vyhzb4ki\n",
            "  Running command git clone -q git://github.com/geopandas/geopandas.git /tmp/pip-req-build-vyhzb4ki\n",
            "Requirement already satisfied, skipping upgrade: pandas>=0.23.0 in /usr/local/lib/python3.6/dist-packages (from geopandas==0.6.1+39.gfcbc6ce) (0.25.3)\n",
            "Requirement already satisfied, skipping upgrade: shapely in /usr/local/lib/python3.6/dist-packages (from geopandas==0.6.1+39.gfcbc6ce) (1.7.0)\n",
            "Requirement already satisfied, skipping upgrade: fiona in /usr/local/lib/python3.6/dist-packages (from geopandas==0.6.1+39.gfcbc6ce) (1.8.13)\n",
            "Requirement already satisfied, skipping upgrade: pyproj>=2.2.0 in /usr/local/lib/python3.6/dist-packages (from geopandas==0.6.1+39.gfcbc6ce) (2.4.2.post1)\n",
            "Requirement already satisfied, skipping upgrade: python-dateutil>=2.6.1 in /usr/local/lib/python3.6/dist-packages (from pandas>=0.23.0->geopandas==0.6.1+39.gfcbc6ce) (2.6.1)\n",
            "Requirement already satisfied, skipping upgrade: numpy>=1.13.3 in /usr/local/lib/python3.6/dist-packages (from pandas>=0.23.0->geopandas==0.6.1+39.gfcbc6ce) (1.17.5)\n",
            "Requirement already satisfied, skipping upgrade: pytz>=2017.2 in /usr/local/lib/python3.6/dist-packages (from pandas>=0.23.0->geopandas==0.6.1+39.gfcbc6ce) (2018.9)\n",
            "Requirement already satisfied, skipping upgrade: munch in /usr/local/lib/python3.6/dist-packages (from fiona->geopandas==0.6.1+39.gfcbc6ce) (2.5.0)\n",
            "Requirement already satisfied, skipping upgrade: click-plugins>=1.0 in /usr/local/lib/python3.6/dist-packages (from fiona->geopandas==0.6.1+39.gfcbc6ce) (1.1.1)\n",
            "Requirement already satisfied, skipping upgrade: attrs>=17 in /usr/local/lib/python3.6/dist-packages (from fiona->geopandas==0.6.1+39.gfcbc6ce) (19.3.0)\n",
            "Requirement already satisfied, skipping upgrade: cligj>=0.5 in /usr/local/lib/python3.6/dist-packages (from fiona->geopandas==0.6.1+39.gfcbc6ce) (0.5.0)\n",
            "Requirement already satisfied, skipping upgrade: click<8,>=4.0 in /usr/local/lib/python3.6/dist-packages (from fiona->geopandas==0.6.1+39.gfcbc6ce) (7.0)\n",
            "Requirement already satisfied, skipping upgrade: six>=1.7 in /usr/local/lib/python3.6/dist-packages (from fiona->geopandas==0.6.1+39.gfcbc6ce) (1.12.0)\n",
            "Building wheels for collected packages: geopandas\n",
            "  Building wheel for geopandas (setup.py) ... \u001b[?25l\u001b[?25hdone\n",
            "  Created wheel for geopandas: filename=geopandas-0.6.1+39.gfcbc6ce-py2.py3-none-any.whl size=922041 sha256=c416563eb003ba04fba8215e91e6b85676ac8f3de074c463ad54afff2dbe8a6b\n",
            "  Stored in directory: /tmp/pip-ephem-wheel-cache-f7odotwh/wheels/91/24/71/376c9c67192694168352afcccc2d264248f7e2cc6192997186\n",
            "Successfully built geopandas\n",
            "Installing collected packages: geopandas\n",
            "  Found existing installation: geopandas 0.6.1+39.gfcbc6ce\n",
            "    Uninstalling geopandas-0.6.1+39.gfcbc6ce:\n",
            "      Successfully uninstalled geopandas-0.6.1+39.gfcbc6ce\n",
            "Successfully installed geopandas-0.6.1+39.gfcbc6ce\n"
          ],
          "name": "stdout"
        },
        {
          "output_type": "display_data",
          "data": {
            "application/vnd.colab-display-data+json": {
              "pip_warning": {
                "packages": [
                  "geopandas"
                ]
              }
            }
          },
          "metadata": {
            "tags": []
          }
        },
        {
          "output_type": "stream",
          "text": [
            "Requirement already up-to-date: vega in /usr/local/lib/python3.6/dist-packages (2.6.0)\n",
            "Requirement already up-to-date: altair in /usr/local/lib/python3.6/dist-packages (4.0.1)\n",
            "Requirement already satisfied, skipping upgrade: entrypoints in /usr/local/lib/python3.6/dist-packages (from altair) (0.3)\n",
            "Requirement already satisfied, skipping upgrade: pandas in /usr/local/lib/python3.6/dist-packages (from altair) (0.25.3)\n",
            "Requirement already satisfied, skipping upgrade: toolz in /usr/local/lib/python3.6/dist-packages (from altair) (0.10.0)\n",
            "Requirement already satisfied, skipping upgrade: numpy in /usr/local/lib/python3.6/dist-packages (from altair) (1.17.5)\n",
            "Requirement already satisfied, skipping upgrade: jinja2 in /usr/local/lib/python3.6/dist-packages (from altair) (2.11.1)\n",
            "Requirement already satisfied, skipping upgrade: jsonschema in /usr/local/lib/python3.6/dist-packages (from altair) (2.6.0)\n",
            "Requirement already satisfied, skipping upgrade: pytz>=2017.2 in /usr/local/lib/python3.6/dist-packages (from pandas->altair) (2018.9)\n",
            "Requirement already satisfied, skipping upgrade: python-dateutil>=2.6.1 in /usr/local/lib/python3.6/dist-packages (from pandas->altair) (2.6.1)\n",
            "Requirement already satisfied, skipping upgrade: MarkupSafe>=0.23 in /usr/local/lib/python3.6/dist-packages (from jinja2->altair) (1.1.1)\n",
            "Requirement already satisfied, skipping upgrade: six>=1.5 in /usr/local/lib/python3.6/dist-packages (from python-dateutil>=2.6.1->pandas->altair) (1.12.0)\n",
            "Drive already mounted at /content/gdrive; to attempt to forcibly remount, call drive.mount(\"/content/gdrive\", force_remount=True).\n"
          ],
          "name": "stdout"
        },
        {
          "output_type": "execute_result",
          "data": {
            "text/plain": [
              "DataTransformerRegistry.enable('default')"
            ]
          },
          "metadata": {
            "tags": []
          },
          "execution_count": 47
        }
      ]
    },
    {
      "cell_type": "markdown",
      "metadata": {
        "id": "_H9WjleM06-U",
        "colab_type": "text"
      },
      "source": [
        "### Helper Functions"
      ]
    },
    {
      "cell_type": "code",
      "metadata": {
        "id": "vhO_kEUkYifZ",
        "colab_type": "code",
        "colab": {}
      },
      "source": [
        "def create_count_df_by_time(df, time_col):\n",
        "\n",
        "    df = df[[time_col, \"CREATED_YEAR\", \"STATUS\"]]\\\n",
        "        .groupby([time_col, \"CREATED_YEAR\"])\\\n",
        "        .STATUS.agg(\"count\")\\\n",
        "        .reset_index(name=\"COUNT\")\n",
        "    df[\"COUNT\"] = df[\"COUNT\"].div(1000)\n",
        "    return df\n",
        "\n",
        "def create_count_df_by_year(dfs, time_col, verbose=False):\n",
        "    \n",
        "    merged_df = create_count_df_by_time(dfs[0], time_col)\n",
        "    for df in dfs[1:]:\n",
        "        df = create_count_df_by_time(df, time_col)\n",
        "        merged_df = merged_df.append(df, ignore_index=True)\n",
        "    if verbose:\n",
        "        print(merged_df.sample(n=5))\n",
        "    return merged_df"
      ],
      "execution_count": 0,
      "outputs": []
    },
    {
      "cell_type": "markdown",
      "metadata": {
        "id": "Or7ujCeBOTJA",
        "colab_type": "text"
      },
      "source": [
        "### Theme"
      ]
    },
    {
      "cell_type": "code",
      "metadata": {
        "id": "g0pEwrg8OX9h",
        "colab_type": "code",
        "outputId": "53cc8a10-1f01-45d7-9b89-9962910d795e",
        "colab": {
          "base_uri": "https://localhost:8080/"
        }
      },
      "source": [
        "def theme_311():\n",
        "    # Theme Template from https://towardsdatascience.com/consistently-beautiful-visualizations-with-altair-themes-c7f9f889602\n",
        "\n",
        "    markColor = \"#1696d2\"\n",
        "    axisColor = \"#000000\"\n",
        "    backgroundColor = \"#f4f3f3\"\n",
        "    font = \"Roboto\"\n",
        "    labelFont = \"Roboto\"\n",
        "    sourceFont = \"Roboto\"\n",
        "    gridColor = \"#d6d4d4\"\n",
        "    main_palette = [\n",
        "        \"#76b7b2\", \"#f28e2b\", \"#e15759\",\n",
        "        \"#4e79a7\", \"#59a14f\", \"#edc948\",\n",
        "        \"#b07aa1\", \"#ff9da7\", \"#9c755f\",\n",
        "        \"#bab0ac\"\n",
        "    ]\n",
        "    sequential_palette = [\n",
        "        \"#e1f5fe\", \"#b3e5fc\", \"#81d4fa\", \n",
        "        \"#4fc3f7\", \"#29b6f6\", \"#03a9f4\",\n",
        "        \"#039be5\", \"#0288d1\", \"#0277bd\",\n",
        "        \"#01579b\"\n",
        "    ]\n",
        "    return {\n",
        "        \"config\": {\n",
        "            \"title\": {\n",
        "                \"anchor\": \"start\",\n",
        "                \"fontSize\": 24,\n",
        "                \"font\": font,\n",
        "                \"fontColor\": \"#000000\"\n",
        "            },\n",
        "            \"subtitle\": {\n",
        "                \"font\": font,\n",
        "                \"fontSize\": 22,\n",
        "                \"fontColor\": \"#838383\",\n",
        "                \"subtitlePadding\": 10\n",
        "            },\n",
        "            \"caption\": {\n",
        "                \"font\": font,\n",
        "                \"fontSize\": 22,\n",
        "                \"fontColor\": \"#000000\"\n",
        "            },\n",
        "            \"axisX\": {\n",
        "               \"domain\": True,\n",
        "               \"domainColor\": axisColor,\n",
        "               \"domainWidth\": 1,\n",
        "               \"grid\": False,\n",
        "               \"labelFontSize\": 13,\n",
        "               \"labelFont\": labelFont,\n",
        "               \"labelAngle\": 0,\n",
        "               \"tickColor\": axisColor,\n",
        "               \"tickSize\": 5,\n",
        "               \"titleFontSize\": 12,\n",
        "               \"titlePadding\": 10,\n",
        "               \"titleFont\": font,\n",
        "               \"title\": \"\",\n",
        "           },\n",
        "           \"axisY\": {\n",
        "               \"domain\": False,\n",
        "               \"grid\": True,\n",
        "               \"gridColor\": gridColor,\n",
        "               \"gridWidth\": 1,\n",
        "               \"labelFontSize\": 12,\n",
        "               \"labelFont\": labelFont,\n",
        "               \"labelPadding\": 8,\n",
        "               \"ticks\": False,\n",
        "               \"titleFontSize\": 12,\n",
        "               \"titlePadding\": 10,\n",
        "               \"titleFont\": font,\n",
        "               \"titleAngle\": 270,\n",
        "           },\n",
        "           \"background\": backgroundColor,\n",
        "           \"legend\": {\n",
        "               \"labelFontSize\": 12,\n",
        "               \"labelFont\": labelFont,\n",
        "               \"symbolSize\": 300,\n",
        "               \"symbolType\": \"circle\",\n",
        "               \"titleFontSize\": 15,\n",
        "               \"titlePadding\": 10,\n",
        "               \"titleFont\": font,\n",
        "               \"orient\": \"right\",\n",
        "               \"offset\": 20,\n",
        "           },\n",
        "           \"range\": {\n",
        "               \"category\": main_palette,\n",
        "               \"diverging\": sequential_palette,\n",
        "           },\n",
        "           \"geoshape\": {\n",
        "               \"category\": main_palette,\n",
        "               \"diverging\": sequential_palette,\n",
        "           },\n",
        "           \"area\": {\n",
        "               \"category\": main_palette,\n",
        "               \"fill\": markColor,\n",
        "               \"opacity\": 0.7,\n",
        "           },\n",
        "           \"line\": {\n",
        "               \"color\": markColor,\n",
        "               \"stroke\": markColor,\n",
        "               \"strokewidth\": 5,\n",
        "           },\n",
        "           \"point\": {\n",
        "               \"filled\": True,\n",
        "           },\n",
        "           \"circle\": {\n",
        "               \"color\": \"#4e79a7\",\n",
        "               \"size\": 13,\n",
        "           },\n",
        "           \"text\": {\n",
        "               \"font\": sourceFont,\n",
        "               \"color\": markColor,\n",
        "               \"fontSize\": 11,\n",
        "               \"align\": \"right\",\n",
        "               \"fontWeight\": 400,\n",
        "               \"size\": 11,\n",
        "           }, \n",
        "           \"bar\": {\n",
        "                \"size\": 40,\n",
        "                \"binSpacing\": 1,\n",
        "                \"continuousBandSize\": 30,\n",
        "                \"discreteBandSize\": 30,\n",
        "                \"fill\": markColor,\n",
        "                \"stroke\": False,\n",
        "                \"opacity\": 0.7\n",
        "            }, \n",
        "       },\n",
        "    }\n",
        "\n",
        "alt.themes.register(\"theme_311\", theme_311)\n",
        "alt.themes.enable(\"theme_311\")"
      ],
      "execution_count": 0,
      "outputs": [
        {
          "output_type": "execute_result",
          "data": {
            "text/plain": [
              "ThemeRegistry.enable('theme_311')"
            ]
          },
          "metadata": {
            "tags": []
          },
          "execution_count": 49
        }
      ]
    },
    {
      "cell_type": "markdown",
      "metadata": {
        "id": "RWkX0dByQSHc",
        "colab_type": "text"
      },
      "source": [
        "### __1. Load the dataset__"
      ]
    },
    {
      "cell_type": "code",
      "metadata": {
        "id": "giSnEZkXyMyq",
        "colab_type": "code",
        "colab": {}
      },
      "source": [
        "# Load the dataset for 2018\n",
        "data_dir_2018 = \"/content/gdrive/My Drive/CAPP-30239-Data-Viz/assignment-2/data/cleaned_311_2018.csv\"\n",
        "df_2018 = pd.read_csv(data_dir_2018)\n",
        "# Load the dataset for 2019\n",
        "data_dir_2019 = \"/content/gdrive/My Drive/CAPP-30239-Data-Viz/assignment-2/data/cleaned_311_2019.csv\"\n",
        "df_2019 = pd.read_csv(data_dir_2019)\n",
        "# Load the entire dataset\n",
        "data_dir = \"/content/gdrive/My Drive/CAPP-30239-Data-Viz/assignment-2/data/cleaned_311.csv\"\n",
        "df = pd.read_csv(data_dir)"
      ],
      "execution_count": 0,
      "outputs": []
    },
    {
      "cell_type": "code",
      "metadata": {
        "id": "JH5ZChmoDUn0",
        "colab_type": "code",
        "colab": {}
      },
      "source": [
        "day_source = create_count_df_by_year([df_2018, df_2019], \"CREATED_DAY_OF_WEEK\")\n",
        "day_dict = {\n",
        "    1: \"Sunday\",\n",
        "    2: \"Monday\",\n",
        "    3: \"Tuesday\",\n",
        "    4: \"Wednesday\",\n",
        "    5: \"Thursday\",\n",
        "    6: \"Friday\",\n",
        "    7: \"Saturday\",\n",
        "}\n",
        "month_dict = {\n",
        "    7: \"July\",\n",
        "    8: \"August\",\n",
        "    9: \"September\",\n",
        "    10: \"October\",\n",
        "    11: \"November\",\n",
        "    12: \"December\"\n",
        "}\n",
        "day_source[\"CREATED_DAY_OF_WEEK\"] = day_source[\"CREATED_DAY_OF_WEEK\"].apply(lambda x: day_dict[x])\n",
        "month_source = create_count_df_by_year([df_2018, df_2019], \"CREATED_MONTH\")\n",
        "month_source[\"MONTH\"] = month_source[\"CREATED_MONTH\"].apply(lambda x: month_dict[x])"
      ],
      "execution_count": 0,
      "outputs": []
    },
    {
      "cell_type": "markdown",
      "metadata": {
        "id": "KLZdyRmVQavp",
        "colab_type": "text"
      },
      "source": [
        "### __2. The Number of 311 Service Requests in Chicago in 2017 and 2018__"
      ]
    },
    {
      "cell_type": "markdown",
      "metadata": {
        "id": "TDfZ-KM4Quk8",
        "colab_type": "text"
      },
      "source": [
        "#### Code for data visualization"
      ]
    },
    {
      "cell_type": "code",
      "metadata": {
        "id": "WoEY7PVBDKxt",
        "colab_type": "code",
        "colab": {}
      },
      "source": [
        "month_count = alt.Chart(month_source).mark_bar(opacity=0.7, size=45).encode(\n",
        "    x=alt.X(\n",
        "        'CREATED_YEAR:N',\n",
        "        axis=alt.Axis(labelAngle=0),\n",
        "        title=\"\"\n",
        "        ),\n",
        "    y=alt.Y(\n",
        "        'COUNT:Q',\n",
        "        title=\"The Number of 311 Requests (in 1000)\",\n",
        "        ),\n",
        "    color=alt.Color(\n",
        "        \"CREATED_YEAR:N\",\n",
        "        legend=alt.Legend(title=\"\"),\n",
        "        ),\n",
        "    column=alt.Column(\n",
        "        'MONTH:N',\n",
        "        sort=['July','August','September','October','November','December']\n",
        "        )\n",
        ").properties(\n",
        "    title={\n",
        "      \"text\": [\"The Number of 311 Service Requests in 2018 and 2019\", \"by Month (July - December) and Day of Week\"], \n",
        "      \"subtitle\": [\"Chicago Data Portal - 311 Service Requests\"],\n",
        "      \"subtitleColor\": \"grey\"\n",
        "    },\n",
        "    width=90,\n",
        "    height=300\n",
        ")"
      ],
      "execution_count": 0,
      "outputs": []
    },
    {
      "cell_type": "code",
      "metadata": {
        "id": "vruz_wj3H7xZ",
        "colab_type": "code",
        "colab": {}
      },
      "source": [
        "day_count = alt.Chart(day_source).mark_area().encode(\n",
        "    x=alt.X(\n",
        "        \"CREATED_DAY_OF_WEEK:N\",\n",
        "        axis=alt.Axis(labelAngle=0),\n",
        "        title=\"Day of Week\",\n",
        "        sort=['Monday','Tuesday','Wednesday','Thursday','Friday','Saturday','Sunday']\n",
        "        ),\n",
        "    y=alt.Y(\n",
        "        \"COUNT:Q\",\n",
        "        title=\"The Number of 311 Requests (in 1000)\"\n",
        "        ),\n",
        "    color=alt.Color(\n",
        "        \"CREATED_YEAR:N\",\n",
        "        legend=alt.Legend(title=\"\"),\n",
        "        )\n",
        "    ).properties(\n",
        "        width=650,\n",
        "        height=300\n",
        "    )\n",
        "count = alt.vconcat(month_count, day_count)"
      ],
      "execution_count": 0,
      "outputs": []
    },
    {
      "cell_type": "markdown",
      "metadata": {
        "id": "YBAzTi37Q5OJ",
        "colab_type": "text"
      },
      "source": [
        "#### *Chart #1*"
      ]
    },
    {
      "cell_type": "code",
      "metadata": {
        "id": "62N2igEgPW_D",
        "colab_type": "code",
        "outputId": "f50f0fb7-2715-43a2-9e56-78df272d4c72",
        "colab": {
          "base_uri": "https://localhost:8080/",
          "height": 836
        }
      },
      "source": [
        "count"
      ],
      "execution_count": 0,
      "outputs": [
        {
          "output_type": "execute_result",
          "data": {
            "text/plain": [
              "alt.VConcatChart(...)"
            ],
            "text/html": [
              "\n",
              "<div id=\"altair-viz-22d1ff7131064c8da4e8494ab3fec4dc\"></div>\n",
              "<script type=\"text/javascript\">\n",
              "  (function(spec, embedOpt){\n",
              "    const outputDiv = document.getElementById(\"altair-viz-22d1ff7131064c8da4e8494ab3fec4dc\");\n",
              "    const paths = {\n",
              "      \"vega\": \"https://cdn.jsdelivr.net/npm//vega@5?noext\",\n",
              "      \"vega-lib\": \"https://cdn.jsdelivr.net/npm//vega-lib?noext\",\n",
              "      \"vega-lite\": \"https://cdn.jsdelivr.net/npm//vega-lite@4.0.2?noext\",\n",
              "      \"vega-embed\": \"https://cdn.jsdelivr.net/npm//vega-embed@6?noext\",\n",
              "    };\n",
              "\n",
              "    function loadScript(lib) {\n",
              "      return new Promise(function(resolve, reject) {\n",
              "        var s = document.createElement('script');\n",
              "        s.src = paths[lib];\n",
              "        s.async = true;\n",
              "        s.onload = () => resolve(paths[lib]);\n",
              "        s.onerror = () => reject(`Error loading script: ${paths[lib]}`);\n",
              "        document.getElementsByTagName(\"head\")[0].appendChild(s);\n",
              "      });\n",
              "    }\n",
              "\n",
              "    function showError(err) {\n",
              "      outputDiv.innerHTML = `<div class=\"error\" style=\"color:red;\">${err}</div>`;\n",
              "      throw err;\n",
              "    }\n",
              "\n",
              "    function displayChart(vegaEmbed) {\n",
              "      vegaEmbed(outputDiv, spec, embedOpt)\n",
              "        .catch(err => showError(`Javascript Error: ${err.message}<br>This usually means there's a typo in your chart specification. See the javascript console for the full traceback.`));\n",
              "    }\n",
              "\n",
              "    if(typeof define === \"function\" && define.amd) {\n",
              "      requirejs.config({paths});\n",
              "      require([\"vega-embed\"], displayChart, err => showError(`Error loading script: ${err.message}`));\n",
              "    } else if (typeof vegaEmbed === \"function\") {\n",
              "      displayChart(vegaEmbed);\n",
              "    } else {\n",
              "      loadScript(\"vega\")\n",
              "        .then(() => loadScript(\"vega-lite\"))\n",
              "        .then(() => loadScript(\"vega-embed\"))\n",
              "        .catch(showError)\n",
              "        .then(() => displayChart(vegaEmbed));\n",
              "    }\n",
              "  })({\"config\": {\"title\": {\"anchor\": \"start\", \"fontSize\": 24, \"font\": \"Roboto\", \"fontColor\": \"#000000\"}, \"subtitle\": {\"font\": \"Roboto\", \"fontSize\": 22, \"fontColor\": \"#838383\", \"subtitlePadding\": 10}, \"caption\": {\"font\": \"Roboto\", \"fontSize\": 22, \"fontColor\": \"#000000\"}, \"axisX\": {\"domain\": true, \"domainColor\": \"#000000\", \"domainWidth\": 1, \"grid\": false, \"labelFontSize\": 13, \"labelFont\": \"Roboto\", \"labelAngle\": 0, \"tickColor\": \"#000000\", \"tickSize\": 5, \"titleFontSize\": 12, \"titlePadding\": 10, \"titleFont\": \"Roboto\", \"title\": \"\"}, \"axisY\": {\"domain\": false, \"grid\": true, \"gridColor\": \"#d6d4d4\", \"gridWidth\": 1, \"labelFontSize\": 12, \"labelFont\": \"Roboto\", \"labelPadding\": 8, \"ticks\": false, \"titleFontSize\": 12, \"titlePadding\": 10, \"titleFont\": \"Roboto\", \"titleAngle\": 270}, \"background\": \"#f4f3f3\", \"legend\": {\"labelFontSize\": 12, \"labelFont\": \"Roboto\", \"symbolSize\": 300, \"symbolType\": \"circle\", \"titleFontSize\": 15, \"titlePadding\": 10, \"titleFont\": \"Roboto\", \"orient\": \"right\", \"offset\": 20}, \"range\": {\"category\": [\"#76b7b2\", \"#f28e2b\", \"#e15759\", \"#4e79a7\", \"#59a14f\", \"#edc948\", \"#b07aa1\", \"#ff9da7\", \"#9c755f\", \"#bab0ac\"], \"diverging\": [\"#e1f5fe\", \"#b3e5fc\", \"#81d4fa\", \"#4fc3f7\", \"#29b6f6\", \"#03a9f4\", \"#039be5\", \"#0288d1\", \"#0277bd\", \"#01579b\"]}, \"geoshape\": {\"category\": [\"#76b7b2\", \"#f28e2b\", \"#e15759\", \"#4e79a7\", \"#59a14f\", \"#edc948\", \"#b07aa1\", \"#ff9da7\", \"#9c755f\", \"#bab0ac\"], \"diverging\": [\"#e1f5fe\", \"#b3e5fc\", \"#81d4fa\", \"#4fc3f7\", \"#29b6f6\", \"#03a9f4\", \"#039be5\", \"#0288d1\", \"#0277bd\", \"#01579b\"]}, \"area\": {\"category\": [\"#76b7b2\", \"#f28e2b\", \"#e15759\", \"#4e79a7\", \"#59a14f\", \"#edc948\", \"#b07aa1\", \"#ff9da7\", \"#9c755f\", \"#bab0ac\"], \"fill\": \"#1696d2\", \"opacity\": 0.7}, \"line\": {\"color\": \"#1696d2\", \"stroke\": \"#1696d2\", \"strokewidth\": 5}, \"point\": {\"filled\": true}, \"circle\": {\"color\": \"#4e79a7\", \"size\": 13}, \"text\": {\"font\": \"Roboto\", \"color\": \"#1696d2\", \"fontSize\": 11, \"align\": \"right\", \"fontWeight\": 400, \"size\": 11}, \"bar\": {\"size\": 40, \"binSpacing\": 1, \"continuousBandSize\": 30, \"discreteBandSize\": 30, \"fill\": \"#1696d2\", \"stroke\": false, \"opacity\": 0.7}}, \"vconcat\": [{\"data\": {\"name\": \"data-d320bd407cf431c8389e9ba502a417fb\"}, \"mark\": {\"type\": \"bar\", \"opacity\": 0.7, \"size\": 45}, \"encoding\": {\"color\": {\"type\": \"nominal\", \"field\": \"CREATED_YEAR\", \"legend\": {\"title\": \"\"}}, \"column\": {\"type\": \"nominal\", \"field\": \"MONTH\", \"sort\": [\"July\", \"August\", \"September\", \"October\", \"November\", \"December\"]}, \"x\": {\"type\": \"nominal\", \"axis\": {\"labelAngle\": 0}, \"field\": \"CREATED_YEAR\", \"title\": \"\"}, \"y\": {\"type\": \"quantitative\", \"field\": \"COUNT\", \"title\": \"The Number of 311 Requests (in 1000)\"}}, \"height\": 300, \"title\": {\"text\": [\"The Number of 311 Service Requests in 2018 and 2019\", \"by Month (July - December) and Day of Week\"], \"subtitle\": [\"Chicago Data Portal - 311 Service Requests\"], \"subtitleColor\": \"grey\"}, \"width\": 90}, {\"data\": {\"name\": \"data-68035dfb6c5ec97b840054f1f2317163\"}, \"mark\": \"area\", \"encoding\": {\"color\": {\"type\": \"nominal\", \"field\": \"CREATED_YEAR\", \"legend\": {\"title\": \"\"}}, \"x\": {\"type\": \"nominal\", \"axis\": {\"labelAngle\": 0}, \"field\": \"CREATED_DAY_OF_WEEK\", \"sort\": [\"Monday\", \"Tuesday\", \"Wednesday\", \"Thursday\", \"Friday\", \"Saturday\", \"Sunday\"], \"title\": \"Day of Week\"}, \"y\": {\"type\": \"quantitative\", \"field\": \"COUNT\", \"title\": \"The Number of 311 Requests (in 1000)\"}}, \"height\": 300, \"width\": 650}], \"$schema\": \"https://vega.github.io/schema/vega-lite/v4.0.2.json\", \"datasets\": {\"data-d320bd407cf431c8389e9ba502a417fb\": [{\"CREATED_MONTH\": 7, \"CREATED_YEAR\": 2018, \"COUNT\": 96.752, \"MONTH\": \"July\"}, {\"CREATED_MONTH\": 8, \"CREATED_YEAR\": 2018, \"COUNT\": 89.687, \"MONTH\": \"August\"}, {\"CREATED_MONTH\": 9, \"CREATED_YEAR\": 2018, \"COUNT\": 78.895, \"MONTH\": \"September\"}, {\"CREATED_MONTH\": 10, \"CREATED_YEAR\": 2018, \"COUNT\": 73.762, \"MONTH\": \"October\"}, {\"CREATED_MONTH\": 11, \"CREATED_YEAR\": 2018, \"COUNT\": 52.453, \"MONTH\": \"November\"}, {\"CREATED_MONTH\": 12, \"CREATED_YEAR\": 2018, \"COUNT\": 65.293, \"MONTH\": \"December\"}, {\"CREATED_MONTH\": 7, \"CREATED_YEAR\": 2019, \"COUNT\": 199.403, \"MONTH\": \"July\"}, {\"CREATED_MONTH\": 8, \"CREATED_YEAR\": 2019, \"COUNT\": 207.463, \"MONTH\": \"August\"}, {\"CREATED_MONTH\": 9, \"CREATED_YEAR\": 2019, \"COUNT\": 193.306, \"MONTH\": \"September\"}, {\"CREATED_MONTH\": 10, \"CREATED_YEAR\": 2019, \"COUNT\": 178.25, \"MONTH\": \"October\"}, {\"CREATED_MONTH\": 11, \"CREATED_YEAR\": 2019, \"COUNT\": 144.94, \"MONTH\": \"November\"}, {\"CREATED_MONTH\": 12, \"CREATED_YEAR\": 2019, \"COUNT\": 143.387, \"MONTH\": \"December\"}], \"data-68035dfb6c5ec97b840054f1f2317163\": [{\"CREATED_DAY_OF_WEEK\": \"Sunday\", \"CREATED_YEAR\": 2018, \"COUNT\": 28.918}, {\"CREATED_DAY_OF_WEEK\": \"Monday\", \"CREATED_YEAR\": 2018, \"COUNT\": 84.809}, {\"CREATED_DAY_OF_WEEK\": \"Tuesday\", \"CREATED_YEAR\": 2018, \"COUNT\": 84.888}, {\"CREATED_DAY_OF_WEEK\": \"Wednesday\", \"CREATED_YEAR\": 2018, \"COUNT\": 80.42}, {\"CREATED_DAY_OF_WEEK\": \"Thursday\", \"CREATED_YEAR\": 2018, \"COUNT\": 78.572}, {\"CREATED_DAY_OF_WEEK\": \"Friday\", \"CREATED_YEAR\": 2018, \"COUNT\": 69.579}, {\"CREATED_DAY_OF_WEEK\": \"Saturday\", \"CREATED_YEAR\": 2018, \"COUNT\": 29.656}, {\"CREATED_DAY_OF_WEEK\": \"Sunday\", \"CREATED_YEAR\": 2019, \"COUNT\": 119.181}, {\"CREATED_DAY_OF_WEEK\": \"Monday\", \"CREATED_YEAR\": 2019, \"COUNT\": 181.091}, {\"CREATED_DAY_OF_WEEK\": \"Tuesday\", \"CREATED_YEAR\": 2019, \"COUNT\": 171.78}, {\"CREATED_DAY_OF_WEEK\": \"Wednesday\", \"CREATED_YEAR\": 2019, \"COUNT\": 164.941}, {\"CREATED_DAY_OF_WEEK\": \"Thursday\", \"CREATED_YEAR\": 2019, \"COUNT\": 162.178}, {\"CREATED_DAY_OF_WEEK\": \"Friday\", \"CREATED_YEAR\": 2019, \"COUNT\": 156.739}, {\"CREATED_DAY_OF_WEEK\": \"Saturday\", \"CREATED_YEAR\": 2019, \"COUNT\": 110.839}]}}, {\"mode\": \"vega-lite\"});\n",
              "</script>"
            ]
          },
          "metadata": {
            "tags": []
          },
          "execution_count": 54
        }
      ]
    },
    {
      "cell_type": "markdown",
      "metadata": {
        "id": "mTWZuiAdRKXe",
        "colab_type": "text"
      },
      "source": [
        "The charts above, created from [Chicago Data Portal](https://data.cityofchicago.org/Service-Requests/311-Service-Requests/v6vf-nfxy), show *the number of 311 service requests made in 2018 and 2019 by month and day of week*. Notice that this chart only shows the number of 311 requests from July to December. This is because the dataset is only available from July to December for 2018 (*the dataset was created with the creation of the new 311 system and only partial legacy data is available*), so the data from January to June has been redacted in the chart.\n",
        "\n",
        "These two charts show that there were consistently __more 311 service requests in 2019 than in 2018__, which is consistent with the City of Chicago's claim that 311 became more accessible through its recent upgrade in late 2018/early 2019. Another interesting observation is that there are less 311 service requests during weekends than during weekdays, a pattern that one would expect to find in crime data, which can also be found in Chicago Data Portal."
      ]
    },
    {
      "cell_type": "markdown",
      "metadata": {
        "id": "k1LilkVrVwyO",
        "colab_type": "text"
      },
      "source": [
        "### __3. The Number of 311 Service Requests by Owner Department in Chicago in 2017 and 2018__"
      ]
    },
    {
      "cell_type": "markdown",
      "metadata": {
        "id": "TrgvybOKX9PX",
        "colab_type": "text"
      },
      "source": [
        "#### Code for data visualization"
      ]
    },
    {
      "cell_type": "code",
      "metadata": {
        "id": "XEJJbw0j1F6D",
        "colab_type": "code",
        "colab": {}
      },
      "source": [
        "dept_count = df_2018.groupby(['OWNER_DEPARTMENT', \"CREATED_YEAR\"]).size().sort_values(ascending=False).reset_index(name='COUNT')\n",
        "top_10_type_2018 = dept_count.nlargest(8, 'COUNT')\n",
        "dept_count = df_2019.groupby(['OWNER_DEPARTMENT', \"CREATED_YEAR\"]).size().sort_values(ascending=False).reset_index(name='COUNT')\n",
        "top_10_type_2019 = dept_count.nlargest(8, 'COUNT')\n",
        "top_10_type = top_10_type_2018.append(top_10_type_2019, ignore_index=True)\n",
        "dept = [\n",
        "        \"Streets and Sanitation\",\n",
        "        \"CDOT - Department of Transportation\",\n",
        "        \"DWM - Department of Water Management\",\n",
        "        \"DOB - Buildings\",\n",
        "        \"Animal Care and Control\",\n",
        "        \"BACP - Business Affairs and Consumer Protection\",\n",
        "        \"311 City Services\"\n",
        "        ]\n",
        "top_10_type = top_10_type[top_10_type.OWNER_DEPARTMENT.isin(dept)].reset_index(drop=True)\n",
        "dept_dict = {\n",
        "    \"Streets and Sanitation\": \"Streets and Sanitation\",\n",
        "    \"CDOT - Department of Transportation\": \"Transportation\",\n",
        "    \"DWM - Department of Water Management\": \"Water Management\",\n",
        "    \"DOB - Buildings\": \"Buildings\",\n",
        "    \"Animal Care and Control\": \"Animal Care / Control\",\n",
        "    \"BACP - Business Affairs and Consumer Protection\": \"Business Affairs\",\n",
        "    \"311 City Services\": \"311 City Services\"\n",
        "    }\n",
        "top_10_type[\"OWNER_DEPARTMENT\"] = top_10_type[\"OWNER_DEPARTMENT\"].apply(lambda x: dept_dict[x])\n",
        "top_10_type[\"COUNT\"] = top_10_type[\"COUNT\"] / 1000"
      ],
      "execution_count": 0,
      "outputs": []
    },
    {
      "cell_type": "code",
      "metadata": {
        "id": "DTrVZz2KGQlp",
        "colab_type": "code",
        "colab": {}
      },
      "source": [
        "dept_count_chart = alt.Chart(top_10_type).mark_bar(opacity=0.7, size=45).encode(\n",
        "    x=alt.X(\n",
        "        'CREATED_YEAR:N',\n",
        "        axis=alt.Axis(labelAngle=0),\n",
        "        title=\"\"\n",
        "        ),\n",
        "    y=alt.Y(\n",
        "        'COUNT:Q',\n",
        "        title=\"The Number of 311 Requests (in 1000)\",\n",
        "        ),\n",
        "    color=alt.Color(\n",
        "        \"CREATED_YEAR:N\",\n",
        "        legend=alt.Legend(title=\"Year\"),\n",
        "        ),\n",
        "    column=alt.Column(\n",
        "        'OWNER_DEPARTMENT:N',\n",
        "        title=\"Owner Department\"\n",
        "        )\n",
        ").properties(\n",
        "    title={\n",
        "      \"text\": [\"The Number of 311 Service Requests in 2018 and 2019\", \"by Owner Department\"], \n",
        "      \"subtitle\": [\"Chicago Data Portal - 311 Service Requests\"],\n",
        "      \"subtitleColor\": \"grey\"\n",
        "    },\n",
        "    width=100,\n",
        "    height=300\n",
        ")\n"
      ],
      "execution_count": 0,
      "outputs": []
    },
    {
      "cell_type": "markdown",
      "metadata": {
        "id": "VyhFWljOKjXz",
        "colab_type": "text"
      },
      "source": [
        "#### *Chart #2*"
      ]
    },
    {
      "cell_type": "code",
      "metadata": {
        "id": "mWou3BIvKXeJ",
        "colab_type": "code",
        "outputId": "3387baa1-7e19-4497-bea7-65431db3280a",
        "colab": {
          "base_uri": "https://localhost:8080/",
          "height": 472
        }
      },
      "source": [
        "dept_count_chart"
      ],
      "execution_count": 0,
      "outputs": [
        {
          "output_type": "execute_result",
          "data": {
            "text/plain": [
              "alt.Chart(...)"
            ],
            "text/html": [
              "\n",
              "<div id=\"altair-viz-cdf571c0549943039c8e78d108240803\"></div>\n",
              "<script type=\"text/javascript\">\n",
              "  (function(spec, embedOpt){\n",
              "    const outputDiv = document.getElementById(\"altair-viz-cdf571c0549943039c8e78d108240803\");\n",
              "    const paths = {\n",
              "      \"vega\": \"https://cdn.jsdelivr.net/npm//vega@5?noext\",\n",
              "      \"vega-lib\": \"https://cdn.jsdelivr.net/npm//vega-lib?noext\",\n",
              "      \"vega-lite\": \"https://cdn.jsdelivr.net/npm//vega-lite@4.0.2?noext\",\n",
              "      \"vega-embed\": \"https://cdn.jsdelivr.net/npm//vega-embed@6?noext\",\n",
              "    };\n",
              "\n",
              "    function loadScript(lib) {\n",
              "      return new Promise(function(resolve, reject) {\n",
              "        var s = document.createElement('script');\n",
              "        s.src = paths[lib];\n",
              "        s.async = true;\n",
              "        s.onload = () => resolve(paths[lib]);\n",
              "        s.onerror = () => reject(`Error loading script: ${paths[lib]}`);\n",
              "        document.getElementsByTagName(\"head\")[0].appendChild(s);\n",
              "      });\n",
              "    }\n",
              "\n",
              "    function showError(err) {\n",
              "      outputDiv.innerHTML = `<div class=\"error\" style=\"color:red;\">${err}</div>`;\n",
              "      throw err;\n",
              "    }\n",
              "\n",
              "    function displayChart(vegaEmbed) {\n",
              "      vegaEmbed(outputDiv, spec, embedOpt)\n",
              "        .catch(err => showError(`Javascript Error: ${err.message}<br>This usually means there's a typo in your chart specification. See the javascript console for the full traceback.`));\n",
              "    }\n",
              "\n",
              "    if(typeof define === \"function\" && define.amd) {\n",
              "      requirejs.config({paths});\n",
              "      require([\"vega-embed\"], displayChart, err => showError(`Error loading script: ${err.message}`));\n",
              "    } else if (typeof vegaEmbed === \"function\") {\n",
              "      displayChart(vegaEmbed);\n",
              "    } else {\n",
              "      loadScript(\"vega\")\n",
              "        .then(() => loadScript(\"vega-lite\"))\n",
              "        .then(() => loadScript(\"vega-embed\"))\n",
              "        .catch(showError)\n",
              "        .then(() => displayChart(vegaEmbed));\n",
              "    }\n",
              "  })({\"config\": {\"title\": {\"anchor\": \"start\", \"fontSize\": 24, \"font\": \"Roboto\", \"fontColor\": \"#000000\"}, \"subtitle\": {\"font\": \"Roboto\", \"fontSize\": 22, \"fontColor\": \"#838383\", \"subtitlePadding\": 10}, \"caption\": {\"font\": \"Roboto\", \"fontSize\": 22, \"fontColor\": \"#000000\"}, \"axisX\": {\"domain\": true, \"domainColor\": \"#000000\", \"domainWidth\": 1, \"grid\": false, \"labelFontSize\": 13, \"labelFont\": \"Roboto\", \"labelAngle\": 0, \"tickColor\": \"#000000\", \"tickSize\": 5, \"titleFontSize\": 12, \"titlePadding\": 10, \"titleFont\": \"Roboto\", \"title\": \"\"}, \"axisY\": {\"domain\": false, \"grid\": true, \"gridColor\": \"#d6d4d4\", \"gridWidth\": 1, \"labelFontSize\": 12, \"labelFont\": \"Roboto\", \"labelPadding\": 8, \"ticks\": false, \"titleFontSize\": 12, \"titlePadding\": 10, \"titleFont\": \"Roboto\", \"titleAngle\": 270}, \"background\": \"#f4f3f3\", \"legend\": {\"labelFontSize\": 12, \"labelFont\": \"Roboto\", \"symbolSize\": 300, \"symbolType\": \"circle\", \"titleFontSize\": 15, \"titlePadding\": 10, \"titleFont\": \"Roboto\", \"orient\": \"right\", \"offset\": 20}, \"range\": {\"category\": [\"#76b7b2\", \"#f28e2b\", \"#e15759\", \"#4e79a7\", \"#59a14f\", \"#edc948\", \"#b07aa1\", \"#ff9da7\", \"#9c755f\", \"#bab0ac\"], \"diverging\": [\"#e1f5fe\", \"#b3e5fc\", \"#81d4fa\", \"#4fc3f7\", \"#29b6f6\", \"#03a9f4\", \"#039be5\", \"#0288d1\", \"#0277bd\", \"#01579b\"]}, \"geoshape\": {\"category\": [\"#76b7b2\", \"#f28e2b\", \"#e15759\", \"#4e79a7\", \"#59a14f\", \"#edc948\", \"#b07aa1\", \"#ff9da7\", \"#9c755f\", \"#bab0ac\"], \"diverging\": [\"#e1f5fe\", \"#b3e5fc\", \"#81d4fa\", \"#4fc3f7\", \"#29b6f6\", \"#03a9f4\", \"#039be5\", \"#0288d1\", \"#0277bd\", \"#01579b\"]}, \"area\": {\"category\": [\"#76b7b2\", \"#f28e2b\", \"#e15759\", \"#4e79a7\", \"#59a14f\", \"#edc948\", \"#b07aa1\", \"#ff9da7\", \"#9c755f\", \"#bab0ac\"], \"fill\": \"#1696d2\", \"opacity\": 0.7}, \"line\": {\"color\": \"#1696d2\", \"stroke\": \"#1696d2\", \"strokewidth\": 5}, \"point\": {\"filled\": true}, \"circle\": {\"color\": \"#4e79a7\", \"size\": 13}, \"text\": {\"font\": \"Roboto\", \"color\": \"#1696d2\", \"fontSize\": 11, \"align\": \"right\", \"fontWeight\": 400, \"size\": 11}, \"bar\": {\"size\": 40, \"binSpacing\": 1, \"continuousBandSize\": 30, \"discreteBandSize\": 30, \"fill\": \"#1696d2\", \"stroke\": false, \"opacity\": 0.7}}, \"data\": {\"name\": \"data-9136068f1ba24bfdf136c9e75dc2781c\"}, \"mark\": {\"type\": \"bar\", \"opacity\": 0.7, \"size\": 45}, \"encoding\": {\"color\": {\"type\": \"nominal\", \"field\": \"CREATED_YEAR\", \"legend\": {\"title\": \"Year\"}}, \"column\": {\"type\": \"nominal\", \"field\": \"OWNER_DEPARTMENT\", \"title\": \"Owner Department\"}, \"x\": {\"type\": \"nominal\", \"axis\": {\"labelAngle\": 0}, \"field\": \"CREATED_YEAR\", \"title\": \"\"}, \"y\": {\"type\": \"quantitative\", \"field\": \"COUNT\", \"title\": \"The Number of 311 Requests (in 1000)\"}}, \"height\": 300, \"title\": {\"text\": [\"The Number of 311 Service Requests in 2018 and 2019\", \"by Owner Department\"], \"subtitle\": [\"Chicago Data Portal - 311 Service Requests\"], \"subtitleColor\": \"grey\"}, \"width\": 100, \"$schema\": \"https://vega.github.io/schema/vega-lite/v4.0.2.json\", \"datasets\": {\"data-9136068f1ba24bfdf136c9e75dc2781c\": [{\"OWNER_DEPARTMENT\": \"Streets and Sanitation\", \"CREATED_YEAR\": 2018, \"COUNT\": 240.046}, {\"OWNER_DEPARTMENT\": \"Transportation\", \"CREATED_YEAR\": 2018, \"COUNT\": 128.437}, {\"OWNER_DEPARTMENT\": \"Water Management\", \"CREATED_YEAR\": 2018, \"COUNT\": 23.557}, {\"OWNER_DEPARTMENT\": \"Buildings\", \"CREATED_YEAR\": 2018, \"COUNT\": 18.499}, {\"OWNER_DEPARTMENT\": \"Animal Care / Control\", \"CREATED_YEAR\": 2018, \"COUNT\": 17.958}, {\"OWNER_DEPARTMENT\": \"311 City Services\", \"CREATED_YEAR\": 2018, \"COUNT\": 17.812}, {\"OWNER_DEPARTMENT\": \"Business Affairs\", \"CREATED_YEAR\": 2018, \"COUNT\": 6.026}, {\"OWNER_DEPARTMENT\": \"311 City Services\", \"CREATED_YEAR\": 2019, \"COUNT\": 348.179}, {\"OWNER_DEPARTMENT\": \"Streets and Sanitation\", \"CREATED_YEAR\": 2019, \"COUNT\": 252.26}, {\"OWNER_DEPARTMENT\": \"Transportation\", \"CREATED_YEAR\": 2019, \"COUNT\": 151.071}, {\"OWNER_DEPARTMENT\": \"Water Management\", \"CREATED_YEAR\": 2019, \"COUNT\": 24.976}, {\"OWNER_DEPARTMENT\": \"Animal Care / Control\", \"CREATED_YEAR\": 2019, \"COUNT\": 19.242}, {\"OWNER_DEPARTMENT\": \"Buildings\", \"CREATED_YEAR\": 2019, \"COUNT\": 18.044}, {\"OWNER_DEPARTMENT\": \"Business Affairs\", \"CREATED_YEAR\": 2019, \"COUNT\": 6.263}]}}, {\"mode\": \"vega-lite\"});\n",
              "</script>"
            ]
          },
          "metadata": {
            "tags": []
          },
          "execution_count": 57
        }
      ]
    },
    {
      "cell_type": "markdown",
      "metadata": {
        "id": "2rDsWiWuKnH2",
        "colab_type": "text"
      },
      "source": [
        "From this chart, we can see that the huge increase in the number of 311 service requests from 2018 to 2019 is due to the increase in 311 City Services. Looking at the dataset, the only service request type that dealt by 311 City Services Department is `311 Information Calls`. This observation makes sense, since the development of the new 311 system should have given easier access to the 311 service, so it makes sense that people would use the new 311 system to request simple information."
      ]
    },
    {
      "cell_type": "markdown",
      "metadata": {
        "id": "uGOMTjVh88Of",
        "colab_type": "text"
      },
      "source": [
        "### __4. The Percentage of 311 Service Request Status in Chicago in 2017 and 2018__"
      ]
    },
    {
      "cell_type": "markdown",
      "metadata": {
        "id": "RozSsZFE9B3p",
        "colab_type": "text"
      },
      "source": [
        "#### Code for chart"
      ]
    },
    {
      "cell_type": "code",
      "metadata": {
        "id": "LWoUnls4B-BS",
        "colab_type": "code",
        "colab": {}
      },
      "source": [
        "status_df_2018 = df_2018['STATUS'].value_counts(normalize=True).reset_index(name='COUNT')\n",
        "status_df_2018[\"YEAR\"] = 2018\n",
        "status_df_2019 = df_2019['STATUS'].value_counts(normalize=True).reset_index(name='COUNT')\n",
        "status_df_2019[\"YEAR\"] = 2019\n",
        "status_df = status_df_2018.append(status_df_2019, ignore_index=True)\n",
        "bars = alt.Chart(status_df).mark_bar(opacity=0.7, size=100).encode(\n",
        "    x=alt.X(\n",
        "        'sum(COUNT):Q',\n",
        "        stack=\"normalize\",\n",
        "        title=\"Percentage of Status\"\n",
        "        ),\n",
        "    y=alt.Y(\n",
        "        'YEAR:N',\n",
        "        title=\"Year\"\n",
        "        ),\n",
        "    color=alt.Color(\n",
        "        'index',\n",
        "        legend=alt.Legend(title=\"Status\", orient='right')\n",
        "    )          \n",
        ").properties(\n",
        "    title={\n",
        "      \"text\": [\"The Percentage of 311 Service Request Status in 2018 and 2019\", \"(Second-half of 2018 and 2019)\"], \n",
        "      \"subtitle\": [\"Chicago Data Portal - 311 Service Requests\"],\n",
        "      \"subtitleColor\": \"grey\"\n",
        "    },\n",
        "    width=600,\n",
        "    height=300\n",
        ")\n",
        "average_days = pd.DataFrame({\n",
        "    'Year': [2018, 2019],\n",
        "    'Average': [\n",
        "                df_2018[df_2018['STATUS']==\"Completed\"][\"DAYS_TAKEN\"].mean(),\n",
        "                df_2019[df_2019['STATUS']==\"Completed\"][\"DAYS_TAKEN\"].mean()\n",
        "                ]\n",
        "})\n",
        "\n",
        "days = alt.Chart(average_days).mark_bar(opacity=0.7, color='#f28e2b').encode(\n",
        "    x=alt.X('Year:N', axis=alt.Axis(labelAngle=0)),\n",
        "    y=alt.Y('Average', title=\"Average Number of Days\")\n",
        ").properties(\n",
        "    width=100,\n",
        "    height= 300\n",
        ")"
      ],
      "execution_count": 0,
      "outputs": []
    },
    {
      "cell_type": "markdown",
      "metadata": {
        "id": "Xo3cX_RL9H9r",
        "colab_type": "text"
      },
      "source": [
        "#### *Chart #3*"
      ]
    },
    {
      "cell_type": "code",
      "metadata": {
        "id": "VXhepczI6AUh",
        "colab_type": "code",
        "outputId": "f48bd288-9344-41d4-b3e3-b465dec59293",
        "colab": {
          "base_uri": "https://localhost:8080/",
          "height": 443
        }
      },
      "source": [
        "bars | days"
      ],
      "execution_count": 0,
      "outputs": [
        {
          "output_type": "execute_result",
          "data": {
            "text/plain": [
              "alt.HConcatChart(...)"
            ],
            "text/html": [
              "\n",
              "<div id=\"altair-viz-9cf29ad7a65544f290b05cbf63251c71\"></div>\n",
              "<script type=\"text/javascript\">\n",
              "  (function(spec, embedOpt){\n",
              "    const outputDiv = document.getElementById(\"altair-viz-9cf29ad7a65544f290b05cbf63251c71\");\n",
              "    const paths = {\n",
              "      \"vega\": \"https://cdn.jsdelivr.net/npm//vega@5?noext\",\n",
              "      \"vega-lib\": \"https://cdn.jsdelivr.net/npm//vega-lib?noext\",\n",
              "      \"vega-lite\": \"https://cdn.jsdelivr.net/npm//vega-lite@4.0.2?noext\",\n",
              "      \"vega-embed\": \"https://cdn.jsdelivr.net/npm//vega-embed@6?noext\",\n",
              "    };\n",
              "\n",
              "    function loadScript(lib) {\n",
              "      return new Promise(function(resolve, reject) {\n",
              "        var s = document.createElement('script');\n",
              "        s.src = paths[lib];\n",
              "        s.async = true;\n",
              "        s.onload = () => resolve(paths[lib]);\n",
              "        s.onerror = () => reject(`Error loading script: ${paths[lib]}`);\n",
              "        document.getElementsByTagName(\"head\")[0].appendChild(s);\n",
              "      });\n",
              "    }\n",
              "\n",
              "    function showError(err) {\n",
              "      outputDiv.innerHTML = `<div class=\"error\" style=\"color:red;\">${err}</div>`;\n",
              "      throw err;\n",
              "    }\n",
              "\n",
              "    function displayChart(vegaEmbed) {\n",
              "      vegaEmbed(outputDiv, spec, embedOpt)\n",
              "        .catch(err => showError(`Javascript Error: ${err.message}<br>This usually means there's a typo in your chart specification. See the javascript console for the full traceback.`));\n",
              "    }\n",
              "\n",
              "    if(typeof define === \"function\" && define.amd) {\n",
              "      requirejs.config({paths});\n",
              "      require([\"vega-embed\"], displayChart, err => showError(`Error loading script: ${err.message}`));\n",
              "    } else if (typeof vegaEmbed === \"function\") {\n",
              "      displayChart(vegaEmbed);\n",
              "    } else {\n",
              "      loadScript(\"vega\")\n",
              "        .then(() => loadScript(\"vega-lite\"))\n",
              "        .then(() => loadScript(\"vega-embed\"))\n",
              "        .catch(showError)\n",
              "        .then(() => displayChart(vegaEmbed));\n",
              "    }\n",
              "  })({\"config\": {\"title\": {\"anchor\": \"start\", \"fontSize\": 24, \"font\": \"Roboto\", \"fontColor\": \"#000000\"}, \"subtitle\": {\"font\": \"Roboto\", \"fontSize\": 22, \"fontColor\": \"#838383\", \"subtitlePadding\": 10}, \"caption\": {\"font\": \"Roboto\", \"fontSize\": 22, \"fontColor\": \"#000000\"}, \"axisX\": {\"domain\": true, \"domainColor\": \"#000000\", \"domainWidth\": 1, \"grid\": false, \"labelFontSize\": 13, \"labelFont\": \"Roboto\", \"labelAngle\": 0, \"tickColor\": \"#000000\", \"tickSize\": 5, \"titleFontSize\": 12, \"titlePadding\": 10, \"titleFont\": \"Roboto\", \"title\": \"\"}, \"axisY\": {\"domain\": false, \"grid\": true, \"gridColor\": \"#d6d4d4\", \"gridWidth\": 1, \"labelFontSize\": 12, \"labelFont\": \"Roboto\", \"labelPadding\": 8, \"ticks\": false, \"titleFontSize\": 12, \"titlePadding\": 10, \"titleFont\": \"Roboto\", \"titleAngle\": 270}, \"background\": \"#f4f3f3\", \"legend\": {\"labelFontSize\": 12, \"labelFont\": \"Roboto\", \"symbolSize\": 300, \"symbolType\": \"circle\", \"titleFontSize\": 15, \"titlePadding\": 10, \"titleFont\": \"Roboto\", \"orient\": \"right\", \"offset\": 20}, \"range\": {\"category\": [\"#76b7b2\", \"#f28e2b\", \"#e15759\", \"#4e79a7\", \"#59a14f\", \"#edc948\", \"#b07aa1\", \"#ff9da7\", \"#9c755f\", \"#bab0ac\"], \"diverging\": [\"#e1f5fe\", \"#b3e5fc\", \"#81d4fa\", \"#4fc3f7\", \"#29b6f6\", \"#03a9f4\", \"#039be5\", \"#0288d1\", \"#0277bd\", \"#01579b\"]}, \"geoshape\": {\"category\": [\"#76b7b2\", \"#f28e2b\", \"#e15759\", \"#4e79a7\", \"#59a14f\", \"#edc948\", \"#b07aa1\", \"#ff9da7\", \"#9c755f\", \"#bab0ac\"], \"diverging\": [\"#e1f5fe\", \"#b3e5fc\", \"#81d4fa\", \"#4fc3f7\", \"#29b6f6\", \"#03a9f4\", \"#039be5\", \"#0288d1\", \"#0277bd\", \"#01579b\"]}, \"area\": {\"category\": [\"#76b7b2\", \"#f28e2b\", \"#e15759\", \"#4e79a7\", \"#59a14f\", \"#edc948\", \"#b07aa1\", \"#ff9da7\", \"#9c755f\", \"#bab0ac\"], \"fill\": \"#1696d2\", \"opacity\": 0.7}, \"line\": {\"color\": \"#1696d2\", \"stroke\": \"#1696d2\", \"strokewidth\": 5}, \"point\": {\"filled\": true}, \"circle\": {\"color\": \"#4e79a7\", \"size\": 13}, \"text\": {\"font\": \"Roboto\", \"color\": \"#1696d2\", \"fontSize\": 11, \"align\": \"right\", \"fontWeight\": 400, \"size\": 11}, \"bar\": {\"size\": 40, \"binSpacing\": 1, \"continuousBandSize\": 30, \"discreteBandSize\": 30, \"fill\": \"#1696d2\", \"stroke\": false, \"opacity\": 0.7}}, \"hconcat\": [{\"data\": {\"name\": \"data-a0a2dc3da1bfd0e7588f14b8a74cb457\"}, \"mark\": {\"type\": \"bar\", \"opacity\": 0.7, \"size\": 100}, \"encoding\": {\"color\": {\"type\": \"nominal\", \"field\": \"index\", \"legend\": {\"orient\": \"right\", \"title\": \"Status\"}}, \"x\": {\"type\": \"quantitative\", \"aggregate\": \"sum\", \"field\": \"COUNT\", \"stack\": \"normalize\", \"title\": \"Percentage of Status\"}, \"y\": {\"type\": \"nominal\", \"field\": \"YEAR\", \"title\": \"Year\"}}, \"height\": 300, \"title\": {\"text\": [\"The Percentage of 311 Service Request Status in 2018 and 2019\", \"(Second-half of 2018 and 2019)\"], \"subtitle\": [\"Chicago Data Portal - 311 Service Requests\"], \"subtitleColor\": \"grey\"}, \"width\": 600}, {\"data\": {\"name\": \"data-44d46695de2de573f721e3927c540866\"}, \"mark\": {\"type\": \"bar\", \"color\": \"#f28e2b\", \"opacity\": 0.7}, \"encoding\": {\"x\": {\"type\": \"nominal\", \"axis\": {\"labelAngle\": 0}, \"field\": \"Year\"}, \"y\": {\"type\": \"quantitative\", \"field\": \"Average\", \"title\": \"Average Number of Days\"}}, \"height\": 300, \"width\": 100}], \"$schema\": \"https://vega.github.io/schema/vega-lite/v4.0.2.json\", \"datasets\": {\"data-a0a2dc3da1bfd0e7588f14b8a74cb457\": [{\"index\": \"Completed\", \"COUNT\": 0.9808861707110993, \"YEAR\": 2018}, {\"index\": \"Open\", \"COUNT\": 0.013943551599896681, \"YEAR\": 2018}, {\"index\": \"Canceled\", \"COUNT\": 0.005170277689004076, \"YEAR\": 2018}, {\"index\": \"Completed\", \"COUNT\": 0.922830019057904, \"YEAR\": 2019}, {\"index\": \"Open\", \"COUNT\": 0.05596536767318273, \"YEAR\": 2019}, {\"index\": \"Canceled\", \"COUNT\": 0.021204613268913305, \"YEAR\": 2019}], \"data-44d46695de2de573f721e3927c540866\": [{\"Year\": 2018, \"Average\": 27.90784182455201}, {\"Year\": 2019, \"Average\": 6.135657457934963}]}}, {\"mode\": \"vega-lite\"});\n",
              "</script>"
            ]
          },
          "metadata": {
            "tags": []
          },
          "execution_count": 59
        }
      ]
    },
    {
      "cell_type": "markdown",
      "metadata": {
        "id": "l9LjGEInTm9e",
        "colab_type": "text"
      },
      "source": [
        "Just comparing the current status of 311 service requests of 2018 and 2019 (July - December), higher percentage of requests were completed in 2018 than in 2019. This is to be expected, since there were more time to complete the request. However, it is interesting that the average number of days taken to complete a 311 request in 2018 is around 28 days whereas it only takes 6 days on average to complete a 311 request in 2019."
      ]
    },
    {
      "cell_type": "markdown",
      "metadata": {
        "id": "ByWPKdUtZnso",
        "colab_type": "text"
      },
      "source": [
        "### __5. Relationship between Budget and 311 Service Requests__"
      ]
    },
    {
      "cell_type": "markdown",
      "metadata": {
        "id": "pY7uturFeLjY",
        "colab_type": "text"
      },
      "source": [
        "#### Code for Data Visualization"
      ]
    },
    {
      "cell_type": "code",
      "metadata": {
        "id": "xR0ymiCDZoVX",
        "colab_type": "code",
        "colab": {}
      },
      "source": [
        "budget_dir = \"/content/gdrive/My Drive/CAPP-30239-Data-Viz/assignment-2/data/budget/2019_Budget_Ordinance.csv\"\n",
        "budget_df = pd.read_csv(budget_dir)\n",
        "dept = [\n",
        "        \"DSS\",\n",
        "        \"CDOT\",\n",
        "        \"DWM\",\n",
        "        \"BUILDINGS\",\n",
        "        \"ANIMAL CARE / CONTROL\",\n",
        "]\n",
        "dept_dict = {\n",
        "    \"DSS\": \"Streets and Sanitation\",\n",
        "    \"CDOT\": \"Transportation\",\n",
        "    \"DWM\": \"Water Management\",\n",
        "    \"BUILDINGS\": \"Buildings\",\n",
        "    \"ANIMAL CARE / CONTROL\": \"Animal Care / Control\",\n",
        "}\n",
        "budget_df = budget_df[budget_df[\"DEPARTMENT DESCRIPTION\"].isin(dept)].reset_index(drop=True)\n",
        "budget_df[\"DEPARTMENT DESCRIPTION\"] = budget_df[\"DEPARTMENT DESCRIPTION\"].apply(lambda x: dept_dict[x])\n",
        "budget_df = budget_df.groupby(['DEPARTMENT DESCRIPTION'])['2019 ORDINANCE (AMOUNT $)'].agg('sum').reset_index()\n",
        "budget_df[\"2019 ORDINANCE (AMOUNT $)\"] = budget_df[\"2019 ORDINANCE (AMOUNT $)\"]/1000000\n",
        "budget_df = budget_df.rename(columns={\"DEPARTMENT DESCRIPTION\": \"OWNER_DEPARTMENT\"})\n",
        "budget_df = budget_df.merge(top_10_type[top_10_type[\"CREATED_YEAR\"]==2019], on='OWNER_DEPARTMENT', how='left')"
      ],
      "execution_count": 0,
      "outputs": []
    },
    {
      "cell_type": "code",
      "metadata": {
        "id": "DToD3GNKbKu-",
        "colab_type": "code",
        "colab": {}
      },
      "source": [
        "points = alt.Chart(budget_df).mark_point(size=180).encode(\n",
        "    x=alt.X('COUNT:Q', title=\"Number of 311 Requests (in 1000)\"),\n",
        "    y=alt.Y('2019 ORDINANCE (AMOUNT $):Q', title=\"2019 Budget Ordinance (in $1000000)\"),\n",
        "    color='OWNER_DEPARTMENT'\n",
        ").properties(\n",
        "    title={\n",
        "      \"text\": [\"Scatterplot for\", \"the Number of 311 Requests\", \"and the Budget Ordinance of Chicago (2019)\"], \n",
        "      \"subtitle\": [\"Chicago Data Portal - 311 Service Requests\", \"Chicago Data Portal - Budget - 2019 Budget Ordinance - Appropriations\"],\n",
        "      \"subtitleColor\": \"grey\"\n",
        "    },\n",
        "    width=500,\n",
        "    height=500\n",
        ")\n",
        "\n",
        "text = points.mark_text(\n",
        "    align='left',\n",
        "    baseline='middle',\n",
        "    dx=15\n",
        ").encode(\n",
        "    text='OWNER_DEPARTMENT'\n",
        ")\n",
        "\n",
        "scatterplot = points + text"
      ],
      "execution_count": 0,
      "outputs": []
    },
    {
      "cell_type": "markdown",
      "metadata": {
        "id": "x6HIf9GHeWv1",
        "colab_type": "text"
      },
      "source": [
        "#### *Chart #4*"
      ]
    },
    {
      "cell_type": "code",
      "metadata": {
        "id": "tCicsRRreggi",
        "colab_type": "code",
        "outputId": "0433310f-aaae-439f-afd4-0cec8d045b2e",
        "colab": {
          "base_uri": "https://localhost:8080/",
          "height": 687
        }
      },
      "source": [
        "scatterplot"
      ],
      "execution_count": 0,
      "outputs": [
        {
          "output_type": "execute_result",
          "data": {
            "text/plain": [
              "alt.LayerChart(...)"
            ],
            "text/html": [
              "\n",
              "<div id=\"altair-viz-aae604aaeb7b471d884de0c7234cea69\"></div>\n",
              "<script type=\"text/javascript\">\n",
              "  (function(spec, embedOpt){\n",
              "    const outputDiv = document.getElementById(\"altair-viz-aae604aaeb7b471d884de0c7234cea69\");\n",
              "    const paths = {\n",
              "      \"vega\": \"https://cdn.jsdelivr.net/npm//vega@5?noext\",\n",
              "      \"vega-lib\": \"https://cdn.jsdelivr.net/npm//vega-lib?noext\",\n",
              "      \"vega-lite\": \"https://cdn.jsdelivr.net/npm//vega-lite@4.0.2?noext\",\n",
              "      \"vega-embed\": \"https://cdn.jsdelivr.net/npm//vega-embed@6?noext\",\n",
              "    };\n",
              "\n",
              "    function loadScript(lib) {\n",
              "      return new Promise(function(resolve, reject) {\n",
              "        var s = document.createElement('script');\n",
              "        s.src = paths[lib];\n",
              "        s.async = true;\n",
              "        s.onload = () => resolve(paths[lib]);\n",
              "        s.onerror = () => reject(`Error loading script: ${paths[lib]}`);\n",
              "        document.getElementsByTagName(\"head\")[0].appendChild(s);\n",
              "      });\n",
              "    }\n",
              "\n",
              "    function showError(err) {\n",
              "      outputDiv.innerHTML = `<div class=\"error\" style=\"color:red;\">${err}</div>`;\n",
              "      throw err;\n",
              "    }\n",
              "\n",
              "    function displayChart(vegaEmbed) {\n",
              "      vegaEmbed(outputDiv, spec, embedOpt)\n",
              "        .catch(err => showError(`Javascript Error: ${err.message}<br>This usually means there's a typo in your chart specification. See the javascript console for the full traceback.`));\n",
              "    }\n",
              "\n",
              "    if(typeof define === \"function\" && define.amd) {\n",
              "      requirejs.config({paths});\n",
              "      require([\"vega-embed\"], displayChart, err => showError(`Error loading script: ${err.message}`));\n",
              "    } else if (typeof vegaEmbed === \"function\") {\n",
              "      displayChart(vegaEmbed);\n",
              "    } else {\n",
              "      loadScript(\"vega\")\n",
              "        .then(() => loadScript(\"vega-lite\"))\n",
              "        .then(() => loadScript(\"vega-embed\"))\n",
              "        .catch(showError)\n",
              "        .then(() => displayChart(vegaEmbed));\n",
              "    }\n",
              "  })({\"config\": {\"title\": {\"anchor\": \"start\", \"fontSize\": 24, \"font\": \"Roboto\", \"fontColor\": \"#000000\"}, \"subtitle\": {\"font\": \"Roboto\", \"fontSize\": 22, \"fontColor\": \"#838383\", \"subtitlePadding\": 10}, \"caption\": {\"font\": \"Roboto\", \"fontSize\": 22, \"fontColor\": \"#000000\"}, \"axisX\": {\"domain\": true, \"domainColor\": \"#000000\", \"domainWidth\": 1, \"grid\": false, \"labelFontSize\": 13, \"labelFont\": \"Roboto\", \"labelAngle\": 0, \"tickColor\": \"#000000\", \"tickSize\": 5, \"titleFontSize\": 12, \"titlePadding\": 10, \"titleFont\": \"Roboto\", \"title\": \"\"}, \"axisY\": {\"domain\": false, \"grid\": true, \"gridColor\": \"#d6d4d4\", \"gridWidth\": 1, \"labelFontSize\": 12, \"labelFont\": \"Roboto\", \"labelPadding\": 8, \"ticks\": false, \"titleFontSize\": 12, \"titlePadding\": 10, \"titleFont\": \"Roboto\", \"titleAngle\": 270}, \"background\": \"#f4f3f3\", \"legend\": {\"labelFontSize\": 12, \"labelFont\": \"Roboto\", \"symbolSize\": 300, \"symbolType\": \"circle\", \"titleFontSize\": 15, \"titlePadding\": 10, \"titleFont\": \"Roboto\", \"orient\": \"right\", \"offset\": 20}, \"range\": {\"category\": [\"#76b7b2\", \"#f28e2b\", \"#e15759\", \"#4e79a7\", \"#59a14f\", \"#edc948\", \"#b07aa1\", \"#ff9da7\", \"#9c755f\", \"#bab0ac\"], \"diverging\": [\"#e1f5fe\", \"#b3e5fc\", \"#81d4fa\", \"#4fc3f7\", \"#29b6f6\", \"#03a9f4\", \"#039be5\", \"#0288d1\", \"#0277bd\", \"#01579b\"]}, \"geoshape\": {\"category\": [\"#76b7b2\", \"#f28e2b\", \"#e15759\", \"#4e79a7\", \"#59a14f\", \"#edc948\", \"#b07aa1\", \"#ff9da7\", \"#9c755f\", \"#bab0ac\"], \"diverging\": [\"#e1f5fe\", \"#b3e5fc\", \"#81d4fa\", \"#4fc3f7\", \"#29b6f6\", \"#03a9f4\", \"#039be5\", \"#0288d1\", \"#0277bd\", \"#01579b\"]}, \"area\": {\"category\": [\"#76b7b2\", \"#f28e2b\", \"#e15759\", \"#4e79a7\", \"#59a14f\", \"#edc948\", \"#b07aa1\", \"#ff9da7\", \"#9c755f\", \"#bab0ac\"], \"fill\": \"#1696d2\", \"opacity\": 0.7}, \"line\": {\"color\": \"#1696d2\", \"stroke\": \"#1696d2\", \"strokewidth\": 5}, \"point\": {\"filled\": true}, \"circle\": {\"color\": \"#4e79a7\", \"size\": 13}, \"text\": {\"font\": \"Roboto\", \"color\": \"#1696d2\", \"fontSize\": 11, \"align\": \"right\", \"fontWeight\": 400, \"size\": 11}, \"bar\": {\"size\": 40, \"binSpacing\": 1, \"continuousBandSize\": 30, \"discreteBandSize\": 30, \"fill\": \"#1696d2\", \"stroke\": false, \"opacity\": 0.7}}, \"layer\": [{\"mark\": {\"type\": \"point\", \"size\": 180}, \"encoding\": {\"color\": {\"type\": \"nominal\", \"field\": \"OWNER_DEPARTMENT\"}, \"x\": {\"type\": \"quantitative\", \"field\": \"COUNT\", \"title\": \"Number of 311 Requests (in 1000)\"}, \"y\": {\"type\": \"quantitative\", \"field\": \"2019 ORDINANCE (AMOUNT $)\", \"title\": \"2019 Budget Ordinance (in $1000000)\"}}, \"height\": 500, \"title\": {\"text\": [\"Scatterplot for\", \"the Number of 311 Requests\", \"and the Budget Ordinance of Chicago (2019)\"], \"subtitle\": [\"Chicago Data Portal - 311 Service Requests\", \"Chicago Data Portal - Budget - 2019 Budget Ordinance - Appropriations\"], \"subtitleColor\": \"grey\"}, \"width\": 500}, {\"mark\": {\"type\": \"text\", \"align\": \"left\", \"baseline\": \"middle\", \"dx\": 15}, \"encoding\": {\"color\": {\"type\": \"nominal\", \"field\": \"OWNER_DEPARTMENT\"}, \"text\": {\"type\": \"nominal\", \"field\": \"OWNER_DEPARTMENT\"}, \"x\": {\"type\": \"quantitative\", \"field\": \"COUNT\", \"title\": \"Number of 311 Requests (in 1000)\"}, \"y\": {\"type\": \"quantitative\", \"field\": \"2019 ORDINANCE (AMOUNT $)\", \"title\": \"2019 Budget Ordinance (in $1000000)\"}}, \"height\": 500, \"title\": {\"text\": [\"Scatterplot for\", \"the Number of 311 Requests\", \"and the Budget Ordinance of Chicago (2019)\"], \"subtitle\": [\"Chicago Data Portal - 311 Service Requests\", \"Chicago Data Portal - Budget - 2019 Budget Ordinance - Appropriations\"], \"subtitleColor\": \"grey\"}, \"width\": 500}], \"data\": {\"name\": \"data-b92d853f38cfee72b3b6f31621e2792f\"}, \"$schema\": \"https://vega.github.io/schema/vega-lite/v4.0.2.json\", \"datasets\": {\"data-b92d853f38cfee72b3b6f31621e2792f\": [{\"OWNER_DEPARTMENT\": \"Animal Care / Control\", \"2019 ORDINANCE (AMOUNT $)\": 6.843307, \"CREATED_YEAR\": 2019, \"COUNT\": 19.242}, {\"OWNER_DEPARTMENT\": \"Buildings\", \"2019 ORDINANCE (AMOUNT $)\": 38.119079, \"CREATED_YEAR\": 2019, \"COUNT\": 18.044}, {\"OWNER_DEPARTMENT\": \"Streets and Sanitation\", \"2019 ORDINANCE (AMOUNT $)\": 268.02634, \"CREATED_YEAR\": 2019, \"COUNT\": 252.26}, {\"OWNER_DEPARTMENT\": \"Transportation\", \"2019 ORDINANCE (AMOUNT $)\": 543.060487, \"CREATED_YEAR\": 2019, \"COUNT\": 151.071}, {\"OWNER_DEPARTMENT\": \"Water Management\", \"2019 ORDINANCE (AMOUNT $)\": 310.450401, \"CREATED_YEAR\": 2019, \"COUNT\": 24.976}]}}, {\"mode\": \"vega-lite\"});\n",
              "</script>"
            ]
          },
          "metadata": {
            "tags": []
          },
          "execution_count": 62
        }
      ]
    },
    {
      "cell_type": "markdown",
      "metadata": {
        "id": "4Jv7SfJIf6n6",
        "colab_type": "text"
      },
      "source": [
        "Using the data from [Chicago Data Portal](https://data.cityofchicago.org/Administration-Finance/Budget-2019-Budget-Ordinance-Appropriations/h9rt-tsn7), I had hoped to see some relationship between the amount of budget allocated to various departments and the number of 311 requests handled by them. Unfortunately, from the departments that handle the most number of 311 service requests, it was difficult to notice any distinct pattern. In hindsight, I should have looked deeper into the budget allocation within each department, since not all requests cost the same. For instance, the requests that the department of Transportation handle may take more resources than the requests that are dealt by Animal Care / Control."
      ]
    },
    {
      "cell_type": "markdown",
      "metadata": {
        "id": "QD4A8ONIvjUw",
        "colab_type": "text"
      },
      "source": [
        "### __6. Potholes__\n",
        "\n",
        "The department of Streets and Sanitations receives many 311 service requests regarding potholes. Let us see if there are any geographical patterns regarding pothole-related requests.\n"
      ]
    },
    {
      "cell_type": "markdown",
      "metadata": {
        "id": "jwzifWu_w0K4",
        "colab_type": "text"
      },
      "source": [
        "#### Code for data visualization"
      ]
    },
    {
      "cell_type": "code",
      "metadata": {
        "id": "fJ8BaBC-5vRa",
        "colab_type": "code",
        "outputId": "80a31fdf-e8da-4995-8b63-e96b9b788231",
        "colab": {
          "base_uri": "https://localhost:8080/",
          "height": 71
        }
      },
      "source": [
        "census_json = \"/content/gdrive/My Drive/CAPP-30239-Data-Viz/assignment-2/data/census_tract_boundary/tracts.geojson\"\n",
        "gdf = gpd.read_file(census_json)\n",
        "gdf.crs = \"epsg:4326\"\n",
        "data_geojson = alt.InlineData(values=gdf.to_json(), format=alt.DataFormat(property='features', type='json'))\n",
        "\n",
        "pothole_filename = \"/content/gdrive/My Drive/CAPP-30239-Data-Viz/assignment-2/data/tracts_311_pothole.csv\"\n",
        "pothole_df = pd.read_csv(pothole_filename)\n",
        "pothole_df = pothole_df.sample(n=10000)\n",
        "\n",
        "chicago_map = alt.Chart(data_geojson).mark_geoshape(\n",
        "    fill='lightgray',\n",
        "    stroke='white',\n",
        "    strokeWidth=0.5\n",
        "    ).properties(\n",
        "        width=600,\n",
        "        height=600,\n",
        "        title={\n",
        "        \"text\": [\"Scatter Plot Map of\", \"the Number of 311 Requests for Potholes\", \"per Census Tract in Chicago (2018-2020)\"], \n",
        "        \"subtitle\": [\"Chicago Data Portal - 311 Service Requests\", \"Chicago Data Portal - Boundaries - Census Tracts\"],\n",
        "        \"subtitleColor\": \"grey\",\n",
        "        \"color\": \"black\"\n",
        "        }\n",
        "     ).encode()\n",
        "\n",
        "points = alt.Chart(pothole_df).mark_circle(\n",
        "    size=10,\n",
        "    baseline='top'\n",
        ").encode(\n",
        "    longitude='LONGITUDE:Q',\n",
        "    latitude='LATITUDE:Q',\n",
        "    tooltip=['SR_NUMBER', 'ZIP_CODE', 'WARD']\n",
        ")\n",
        "\n",
        "pothole_map = chicago_map + points"
      ],
      "execution_count": 0,
      "outputs": [
        {
          "output_type": "stream",
          "text": [
            "/usr/local/lib/python3.6/dist-packages/IPython/core/interactiveshell.py:2718: DtypeWarning: Columns (28) have mixed types. Specify dtype option on import or set low_memory=False.\n",
            "  interactivity=interactivity, compiler=compiler, result=result)\n"
          ],
          "name": "stderr"
        }
      ]
    },
    {
      "cell_type": "markdown",
      "metadata": {
        "id": "jDuQOVBMw9TG",
        "colab_type": "text"
      },
      "source": [
        "#### *Chart #5*"
      ]
    },
    {
      "cell_type": "code",
      "metadata": {
        "id": "jo57toJz58Nf",
        "colab_type": "code",
        "outputId": "34d61f1d-ab9e-41d6-decb-e0a8fedf37e2",
        "colab": {
          "base_uri": "https://localhost:8080/",
          "height": 741
        }
      },
      "source": [
        "pothole_map"
      ],
      "execution_count": 0,
      "outputs": []
    },
    {
      "cell_type": "markdown",
      "metadata": {
        "id": "ARDiXZhPvbPa",
        "colab_type": "text"
      },
      "source": [
        "This chart shows that many pothole-related 311 requests are focused in the northern part of Chicago such as River North, Lincoln Park, or Logan Park. However, it is not clear from this chart if potholes are simply more frequent in these parts of the city or there are more 311 requests overall."
      ]
    },
    {
      "cell_type": "markdown",
      "metadata": {
        "id": "P8g4_ZOYQ35H",
        "colab_type": "text"
      },
      "source": [
        "### __7. Census Tracts of Chicago__"
      ]
    },
    {
      "cell_type": "markdown",
      "metadata": {
        "id": "6kJ2wt6Kx3O6",
        "colab_type": "text"
      },
      "source": [
        "#### Code for Data Visualization"
      ]
    },
    {
      "cell_type": "code",
      "metadata": {
        "id": "-a3TVmqg_2Qf",
        "colab_type": "code",
        "colab": {}
      },
      "source": [
        "census_json = \"/content/gdrive/My Drive/CAPP-30239-Data-Viz/assignment-2/data/census_tract_boundary/tracts.geojson\"\n",
        "tracts_311_count_filename = \"/content/gdrive/My Drive/CAPP-30239-Data-Viz/assignment-2/data/tracts_count.csv\"\n",
        "tracts_count = pd.read_csv(tracts_311_count_filename)\n",
        "gdf = gpd.read_file(census_json)\n",
        "gdf = gdf.merge(tracts_count, on='namelsad10', how='left')\n",
        "gdf.crs = \"epsg:4326\"\n",
        "data_geojson = alt.InlineData(values=gdf.to_json(), format=alt.DataFormat(property='features', type='json')) \n",
        "\n",
        "map_chart = alt.Chart(data_geojson).mark_geoshape(\n",
        "    stroke='black',\n",
        "    strokeWidth=0.5,\n",
        "    ).encode(\n",
        "        color = alt.Color(\n",
        "            'properties.color:N',\n",
        "            legend=alt.Legend(\n",
        "                title=\"Number of Requests\",\n",
        "                titleFontSize = 11,\n",
        "                columns=3,\n",
        "                labelFontSize=0,\n",
        "                symbolSize=1000,\n",
        "                columnPadding=0,\n",
        "                rowPadding=0,\n",
        "                labelPadding=0\n",
        "                ),\n",
        "            scale=alt.Scale(\n",
        "                domain=[\"#64acbe\", \"#b0d5df\", \"#e8e8e8\", \"#627f8c\", \"#ad9ea5\", \"#e4acac\", \"#574249\", \"#985356\", \"#c85a5a\"],\n",
        "                range=[\"#73ae80\", \"#b8d6be\", \"#cccccc\", \"#5a9178\", \"#90b2b3\", \"#b5c0da\", \"#2a5a5b\", \"#567994\", \"#6c83b5\"]\n",
        "                )\n",
        "        ),\n",
        "        opacity=alt.value(0.8),\n",
        "    ).properties(\n",
        "        title={\n",
        "        \"text\": [\"Bivariate Choropleth Map of the Number of 311 Requests\", \"per Census Tract in Chicago (2018-2020)\"], \n",
        "        \"subtitle\": [\"Chicago Data Portal - 311 Service Requests\", \"Chicago Data Portal - Boundaries - Census Tracts\"],\n",
        "        \"subtitleColor\": \"grey\",\n",
        "        \"color\": \"black\"\n",
        "        },\n",
        "        projection={\"type\":'mercator'},\n",
        "        width = 600,\n",
        "        height = 600\n",
        ")\n"
      ],
      "execution_count": 0,
      "outputs": []
    },
    {
      "cell_type": "markdown",
      "metadata": {
        "id": "m3jNwS2Wx0AR",
        "colab_type": "text"
      },
      "source": [
        "#### *Chart #6*"
      ]
    },
    {
      "cell_type": "code",
      "metadata": {
        "id": "piC0OtqOxc5U",
        "colab_type": "code",
        "outputId": "87ad1f7d-8b76-4e29-a561-293df7eadc5d",
        "colab": {
          "base_uri": "https://localhost:8080/",
          "height": 715
        }
      },
      "source": [
        "map_chart"
      ],
      "execution_count": 0,
      "outputs": []
    },
    {
      "cell_type": "markdown",
      "metadata": {
        "id": "j87yHdX1zPVO",
        "colab_type": "text"
      },
      "source": [
        "__Reading the bivariate choropleth map__\n",
        "\n",
        "As you can see on the right side of the Chicago map, there are a total of 9 different color on this map. The number of 311 service requests is represented by *x-axis* (i.e., the right, the more), and the average household income level is represented by the *y-axis* (i.e., the up, the more).\n",
        "\n",
        "\n",
        "__Findings__\n",
        "\n",
        "Using the `geojson` data from [Chicago Data Portal](https://data.cityofchicago.org/Facilities-Geographic-Boundaries/Boundaries-Census-Tracts-2010/5jrd-6zik) and [US Census Data](https://data.census.gov/cedsci/table?q=Income%20and%20Earnings&g=0500000US17031.140000&t=Income%20and%20Earnings&hidePreview=true&table=S1901&tid=ACSST5Y2018.S1901&lastDisplayedRow=0&vintage=2017&mode=), I charted a bivariate choropleth map of using the number of 311 requests and the average household income level by census tract in Chicago. There seem to be some visual patterns here. First of all, there seem to be a clear divide in the average household income level where the north and east of Chicago is generally more wealthy than other parts of Chicago. Furthermore, areas above the downtown along the river (e.g., River North, West Lakeview) seem to be high in both average household income level and the number of 311 requests. "
      ]
    },
    {
      "cell_type": "markdown",
      "metadata": {
        "id": "GDUJzgYXeg2u",
        "colab_type": "text"
      },
      "source": [
        "### __8. What is wrong with Census Tract 8382?__\n",
        "\n",
        "Let us look at the table below. It looks like __Census Tract 8382__ has an outstanding number of 311 service requests. By just looking at this statistics, one might think that this part of the city has some serious issues."
      ]
    },
    {
      "cell_type": "code",
      "metadata": {
        "id": "7uUY8Na7eRWo",
        "colab_type": "code",
        "outputId": "d808ee1b-49b6-4b8b-b8a1-7a2098902954",
        "colab": {
          "base_uri": "https://localhost:8080/",
          "height": 204
        }
      },
      "source": [
        "tracts_count.sort_values('Number_of_Requests', ascending=False).head(5)"
      ],
      "execution_count": 0,
      "outputs": [
        {
          "output_type": "execute_result",
          "data": {
            "text/html": [
              "<div>\n",
              "<style scoped>\n",
              "    .dataframe tbody tr th:only-of-type {\n",
              "        vertical-align: middle;\n",
              "    }\n",
              "\n",
              "    .dataframe tbody tr th {\n",
              "        vertical-align: top;\n",
              "    }\n",
              "\n",
              "    .dataframe thead th {\n",
              "        text-align: right;\n",
              "    }\n",
              "</style>\n",
              "<table border=\"1\" class=\"dataframe\">\n",
              "  <thead>\n",
              "    <tr style=\"text-align: right;\">\n",
              "      <th></th>\n",
              "      <th>namelsad10</th>\n",
              "      <th>Number_of_Requests</th>\n",
              "      <th>Household_Income</th>\n",
              "      <th>color</th>\n",
              "    </tr>\n",
              "  </thead>\n",
              "  <tbody>\n",
              "    <tr>\n",
              "      <th>746</th>\n",
              "      <td>Census Tract 8382</td>\n",
              "      <td>610687</td>\n",
              "      <td>17817</td>\n",
              "      <td>#574249</td>\n",
              "    </tr>\n",
              "    <tr>\n",
              "      <th>752</th>\n",
              "      <td>Census Tract 8391</td>\n",
              "      <td>6573</td>\n",
              "      <td>22076</td>\n",
              "      <td>#574249</td>\n",
              "    </tr>\n",
              "    <tr>\n",
              "      <th>405</th>\n",
              "      <td>Census Tract 4910</td>\n",
              "      <td>5807</td>\n",
              "      <td>6707</td>\n",
              "      <td>#c85a5a</td>\n",
              "    </tr>\n",
              "    <tr>\n",
              "      <th>159</th>\n",
              "      <td>Census Tract 2315</td>\n",
              "      <td>5665</td>\n",
              "      <td>8036</td>\n",
              "      <td>#c85a5a</td>\n",
              "    </tr>\n",
              "    <tr>\n",
              "      <th>436</th>\n",
              "      <td>Census Tract 5302</td>\n",
              "      <td>5391</td>\n",
              "      <td>8114</td>\n",
              "      <td>#c85a5a</td>\n",
              "    </tr>\n",
              "  </tbody>\n",
              "</table>\n",
              "</div>"
            ],
            "text/plain": [
              "            namelsad10  Number_of_Requests  Household_Income    color\n",
              "746  Census Tract 8382              610687             17817  #574249\n",
              "752  Census Tract 8391                6573             22076  #574249\n",
              "405  Census Tract 4910                5807              6707  #c85a5a\n",
              "159  Census Tract 2315                5665              8036  #c85a5a\n",
              "436  Census Tract 5302                5391              8114  #c85a5a"
            ]
          },
          "metadata": {
            "tags": []
          },
          "execution_count": 67
        }
      ]
    },
    {
      "cell_type": "markdown",
      "metadata": {
        "id": "-UjWor-Af81T",
        "colab_type": "text"
      },
      "source": [
        "However, this might not be the case. We already know from one of the charts that a high number of the 311 service requests are directed to __311 City Services__. It is possible that the location of all __311 INFORMATION ONLY CALLS__ that are directed to __311 City Services__ are simply coded to [__311 Operations__](https://goo.gl/maps/5znZXVSsybrMcqxw7). Indeed, if you look at Google Maps, you can see that __311 Operations__ is located in Census Tract 8382."
      ]
    },
    {
      "cell_type": "markdown",
      "metadata": {
        "id": "urH5QgoV4FRW",
        "colab_type": "text"
      },
      "source": [
        "#### Code for Data Visualization"
      ]
    },
    {
      "cell_type": "code",
      "metadata": {
        "id": "c9Ip5wgAhP1R",
        "colab_type": "code",
        "outputId": "0f487124-2ca4-4fc4-b7c9-dfb4a2079d04",
        "colab": {
          "base_uri": "https://localhost:8080/",
          "height": 71
        }
      },
      "source": [
        "census_json = \"/content/gdrive/My Drive/CAPP-30239-Data-Viz/assignment-2/data/census_tract_boundary/tracts.geojson\"\n",
        "gdf = gpd.read_file(census_json)\n",
        "gdf.crs = \"epsg:4326\"\n",
        "data_geojson = alt.InlineData(values=gdf.to_json(), format=alt.DataFormat(property='features', type='json'))\n",
        "\n",
        "call_filename = \"/content/gdrive/My Drive/CAPP-30239-Data-Viz/assignment-2/data/tracts_311_call.csv\"\n",
        "call_df = pd.read_csv(call_filename)\n",
        "call_df = call_df.sample(n=10000)\n",
        "\n",
        "census_map = alt.Chart(data_geojson).mark_geoshape(\n",
        "    fill='lightgray',\n",
        "    stroke='white',\n",
        "    strokeWidth=0.5\n",
        "    ).properties(\n",
        "        width=800,\n",
        "        height=800,\n",
        "        title={\n",
        "        \"text\": [\"Location of 311 Information-only Calls\", \"by Census Tract in Chicago (2018-2020)\"], \n",
        "        \"subtitle\": [\"Chicago Data Portal - 311 Service Requests\", \"Chicago Data Portal - Boundaries - Census Tracts\"],\n",
        "        \"subtitleColor\": \"grey\",\n",
        "        \"color\": \"black\"\n",
        "        }\n",
        "     ).encode()\n",
        "\n",
        "points = alt.Chart(call_df).transform_aggregate(\n",
        "    latitude='mean(LATITUDE)',\n",
        "    longitude='mean(LONGITUDE)',\n",
        "    count='count(SR_NUMBER)',\n",
        "    groupby=['namelsad10']\n",
        ").mark_circle().encode(\n",
        "    longitude='longitude:Q',\n",
        "    latitude='latitude:Q',\n",
        "    size=alt.Size('count:Q', title='Number of 311 Requests'),\n",
        "    tooltip=['namelsad10:N','count:Q']\n",
        ").properties(\n",
        "    title='Number of 311 Requests'\n",
        ")\n",
        "\n",
        "info_311 = census_map + points"
      ],
      "execution_count": 0,
      "outputs": [
        {
          "output_type": "stream",
          "text": [
            "/usr/local/lib/python3.6/dist-packages/IPython/core/interactiveshell.py:2718: DtypeWarning: Columns (28) have mixed types. Specify dtype option on import or set low_memory=False.\n",
            "  interactivity=interactivity, compiler=compiler, result=result)\n"
          ],
          "name": "stderr"
        }
      ]
    },
    {
      "cell_type": "markdown",
      "metadata": {
        "id": "exlH5v6L4ITc",
        "colab_type": "text"
      },
      "source": [
        "#### *Chart # 7*"
      ]
    },
    {
      "cell_type": "code",
      "metadata": {
        "id": "z6gpXVdYrG-P",
        "colab_type": "code",
        "outputId": "a92cd723-5041-4b7e-bf7d-c9870657490c",
        "colab": {
          "base_uri": "https://localhost:8080/",
          "height": 915
        }
      },
      "source": [
        "info_311"
      ],
      "execution_count": 0,
      "outputs": []
    },
    {
      "cell_type": "markdown",
      "metadata": {
        "id": "b8XJyENDuCRH",
        "colab_type": "text"
      },
      "source": [
        "Because of the limited Colab resources, it was not possible to plot all of the __311 INFORMATION ONLY CALLS__. So I plotted random 30000 data points on the map. As you can see above, the overwhelming majority of them are located in Census Tract 8382. This supports our hypothesis that Census Tract 8382 is not a big mess!"
      ]
    }
  ]
}