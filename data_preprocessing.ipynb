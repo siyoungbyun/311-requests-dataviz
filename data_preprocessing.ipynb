{
 "cells": [
  {
   "cell_type": "markdown",
   "metadata": {
    "colab_type": "text",
    "id": "iv2puIDxIVUR"
   },
   "source": [
    "# __311 Service Requests in Chicago__"
   ]
  },
  {
   "cell_type": "markdown",
   "metadata": {
    "colab_type": "text",
    "id": "78kvahNHWotg"
   },
   "source": [
    "## Import dependencies"
   ]
  },
  {
   "cell_type": "code",
   "execution_count": 1,
   "metadata": {
    "colab": {
     "base_uri": "https://localhost:8080/",
     "height": 1000
    },
    "colab_type": "code",
    "id": "vBft81AiWiXH",
    "outputId": "56b9e5c1-3228-4d96-dc71-f0de603c5687"
   },
   "outputs": [],
   "source": [
    "import altair as alt\n",
    "import pandas as pd\n",
    "import geopandas as gpd"
   ]
  },
  {
   "cell_type": "markdown",
   "metadata": {
    "colab_type": "text",
    "id": "PvDJYiZ5FPVm"
   },
   "source": [
    "## Helper Functions"
   ]
  },
  {
   "cell_type": "code",
   "execution_count": 29,
   "metadata": {
    "colab": {},
    "colab_type": "code",
    "id": "VitLcZrXFSHC"
   },
   "outputs": [],
   "source": [
    "def show_col_row_count(df):\n",
    "\n",
    "    row, col = df.shape\n",
    "    msg = \"The dataframe currently has {} rows and {} columns.\"\n",
    "    print(msg.format(row, col))\n",
    "\n",
    "def drop_non_numeric(df, columns, verbose=False):\n",
    "\n",
    "    if verbose:\n",
    "        rows, _ = df.shape\n",
    "        col_msg = \"Removing all non-numeric rows for the following columns: {}.\"\n",
    "        print(col_msg.format(columns))\n",
    "    for col in columns:\n",
    "        df = df[pd.to_numeric(df[col], errors=\"coerce\").notnull()]\n",
    "        if verbose:\n",
    "            new_rows, _ = df.shape\n",
    "            print(\"Removed {} rows from {}.\".format(rows - new_rows, col))\n",
    "            rows = new_rows\n",
    "    return df\n",
    "\n",
    "def drop_na(dataframe, columns, verbose=False):\n",
    "\n",
    "    if verbose:\n",
    "        rows, _ = dataframe.shape\n",
    "        col_msg = \"Removing all rows with NAs for the following columns: {}.\"\n",
    "        print(col_msg.format(columns))\n",
    "    df = dataframe.dropna(subset = columns)\n",
    "    if verbose:\n",
    "        new_rows, _ = dataframe.shape\n",
    "        print(\"Removed {} rows.\".format(rows - new_rows))\n",
    "    return df\n",
    "\n",
    "def save_columns(dataframe, columns):\n",
    "\n",
    "    dataframe = dataframe[columns]\n",
    "    return dataframe\n",
    "\n",
    "def df_to_csv(dataframe, filename, verbose=False):\n",
    "\n",
    "    try:\n",
    "        dataframe.to_csv(filename, index=False)\n",
    "        if verbose:\n",
    "            print(\"Successfully saved to {}.\".format(filename))\n",
    "    except:\n",
    "        if verbose:\n",
    "            print(\"Failed to save to {}.\".format(filename))\n",
    "\n",
    "def extract_census_tract(row):\n",
    "    return row.split(\",\")[0]\n",
    "\n",
    "def evaluateForBivariate(row):\n",
    "    # Adapted from the slack channel (Credit to Andrew McNutt)\n",
    "    colorMatrix = [\n",
    "        [\"#64acbe\", \"#627f8c\", \"#574249\"],\n",
    "        [\"#b0d5df\", \"#ad9ea5\", \"#985356\"],\n",
    "        [\"#e8e8e8\", \"#e4acac\", \"#c85a5a\"],\n",
    "    ]\n",
    "    xBoundaries = [1165.02, 1959.06]\n",
    "    xIdx = 0\n",
    "    if row[\"Number_of_Requests\"] < xBoundaries[0]:\n",
    "        xIdx = 0\n",
    "    elif row[\"Number_of_Requests\"] < xBoundaries[1]:\n",
    "        xIdx = 1\n",
    "    else:\n",
    "        xIdx = 2\n",
    "    yBoundaries = [8200.15, 12498.46]\n",
    "    yIdx = 0\n",
    "    if int(row[\"Household_Income\"]) < yBoundaries[0]:\n",
    "        yIdx = 2\n",
    "    elif int(row[\"Household_Income\"]) < yBoundaries[1]:\n",
    "        yIdx = 1\n",
    "    else:\n",
    "        yIdx = 0\n",
    "\n",
    "    return colorMatrix[yIdx][xIdx]"
   ]
  },
  {
   "cell_type": "markdown",
   "metadata": {
    "colab_type": "text",
    "id": "5zncAkRmW8yy"
   },
   "source": [
    "## Load the dataset - `311_Service_Requests.csv`"
   ]
  },
  {
   "cell_type": "code",
   "execution_count": 3,
   "metadata": {
    "colab": {
     "base_uri": "https://localhost:8080/",
     "height": 51
    },
    "colab_type": "code",
    "id": "Zv1PoBr_W4_k",
    "outputId": "ca0e208a-3d67-44e3-d5c9-7210d1cd2b9f"
   },
   "outputs": [
    {
     "name": "stderr",
     "output_type": "stream",
     "text": [
      "/usr/local/lib/python3.7/dist-packages/IPython/core/interactiveshell.py:3063: DtypeWarning: Columns (11) have mixed types.Specify dtype option on import or set low_memory=False.\n",
      "  interactivity=interactivity, compiler=compiler, result=result)\n"
     ]
    }
   ],
   "source": [
    "data_dir = \"./data/311_Service_Requests_Chicago.csv\"\n",
    "dtype_dict = {\n",
    "    \"STREET_NUMBER\": \"object\",\n",
    "    \"LEGACY_SR_NUMBER\": \"object\",\n",
    "    \"PARENT_SR_NUMBER\": \"object\",\n",
    "    \"SANITATION_DIVISION_DAYS\": \"object\",\n",
    "    }\n",
    "df = pd.read_csv(data_dir, dtype=dtype_dict)"
   ]
  },
  {
   "cell_type": "code",
   "execution_count": 4,
   "metadata": {
    "colab": {},
    "colab_type": "code",
    "id": "tOOIccKLTDqU"
   },
   "outputs": [],
   "source": [
    "df[\"CREATED_DATE\"] = pd.to_datetime(df[\"CREATED_DATE\"], format='%m/%d/%Y %I:%M:%S %p')\n",
    "df[\"CREATED_YEAR\"] = df[\"CREATED_DATE\"].dt.year\n",
    "df[\"CLOSED_DATE\"].fillna(\"01/16/2020 10:20:00 PM\", inplace = True) \n",
    "df[\"CLOSED_DATE\"]= pd.to_datetime(df[\"CLOSED_DATE\"], format='%m/%d/%Y %I:%M:%S %p')\n",
    "df[\"CLOSED_YEAR\"] = df[\"CLOSED_DATE\"].dt.year\n",
    "df[\"DAYS_TAKEN\"] = df[\"CLOSED_DATE\"] - df[\"CREATED_DATE\"]\n",
    "df[\"DAYS_TAKEN\"] = df[\"DAYS_TAKEN\"].dt.days"
   ]
  },
  {
   "cell_type": "code",
   "execution_count": 5,
   "metadata": {
    "colab": {
     "base_uri": "https://localhost:8080/",
     "height": 343
    },
    "colab_type": "code",
    "id": "mJ7WAKp3Yh9Z",
    "outputId": "8fd4178c-9f48-42cb-aa6d-22e0b5c825ea"
   },
   "outputs": [
    {
     "data": {
      "text/html": [
       "<div>\n",
       "<style scoped>\n",
       "    .dataframe tbody tr th:only-of-type {\n",
       "        vertical-align: middle;\n",
       "    }\n",
       "\n",
       "    .dataframe tbody tr th {\n",
       "        vertical-align: top;\n",
       "    }\n",
       "\n",
       "    .dataframe thead th {\n",
       "        text-align: right;\n",
       "    }\n",
       "</style>\n",
       "<table border=\"1\" class=\"dataframe\">\n",
       "  <thead>\n",
       "    <tr style=\"text-align: right;\">\n",
       "      <th></th>\n",
       "      <th>SR_NUMBER</th>\n",
       "      <th>SR_TYPE</th>\n",
       "      <th>SR_SHORT_CODE</th>\n",
       "      <th>OWNER_DEPARTMENT</th>\n",
       "      <th>STATUS</th>\n",
       "      <th>CREATED_DATE</th>\n",
       "      <th>LAST_MODIFIED_DATE</th>\n",
       "      <th>CLOSED_DATE</th>\n",
       "      <th>STREET_ADDRESS</th>\n",
       "      <th>CITY</th>\n",
       "      <th>...</th>\n",
       "      <th>CREATED_DAY_OF_WEEK</th>\n",
       "      <th>CREATED_MONTH</th>\n",
       "      <th>X_COORDINATE</th>\n",
       "      <th>Y_COORDINATE</th>\n",
       "      <th>LATITUDE</th>\n",
       "      <th>LONGITUDE</th>\n",
       "      <th>LOCATION</th>\n",
       "      <th>CREATED_YEAR</th>\n",
       "      <th>CLOSED_YEAR</th>\n",
       "      <th>DAYS_TAKEN</th>\n",
       "    </tr>\n",
       "  </thead>\n",
       "  <tbody>\n",
       "    <tr>\n",
       "      <th>1433838</th>\n",
       "      <td>SR19-00506349</td>\n",
       "      <td>Rodent Baiting/Rat Complaint</td>\n",
       "      <td>SGA</td>\n",
       "      <td>Streets and Sanitation</td>\n",
       "      <td>Completed</td>\n",
       "      <td>2018-08-27 14:56:20</td>\n",
       "      <td>05/17/2019 01:48:45 PM</td>\n",
       "      <td>2018-08-29 13:22:08</td>\n",
       "      <td>1935 W PATTERSON AVE</td>\n",
       "      <td>CHICAGO</td>\n",
       "      <td>...</td>\n",
       "      <td>2</td>\n",
       "      <td>8</td>\n",
       "      <td>1.162645e+06</td>\n",
       "      <td>1.924240e+06</td>\n",
       "      <td>41.947779</td>\n",
       "      <td>-87.677560</td>\n",
       "      <td>(41.94777926613673, -87.67756032960568)</td>\n",
       "      <td>2018</td>\n",
       "      <td>2018</td>\n",
       "      <td>1</td>\n",
       "    </tr>\n",
       "    <tr>\n",
       "      <th>1895455</th>\n",
       "      <td>SR19-01348886</td>\n",
       "      <td>Pothole in Street Complaint</td>\n",
       "      <td>PHF</td>\n",
       "      <td>CDOT - Department of Transportation</td>\n",
       "      <td>Completed</td>\n",
       "      <td>2019-04-18 10:00:40</td>\n",
       "      <td>05/17/2019 04:29:41 PM</td>\n",
       "      <td>2019-04-30 12:25:21</td>\n",
       "      <td>1125 N THROOP ST</td>\n",
       "      <td>NaN</td>\n",
       "      <td>...</td>\n",
       "      <td>5</td>\n",
       "      <td>4</td>\n",
       "      <td>1.167461e+06</td>\n",
       "      <td>1.907676e+06</td>\n",
       "      <td>41.902225</td>\n",
       "      <td>-87.660338</td>\n",
       "      <td>(41.902224524406435, -87.6603379797049)</td>\n",
       "      <td>2019</td>\n",
       "      <td>2019</td>\n",
       "      <td>12</td>\n",
       "    </tr>\n",
       "    <tr>\n",
       "      <th>219700</th>\n",
       "      <td>SR18-00118210</td>\n",
       "      <td>Alley Light Out Complaint</td>\n",
       "      <td>SFA</td>\n",
       "      <td>CDOT - Department of Transportation</td>\n",
       "      <td>Completed</td>\n",
       "      <td>2018-09-07 10:20:16</td>\n",
       "      <td>06/25/2019 03:15:05 PM</td>\n",
       "      <td>2019-06-25 15:15:05</td>\n",
       "      <td>3630 N NEWLAND AVE</td>\n",
       "      <td>CHICAGO</td>\n",
       "      <td>...</td>\n",
       "      <td>6</td>\n",
       "      <td>9</td>\n",
       "      <td>1.129356e+06</td>\n",
       "      <td>1.923493e+06</td>\n",
       "      <td>41.946353</td>\n",
       "      <td>-87.799936</td>\n",
       "      <td>(41.946353, -87.799936)</td>\n",
       "      <td>2018</td>\n",
       "      <td>2019</td>\n",
       "      <td>291</td>\n",
       "    </tr>\n",
       "    <tr>\n",
       "      <th>2224607</th>\n",
       "      <td>SR19-03182605</td>\n",
       "      <td>311 INFORMATION ONLY CALL</td>\n",
       "      <td>311IOC</td>\n",
       "      <td>311 City Services</td>\n",
       "      <td>Completed</td>\n",
       "      <td>2019-12-22 09:09:36</td>\n",
       "      <td>12/22/2019 09:30:48 AM</td>\n",
       "      <td>2019-12-22 09:09:37</td>\n",
       "      <td>2111 W Lexington ST</td>\n",
       "      <td>Chicago</td>\n",
       "      <td>...</td>\n",
       "      <td>1</td>\n",
       "      <td>12</td>\n",
       "      <td>1.162234e+06</td>\n",
       "      <td>1.896560e+06</td>\n",
       "      <td>41.871831</td>\n",
       "      <td>-87.679846</td>\n",
       "      <td>(41.871831277993564, -87.67984621876099)</td>\n",
       "      <td>2019</td>\n",
       "      <td>2019</td>\n",
       "      <td>0</td>\n",
       "    </tr>\n",
       "    <tr>\n",
       "      <th>1030382</th>\n",
       "      <td>SR19-02827411</td>\n",
       "      <td>Weed Removal Request</td>\n",
       "      <td>SCP</td>\n",
       "      <td>Streets and Sanitation</td>\n",
       "      <td>Completed</td>\n",
       "      <td>2019-10-28 08:48:40</td>\n",
       "      <td>10/28/2019 08:48:52 AM</td>\n",
       "      <td>2019-10-28 08:48:52</td>\n",
       "      <td>7136 S SOUTH CHICAGO AVE</td>\n",
       "      <td>NaN</td>\n",
       "      <td>...</td>\n",
       "      <td>2</td>\n",
       "      <td>10</td>\n",
       "      <td>1.183075e+06</td>\n",
       "      <td>1.857833e+06</td>\n",
       "      <td>41.765102</td>\n",
       "      <td>-87.604539</td>\n",
       "      <td>(41.7651020666732, -87.60453857428888)</td>\n",
       "      <td>2019</td>\n",
       "      <td>2019</td>\n",
       "      <td>0</td>\n",
       "    </tr>\n",
       "  </tbody>\n",
       "</table>\n",
       "<p>5 rows × 40 columns</p>\n",
       "</div>"
      ],
      "text/plain": [
       "             SR_NUMBER                       SR_TYPE SR_SHORT_CODE  \\\n",
       "1433838  SR19-00506349  Rodent Baiting/Rat Complaint           SGA   \n",
       "1895455  SR19-01348886   Pothole in Street Complaint           PHF   \n",
       "219700   SR18-00118210     Alley Light Out Complaint           SFA   \n",
       "2224607  SR19-03182605     311 INFORMATION ONLY CALL        311IOC   \n",
       "1030382  SR19-02827411          Weed Removal Request           SCP   \n",
       "\n",
       "                            OWNER_DEPARTMENT     STATUS        CREATED_DATE  \\\n",
       "1433838               Streets and Sanitation  Completed 2018-08-27 14:56:20   \n",
       "1895455  CDOT - Department of Transportation  Completed 2019-04-18 10:00:40   \n",
       "219700   CDOT - Department of Transportation  Completed 2018-09-07 10:20:16   \n",
       "2224607                    311 City Services  Completed 2019-12-22 09:09:36   \n",
       "1030382               Streets and Sanitation  Completed 2019-10-28 08:48:40   \n",
       "\n",
       "             LAST_MODIFIED_DATE         CLOSED_DATE            STREET_ADDRESS  \\\n",
       "1433838  05/17/2019 01:48:45 PM 2018-08-29 13:22:08      1935 W PATTERSON AVE   \n",
       "1895455  05/17/2019 04:29:41 PM 2019-04-30 12:25:21          1125 N THROOP ST   \n",
       "219700   06/25/2019 03:15:05 PM 2019-06-25 15:15:05        3630 N NEWLAND AVE   \n",
       "2224607  12/22/2019 09:30:48 AM 2019-12-22 09:09:37       2111 W Lexington ST   \n",
       "1030382  10/28/2019 08:48:52 AM 2019-10-28 08:48:52  7136 S SOUTH CHICAGO AVE   \n",
       "\n",
       "            CITY  ... CREATED_DAY_OF_WEEK CREATED_MONTH  X_COORDINATE  \\\n",
       "1433838  CHICAGO  ...                   2             8  1.162645e+06   \n",
       "1895455      NaN  ...                   5             4  1.167461e+06   \n",
       "219700   CHICAGO  ...                   6             9  1.129356e+06   \n",
       "2224607  Chicago  ...                   1            12  1.162234e+06   \n",
       "1030382      NaN  ...                   2            10  1.183075e+06   \n",
       "\n",
       "         Y_COORDINATE   LATITUDE  LONGITUDE  \\\n",
       "1433838  1.924240e+06  41.947779 -87.677560   \n",
       "1895455  1.907676e+06  41.902225 -87.660338   \n",
       "219700   1.923493e+06  41.946353 -87.799936   \n",
       "2224607  1.896560e+06  41.871831 -87.679846   \n",
       "1030382  1.857833e+06  41.765102 -87.604539   \n",
       "\n",
       "                                         LOCATION  CREATED_YEAR CLOSED_YEAR  \\\n",
       "1433838   (41.94777926613673, -87.67756032960568)          2018        2018   \n",
       "1895455   (41.902224524406435, -87.6603379797049)          2019        2019   \n",
       "219700                    (41.946353, -87.799936)          2018        2019   \n",
       "2224607  (41.871831277993564, -87.67984621876099)          2019        2019   \n",
       "1030382    (41.7651020666732, -87.60453857428888)          2019        2019   \n",
       "\n",
       "        DAYS_TAKEN  \n",
       "1433838          1  \n",
       "1895455         12  \n",
       "219700         291  \n",
       "2224607          0  \n",
       "1030382          0  \n",
       "\n",
       "[5 rows x 40 columns]"
      ]
     },
     "execution_count": 5,
     "metadata": {},
     "output_type": "execute_result"
    }
   ],
   "source": [
    "df.sample(n = 5) "
   ]
  },
  {
   "cell_type": "code",
   "execution_count": 6,
   "metadata": {
    "colab": {
     "base_uri": "https://localhost:8080/",
     "height": 34
    },
    "colab_type": "code",
    "id": "fOiCi0u1-hzQ",
    "outputId": "2c110e44-68c9-41ac-c3cd-0b669692d347"
   },
   "outputs": [
    {
     "name": "stdout",
     "output_type": "stream",
     "text": [
      "The dataframe currently has 2362297 rows and 40 columns.\n"
     ]
    }
   ],
   "source": [
    "show_col_row_count(df)"
   ]
  },
  {
   "cell_type": "code",
   "execution_count": 7,
   "metadata": {
    "colab": {
     "base_uri": "https://localhost:8080/",
     "height": 51
    },
    "colab_type": "code",
    "id": "c4CKchr79-31",
    "outputId": "10f50c72-00f1-4fde-d347-52cf145fe79f"
   },
   "outputs": [
    {
     "name": "stdout",
     "output_type": "stream",
     "text": [
      "Removing all non-numeric rows for the following columns: ['ZIP_CODE'].\n",
      "Removed 17961 rows from ZIP_CODE.\n"
     ]
    }
   ],
   "source": [
    "df = drop_non_numeric(df, [\"ZIP_CODE\"], verbose=True)"
   ]
  },
  {
   "cell_type": "code",
   "execution_count": 8,
   "metadata": {
    "colab": {
     "base_uri": "https://localhost:8080/",
     "height": 51
    },
    "colab_type": "code",
    "id": "3JMxUKjzIjiA",
    "outputId": "0f40d823-5f90-4971-fe27-63292f6f8c8a"
   },
   "outputs": [
    {
     "name": "stdout",
     "output_type": "stream",
     "text": [
      "Removing all rows with NAs for the following columns: ['ZIP_CODE', 'CREATED_DATE', 'WARD', 'LOCATION', 'LATITUDE', 'LATITUDE'].\n",
      "Removed 0 rows.\n"
     ]
    }
   ],
   "source": [
    "df = drop_na(df, [\"ZIP_CODE\", \"CREATED_DATE\", \"WARD\", \"LOCATION\", \"LATITUDE\", \"LATITUDE\"], verbose=True)"
   ]
  },
  {
   "cell_type": "code",
   "execution_count": 9,
   "metadata": {
    "colab": {},
    "colab_type": "code",
    "id": "Yq7QK7axQKOB"
   },
   "outputs": [],
   "source": [
    "columns = [\n",
    "    \"SR_NUMBER\", \"SR_TYPE\", \"SR_SHORT_CODE\",\n",
    "    \"OWNER_DEPARTMENT\",\"STATUS\", \"CREATED_DATE\",\n",
    "    \"CLOSED_DATE\", \"ZIP_CODE\", \"DUPLICATE\",\n",
    "    \"LEGACY_RECORD\", \"WARD\", \"LATITUDE\",\n",
    "    \"LONGITUDE\", \"LOCATION\",\n",
    "    \"DAYS_TAKEN\", \"CREATED_YEAR\", \"CLOSED_YEAR\",\n",
    "    \"CREATED_HOUR\",\t\"CREATED_DAY_OF_WEEK\", \"CREATED_MONTH\"\n",
    "]\n",
    "df = save_columns(df, columns)"
   ]
  },
  {
   "cell_type": "code",
   "execution_count": 10,
   "metadata": {
    "colab": {
     "base_uri": "https://localhost:8080/",
     "height": 377
    },
    "colab_type": "code",
    "id": "xrxdyxYDS0M6",
    "outputId": "474b9b7b-8da2-4560-be5e-e51ef8e55360"
   },
   "outputs": [
    {
     "data": {
      "text/html": [
       "<div>\n",
       "<style scoped>\n",
       "    .dataframe tbody tr th:only-of-type {\n",
       "        vertical-align: middle;\n",
       "    }\n",
       "\n",
       "    .dataframe tbody tr th {\n",
       "        vertical-align: top;\n",
       "    }\n",
       "\n",
       "    .dataframe thead th {\n",
       "        text-align: right;\n",
       "    }\n",
       "</style>\n",
       "<table border=\"1\" class=\"dataframe\">\n",
       "  <thead>\n",
       "    <tr style=\"text-align: right;\">\n",
       "      <th></th>\n",
       "      <th>SR_NUMBER</th>\n",
       "      <th>SR_TYPE</th>\n",
       "      <th>SR_SHORT_CODE</th>\n",
       "      <th>OWNER_DEPARTMENT</th>\n",
       "      <th>STATUS</th>\n",
       "      <th>CREATED_DATE</th>\n",
       "      <th>CLOSED_DATE</th>\n",
       "      <th>ZIP_CODE</th>\n",
       "      <th>DUPLICATE</th>\n",
       "      <th>LEGACY_RECORD</th>\n",
       "      <th>WARD</th>\n",
       "      <th>LATITUDE</th>\n",
       "      <th>LONGITUDE</th>\n",
       "      <th>LOCATION</th>\n",
       "      <th>DAYS_TAKEN</th>\n",
       "      <th>CREATED_YEAR</th>\n",
       "      <th>CLOSED_YEAR</th>\n",
       "      <th>CREATED_HOUR</th>\n",
       "      <th>CREATED_DAY_OF_WEEK</th>\n",
       "      <th>CREATED_MONTH</th>\n",
       "    </tr>\n",
       "  </thead>\n",
       "  <tbody>\n",
       "    <tr>\n",
       "      <th>11</th>\n",
       "      <td>SR19-02763102</td>\n",
       "      <td>Sewer Cave-In Inspection Request</td>\n",
       "      <td>AAD</td>\n",
       "      <td>DWM - Department of Water Management</td>\n",
       "      <td>Completed</td>\n",
       "      <td>2019-10-19 15:31:55</td>\n",
       "      <td>2019-11-25 13:34:43</td>\n",
       "      <td>60625</td>\n",
       "      <td>False</td>\n",
       "      <td>False</td>\n",
       "      <td>47.0</td>\n",
       "      <td>41.966001</td>\n",
       "      <td>-87.687281</td>\n",
       "      <td>(41.96600085415316, -87.6872811861682)</td>\n",
       "      <td>36</td>\n",
       "      <td>2019</td>\n",
       "      <td>2019</td>\n",
       "      <td>15</td>\n",
       "      <td>7</td>\n",
       "      <td>10</td>\n",
       "    </tr>\n",
       "    <tr>\n",
       "      <th>171</th>\n",
       "      <td>SR19-02366062</td>\n",
       "      <td>311 INFORMATION ONLY CALL</td>\n",
       "      <td>311IOC</td>\n",
       "      <td>311 City Services</td>\n",
       "      <td>Completed</td>\n",
       "      <td>2019-09-02 07:55:43</td>\n",
       "      <td>2019-09-02 07:55:43</td>\n",
       "      <td>60612</td>\n",
       "      <td>False</td>\n",
       "      <td>False</td>\n",
       "      <td>28.0</td>\n",
       "      <td>41.871831</td>\n",
       "      <td>-87.679846</td>\n",
       "      <td>(41.871831277993564, -87.67984621876099)</td>\n",
       "      <td>0</td>\n",
       "      <td>2019</td>\n",
       "      <td>2019</td>\n",
       "      <td>7</td>\n",
       "      <td>2</td>\n",
       "      <td>9</td>\n",
       "    </tr>\n",
       "    <tr>\n",
       "      <th>175</th>\n",
       "      <td>SR19-02366112</td>\n",
       "      <td>Aircraft Noise Complaint</td>\n",
       "      <td>AVN</td>\n",
       "      <td>Aviation</td>\n",
       "      <td>Completed</td>\n",
       "      <td>2019-09-02 08:11:53</td>\n",
       "      <td>2019-09-02 08:11:53</td>\n",
       "      <td>60666</td>\n",
       "      <td>False</td>\n",
       "      <td>False</td>\n",
       "      <td>41.0</td>\n",
       "      <td>41.994897</td>\n",
       "      <td>-87.887752</td>\n",
       "      <td>(41.9948965489749, -87.8877516541201)</td>\n",
       "      <td>0</td>\n",
       "      <td>2019</td>\n",
       "      <td>2019</td>\n",
       "      <td>8</td>\n",
       "      <td>2</td>\n",
       "      <td>9</td>\n",
       "    </tr>\n",
       "    <tr>\n",
       "      <th>205</th>\n",
       "      <td>SR19-01480551</td>\n",
       "      <td>Pothole in Street Complaint</td>\n",
       "      <td>PHF</td>\n",
       "      <td>CDOT - Department of Transportation</td>\n",
       "      <td>Completed</td>\n",
       "      <td>2019-05-13 12:59:56</td>\n",
       "      <td>2019-11-02 08:01:21</td>\n",
       "      <td>60619</td>\n",
       "      <td>True</td>\n",
       "      <td>False</td>\n",
       "      <td>8.0</td>\n",
       "      <td>41.742149</td>\n",
       "      <td>-87.604865</td>\n",
       "      <td>(41.74214930362783, -87.60486531173716)</td>\n",
       "      <td>172</td>\n",
       "      <td>2019</td>\n",
       "      <td>2019</td>\n",
       "      <td>12</td>\n",
       "      <td>2</td>\n",
       "      <td>5</td>\n",
       "    </tr>\n",
       "    <tr>\n",
       "      <th>586</th>\n",
       "      <td>SR19-02763151</td>\n",
       "      <td>311 INFORMATION ONLY CALL</td>\n",
       "      <td>311IOC</td>\n",
       "      <td>311 City Services</td>\n",
       "      <td>Completed</td>\n",
       "      <td>2019-10-19 15:42:07</td>\n",
       "      <td>2019-10-19 15:42:07</td>\n",
       "      <td>60612</td>\n",
       "      <td>False</td>\n",
       "      <td>False</td>\n",
       "      <td>38.0</td>\n",
       "      <td>41.953736</td>\n",
       "      <td>-87.768543</td>\n",
       "      <td>(41.95373571422855, -87.76854307874956)</td>\n",
       "      <td>0</td>\n",
       "      <td>2019</td>\n",
       "      <td>2019</td>\n",
       "      <td>15</td>\n",
       "      <td>7</td>\n",
       "      <td>10</td>\n",
       "    </tr>\n",
       "  </tbody>\n",
       "</table>\n",
       "</div>"
      ],
      "text/plain": [
       "         SR_NUMBER                           SR_TYPE SR_SHORT_CODE  \\\n",
       "11   SR19-02763102  Sewer Cave-In Inspection Request           AAD   \n",
       "171  SR19-02366062         311 INFORMATION ONLY CALL        311IOC   \n",
       "175  SR19-02366112          Aircraft Noise Complaint           AVN   \n",
       "205  SR19-01480551       Pothole in Street Complaint           PHF   \n",
       "586  SR19-02763151         311 INFORMATION ONLY CALL        311IOC   \n",
       "\n",
       "                         OWNER_DEPARTMENT     STATUS        CREATED_DATE  \\\n",
       "11   DWM - Department of Water Management  Completed 2019-10-19 15:31:55   \n",
       "171                     311 City Services  Completed 2019-09-02 07:55:43   \n",
       "175                              Aviation  Completed 2019-09-02 08:11:53   \n",
       "205   CDOT - Department of Transportation  Completed 2019-05-13 12:59:56   \n",
       "586                     311 City Services  Completed 2019-10-19 15:42:07   \n",
       "\n",
       "            CLOSED_DATE ZIP_CODE  DUPLICATE  LEGACY_RECORD  WARD   LATITUDE  \\\n",
       "11  2019-11-25 13:34:43    60625      False          False  47.0  41.966001   \n",
       "171 2019-09-02 07:55:43    60612      False          False  28.0  41.871831   \n",
       "175 2019-09-02 08:11:53    60666      False          False  41.0  41.994897   \n",
       "205 2019-11-02 08:01:21    60619       True          False   8.0  41.742149   \n",
       "586 2019-10-19 15:42:07    60612      False          False  38.0  41.953736   \n",
       "\n",
       "     LONGITUDE                                  LOCATION  DAYS_TAKEN  \\\n",
       "11  -87.687281    (41.96600085415316, -87.6872811861682)          36   \n",
       "171 -87.679846  (41.871831277993564, -87.67984621876099)           0   \n",
       "175 -87.887752     (41.9948965489749, -87.8877516541201)           0   \n",
       "205 -87.604865   (41.74214930362783, -87.60486531173716)         172   \n",
       "586 -87.768543   (41.95373571422855, -87.76854307874956)           0   \n",
       "\n",
       "     CREATED_YEAR  CLOSED_YEAR  CREATED_HOUR  CREATED_DAY_OF_WEEK  \\\n",
       "11           2019         2019            15                    7   \n",
       "171          2019         2019             7                    2   \n",
       "175          2019         2019             8                    2   \n",
       "205          2019         2019            12                    2   \n",
       "586          2019         2019            15                    7   \n",
       "\n",
       "     CREATED_MONTH  \n",
       "11              10  \n",
       "171              9  \n",
       "175              9  \n",
       "205              5  \n",
       "586             10  "
      ]
     },
     "execution_count": 10,
     "metadata": {},
     "output_type": "execute_result"
    }
   ],
   "source": [
    "df.head(n = 5) "
   ]
  },
  {
   "cell_type": "code",
   "execution_count": 11,
   "metadata": {
    "colab": {
     "base_uri": "https://localhost:8080/",
     "height": 34
    },
    "colab_type": "code",
    "id": "OHTbP7c36v47",
    "outputId": "5b71c46e-4e78-4a84-821f-58ffda99c180"
   },
   "outputs": [
    {
     "name": "stdout",
     "output_type": "stream",
     "text": [
      "The dataframe currently has 2325604 rows and 20 columns.\n"
     ]
    }
   ],
   "source": [
    "show_col_row_count(df)"
   ]
  },
  {
   "cell_type": "code",
   "execution_count": 14,
   "metadata": {
    "colab": {
     "base_uri": "https://localhost:8080/",
     "height": 68
    },
    "colab_type": "code",
    "id": "iJ2-TB_7ONr6",
    "outputId": "60d40239-802e-4838-d3f2-c4b297fa7159"
   },
   "outputs": [
    {
     "name": "stdout",
     "output_type": "stream",
     "text": [
      "Successfully saved to ./data/cleaned_311_2018.csv.\n",
      "Successfully saved to ./data/cleaned_311_2019.csv.\n",
      "Successfully saved to ./data/cleaned_311.csv.\n"
     ]
    }
   ],
   "source": [
    "# Save the dataset\n",
    "\n",
    "# Dataset for 2018/07/01 - 2018/12/31\n",
    "df_2018 = df[(df['CREATED_DATE'] > '2018-07-01 00:00:00') & (df['CREATED_DATE'] <= '2018-12-31 23:59:59')]\n",
    "filename_2018 = \"./data/cleaned_311_2018.csv\"\n",
    "df_to_csv(df_2018, filename_2018, verbose=True)\n",
    "# Dataset for 2019/07/01 - 2019/12/31\n",
    "df_2019 = df[(df['CREATED_DATE'] > '2019-07-01 00:00:00') & (df['CREATED_DATE'] <= '2019-12-31 23:59:59')]\n",
    "filename_2019 = \"./data/cleaned_311_2019.csv\"\n",
    "df_to_csv(df_2019, filename_2019, verbose=True)\n",
    "# Entire cleaned dataset\n",
    "filename = \"./data/cleaned_311.csv\"\n",
    "df_to_csv(df, filename, verbose=True)"
   ]
  },
  {
   "cell_type": "markdown",
   "metadata": {
    "colab_type": "text",
    "id": "QFeZc6YVHf_r"
   },
   "source": [
    "## Create a dataset for Census Tract (Number of Requests and Income Level)\n",
    "\n"
   ]
  },
  {
   "cell_type": "code",
   "execution_count": 15,
   "metadata": {
    "colab": {
     "base_uri": "https://localhost:8080/",
     "height": 204
    },
    "colab_type": "code",
    "id": "2Q0s5Pm1rz56",
    "outputId": "941f4043-3e61-4cee-9b35-e0981736fbcd"
   },
   "outputs": [
    {
     "data": {
      "text/html": [
       "<div>\n",
       "<style scoped>\n",
       "    .dataframe tbody tr th:only-of-type {\n",
       "        vertical-align: middle;\n",
       "    }\n",
       "\n",
       "    .dataframe tbody tr th {\n",
       "        vertical-align: top;\n",
       "    }\n",
       "\n",
       "    .dataframe thead th {\n",
       "        text-align: right;\n",
       "    }\n",
       "</style>\n",
       "<table border=\"1\" class=\"dataframe\">\n",
       "  <thead>\n",
       "    <tr style=\"text-align: right;\">\n",
       "      <th></th>\n",
       "      <th>statefp10</th>\n",
       "      <th>name10</th>\n",
       "      <th>commarea_n</th>\n",
       "      <th>namelsad10</th>\n",
       "      <th>commarea</th>\n",
       "      <th>geoid10</th>\n",
       "      <th>notes</th>\n",
       "      <th>tractce10</th>\n",
       "      <th>countyfp10</th>\n",
       "      <th>geometry</th>\n",
       "    </tr>\n",
       "  </thead>\n",
       "  <tbody>\n",
       "    <tr>\n",
       "      <th>0</th>\n",
       "      <td>17</td>\n",
       "      <td>8424</td>\n",
       "      <td>44</td>\n",
       "      <td>Census Tract 8424</td>\n",
       "      <td>44</td>\n",
       "      <td>17031842400</td>\n",
       "      <td></td>\n",
       "      <td>842400</td>\n",
       "      <td>031</td>\n",
       "      <td>MULTIPOLYGON (((-87.62405 41.73022, -87.62405 ...</td>\n",
       "    </tr>\n",
       "    <tr>\n",
       "      <th>1</th>\n",
       "      <td>17</td>\n",
       "      <td>8403</td>\n",
       "      <td>59</td>\n",
       "      <td>Census Tract 8403</td>\n",
       "      <td>59</td>\n",
       "      <td>17031840300</td>\n",
       "      <td></td>\n",
       "      <td>840300</td>\n",
       "      <td>031</td>\n",
       "      <td>MULTIPOLYGON (((-87.68608 41.82296, -87.68607 ...</td>\n",
       "    </tr>\n",
       "    <tr>\n",
       "      <th>2</th>\n",
       "      <td>17</td>\n",
       "      <td>8411</td>\n",
       "      <td>34</td>\n",
       "      <td>Census Tract 8411</td>\n",
       "      <td>34</td>\n",
       "      <td>17031841100</td>\n",
       "      <td></td>\n",
       "      <td>841100</td>\n",
       "      <td>031</td>\n",
       "      <td>MULTIPOLYGON (((-87.62935 41.85280, -87.62934 ...</td>\n",
       "    </tr>\n",
       "    <tr>\n",
       "      <th>3</th>\n",
       "      <td>17</td>\n",
       "      <td>8412</td>\n",
       "      <td>31</td>\n",
       "      <td>Census Tract 8412</td>\n",
       "      <td>31</td>\n",
       "      <td>17031841200</td>\n",
       "      <td></td>\n",
       "      <td>841200</td>\n",
       "      <td>031</td>\n",
       "      <td>MULTIPOLYGON (((-87.68813 41.85569, -87.68816 ...</td>\n",
       "    </tr>\n",
       "    <tr>\n",
       "      <th>4</th>\n",
       "      <td>17</td>\n",
       "      <td>8390</td>\n",
       "      <td>32</td>\n",
       "      <td>Census Tract 8390</td>\n",
       "      <td>32</td>\n",
       "      <td>17031839000</td>\n",
       "      <td></td>\n",
       "      <td>839000</td>\n",
       "      <td>031</td>\n",
       "      <td>MULTIPOLYGON (((-87.63312 41.87449, -87.63306 ...</td>\n",
       "    </tr>\n",
       "  </tbody>\n",
       "</table>\n",
       "</div>"
      ],
      "text/plain": [
       "  statefp10 name10 commarea_n         namelsad10 commarea      geoid10 notes  \\\n",
       "0        17   8424         44  Census Tract 8424       44  17031842400         \n",
       "1        17   8403         59  Census Tract 8403       59  17031840300         \n",
       "2        17   8411         34  Census Tract 8411       34  17031841100         \n",
       "3        17   8412         31  Census Tract 8412       31  17031841200         \n",
       "4        17   8390         32  Census Tract 8390       32  17031839000         \n",
       "\n",
       "  tractce10 countyfp10                                           geometry  \n",
       "0    842400        031  MULTIPOLYGON (((-87.62405 41.73022, -87.62405 ...  \n",
       "1    840300        031  MULTIPOLYGON (((-87.68608 41.82296, -87.68607 ...  \n",
       "2    841100        031  MULTIPOLYGON (((-87.62935 41.85280, -87.62934 ...  \n",
       "3    841200        031  MULTIPOLYGON (((-87.68813 41.85569, -87.68816 ...  \n",
       "4    839000        031  MULTIPOLYGON (((-87.63312 41.87449, -87.63306 ...  "
      ]
     },
     "execution_count": 15,
     "metadata": {},
     "output_type": "execute_result"
    }
   ],
   "source": [
    "# Load Census Tract Polygon dataset\n",
    "tract_dir = \"./data/census_tract_boundary/tracts.geojson\"\n",
    "tracts = gpd.read_file(tract_dir)\n",
    "tracts.crs = 'epsg:4326'\n",
    "tracts.head()"
   ]
  },
  {
   "cell_type": "code",
   "execution_count": 16,
   "metadata": {
    "colab": {},
    "colab_type": "code",
    "id": "8h4zpAmFtLtF"
   },
   "outputs": [],
   "source": [
    "cleaned_311 = gpd.GeoDataFrame(df, geometry=gpd.points_from_xy(df.LONGITUDE, df.LATITUDE))"
   ]
  },
  {
   "cell_type": "code",
   "execution_count": 17,
   "metadata": {
    "colab": {
     "base_uri": "https://localhost:8080/",
     "height": 134
    },
    "colab_type": "code",
    "id": "z1JF51WKuEQO",
    "outputId": "b44a7eec-9ae2-476f-da9f-a50d2fe66fd9"
   },
   "outputs": [
    {
     "data": {
      "text/html": [
       "<div>\n",
       "<style scoped>\n",
       "    .dataframe tbody tr th:only-of-type {\n",
       "        vertical-align: middle;\n",
       "    }\n",
       "\n",
       "    .dataframe tbody tr th {\n",
       "        vertical-align: top;\n",
       "    }\n",
       "\n",
       "    .dataframe thead th {\n",
       "        text-align: right;\n",
       "    }\n",
       "</style>\n",
       "<table border=\"1\" class=\"dataframe\">\n",
       "  <thead>\n",
       "    <tr style=\"text-align: right;\">\n",
       "      <th></th>\n",
       "      <th>SR_NUMBER</th>\n",
       "      <th>SR_TYPE</th>\n",
       "      <th>SR_SHORT_CODE</th>\n",
       "      <th>OWNER_DEPARTMENT</th>\n",
       "      <th>STATUS</th>\n",
       "      <th>CREATED_DATE</th>\n",
       "      <th>CLOSED_DATE</th>\n",
       "      <th>ZIP_CODE</th>\n",
       "      <th>DUPLICATE</th>\n",
       "      <th>LEGACY_RECORD</th>\n",
       "      <th>...</th>\n",
       "      <th>LATITUDE</th>\n",
       "      <th>LONGITUDE</th>\n",
       "      <th>LOCATION</th>\n",
       "      <th>DAYS_TAKEN</th>\n",
       "      <th>CREATED_YEAR</th>\n",
       "      <th>CLOSED_YEAR</th>\n",
       "      <th>CREATED_HOUR</th>\n",
       "      <th>CREATED_DAY_OF_WEEK</th>\n",
       "      <th>CREATED_MONTH</th>\n",
       "      <th>geometry</th>\n",
       "    </tr>\n",
       "  </thead>\n",
       "  <tbody>\n",
       "    <tr>\n",
       "      <th>2203246</th>\n",
       "      <td>SR19-03155373</td>\n",
       "      <td>311 INFORMATION ONLY CALL</td>\n",
       "      <td>311IOC</td>\n",
       "      <td>311 City Services</td>\n",
       "      <td>Completed</td>\n",
       "      <td>2019-12-17 15:46:16</td>\n",
       "      <td>2019-12-17 15:46:17</td>\n",
       "      <td>60612</td>\n",
       "      <td>False</td>\n",
       "      <td>False</td>\n",
       "      <td>...</td>\n",
       "      <td>41.871831</td>\n",
       "      <td>-87.679846</td>\n",
       "      <td>(41.871831277993564, -87.67984621876099)</td>\n",
       "      <td>0</td>\n",
       "      <td>2019</td>\n",
       "      <td>2019</td>\n",
       "      <td>15</td>\n",
       "      <td>3</td>\n",
       "      <td>12</td>\n",
       "      <td>POINT (-87.67985 41.87183)</td>\n",
       "    </tr>\n",
       "  </tbody>\n",
       "</table>\n",
       "<p>1 rows × 21 columns</p>\n",
       "</div>"
      ],
      "text/plain": [
       "             SR_NUMBER                    SR_TYPE SR_SHORT_CODE  \\\n",
       "2203246  SR19-03155373  311 INFORMATION ONLY CALL        311IOC   \n",
       "\n",
       "          OWNER_DEPARTMENT     STATUS        CREATED_DATE         CLOSED_DATE  \\\n",
       "2203246  311 City Services  Completed 2019-12-17 15:46:16 2019-12-17 15:46:17   \n",
       "\n",
       "        ZIP_CODE  DUPLICATE  LEGACY_RECORD  ...   LATITUDE  LONGITUDE  \\\n",
       "2203246    60612      False          False  ...  41.871831 -87.679846   \n",
       "\n",
       "                                         LOCATION DAYS_TAKEN  CREATED_YEAR  \\\n",
       "2203246  (41.871831277993564, -87.67984621876099)          0          2019   \n",
       "\n",
       "         CLOSED_YEAR  CREATED_HOUR  CREATED_DAY_OF_WEEK  CREATED_MONTH  \\\n",
       "2203246         2019            15                    3             12   \n",
       "\n",
       "                           geometry  \n",
       "2203246  POINT (-87.67985 41.87183)  \n",
       "\n",
       "[1 rows x 21 columns]"
      ]
     },
     "execution_count": 17,
     "metadata": {},
     "output_type": "execute_result"
    }
   ],
   "source": [
    "cleaned_311.sample(n=1)"
   ]
  },
  {
   "cell_type": "code",
   "execution_count": 18,
   "metadata": {
    "colab": {},
    "colab_type": "code",
    "id": "WMsxN6A9uPdO"
   },
   "outputs": [],
   "source": [
    "cleaned_311.crs = \"epsg:4326\"\n",
    "cleaned_311 = cleaned_311[cleaned_311.geometry.type == 'Point']\n",
    "tracts_311 = gpd.sjoin(cleaned_311, tracts, how=\"inner\", op='intersects')"
   ]
  },
  {
   "cell_type": "code",
   "execution_count": 19,
   "metadata": {
    "colab": {
     "base_uri": "https://localhost:8080/",
     "height": 134
    },
    "colab_type": "code",
    "id": "SJJ_gqgew1V9",
    "outputId": "f756c753-8bbe-4a95-c5cd-c066a67ae58a"
   },
   "outputs": [
    {
     "data": {
      "text/html": [
       "<div>\n",
       "<style scoped>\n",
       "    .dataframe tbody tr th:only-of-type {\n",
       "        vertical-align: middle;\n",
       "    }\n",
       "\n",
       "    .dataframe tbody tr th {\n",
       "        vertical-align: top;\n",
       "    }\n",
       "\n",
       "    .dataframe thead th {\n",
       "        text-align: right;\n",
       "    }\n",
       "</style>\n",
       "<table border=\"1\" class=\"dataframe\">\n",
       "  <thead>\n",
       "    <tr style=\"text-align: right;\">\n",
       "      <th></th>\n",
       "      <th>SR_NUMBER</th>\n",
       "      <th>SR_TYPE</th>\n",
       "      <th>SR_SHORT_CODE</th>\n",
       "      <th>OWNER_DEPARTMENT</th>\n",
       "      <th>STATUS</th>\n",
       "      <th>CREATED_DATE</th>\n",
       "      <th>CLOSED_DATE</th>\n",
       "      <th>ZIP_CODE</th>\n",
       "      <th>DUPLICATE</th>\n",
       "      <th>LEGACY_RECORD</th>\n",
       "      <th>...</th>\n",
       "      <th>index_right</th>\n",
       "      <th>statefp10</th>\n",
       "      <th>name10</th>\n",
       "      <th>commarea_n</th>\n",
       "      <th>namelsad10</th>\n",
       "      <th>commarea</th>\n",
       "      <th>geoid10</th>\n",
       "      <th>notes</th>\n",
       "      <th>tractce10</th>\n",
       "      <th>countyfp10</th>\n",
       "    </tr>\n",
       "  </thead>\n",
       "  <tbody>\n",
       "    <tr>\n",
       "      <th>841396</th>\n",
       "      <td>SR19-02535526</td>\n",
       "      <td>311 INFORMATION ONLY CALL</td>\n",
       "      <td>311IOC</td>\n",
       "      <td>311 City Services</td>\n",
       "      <td>Completed</td>\n",
       "      <td>2019-09-20 13:29:29</td>\n",
       "      <td>2019-09-20 13:29:30</td>\n",
       "      <td>60612</td>\n",
       "      <td>False</td>\n",
       "      <td>False</td>\n",
       "      <td>...</td>\n",
       "      <td>5</td>\n",
       "      <td>17</td>\n",
       "      <td>8382</td>\n",
       "      <td>28</td>\n",
       "      <td>Census Tract 8382</td>\n",
       "      <td>28</td>\n",
       "      <td>17031838200</td>\n",
       "      <td></td>\n",
       "      <td>838200</td>\n",
       "      <td>031</td>\n",
       "    </tr>\n",
       "  </tbody>\n",
       "</table>\n",
       "<p>1 rows × 31 columns</p>\n",
       "</div>"
      ],
      "text/plain": [
       "            SR_NUMBER                    SR_TYPE SR_SHORT_CODE  \\\n",
       "841396  SR19-02535526  311 INFORMATION ONLY CALL        311IOC   \n",
       "\n",
       "         OWNER_DEPARTMENT     STATUS        CREATED_DATE         CLOSED_DATE  \\\n",
       "841396  311 City Services  Completed 2019-09-20 13:29:29 2019-09-20 13:29:30   \n",
       "\n",
       "       ZIP_CODE  DUPLICATE  LEGACY_RECORD  ...  index_right  statefp10  \\\n",
       "841396    60612      False          False  ...            5         17   \n",
       "\n",
       "        name10 commarea_n         namelsad10  commarea      geoid10  notes  \\\n",
       "841396    8382         28  Census Tract 8382        28  17031838200          \n",
       "\n",
       "        tractce10  countyfp10  \n",
       "841396     838200         031  \n",
       "\n",
       "[1 rows x 31 columns]"
      ]
     },
     "execution_count": 19,
     "metadata": {},
     "output_type": "execute_result"
    }
   ],
   "source": [
    "tracts_311.sample(n=1)"
   ]
  },
  {
   "cell_type": "code",
   "execution_count": 20,
   "metadata": {
    "colab": {},
    "colab_type": "code",
    "id": "qPEztIUCzur0"
   },
   "outputs": [],
   "source": [
    "tracts_count = tracts_311.groupby([\"namelsad10\"]).size().reset_index()\n",
    "tracts_count = tracts_count.rename(columns={0: \"Number_of_Requests\"})"
   ]
  },
  {
   "cell_type": "code",
   "execution_count": 21,
   "metadata": {
    "colab": {
     "base_uri": "https://localhost:8080/",
     "height": 80
    },
    "colab_type": "code",
    "id": "dT3xL7ZMeyvo",
    "outputId": "fb350d56-62f8-4301-f147-6e1246be1083"
   },
   "outputs": [
    {
     "data": {
      "text/html": [
       "<div>\n",
       "<style scoped>\n",
       "    .dataframe tbody tr th:only-of-type {\n",
       "        vertical-align: middle;\n",
       "    }\n",
       "\n",
       "    .dataframe tbody tr th {\n",
       "        vertical-align: top;\n",
       "    }\n",
       "\n",
       "    .dataframe thead th {\n",
       "        text-align: right;\n",
       "    }\n",
       "</style>\n",
       "<table border=\"1\" class=\"dataframe\">\n",
       "  <thead>\n",
       "    <tr style=\"text-align: right;\">\n",
       "      <th></th>\n",
       "      <th>namelsad10</th>\n",
       "      <th>Number_of_Requests</th>\n",
       "    </tr>\n",
       "  </thead>\n",
       "  <tbody>\n",
       "    <tr>\n",
       "      <th>464</th>\n",
       "      <td>Census Tract 5803</td>\n",
       "      <td>906</td>\n",
       "    </tr>\n",
       "  </tbody>\n",
       "</table>\n",
       "</div>"
      ],
      "text/plain": [
       "            namelsad10  Number_of_Requests\n",
       "464  Census Tract 5803                 906"
      ]
     },
     "execution_count": 21,
     "metadata": {},
     "output_type": "execute_result"
    }
   ],
   "source": [
    "tracts_count.sample(n=1)"
   ]
  },
  {
   "cell_type": "code",
   "execution_count": 22,
   "metadata": {
    "colab": {
     "base_uri": "https://localhost:8080/",
     "height": 214
    },
    "colab_type": "code",
    "id": "UQTExGRjcnuP",
    "outputId": "f2ba7201-ac9b-404d-a7bc-7a9e26308ca3"
   },
   "outputs": [
    {
     "data": {
      "text/html": [
       "<div>\n",
       "<style scoped>\n",
       "    .dataframe tbody tr th:only-of-type {\n",
       "        vertical-align: middle;\n",
       "    }\n",
       "\n",
       "    .dataframe tbody tr th {\n",
       "        vertical-align: top;\n",
       "    }\n",
       "\n",
       "    .dataframe thead th {\n",
       "        text-align: right;\n",
       "    }\n",
       "</style>\n",
       "<table border=\"1\" class=\"dataframe\">\n",
       "  <thead>\n",
       "    <tr style=\"text-align: right;\">\n",
       "      <th></th>\n",
       "      <th>GEO_ID</th>\n",
       "      <th>NAME</th>\n",
       "      <th>S1901_C01_001E</th>\n",
       "      <th>S1901_C01_001M</th>\n",
       "      <th>S1901_C02_001E</th>\n",
       "      <th>S1901_C02_001M</th>\n",
       "      <th>S1901_C03_001E</th>\n",
       "      <th>S1901_C03_001M</th>\n",
       "      <th>S1901_C04_001E</th>\n",
       "      <th>S1901_C04_001M</th>\n",
       "      <th>...</th>\n",
       "      <th>S1901_C04_015E</th>\n",
       "      <th>S1901_C04_015M</th>\n",
       "      <th>S1901_C01_016E</th>\n",
       "      <th>S1901_C01_016M</th>\n",
       "      <th>S1901_C02_016E</th>\n",
       "      <th>S1901_C02_016M</th>\n",
       "      <th>S1901_C03_016E</th>\n",
       "      <th>S1901_C03_016M</th>\n",
       "      <th>S1901_C04_016E</th>\n",
       "      <th>S1901_C04_016M</th>\n",
       "    </tr>\n",
       "  </thead>\n",
       "  <tbody>\n",
       "    <tr>\n",
       "      <th>1036</th>\n",
       "      <td>1400000US17031821001</td>\n",
       "      <td>Census Tract 8210.01, Cook County, Illinois</td>\n",
       "      <td>1631</td>\n",
       "      <td>85</td>\n",
       "      <td>1166</td>\n",
       "      <td>108</td>\n",
       "      <td>872</td>\n",
       "      <td>130</td>\n",
       "      <td>465</td>\n",
       "      <td>113</td>\n",
       "      <td>...</td>\n",
       "      <td>(X)</td>\n",
       "      <td>(X)</td>\n",
       "      <td>(X)</td>\n",
       "      <td>(X)</td>\n",
       "      <td>(X)</td>\n",
       "      <td>(X)</td>\n",
       "      <td>(X)</td>\n",
       "      <td>(X)</td>\n",
       "      <td>37.6</td>\n",
       "      <td>(X)</td>\n",
       "    </tr>\n",
       "  </tbody>\n",
       "</table>\n",
       "<p>1 rows × 130 columns</p>\n",
       "</div>"
      ],
      "text/plain": [
       "                    GEO_ID                                         NAME  \\\n",
       "1036  1400000US17031821001  Census Tract 8210.01, Cook County, Illinois   \n",
       "\n",
       "     S1901_C01_001E S1901_C01_001M S1901_C02_001E S1901_C02_001M  \\\n",
       "1036           1631             85           1166            108   \n",
       "\n",
       "     S1901_C03_001E S1901_C03_001M S1901_C04_001E S1901_C04_001M  ...  \\\n",
       "1036            872            130            465            113  ...   \n",
       "\n",
       "     S1901_C04_015E S1901_C04_015M S1901_C01_016E S1901_C01_016M  \\\n",
       "1036            (X)            (X)            (X)            (X)   \n",
       "\n",
       "     S1901_C02_016E S1901_C02_016M S1901_C03_016E S1901_C03_016M  \\\n",
       "1036            (X)            (X)            (X)            (X)   \n",
       "\n",
       "     S1901_C04_016E S1901_C04_016M  \n",
       "1036           37.6            (X)  \n",
       "\n",
       "[1 rows x 130 columns]"
      ]
     },
     "execution_count": 22,
     "metadata": {},
     "output_type": "execute_result"
    }
   ],
   "source": [
    "# load income dataset\n",
    "income_dir = \"./data/income_by_census_tract/income_2018_by_census_tract.csv\"\n",
    "income_df = pd.read_csv(income_dir)\n",
    "income_df.sample(n=1)"
   ]
  },
  {
   "cell_type": "code",
   "execution_count": 24,
   "metadata": {
    "colab": {},
    "colab_type": "code",
    "id": "9TPtGdtOeOd5"
   },
   "outputs": [],
   "source": [
    "# Extract Census Tract\n",
    "income_df[\"NAME\"] = income_df[\"NAME\"].apply(lambda x : extract_census_tract(x))\n",
    "\n",
    "# Save Estimate!!Households!!Mean income (dollars)\n",
    "columns = [\"NAME\", \"S1901_C01_013M\"]\n",
    "income_df = save_columns(income_df, columns)\n",
    "income_df = income_df.rename(columns={\"NAME\": \"namelsad10\", \"S1901_C01_013M\": \"Household_Income\"})"
   ]
  },
  {
   "cell_type": "code",
   "execution_count": 25,
   "metadata": {
    "colab": {
     "base_uri": "https://localhost:8080/",
     "height": 51
    },
    "colab_type": "code",
    "id": "sg6iiLtYgAeE",
    "outputId": "fb14fbc9-0c56-4871-e77d-06c044133cb9"
   },
   "outputs": [
    {
     "name": "stdout",
     "output_type": "stream",
     "text": [
      "Removing all non-numeric rows for the following columns: ['Household_Income'].\n",
      "Removed 3 rows from Household_Income.\n"
     ]
    }
   ],
   "source": [
    "# Merge it with tracts_count\n",
    "tracts_count = tracts_count.merge(income_df, on='namelsad10', how='left')\n",
    "tracts_count = drop_non_numeric(tracts_count, [\"Household_Income\"], verbose=True)"
   ]
  },
  {
   "cell_type": "code",
   "execution_count": 26,
   "metadata": {
    "colab": {
     "base_uri": "https://localhost:8080/",
     "height": 80
    },
    "colab_type": "code",
    "id": "w8hiMmxGDFG7",
    "outputId": "afc7afa8-9126-45f1-e430-9d9f22d82e4c"
   },
   "outputs": [
    {
     "data": {
      "text/html": [
       "<div>\n",
       "<style scoped>\n",
       "    .dataframe tbody tr th:only-of-type {\n",
       "        vertical-align: middle;\n",
       "    }\n",
       "\n",
       "    .dataframe tbody tr th {\n",
       "        vertical-align: top;\n",
       "    }\n",
       "\n",
       "    .dataframe thead th {\n",
       "        text-align: right;\n",
       "    }\n",
       "</style>\n",
       "<table border=\"1\" class=\"dataframe\">\n",
       "  <thead>\n",
       "    <tr style=\"text-align: right;\">\n",
       "      <th></th>\n",
       "      <th>namelsad10</th>\n",
       "      <th>Number_of_Requests</th>\n",
       "      <th>Household_Income</th>\n",
       "    </tr>\n",
       "  </thead>\n",
       "  <tbody>\n",
       "    <tr>\n",
       "      <th>435</th>\n",
       "      <td>Census Tract 5206</td>\n",
       "      <td>1242</td>\n",
       "      <td>7182</td>\n",
       "    </tr>\n",
       "  </tbody>\n",
       "</table>\n",
       "</div>"
      ],
      "text/plain": [
       "            namelsad10  Number_of_Requests Household_Income\n",
       "435  Census Tract 5206                1242             7182"
      ]
     },
     "execution_count": 26,
     "metadata": {},
     "output_type": "execute_result"
    }
   ],
   "source": [
    "tracts_count.sample(n=1)"
   ]
  },
  {
   "cell_type": "code",
   "execution_count": 27,
   "metadata": {
    "colab": {
     "base_uri": "https://localhost:8080/",
     "height": 34
    },
    "colab_type": "code",
    "id": "7hJ2HNTsjHwv",
    "outputId": "029c3f8e-8d3f-4dbc-ee0a-f870d8163ce6"
   },
   "outputs": [
    {
     "name": "stdout",
     "output_type": "stream",
     "text": [
      "Successfully saved to ./data/tracts_count.csv.\n"
     ]
    }
   ],
   "source": [
    "# Save the merged dataset\n",
    "tracts_311_count_filename = \"./data/tracts_count.csv\"\n",
    "df_to_csv(tracts_count, tracts_311_count_filename, verbose=True)"
   ]
  },
  {
   "cell_type": "code",
   "execution_count": 28,
   "metadata": {
    "colab": {
     "base_uri": "https://localhost:8080/",
     "height": 419
    },
    "colab_type": "code",
    "id": "MQmOiUAvsRQO",
    "outputId": "477e000a-083b-4920-ca6d-f7cf8a508f3b"
   },
   "outputs": [
    {
     "data": {
      "text/html": [
       "<div>\n",
       "<style scoped>\n",
       "    .dataframe tbody tr th:only-of-type {\n",
       "        vertical-align: middle;\n",
       "    }\n",
       "\n",
       "    .dataframe tbody tr th {\n",
       "        vertical-align: top;\n",
       "    }\n",
       "\n",
       "    .dataframe thead th {\n",
       "        text-align: right;\n",
       "    }\n",
       "</style>\n",
       "<table border=\"1\" class=\"dataframe\">\n",
       "  <thead>\n",
       "    <tr style=\"text-align: right;\">\n",
       "      <th></th>\n",
       "      <th>namelsad10</th>\n",
       "      <th>Number_of_Requests</th>\n",
       "      <th>Household_Income</th>\n",
       "    </tr>\n",
       "  </thead>\n",
       "  <tbody>\n",
       "    <tr>\n",
       "      <th>0</th>\n",
       "      <td>Census Tract 1001</td>\n",
       "      <td>2743</td>\n",
       "      <td>50767</td>\n",
       "    </tr>\n",
       "    <tr>\n",
       "      <th>1</th>\n",
       "      <td>Census Tract 1002</td>\n",
       "      <td>3270</td>\n",
       "      <td>10135</td>\n",
       "    </tr>\n",
       "    <tr>\n",
       "      <th>2</th>\n",
       "      <td>Census Tract 1003</td>\n",
       "      <td>3354</td>\n",
       "      <td>15620</td>\n",
       "    </tr>\n",
       "    <tr>\n",
       "      <th>3</th>\n",
       "      <td>Census Tract 1004</td>\n",
       "      <td>1589</td>\n",
       "      <td>11261</td>\n",
       "    </tr>\n",
       "    <tr>\n",
       "      <th>4</th>\n",
       "      <td>Census Tract 1005</td>\n",
       "      <td>3442</td>\n",
       "      <td>11618</td>\n",
       "    </tr>\n",
       "    <tr>\n",
       "      <th>...</th>\n",
       "      <td>...</td>\n",
       "      <td>...</td>\n",
       "      <td>...</td>\n",
       "    </tr>\n",
       "    <tr>\n",
       "      <th>794</th>\n",
       "      <td>Census Tract 8438</td>\n",
       "      <td>2215</td>\n",
       "      <td>7145</td>\n",
       "    </tr>\n",
       "    <tr>\n",
       "      <th>795</th>\n",
       "      <td>Census Tract 8439</td>\n",
       "      <td>2177</td>\n",
       "      <td>5744</td>\n",
       "    </tr>\n",
       "    <tr>\n",
       "      <th>796</th>\n",
       "      <td>Census Tract 901</td>\n",
       "      <td>1776</td>\n",
       "      <td>16964</td>\n",
       "    </tr>\n",
       "    <tr>\n",
       "      <th>797</th>\n",
       "      <td>Census Tract 902</td>\n",
       "      <td>3189</td>\n",
       "      <td>17667</td>\n",
       "    </tr>\n",
       "    <tr>\n",
       "      <th>798</th>\n",
       "      <td>Census Tract 903</td>\n",
       "      <td>3549</td>\n",
       "      <td>14871</td>\n",
       "    </tr>\n",
       "  </tbody>\n",
       "</table>\n",
       "<p>798 rows × 3 columns</p>\n",
       "</div>"
      ],
      "text/plain": [
       "            namelsad10  Number_of_Requests Household_Income\n",
       "0    Census Tract 1001                2743            50767\n",
       "1    Census Tract 1002                3270            10135\n",
       "2    Census Tract 1003                3354            15620\n",
       "3    Census Tract 1004                1589            11261\n",
       "4    Census Tract 1005                3442            11618\n",
       "..                 ...                 ...              ...\n",
       "794  Census Tract 8438                2215             7145\n",
       "795  Census Tract 8439                2177             5744\n",
       "796   Census Tract 901                1776            16964\n",
       "797   Census Tract 902                3189            17667\n",
       "798   Census Tract 903                3549            14871\n",
       "\n",
       "[798 rows x 3 columns]"
      ]
     },
     "execution_count": 28,
     "metadata": {},
     "output_type": "execute_result"
    }
   ],
   "source": [
    "tracts_count"
   ]
  },
  {
   "cell_type": "code",
   "execution_count": 30,
   "metadata": {
    "colab": {},
    "colab_type": "code",
    "id": "sHZhEfWWrchf"
   },
   "outputs": [],
   "source": [
    "tracts_count[\"color\"] = tracts_count.apply(lambda x : evaluateForBivariate(x), axis = 1)"
   ]
  },
  {
   "cell_type": "code",
   "execution_count": 31,
   "metadata": {
    "colab": {
     "base_uri": "https://localhost:8080/",
     "height": 142
    },
    "colab_type": "code",
    "id": "O8sJ8VcUJSGm",
    "outputId": "188eda3c-4583-4780-ba2f-1284e9e88c7b"
   },
   "outputs": [
    {
     "data": {
      "text/html": [
       "<div>\n",
       "<style scoped>\n",
       "    .dataframe tbody tr th:only-of-type {\n",
       "        vertical-align: middle;\n",
       "    }\n",
       "\n",
       "    .dataframe tbody tr th {\n",
       "        vertical-align: top;\n",
       "    }\n",
       "\n",
       "    .dataframe thead th {\n",
       "        text-align: right;\n",
       "    }\n",
       "</style>\n",
       "<table border=\"1\" class=\"dataframe\">\n",
       "  <thead>\n",
       "    <tr style=\"text-align: right;\">\n",
       "      <th></th>\n",
       "      <th>namelsad10</th>\n",
       "      <th>Number_of_Requests</th>\n",
       "      <th>Household_Income</th>\n",
       "      <th>color</th>\n",
       "    </tr>\n",
       "  </thead>\n",
       "  <tbody>\n",
       "    <tr>\n",
       "      <th>191</th>\n",
       "      <td>Census Tract 2503</td>\n",
       "      <td>2018</td>\n",
       "      <td>7397</td>\n",
       "      <td>#c85a5a</td>\n",
       "    </tr>\n",
       "    <tr>\n",
       "      <th>158</th>\n",
       "      <td>Census Tract 2312</td>\n",
       "      <td>3735</td>\n",
       "      <td>6628</td>\n",
       "      <td>#c85a5a</td>\n",
       "    </tr>\n",
       "    <tr>\n",
       "      <th>484</th>\n",
       "      <td>Census Tract 609</td>\n",
       "      <td>856</td>\n",
       "      <td>10415</td>\n",
       "      <td>#b0d5df</td>\n",
       "    </tr>\n",
       "  </tbody>\n",
       "</table>\n",
       "</div>"
      ],
      "text/plain": [
       "            namelsad10  Number_of_Requests Household_Income    color\n",
       "191  Census Tract 2503                2018             7397  #c85a5a\n",
       "158  Census Tract 2312                3735             6628  #c85a5a\n",
       "484   Census Tract 609                 856            10415  #b0d5df"
      ]
     },
     "execution_count": 31,
     "metadata": {},
     "output_type": "execute_result"
    }
   ],
   "source": [
    "tracts_count.sample(n=3)"
   ]
  },
  {
   "cell_type": "code",
   "execution_count": 32,
   "metadata": {
    "colab": {
     "base_uri": "https://localhost:8080/",
     "height": 34
    },
    "colab_type": "code",
    "id": "4-K7tKy9Fc1i",
    "outputId": "68d6ce8b-0364-4b83-cf31-7f186e6c20c2"
   },
   "outputs": [
    {
     "name": "stdout",
     "output_type": "stream",
     "text": [
      "Successfully saved to ./data/tracts_count.csv.\n"
     ]
    }
   ],
   "source": [
    "# Save the merged dataset\n",
    "tracts_311_count_filename = \"./data/tracts_count.csv\"\n",
    "df_to_csv(tracts_count, tracts_311_count_filename, verbose=True)"
   ]
  },
  {
   "cell_type": "code",
   "execution_count": 33,
   "metadata": {
    "colab": {},
    "colab_type": "code",
    "id": "ZItf7KeXJV6G"
   },
   "outputs": [],
   "source": [
    "tracts_311_pothole = tracts_311[(tracts_311['SR_TYPE'] == \"Pothole in Street Complaint\")]"
   ]
  },
  {
   "cell_type": "code",
   "execution_count": 34,
   "metadata": {
    "colab": {
     "base_uri": "https://localhost:8080/",
     "height": 394
    },
    "colab_type": "code",
    "id": "-0PRVhtmWswb",
    "outputId": "9b334701-79ca-46b1-f9e6-fe9abff1ce4d"
   },
   "outputs": [
    {
     "data": {
      "text/html": [
       "<div>\n",
       "<style scoped>\n",
       "    .dataframe tbody tr th:only-of-type {\n",
       "        vertical-align: middle;\n",
       "    }\n",
       "\n",
       "    .dataframe tbody tr th {\n",
       "        vertical-align: top;\n",
       "    }\n",
       "\n",
       "    .dataframe thead th {\n",
       "        text-align: right;\n",
       "    }\n",
       "</style>\n",
       "<table border=\"1\" class=\"dataframe\">\n",
       "  <thead>\n",
       "    <tr style=\"text-align: right;\">\n",
       "      <th></th>\n",
       "      <th>SR_NUMBER</th>\n",
       "      <th>SR_TYPE</th>\n",
       "      <th>SR_SHORT_CODE</th>\n",
       "      <th>OWNER_DEPARTMENT</th>\n",
       "      <th>STATUS</th>\n",
       "      <th>CREATED_DATE</th>\n",
       "      <th>CLOSED_DATE</th>\n",
       "      <th>ZIP_CODE</th>\n",
       "      <th>DUPLICATE</th>\n",
       "      <th>LEGACY_RECORD</th>\n",
       "      <th>...</th>\n",
       "      <th>index_right</th>\n",
       "      <th>statefp10</th>\n",
       "      <th>name10</th>\n",
       "      <th>commarea_n</th>\n",
       "      <th>namelsad10</th>\n",
       "      <th>commarea</th>\n",
       "      <th>geoid10</th>\n",
       "      <th>notes</th>\n",
       "      <th>tractce10</th>\n",
       "      <th>countyfp10</th>\n",
       "    </tr>\n",
       "  </thead>\n",
       "  <tbody>\n",
       "    <tr>\n",
       "      <th>54666</th>\n",
       "      <td>SR19-01638946</td>\n",
       "      <td>Pothole in Street Complaint</td>\n",
       "      <td>PHF</td>\n",
       "      <td>CDOT - Department of Transportation</td>\n",
       "      <td>Completed</td>\n",
       "      <td>2019-06-05 14:17:25</td>\n",
       "      <td>2019-10-09 14:32:20</td>\n",
       "      <td>60625</td>\n",
       "      <td>False</td>\n",
       "      <td>False</td>\n",
       "      <td>...</td>\n",
       "      <td>629</td>\n",
       "      <td>17</td>\n",
       "      <td>403</td>\n",
       "      <td>4</td>\n",
       "      <td>Census Tract 403</td>\n",
       "      <td>4</td>\n",
       "      <td>17031040300</td>\n",
       "      <td></td>\n",
       "      <td>040300</td>\n",
       "      <td>031</td>\n",
       "    </tr>\n",
       "    <tr>\n",
       "      <th>496243</th>\n",
       "      <td>SR19-02294678</td>\n",
       "      <td>Pothole in Street Complaint</td>\n",
       "      <td>PHF</td>\n",
       "      <td>CDOT - Department of Transportation</td>\n",
       "      <td>Completed</td>\n",
       "      <td>2019-08-24 15:10:03</td>\n",
       "      <td>2019-10-05 15:27:40</td>\n",
       "      <td>60651</td>\n",
       "      <td>True</td>\n",
       "      <td>False</td>\n",
       "      <td>...</td>\n",
       "      <td>576</td>\n",
       "      <td>17</td>\n",
       "      <td>2506</td>\n",
       "      <td>25</td>\n",
       "      <td>Census Tract 2506</td>\n",
       "      <td>25</td>\n",
       "      <td>17031250600</td>\n",
       "      <td></td>\n",
       "      <td>250600</td>\n",
       "      <td>031</td>\n",
       "    </tr>\n",
       "    <tr>\n",
       "      <th>1418620</th>\n",
       "      <td>SR19-00477510</td>\n",
       "      <td>Pothole in Street Complaint</td>\n",
       "      <td>PHF</td>\n",
       "      <td>CDOT - Department of Transportation</td>\n",
       "      <td>Completed</td>\n",
       "      <td>2018-07-16 23:39:29</td>\n",
       "      <td>2018-07-17 13:20:08</td>\n",
       "      <td>60637</td>\n",
       "      <td>True</td>\n",
       "      <td>True</td>\n",
       "      <td>...</td>\n",
       "      <td>139</td>\n",
       "      <td>17</td>\n",
       "      <td>8439</td>\n",
       "      <td>42</td>\n",
       "      <td>Census Tract 8439</td>\n",
       "      <td>42</td>\n",
       "      <td>17031843900</td>\n",
       "      <td>Small area in CA 43</td>\n",
       "      <td>843900</td>\n",
       "      <td>031</td>\n",
       "    </tr>\n",
       "    <tr>\n",
       "      <th>1822062</th>\n",
       "      <td>SR19-01243546</td>\n",
       "      <td>Pothole in Street Complaint</td>\n",
       "      <td>PHF</td>\n",
       "      <td>CDOT - Department of Transportation</td>\n",
       "      <td>Completed</td>\n",
       "      <td>2019-03-29 19:04:09</td>\n",
       "      <td>2019-04-18 11:07:56</td>\n",
       "      <td>60655</td>\n",
       "      <td>True</td>\n",
       "      <td>False</td>\n",
       "      <td>...</td>\n",
       "      <td>273</td>\n",
       "      <td>17</td>\n",
       "      <td>7404</td>\n",
       "      <td>74</td>\n",
       "      <td>Census Tract 7404</td>\n",
       "      <td>74</td>\n",
       "      <td>17031740400</td>\n",
       "      <td></td>\n",
       "      <td>740400</td>\n",
       "      <td>031</td>\n",
       "    </tr>\n",
       "    <tr>\n",
       "      <th>1818749</th>\n",
       "      <td>SR19-01238458</td>\n",
       "      <td>Pothole in Street Complaint</td>\n",
       "      <td>PHF</td>\n",
       "      <td>CDOT - Department of Transportation</td>\n",
       "      <td>Completed</td>\n",
       "      <td>2019-03-29 01:40:37</td>\n",
       "      <td>2019-04-03 15:47:45</td>\n",
       "      <td>60641</td>\n",
       "      <td>True</td>\n",
       "      <td>False</td>\n",
       "      <td>...</td>\n",
       "      <td>270</td>\n",
       "      <td>17</td>\n",
       "      <td>1502</td>\n",
       "      <td>15</td>\n",
       "      <td>Census Tract 1502</td>\n",
       "      <td>15</td>\n",
       "      <td>17031150200</td>\n",
       "      <td></td>\n",
       "      <td>150200</td>\n",
       "      <td>031</td>\n",
       "    </tr>\n",
       "  </tbody>\n",
       "</table>\n",
       "<p>5 rows × 31 columns</p>\n",
       "</div>"
      ],
      "text/plain": [
       "             SR_NUMBER                      SR_TYPE SR_SHORT_CODE  \\\n",
       "54666    SR19-01638946  Pothole in Street Complaint           PHF   \n",
       "496243   SR19-02294678  Pothole in Street Complaint           PHF   \n",
       "1418620  SR19-00477510  Pothole in Street Complaint           PHF   \n",
       "1822062  SR19-01243546  Pothole in Street Complaint           PHF   \n",
       "1818749  SR19-01238458  Pothole in Street Complaint           PHF   \n",
       "\n",
       "                            OWNER_DEPARTMENT     STATUS        CREATED_DATE  \\\n",
       "54666    CDOT - Department of Transportation  Completed 2019-06-05 14:17:25   \n",
       "496243   CDOT - Department of Transportation  Completed 2019-08-24 15:10:03   \n",
       "1418620  CDOT - Department of Transportation  Completed 2018-07-16 23:39:29   \n",
       "1822062  CDOT - Department of Transportation  Completed 2019-03-29 19:04:09   \n",
       "1818749  CDOT - Department of Transportation  Completed 2019-03-29 01:40:37   \n",
       "\n",
       "                CLOSED_DATE ZIP_CODE  DUPLICATE  LEGACY_RECORD  ...  \\\n",
       "54666   2019-10-09 14:32:20    60625      False          False  ...   \n",
       "496243  2019-10-05 15:27:40    60651       True          False  ...   \n",
       "1418620 2018-07-17 13:20:08    60637       True           True  ...   \n",
       "1822062 2019-04-18 11:07:56    60655       True          False  ...   \n",
       "1818749 2019-04-03 15:47:45    60641       True          False  ...   \n",
       "\n",
       "         index_right  statefp10  name10 commarea_n         namelsad10  \\\n",
       "54666            629         17     403          4   Census Tract 403   \n",
       "496243           576         17    2506         25  Census Tract 2506   \n",
       "1418620          139         17    8439         42  Census Tract 8439   \n",
       "1822062          273         17    7404         74  Census Tract 7404   \n",
       "1818749          270         17    1502         15  Census Tract 1502   \n",
       "\n",
       "         commarea      geoid10                notes  tractce10  countyfp10  \n",
       "54666           4  17031040300                          040300         031  \n",
       "496243         25  17031250600                          250600         031  \n",
       "1418620        42  17031843900  Small area in CA 43     843900         031  \n",
       "1822062        74  17031740400                          740400         031  \n",
       "1818749        15  17031150200                          150200         031  \n",
       "\n",
       "[5 rows x 31 columns]"
      ]
     },
     "execution_count": 34,
     "metadata": {},
     "output_type": "execute_result"
    }
   ],
   "source": [
    "tracts_311_pothole.sample(n=5)"
   ]
  },
  {
   "cell_type": "code",
   "execution_count": 35,
   "metadata": {
    "colab": {
     "base_uri": "https://localhost:8080/",
     "height": 34
    },
    "colab_type": "code",
    "id": "y0qEKE71xIWt",
    "outputId": "96da4f1d-bf61-4702-9893-c59de0748f8f"
   },
   "outputs": [
    {
     "name": "stdout",
     "output_type": "stream",
     "text": [
      "Successfully saved to ./data/tracts_311_pothole.csv.\n"
     ]
    }
   ],
   "source": [
    "# Save Pothole dataset\n",
    "pothole_filename = \"./data/tracts_311_pothole.csv\"\n",
    "df_to_csv(tracts_311_pothole, pothole_filename, verbose=True)"
   ]
  },
  {
   "cell_type": "code",
   "execution_count": 36,
   "metadata": {
    "colab": {
     "base_uri": "https://localhost:8080/",
     "height": 34
    },
    "colab_type": "code",
    "id": "UzZcTu2r3xN3",
    "outputId": "d7b95874-33cc-4d32-f4ea-531fbe021616"
   },
   "outputs": [
    {
     "data": {
      "text/plain": [
       "(110816, 31)"
      ]
     },
     "execution_count": 36,
     "metadata": {},
     "output_type": "execute_result"
    }
   ],
   "source": [
    "tracts_311_pothole.shape"
   ]
  },
  {
   "cell_type": "code",
   "execution_count": 37,
   "metadata": {
    "colab": {
     "base_uri": "https://localhost:8080/",
     "height": 34
    },
    "colab_type": "code",
    "id": "19PyzuGYYWpf",
    "outputId": "acdd9382-28c9-48d8-910c-1b89044b0518"
   },
   "outputs": [
    {
     "name": "stdout",
     "output_type": "stream",
     "text": [
      "Successfully saved to ./data/tracts_311_call.csv.\n"
     ]
    }
   ],
   "source": [
    "tracts_311_call = tracts_311[(tracts_311['SR_TYPE'] == \"311 INFORMATION ONLY CALL\")]\n",
    "\n",
    "# Save 311 call dataset\n",
    "call_filename = \"./data/tracts_311_call.csv\"\n",
    "df_to_csv(tracts_311_call, call_filename, verbose=True)"
   ]
  },
  {
   "cell_type": "code",
   "execution_count": 38,
   "metadata": {
    "colab": {
     "base_uri": "https://localhost:8080/"
    },
    "colab_type": "code",
    "id": "NQswFWImgfY0",
    "outputId": "af3df87b-d8c8-4bb4-d585-560566093fba"
   },
   "outputs": [
    {
     "data": {
      "text/html": [
       "<div>\n",
       "<style scoped>\n",
       "    .dataframe tbody tr th:only-of-type {\n",
       "        vertical-align: middle;\n",
       "    }\n",
       "\n",
       "    .dataframe tbody tr th {\n",
       "        vertical-align: top;\n",
       "    }\n",
       "\n",
       "    .dataframe thead th {\n",
       "        text-align: right;\n",
       "    }\n",
       "</style>\n",
       "<table border=\"1\" class=\"dataframe\">\n",
       "  <thead>\n",
       "    <tr style=\"text-align: right;\">\n",
       "      <th></th>\n",
       "      <th>SR_NUMBER</th>\n",
       "      <th>SR_TYPE</th>\n",
       "      <th>SR_SHORT_CODE</th>\n",
       "      <th>OWNER_DEPARTMENT</th>\n",
       "      <th>STATUS</th>\n",
       "      <th>CREATED_DATE</th>\n",
       "      <th>CLOSED_DATE</th>\n",
       "      <th>ZIP_CODE</th>\n",
       "      <th>DUPLICATE</th>\n",
       "      <th>LEGACY_RECORD</th>\n",
       "      <th>...</th>\n",
       "      <th>index_right</th>\n",
       "      <th>statefp10</th>\n",
       "      <th>name10</th>\n",
       "      <th>commarea_n</th>\n",
       "      <th>namelsad10</th>\n",
       "      <th>commarea</th>\n",
       "      <th>geoid10</th>\n",
       "      <th>notes</th>\n",
       "      <th>tractce10</th>\n",
       "      <th>countyfp10</th>\n",
       "    </tr>\n",
       "  </thead>\n",
       "  <tbody>\n",
       "    <tr>\n",
       "      <th>234035</th>\n",
       "      <td>SR19-02765164</td>\n",
       "      <td>311 INFORMATION ONLY CALL</td>\n",
       "      <td>311IOC</td>\n",
       "      <td>311 City Services</td>\n",
       "      <td>Completed</td>\n",
       "      <td>2019-10-20 04:06:47</td>\n",
       "      <td>2019-10-20 04:06:47</td>\n",
       "      <td>60612</td>\n",
       "      <td>False</td>\n",
       "      <td>False</td>\n",
       "      <td>...</td>\n",
       "      <td>5</td>\n",
       "      <td>17</td>\n",
       "      <td>8382</td>\n",
       "      <td>28</td>\n",
       "      <td>Census Tract 8382</td>\n",
       "      <td>28</td>\n",
       "      <td>17031838200</td>\n",
       "      <td></td>\n",
       "      <td>838200</td>\n",
       "      <td>031</td>\n",
       "    </tr>\n",
       "    <tr>\n",
       "      <th>707711</th>\n",
       "      <td>SR19-02576285</td>\n",
       "      <td>311 INFORMATION ONLY CALL</td>\n",
       "      <td>311IOC</td>\n",
       "      <td>311 City Services</td>\n",
       "      <td>Completed</td>\n",
       "      <td>2019-09-25 17:43:46</td>\n",
       "      <td>2019-09-25 17:43:46</td>\n",
       "      <td>60612</td>\n",
       "      <td>False</td>\n",
       "      <td>False</td>\n",
       "      <td>...</td>\n",
       "      <td>5</td>\n",
       "      <td>17</td>\n",
       "      <td>8382</td>\n",
       "      <td>28</td>\n",
       "      <td>Census Tract 8382</td>\n",
       "      <td>28</td>\n",
       "      <td>17031838200</td>\n",
       "      <td></td>\n",
       "      <td>838200</td>\n",
       "      <td>031</td>\n",
       "    </tr>\n",
       "    <tr>\n",
       "      <th>1763269</th>\n",
       "      <td>SR19-01155321</td>\n",
       "      <td>311 INFORMATION ONLY CALL</td>\n",
       "      <td>311IOC</td>\n",
       "      <td>311 City Services</td>\n",
       "      <td>Completed</td>\n",
       "      <td>2019-03-13 22:37:42</td>\n",
       "      <td>2019-03-13 22:37:42</td>\n",
       "      <td>60612</td>\n",
       "      <td>False</td>\n",
       "      <td>False</td>\n",
       "      <td>...</td>\n",
       "      <td>5</td>\n",
       "      <td>17</td>\n",
       "      <td>8382</td>\n",
       "      <td>28</td>\n",
       "      <td>Census Tract 8382</td>\n",
       "      <td>28</td>\n",
       "      <td>17031838200</td>\n",
       "      <td></td>\n",
       "      <td>838200</td>\n",
       "      <td>031</td>\n",
       "    </tr>\n",
       "    <tr>\n",
       "      <th>1800058</th>\n",
       "      <td>SR19-01211065</td>\n",
       "      <td>311 INFORMATION ONLY CALL</td>\n",
       "      <td>311IOC</td>\n",
       "      <td>311 City Services</td>\n",
       "      <td>Completed</td>\n",
       "      <td>2019-03-23 23:40:56</td>\n",
       "      <td>2019-03-23 23:40:56</td>\n",
       "      <td>60612</td>\n",
       "      <td>False</td>\n",
       "      <td>False</td>\n",
       "      <td>...</td>\n",
       "      <td>5</td>\n",
       "      <td>17</td>\n",
       "      <td>8382</td>\n",
       "      <td>28</td>\n",
       "      <td>Census Tract 8382</td>\n",
       "      <td>28</td>\n",
       "      <td>17031838200</td>\n",
       "      <td></td>\n",
       "      <td>838200</td>\n",
       "      <td>031</td>\n",
       "    </tr>\n",
       "    <tr>\n",
       "      <th>791962</th>\n",
       "      <td>SR19-02681449</td>\n",
       "      <td>311 INFORMATION ONLY CALL</td>\n",
       "      <td>311IOC</td>\n",
       "      <td>311 City Services</td>\n",
       "      <td>Completed</td>\n",
       "      <td>2019-10-08 22:10:15</td>\n",
       "      <td>2019-10-08 22:10:16</td>\n",
       "      <td>60612</td>\n",
       "      <td>False</td>\n",
       "      <td>False</td>\n",
       "      <td>...</td>\n",
       "      <td>5</td>\n",
       "      <td>17</td>\n",
       "      <td>8382</td>\n",
       "      <td>28</td>\n",
       "      <td>Census Tract 8382</td>\n",
       "      <td>28</td>\n",
       "      <td>17031838200</td>\n",
       "      <td></td>\n",
       "      <td>838200</td>\n",
       "      <td>031</td>\n",
       "    </tr>\n",
       "  </tbody>\n",
       "</table>\n",
       "<p>5 rows × 31 columns</p>\n",
       "</div>"
      ],
      "text/plain": [
       "             SR_NUMBER                    SR_TYPE SR_SHORT_CODE  \\\n",
       "234035   SR19-02765164  311 INFORMATION ONLY CALL        311IOC   \n",
       "707711   SR19-02576285  311 INFORMATION ONLY CALL        311IOC   \n",
       "1763269  SR19-01155321  311 INFORMATION ONLY CALL        311IOC   \n",
       "1800058  SR19-01211065  311 INFORMATION ONLY CALL        311IOC   \n",
       "791962   SR19-02681449  311 INFORMATION ONLY CALL        311IOC   \n",
       "\n",
       "          OWNER_DEPARTMENT     STATUS        CREATED_DATE         CLOSED_DATE  \\\n",
       "234035   311 City Services  Completed 2019-10-20 04:06:47 2019-10-20 04:06:47   \n",
       "707711   311 City Services  Completed 2019-09-25 17:43:46 2019-09-25 17:43:46   \n",
       "1763269  311 City Services  Completed 2019-03-13 22:37:42 2019-03-13 22:37:42   \n",
       "1800058  311 City Services  Completed 2019-03-23 23:40:56 2019-03-23 23:40:56   \n",
       "791962   311 City Services  Completed 2019-10-08 22:10:15 2019-10-08 22:10:16   \n",
       "\n",
       "        ZIP_CODE  DUPLICATE  LEGACY_RECORD  ...  index_right  statefp10  \\\n",
       "234035     60612      False          False  ...            5         17   \n",
       "707711     60612      False          False  ...            5         17   \n",
       "1763269    60612      False          False  ...            5         17   \n",
       "1800058    60612      False          False  ...            5         17   \n",
       "791962     60612      False          False  ...            5         17   \n",
       "\n",
       "         name10 commarea_n         namelsad10  commarea      geoid10  notes  \\\n",
       "234035     8382         28  Census Tract 8382        28  17031838200          \n",
       "707711     8382         28  Census Tract 8382        28  17031838200          \n",
       "1763269    8382         28  Census Tract 8382        28  17031838200          \n",
       "1800058    8382         28  Census Tract 8382        28  17031838200          \n",
       "791962     8382         28  Census Tract 8382        28  17031838200          \n",
       "\n",
       "         tractce10  countyfp10  \n",
       "234035      838200         031  \n",
       "707711      838200         031  \n",
       "1763269     838200         031  \n",
       "1800058     838200         031  \n",
       "791962      838200         031  \n",
       "\n",
       "[5 rows x 31 columns]"
      ]
     },
     "execution_count": 38,
     "metadata": {},
     "output_type": "execute_result"
    }
   ],
   "source": [
    "tracts_311_call.sample(n=5)"
   ]
  }
 ],
 "metadata": {
  "colab": {
   "authorship_tag": "ABX9TyM7mSxYmmqDc1yUGy1otLzT",
   "collapsed_sections": [],
   "name": "data_preprocessing.ipynb",
   "provenance": []
  },
  "kernelspec": {
   "display_name": "Python 3",
   "language": "python",
   "name": "python3"
  },
  "language_info": {
   "codemirror_mode": {
    "name": "ipython",
    "version": 3
   },
   "file_extension": ".py",
   "mimetype": "text/x-python",
   "name": "python",
   "nbconvert_exporter": "python",
   "pygments_lexer": "ipython3",
   "version": "3.7.6"
  }
 },
 "nbformat": 4,
 "nbformat_minor": 1
}
