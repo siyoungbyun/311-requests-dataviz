{
 "cells": [
  {
   "cell_type": "markdown",
   "metadata": {
    "colab_type": "text",
    "id": "iv2puIDxIVUR"
   },
   "source": [
    "# __311 Service Requests in Chicago__"
   ]
  },
  {
   "cell_type": "markdown",
   "metadata": {
    "colab_type": "text",
    "id": "78kvahNHWotg"
   },
   "source": [
    "## Import dependencies"
   ]
  },
  {
   "cell_type": "code",
   "execution_count": 1,
   "metadata": {
    "colab": {
     "base_uri": "https://localhost:8080/",
     "height": 1000
    },
    "colab_type": "code",
    "id": "vBft81AiWiXH",
    "outputId": "56b9e5c1-3228-4d96-dc71-f0de603c5687"
   },
   "outputs": [],
   "source": [
    "import altair as alt\n",
    "import pandas as pd\n",
    "import geopandas as gpd"
   ]
  },
  {
   "cell_type": "markdown",
   "metadata": {
    "colab_type": "text",
    "id": "PvDJYiZ5FPVm"
   },
   "source": [
    "## Helper Functions"
   ]
  },
  {
   "cell_type": "code",
   "execution_count": 98,
   "metadata": {
    "colab": {},
    "colab_type": "code",
    "id": "VitLcZrXFSHC"
   },
   "outputs": [],
   "source": [
    "def show_col_row_count(df):\n",
    "\n",
    "    row, col = df.shape\n",
    "    msg = \"The dataframe currently has {} rows and {} columns.\"\n",
    "    print(msg.format(row, col))\n",
    "\n",
    "def drop_non_numeric(df, columns, verbose=False):\n",
    "\n",
    "    if verbose:\n",
    "        rows, _ = df.shape\n",
    "        col_msg = \"Removing all non-numeric rows for the following columns: {}.\"\n",
    "        print(col_msg.format(columns))\n",
    "    for col in columns:\n",
    "        df = df[pd.to_numeric(df[col], errors=\"coerce\").notnull()]\n",
    "        if verbose:\n",
    "            new_rows, _ = df.shape\n",
    "            print(\"Removed {} rows from {}.\".format(rows - new_rows, col))\n",
    "            rows = new_rows\n",
    "    return df\n",
    "\n",
    "def drop_na(dataframe, columns, verbose=False):\n",
    "\n",
    "    if verbose:\n",
    "        rows, _ = dataframe.shape\n",
    "        col_msg = \"Removing all rows with NAs for the following columns: {}.\"\n",
    "        print(col_msg.format(columns))\n",
    "    df = dataframe.dropna(subset = columns)\n",
    "    if verbose:\n",
    "        new_rows, _ = dataframe.shape\n",
    "        print(\"Removed {} rows.\".format(rows - new_rows))\n",
    "    return df\n",
    "\n",
    "def save_columns(dataframe, columns):\n",
    "\n",
    "    dataframe = dataframe[columns]\n",
    "    return dataframe\n",
    "\n",
    "def df_to_csv(dataframe, filename, verbose=False):\n",
    "\n",
    "    try:\n",
    "        dataframe.to_csv(filename, index=False)\n",
    "        if verbose:\n",
    "            print(\"Successfully saved to {}.\".format(filename))\n",
    "    except:\n",
    "        if verbose:\n",
    "            print(\"Failed to save to {}.\".format(filename))\n",
    "\n",
    "def extract_census_tract(row):\n",
    "    return row.split(\",\")[0]\n",
    "\n",
    "def evaluateForBivariate(row):\n",
    "    # Adapted from the slack channel (Credit to Andrew McNutt)\n",
    "    colorMatrix = [\n",
    "        [\"#64acbe\", \"#627f8c\", \"#574249\"],\n",
    "        [\"#b0d5df\", \"#ad9ea5\", \"#985356\"],\n",
    "        [\"#e8e8e8\", \"#e4acac\", \"#c85a5a\"],\n",
    "    ]\n",
    "    xBoundaries = [1165.02, 1959.06]\n",
    "    xIdx = 0\n",
    "    if row[\"Number_of_Requests\"] < xBoundaries[0]:\n",
    "        xIdx = 0\n",
    "    elif row[\"Number_of_Requests\"] < xBoundaries[1]:\n",
    "        xIdx = 1\n",
    "    else:\n",
    "        xIdx = 2\n",
    "    yBoundaries = [8200.15, 12498.46]\n",
    "    yIdx = 0\n",
    "    if int(row[\"Household_Income\"]) < yBoundaries[0]:\n",
    "        yIdx = 2\n",
    "    elif int(row[\"Household_Income\"]) < yBoundaries[1]:\n",
    "        yIdx = 1\n",
    "    else:\n",
    "        yIdx = 0\n",
    "\n",
    "    return colorMatrix[yIdx][xIdx]\n",
    "\n",
    "def create_count_df_by_time(df, time_col):\n",
    "\n",
    "    df = df[[time_col, \"CREATED_YEAR\", \"STATUS\"]]\\\n",
    "        .groupby([time_col, \"CREATED_YEAR\"])\\\n",
    "        .STATUS.agg(\"count\")\\\n",
    "        .reset_index(name=\"COUNT\")\n",
    "    df[\"COUNT\"] = df[\"COUNT\"].div(1000)\n",
    "    return df\n",
    "\n",
    "def create_count_df_by_year(dfs, time_col, verbose=False):\n",
    "    \n",
    "    merged_df = create_count_df_by_time(dfs[0], time_col)\n",
    "    for df in dfs[1:]:\n",
    "        df = create_count_df_by_time(df, time_col)\n",
    "        merged_df = merged_df.append(df, ignore_index=True)\n",
    "    if verbose:\n",
    "        print(merged_df.sample(n=5))\n",
    "    return merged_df\n",
    "\n",
    "def income_by_tract(request_df, income_df):\n",
    "    \n",
    "    tracts_by_type = request_df.groupby([\"namelsad10\"]).size().reset_index()\n",
    "    tracts_by_type = tracts_by_type.rename(columns={0: \"Number_of_Requests\"})\n",
    "    tracts_by_type = tracts_by_type.merge(income_df, on='namelsad10', how='left')\n",
    "    tracts_by_type = drop_non_numeric(tracts_by_type, [\"Household_Income\"], verbose=True)\n",
    "    return tracts_by_type\n",
    "\n",
    "def request_by_tract_per_type(request_df, sr_types):\n",
    "    \n",
    "    result_df = request_df.groupby([\"namelsad10\"]).size().reset_index()\n",
    "    result_df = result_df.rename(columns={0: \"All Requests\"})\n",
    "    for sr_type in sr_types:\n",
    "        tracts_by_type = request_df[(request_df['SR_TYPE'] == sr_type)]\n",
    "        tracts_by_type = tracts_by_type.groupby([\"namelsad10\"]).size().reset_index()\n",
    "        tracts_by_type = tracts_by_type.rename(columns={0: \"{}\".format(sr_type)})\n",
    "        result_df = result_df.merge(tracts_by_type, on='namelsad10', how='left')\n",
    "    filename = \"./data/tracts_count_by_type.csv\"\n",
    "    df_to_csv(result_df, filename, verbose=True)\n",
    "        "
   ]
  },
  {
   "cell_type": "markdown",
   "metadata": {
    "colab_type": "text",
    "id": "5zncAkRmW8yy"
   },
   "source": [
    "## Load the dataset - `311_Service_Requests.csv`"
   ]
  },
  {
   "cell_type": "code",
   "execution_count": 3,
   "metadata": {
    "colab": {
     "base_uri": "https://localhost:8080/",
     "height": 51
    },
    "colab_type": "code",
    "id": "Zv1PoBr_W4_k",
    "outputId": "ca0e208a-3d67-44e3-d5c9-7210d1cd2b9f"
   },
   "outputs": [
    {
     "name": "stderr",
     "output_type": "stream",
     "text": [
      "/usr/local/lib/python3.7/dist-packages/IPython/core/interactiveshell.py:3063: DtypeWarning: Columns (11) have mixed types.Specify dtype option on import or set low_memory=False.\n",
      "  interactivity=interactivity, compiler=compiler, result=result)\n"
     ]
    }
   ],
   "source": [
    "data_dir = \"./data/311_Service_Requests_Chicago.csv\"\n",
    "dtype_dict = {\n",
    "    \"STREET_NUMBER\": \"object\",\n",
    "    \"LEGACY_SR_NUMBER\": \"object\",\n",
    "    \"PARENT_SR_NUMBER\": \"object\",\n",
    "    \"SANITATION_DIVISION_DAYS\": \"object\",\n",
    "    }\n",
    "df = pd.read_csv(data_dir, dtype=dtype_dict)"
   ]
  },
  {
   "cell_type": "code",
   "execution_count": 4,
   "metadata": {
    "colab": {},
    "colab_type": "code",
    "id": "tOOIccKLTDqU"
   },
   "outputs": [],
   "source": [
    "df[\"CREATED_DATE\"] = pd.to_datetime(df[\"CREATED_DATE\"], format='%m/%d/%Y %I:%M:%S %p')\n",
    "df[\"CREATED_YEAR\"] = df[\"CREATED_DATE\"].dt.year\n",
    "df[\"CLOSED_DATE\"].fillna(\"01/16/2020 10:20:00 PM\", inplace = True) \n",
    "df[\"CLOSED_DATE\"]= pd.to_datetime(df[\"CLOSED_DATE\"], format='%m/%d/%Y %I:%M:%S %p')\n",
    "df[\"CLOSED_YEAR\"] = df[\"CLOSED_DATE\"].dt.year\n",
    "df[\"DAYS_TAKEN\"] = df[\"CLOSED_DATE\"] - df[\"CREATED_DATE\"]\n",
    "df[\"DAYS_TAKEN\"] = df[\"DAYS_TAKEN\"].dt.days"
   ]
  },
  {
   "cell_type": "code",
   "execution_count": 5,
   "metadata": {
    "colab": {
     "base_uri": "https://localhost:8080/",
     "height": 343
    },
    "colab_type": "code",
    "id": "mJ7WAKp3Yh9Z",
    "outputId": "8fd4178c-9f48-42cb-aa6d-22e0b5c825ea"
   },
   "outputs": [
    {
     "data": {
      "text/html": [
       "<div>\n",
       "<style scoped>\n",
       "    .dataframe tbody tr th:only-of-type {\n",
       "        vertical-align: middle;\n",
       "    }\n",
       "\n",
       "    .dataframe tbody tr th {\n",
       "        vertical-align: top;\n",
       "    }\n",
       "\n",
       "    .dataframe thead th {\n",
       "        text-align: right;\n",
       "    }\n",
       "</style>\n",
       "<table border=\"1\" class=\"dataframe\">\n",
       "  <thead>\n",
       "    <tr style=\"text-align: right;\">\n",
       "      <th></th>\n",
       "      <th>SR_NUMBER</th>\n",
       "      <th>SR_TYPE</th>\n",
       "      <th>SR_SHORT_CODE</th>\n",
       "      <th>OWNER_DEPARTMENT</th>\n",
       "      <th>STATUS</th>\n",
       "      <th>CREATED_DATE</th>\n",
       "      <th>LAST_MODIFIED_DATE</th>\n",
       "      <th>CLOSED_DATE</th>\n",
       "      <th>STREET_ADDRESS</th>\n",
       "      <th>CITY</th>\n",
       "      <th>...</th>\n",
       "      <th>CREATED_DAY_OF_WEEK</th>\n",
       "      <th>CREATED_MONTH</th>\n",
       "      <th>X_COORDINATE</th>\n",
       "      <th>Y_COORDINATE</th>\n",
       "      <th>LATITUDE</th>\n",
       "      <th>LONGITUDE</th>\n",
       "      <th>LOCATION</th>\n",
       "      <th>CREATED_YEAR</th>\n",
       "      <th>CLOSED_YEAR</th>\n",
       "      <th>DAYS_TAKEN</th>\n",
       "    </tr>\n",
       "  </thead>\n",
       "  <tbody>\n",
       "    <tr>\n",
       "      <th>1499387</th>\n",
       "      <td>SR19-00626392</td>\n",
       "      <td>Street Light Out Complaint</td>\n",
       "      <td>SFD</td>\n",
       "      <td>CDOT - Department of Transportation</td>\n",
       "      <td>Completed</td>\n",
       "      <td>2018-09-17 07:40:25</td>\n",
       "      <td>05/17/2019 11:25:30 AM</td>\n",
       "      <td>2018-09-17 08:09:14</td>\n",
       "      <td>5100 N NASHVILLE AVE</td>\n",
       "      <td>CHICAGO</td>\n",
       "      <td>...</td>\n",
       "      <td>2</td>\n",
       "      <td>9</td>\n",
       "      <td>1.131492e+06</td>\n",
       "      <td>1.933570e+06</td>\n",
       "      <td>41.973978</td>\n",
       "      <td>-87.791858</td>\n",
       "      <td>(41.97397755123735, -87.79185819535458)</td>\n",
       "      <td>2018</td>\n",
       "      <td>2018</td>\n",
       "      <td>0</td>\n",
       "    </tr>\n",
       "  </tbody>\n",
       "</table>\n",
       "<p>1 rows × 40 columns</p>\n",
       "</div>"
      ],
      "text/plain": [
       "             SR_NUMBER                     SR_TYPE SR_SHORT_CODE  \\\n",
       "1499387  SR19-00626392  Street Light Out Complaint           SFD   \n",
       "\n",
       "                            OWNER_DEPARTMENT     STATUS        CREATED_DATE  \\\n",
       "1499387  CDOT - Department of Transportation  Completed 2018-09-17 07:40:25   \n",
       "\n",
       "             LAST_MODIFIED_DATE         CLOSED_DATE        STREET_ADDRESS  \\\n",
       "1499387  05/17/2019 11:25:30 AM 2018-09-17 08:09:14  5100 N NASHVILLE AVE   \n",
       "\n",
       "            CITY  ... CREATED_DAY_OF_WEEK CREATED_MONTH  X_COORDINATE  \\\n",
       "1499387  CHICAGO  ...                   2             9  1.131492e+06   \n",
       "\n",
       "         Y_COORDINATE   LATITUDE  LONGITUDE  \\\n",
       "1499387  1.933570e+06  41.973978 -87.791858   \n",
       "\n",
       "                                        LOCATION  CREATED_YEAR CLOSED_YEAR  \\\n",
       "1499387  (41.97397755123735, -87.79185819535458)          2018        2018   \n",
       "\n",
       "        DAYS_TAKEN  \n",
       "1499387          0  \n",
       "\n",
       "[1 rows x 40 columns]"
      ]
     },
     "execution_count": 5,
     "metadata": {},
     "output_type": "execute_result"
    }
   ],
   "source": [
    "df.sample(n = 1) "
   ]
  },
  {
   "cell_type": "code",
   "execution_count": 6,
   "metadata": {
    "colab": {
     "base_uri": "https://localhost:8080/",
     "height": 34
    },
    "colab_type": "code",
    "id": "fOiCi0u1-hzQ",
    "outputId": "2c110e44-68c9-41ac-c3cd-0b669692d347"
   },
   "outputs": [
    {
     "name": "stdout",
     "output_type": "stream",
     "text": [
      "The dataframe currently has 2362297 rows and 40 columns.\n"
     ]
    }
   ],
   "source": [
    "show_col_row_count(df)"
   ]
  },
  {
   "cell_type": "code",
   "execution_count": 7,
   "metadata": {
    "colab": {
     "base_uri": "https://localhost:8080/",
     "height": 51
    },
    "colab_type": "code",
    "id": "c4CKchr79-31",
    "outputId": "10f50c72-00f1-4fde-d347-52cf145fe79f"
   },
   "outputs": [
    {
     "name": "stdout",
     "output_type": "stream",
     "text": [
      "Removing all non-numeric rows for the following columns: ['ZIP_CODE'].\n",
      "Removed 17961 rows from ZIP_CODE.\n"
     ]
    }
   ],
   "source": [
    "df = drop_non_numeric(df, [\"ZIP_CODE\"], verbose=True)"
   ]
  },
  {
   "cell_type": "code",
   "execution_count": 8,
   "metadata": {
    "colab": {
     "base_uri": "https://localhost:8080/",
     "height": 51
    },
    "colab_type": "code",
    "id": "3JMxUKjzIjiA",
    "outputId": "0f40d823-5f90-4971-fe27-63292f6f8c8a"
   },
   "outputs": [
    {
     "name": "stdout",
     "output_type": "stream",
     "text": [
      "Removing all rows with NAs for the following columns: ['ZIP_CODE', 'CREATED_DATE', 'WARD', 'LOCATION', 'LATITUDE', 'LATITUDE'].\n",
      "Removed 0 rows.\n"
     ]
    }
   ],
   "source": [
    "df = drop_na(df, [\"ZIP_CODE\", \"CREATED_DATE\", \"WARD\", \"LOCATION\", \"LATITUDE\", \"LATITUDE\"], verbose=True)"
   ]
  },
  {
   "cell_type": "code",
   "execution_count": 9,
   "metadata": {
    "colab": {},
    "colab_type": "code",
    "id": "Yq7QK7axQKOB"
   },
   "outputs": [],
   "source": [
    "columns = [\n",
    "    \"SR_NUMBER\", \"SR_TYPE\", \"SR_SHORT_CODE\",\n",
    "    \"OWNER_DEPARTMENT\",\"STATUS\", \"CREATED_DATE\",\n",
    "    \"CLOSED_DATE\", \"ZIP_CODE\", \"DUPLICATE\",\n",
    "    \"LEGACY_RECORD\", \"WARD\", \"LATITUDE\",\n",
    "    \"LONGITUDE\", \"LOCATION\",\n",
    "    \"DAYS_TAKEN\", \"CREATED_YEAR\", \"CLOSED_YEAR\",\n",
    "    \"CREATED_HOUR\",\t\"CREATED_DAY_OF_WEEK\", \"CREATED_MONTH\"\n",
    "]\n",
    "df = save_columns(df, columns)"
   ]
  },
  {
   "cell_type": "code",
   "execution_count": 10,
   "metadata": {
    "colab": {
     "base_uri": "https://localhost:8080/",
     "height": 377
    },
    "colab_type": "code",
    "id": "xrxdyxYDS0M6",
    "outputId": "474b9b7b-8da2-4560-be5e-e51ef8e55360"
   },
   "outputs": [
    {
     "data": {
      "text/html": [
       "<div>\n",
       "<style scoped>\n",
       "    .dataframe tbody tr th:only-of-type {\n",
       "        vertical-align: middle;\n",
       "    }\n",
       "\n",
       "    .dataframe tbody tr th {\n",
       "        vertical-align: top;\n",
       "    }\n",
       "\n",
       "    .dataframe thead th {\n",
       "        text-align: right;\n",
       "    }\n",
       "</style>\n",
       "<table border=\"1\" class=\"dataframe\">\n",
       "  <thead>\n",
       "    <tr style=\"text-align: right;\">\n",
       "      <th></th>\n",
       "      <th>SR_NUMBER</th>\n",
       "      <th>SR_TYPE</th>\n",
       "      <th>SR_SHORT_CODE</th>\n",
       "      <th>OWNER_DEPARTMENT</th>\n",
       "      <th>STATUS</th>\n",
       "      <th>CREATED_DATE</th>\n",
       "      <th>CLOSED_DATE</th>\n",
       "      <th>ZIP_CODE</th>\n",
       "      <th>DUPLICATE</th>\n",
       "      <th>LEGACY_RECORD</th>\n",
       "      <th>WARD</th>\n",
       "      <th>LATITUDE</th>\n",
       "      <th>LONGITUDE</th>\n",
       "      <th>LOCATION</th>\n",
       "      <th>DAYS_TAKEN</th>\n",
       "      <th>CREATED_YEAR</th>\n",
       "      <th>CLOSED_YEAR</th>\n",
       "      <th>CREATED_HOUR</th>\n",
       "      <th>CREATED_DAY_OF_WEEK</th>\n",
       "      <th>CREATED_MONTH</th>\n",
       "    </tr>\n",
       "  </thead>\n",
       "  <tbody>\n",
       "    <tr>\n",
       "      <th>293343</th>\n",
       "      <td>SR19-01868203</td>\n",
       "      <td>Aircraft Noise Complaint</td>\n",
       "      <td>AVN</td>\n",
       "      <td>Aviation</td>\n",
       "      <td>Completed</td>\n",
       "      <td>2019-07-05 13:35:50</td>\n",
       "      <td>2019-07-05 13:35:51</td>\n",
       "      <td>60666</td>\n",
       "      <td>False</td>\n",
       "      <td>False</td>\n",
       "      <td>41.0</td>\n",
       "      <td>41.994897</td>\n",
       "      <td>-87.887752</td>\n",
       "      <td>(41.9948965489749, -87.8877516541201)</td>\n",
       "      <td>0</td>\n",
       "      <td>2019</td>\n",
       "      <td>2019</td>\n",
       "      <td>13</td>\n",
       "      <td>6</td>\n",
       "      <td>7</td>\n",
       "    </tr>\n",
       "  </tbody>\n",
       "</table>\n",
       "</div>"
      ],
      "text/plain": [
       "            SR_NUMBER                   SR_TYPE SR_SHORT_CODE  \\\n",
       "293343  SR19-01868203  Aircraft Noise Complaint           AVN   \n",
       "\n",
       "       OWNER_DEPARTMENT     STATUS        CREATED_DATE         CLOSED_DATE  \\\n",
       "293343         Aviation  Completed 2019-07-05 13:35:50 2019-07-05 13:35:51   \n",
       "\n",
       "       ZIP_CODE  DUPLICATE  LEGACY_RECORD  WARD   LATITUDE  LONGITUDE  \\\n",
       "293343    60666      False          False  41.0  41.994897 -87.887752   \n",
       "\n",
       "                                     LOCATION  DAYS_TAKEN  CREATED_YEAR  \\\n",
       "293343  (41.9948965489749, -87.8877516541201)           0          2019   \n",
       "\n",
       "        CLOSED_YEAR  CREATED_HOUR  CREATED_DAY_OF_WEEK  CREATED_MONTH  \n",
       "293343         2019            13                    6              7  "
      ]
     },
     "execution_count": 10,
     "metadata": {},
     "output_type": "execute_result"
    }
   ],
   "source": [
    "df.sample(n=1)"
   ]
  },
  {
   "cell_type": "code",
   "execution_count": 11,
   "metadata": {
    "colab": {
     "base_uri": "https://localhost:8080/",
     "height": 34
    },
    "colab_type": "code",
    "id": "OHTbP7c36v47",
    "outputId": "5b71c46e-4e78-4a84-821f-58ffda99c180"
   },
   "outputs": [
    {
     "name": "stdout",
     "output_type": "stream",
     "text": [
      "The dataframe currently has 2325604 rows and 20 columns.\n"
     ]
    }
   ],
   "source": [
    "show_col_row_count(df)"
   ]
  },
  {
   "cell_type": "code",
   "execution_count": 12,
   "metadata": {
    "colab": {
     "base_uri": "https://localhost:8080/",
     "height": 68
    },
    "colab_type": "code",
    "id": "iJ2-TB_7ONr6",
    "outputId": "60d40239-802e-4838-d3f2-c4b297fa7159"
   },
   "outputs": [
    {
     "name": "stdout",
     "output_type": "stream",
     "text": [
      "Successfully saved to ./data/cleaned_311_2018.csv.\n",
      "Successfully saved to ./data/cleaned_311_2019.csv.\n",
      "Successfully saved to ./data/cleaned_311.csv.\n"
     ]
    }
   ],
   "source": [
    "# Save the dataset\n",
    "\n",
    "# Dataset for 2018/07/01 - 2018/12/31\n",
    "df_2018 = df[(df['CREATED_DATE'] > '2018-07-01 00:00:00') & (df['CREATED_DATE'] <= '2018-12-31 23:59:59')]\n",
    "filename_2018 = \"./data/cleaned_311_2018.csv\"\n",
    "df_to_csv(df_2018, filename_2018, verbose=True)\n",
    "# Dataset for 2019/07/01 - 2019/12/31\n",
    "df_2019 = df[(df['CREATED_DATE'] > '2019-07-01 00:00:00') & (df['CREATED_DATE'] <= '2019-12-31 23:59:59')]\n",
    "filename_2019 = \"./data/cleaned_311_2019.csv\"\n",
    "df_to_csv(df_2019, filename_2019, verbose=True)\n",
    "# Entire cleaned dataset\n",
    "filename = \"./data/cleaned_311.csv\"\n",
    "df_to_csv(df, filename, verbose=True)"
   ]
  },
  {
   "cell_type": "code",
   "execution_count": 13,
   "metadata": {},
   "outputs": [
    {
     "name": "stdout",
     "output_type": "stream",
     "text": [
      "Successfully saved to ./data/311_requests_by_day.csv.\n"
     ]
    }
   ],
   "source": [
    "day_dict = {\n",
    "    1: \"Sunday\",\n",
    "    2: \"Monday\",\n",
    "    3: \"Tuesday\",\n",
    "    4: \"Wednesday\",\n",
    "    5: \"Thursday\",\n",
    "    6: \"Friday\",\n",
    "    7: \"Saturday\",\n",
    "}\n",
    "\n",
    "requests_by_day = create_count_df_by_year([df_2018, df_2019], \"CREATED_DAY_OF_WEEK\")\n",
    "requests_by_day[\"CREATED_DAY_OF_WEEK\"] = requests_by_day[\"CREATED_DAY_OF_WEEK\"].apply(lambda x: day_dict[x])\n",
    "\n",
    "day_filename = \"./data/311_requests_by_day.csv\"\n",
    "df_to_csv(requests_by_day, day_filename, verbose=True)"
   ]
  },
  {
   "cell_type": "code",
   "execution_count": 14,
   "metadata": {},
   "outputs": [
    {
     "name": "stdout",
     "output_type": "stream",
     "text": [
      "Successfully saved to ./data/311_requests_by_month.csv.\n"
     ]
    }
   ],
   "source": [
    "month_dict = {\n",
    "    7: \"July\",\n",
    "    8: \"August\",\n",
    "    9: \"September\",\n",
    "    10: \"October\",\n",
    "    11: \"November\",\n",
    "    12: \"December\"\n",
    "}\n",
    "requests_by_month = create_count_df_by_year([df_2018, df_2019], \"CREATED_MONTH\")\n",
    "requests_by_month[\"MONTH\"] = requests_by_month[\"CREATED_MONTH\"].apply(lambda x: month_dict[x])\n",
    "\n",
    "month_filename = \"./data/311_requests_by_month.csv\"\n",
    "df_to_csv(requests_by_month, month_filename, verbose=True)"
   ]
  },
  {
   "cell_type": "code",
   "execution_count": 39,
   "metadata": {},
   "outputs": [
    {
     "name": "stdout",
     "output_type": "stream",
     "text": [
      "Successfully saved to ./data/top_10_dept.csv.\n"
     ]
    }
   ],
   "source": [
    "dept = [\n",
    "        \"Streets and Sanitation\",\n",
    "        \"CDOT - Department of Transportation\",\n",
    "        \"DWM - Department of Water Management\",\n",
    "        \"DOB - Buildings\",\n",
    "        \"Animal Care and Control\",\n",
    "        \"BACP - Business Affairs and Consumer Protection\",\n",
    "        \"311 City Services\"\n",
    "        ]\n",
    "dept_dict = {\n",
    "    \"Streets and Sanitation\": \"Streets and Sanitation\",\n",
    "    \"CDOT - Department of Transportation\": \"Transportation\",\n",
    "    \"DWM - Department of Water Management\": \"Water Management\",\n",
    "    \"DOB - Buildings\": \"Buildings\",\n",
    "    \"Animal Care and Control\": \"Animal Care / Control\",\n",
    "    \"BACP - Business Affairs and Consumer Protection\": \"Business Affairs\",\n",
    "    \"311 City Services\": \"311 City Services\"\n",
    "    }\n",
    "\n",
    "dept_count = df_2018.groupby(['OWNER_DEPARTMENT', \"CREATED_YEAR\"]).size().sort_values(ascending=False).reset_index(name='COUNT')\n",
    "top_10_type_2018 = dept_count.nlargest(8, 'COUNT')\n",
    "dept_count = df_2019.groupby(['OWNER_DEPARTMENT', \"CREATED_YEAR\"]).size().sort_values(ascending=False).reset_index(name='COUNT')\n",
    "top_10_type_2019 = dept_count.nlargest(8, 'COUNT')\n",
    "\n",
    "top_10_type = top_10_type_2018.append(top_10_type_2019, ignore_index=True)\n",
    "top_10_type = top_10_type[top_10_type.OWNER_DEPARTMENT.isin(dept)].reset_index(drop=True)\n",
    "top_10_type[\"OWNER_DEPARTMENT\"] = top_10_type[\"OWNER_DEPARTMENT\"].apply(lambda x: dept_dict[x])\n",
    "top_10_type[\"COUNT\"] = top_10_type[\"COUNT\"] / 1000\n",
    "\n",
    "top_10_filename = \"./data/top_10_dept.csv\"\n",
    "df_to_csv(top_10_type, top_10_filename, verbose=True)"
   ]
  },
  {
   "cell_type": "code",
   "execution_count": 40,
   "metadata": {},
   "outputs": [
    {
     "data": {
      "text/html": [
       "<div>\n",
       "<style scoped>\n",
       "    .dataframe tbody tr th:only-of-type {\n",
       "        vertical-align: middle;\n",
       "    }\n",
       "\n",
       "    .dataframe tbody tr th {\n",
       "        vertical-align: top;\n",
       "    }\n",
       "\n",
       "    .dataframe thead th {\n",
       "        text-align: right;\n",
       "    }\n",
       "</style>\n",
       "<table border=\"1\" class=\"dataframe\">\n",
       "  <thead>\n",
       "    <tr style=\"text-align: right;\">\n",
       "      <th></th>\n",
       "      <th>OWNER_DEPARTMENT</th>\n",
       "      <th>CREATED_YEAR</th>\n",
       "      <th>COUNT</th>\n",
       "    </tr>\n",
       "  </thead>\n",
       "  <tbody>\n",
       "    <tr>\n",
       "      <th>12</th>\n",
       "      <td>Buildings</td>\n",
       "      <td>2019</td>\n",
       "      <td>18.044</td>\n",
       "    </tr>\n",
       "  </tbody>\n",
       "</table>\n",
       "</div>"
      ],
      "text/plain": [
       "   OWNER_DEPARTMENT  CREATED_YEAR   COUNT\n",
       "12        Buildings          2019  18.044"
      ]
     },
     "execution_count": 40,
     "metadata": {},
     "output_type": "execute_result"
    }
   ],
   "source": [
    "top_10_type.sample(n=1)"
   ]
  },
  {
   "cell_type": "code",
   "execution_count": 56,
   "metadata": {},
   "outputs": [
    {
     "name": "stdout",
     "output_type": "stream",
     "text": [
      "Successfully saved to ./data/top_10_sr_type.csv.\n"
     ]
    }
   ],
   "source": [
    "top_10_sr_type_2018 = df_2018.groupby(['SR_TYPE', \"CREATED_YEAR\"]).size().sort_values(ascending=False).reset_index(name='COUNT')\n",
    "top_10_sr_type_2019 = df_2019.groupby(['SR_TYPE', \"CREATED_YEAR\"]).size().sort_values(ascending=False).reset_index(name='COUNT')\n",
    "sr_type = [\n",
    "    \"Aircraft Noise Complaint\",\n",
    "    \"Pothole in Street Complaint\",\n",
    "    \"Rodent Baiting/Rat Complaint\",\n",
    "    \"311 INFORMATION ONLY CALL\",\n",
    "    \"Street Light Out Complaint\",\n",
    "    \"Graffiti Removal Request\"\n",
    "    ]\n",
    "top_10_sr_type = top_10_sr_type_2018.append(top_10_sr_type_2019, ignore_index=True)\n",
    "top_10_sr_type = top_10_sr_type[top_10_sr_type.SR_TYPE.isin(sr_type)].reset_index(drop=True)\n",
    "#top_10_sr_type[\"SR_TYPE\"] = top_10_sr_type[\"SR_TYPE\"].apply(lambda x: dept_dict[x])\n",
    "top_10_sr_type[\"COUNT\"] = top_10_sr_type[\"COUNT\"] / 1000\n",
    "\n",
    "top_10_sr_filename = \"./data/top_10_sr_type.csv\"\n",
    "df_to_csv(top_10_sr_type, top_10_sr_filename, verbose=True)"
   ]
  },
  {
   "cell_type": "code",
   "execution_count": 57,
   "metadata": {},
   "outputs": [
    {
     "data": {
      "text/html": [
       "<div>\n",
       "<style scoped>\n",
       "    .dataframe tbody tr th:only-of-type {\n",
       "        vertical-align: middle;\n",
       "    }\n",
       "\n",
       "    .dataframe tbody tr th {\n",
       "        vertical-align: top;\n",
       "    }\n",
       "\n",
       "    .dataframe thead th {\n",
       "        text-align: right;\n",
       "    }\n",
       "</style>\n",
       "<table border=\"1\" class=\"dataframe\">\n",
       "  <thead>\n",
       "    <tr style=\"text-align: right;\">\n",
       "      <th></th>\n",
       "      <th>SR_TYPE</th>\n",
       "      <th>CREATED_YEAR</th>\n",
       "      <th>COUNT</th>\n",
       "    </tr>\n",
       "  </thead>\n",
       "  <tbody>\n",
       "    <tr>\n",
       "      <th>0</th>\n",
       "      <td>Graffiti Removal Request</td>\n",
       "      <td>2018</td>\n",
       "      <td>49.983</td>\n",
       "    </tr>\n",
       "    <tr>\n",
       "      <th>1</th>\n",
       "      <td>Street Light Out Complaint</td>\n",
       "      <td>2018</td>\n",
       "      <td>42.677</td>\n",
       "    </tr>\n",
       "    <tr>\n",
       "      <th>2</th>\n",
       "      <td>Rodent Baiting/Rat Complaint</td>\n",
       "      <td>2018</td>\n",
       "      <td>24.243</td>\n",
       "    </tr>\n",
       "    <tr>\n",
       "      <th>3</th>\n",
       "      <td>Pothole in Street Complaint</td>\n",
       "      <td>2018</td>\n",
       "      <td>20.114</td>\n",
       "    </tr>\n",
       "    <tr>\n",
       "      <th>4</th>\n",
       "      <td>311 INFORMATION ONLY CALL</td>\n",
       "      <td>2018</td>\n",
       "      <td>17.812</td>\n",
       "    </tr>\n",
       "    <tr>\n",
       "      <th>5</th>\n",
       "      <td>Aircraft Noise Complaint</td>\n",
       "      <td>2018</td>\n",
       "      <td>1.825</td>\n",
       "    </tr>\n",
       "    <tr>\n",
       "      <th>6</th>\n",
       "      <td>311 INFORMATION ONLY CALL</td>\n",
       "      <td>2019</td>\n",
       "      <td>348.179</td>\n",
       "    </tr>\n",
       "    <tr>\n",
       "      <th>7</th>\n",
       "      <td>Aircraft Noise Complaint</td>\n",
       "      <td>2019</td>\n",
       "      <td>243.317</td>\n",
       "    </tr>\n",
       "    <tr>\n",
       "      <th>8</th>\n",
       "      <td>Street Light Out Complaint</td>\n",
       "      <td>2019</td>\n",
       "      <td>51.460</td>\n",
       "    </tr>\n",
       "    <tr>\n",
       "      <th>9</th>\n",
       "      <td>Graffiti Removal Request</td>\n",
       "      <td>2019</td>\n",
       "      <td>49.783</td>\n",
       "    </tr>\n",
       "    <tr>\n",
       "      <th>10</th>\n",
       "      <td>Pothole in Street Complaint</td>\n",
       "      <td>2019</td>\n",
       "      <td>32.244</td>\n",
       "    </tr>\n",
       "    <tr>\n",
       "      <th>11</th>\n",
       "      <td>Rodent Baiting/Rat Complaint</td>\n",
       "      <td>2019</td>\n",
       "      <td>27.435</td>\n",
       "    </tr>\n",
       "  </tbody>\n",
       "</table>\n",
       "</div>"
      ],
      "text/plain": [
       "                         SR_TYPE  CREATED_YEAR    COUNT\n",
       "0       Graffiti Removal Request          2018   49.983\n",
       "1     Street Light Out Complaint          2018   42.677\n",
       "2   Rodent Baiting/Rat Complaint          2018   24.243\n",
       "3    Pothole in Street Complaint          2018   20.114\n",
       "4      311 INFORMATION ONLY CALL          2018   17.812\n",
       "5       Aircraft Noise Complaint          2018    1.825\n",
       "6      311 INFORMATION ONLY CALL          2019  348.179\n",
       "7       Aircraft Noise Complaint          2019  243.317\n",
       "8     Street Light Out Complaint          2019   51.460\n",
       "9       Graffiti Removal Request          2019   49.783\n",
       "10   Pothole in Street Complaint          2019   32.244\n",
       "11  Rodent Baiting/Rat Complaint          2019   27.435"
      ]
     },
     "execution_count": 57,
     "metadata": {},
     "output_type": "execute_result"
    }
   ],
   "source": [
    "top_10_sr_type"
   ]
  },
  {
   "cell_type": "markdown",
   "metadata": {},
   "source": [
    "## Create a dataset related to the budget for Chicago"
   ]
  },
  {
   "cell_type": "code",
   "execution_count": 41,
   "metadata": {},
   "outputs": [
    {
     "name": "stdout",
     "output_type": "stream",
     "text": [
      "Successfully saved to ./data/budget.csv.\n"
     ]
    }
   ],
   "source": [
    "budget_dir = \"./data/budget/2019_Budget_Ordinance.csv\"\n",
    "budget_df = pd.read_csv(budget_dir)\n",
    "dept = [\n",
    "        \"DSS\",\n",
    "        \"CDOT\",\n",
    "        \"DWM\",\n",
    "        \"BUILDINGS\",\n",
    "        \"ANIMAL CARE / CONTROL\",\n",
    "    ]\n",
    "dept_dict = {\n",
    "    \"DSS\": \"Streets and Sanitation\",\n",
    "    \"CDOT\": \"Transportation\",\n",
    "    \"DWM\": \"Water Management\",\n",
    "    \"BUILDINGS\": \"Buildings\",\n",
    "    \"ANIMAL CARE / CONTROL\": \"Animal Care / Control\",\n",
    "    }\n",
    "budget_df = budget_df[budget_df[\"DEPARTMENT DESCRIPTION\"].isin(dept)].reset_index(drop=True)\n",
    "budget_df[\"DEPARTMENT DESCRIPTION\"] = budget_df[\"DEPARTMENT DESCRIPTION\"].apply(lambda x: dept_dict[x])\n",
    "budget_df = budget_df.groupby(['DEPARTMENT DESCRIPTION'])['2019 ORDINANCE (AMOUNT $)'].agg('sum').reset_index()\n",
    "budget_df[\"2019 ORDINANCE (AMOUNT $)\"] = budget_df[\"2019 ORDINANCE (AMOUNT $)\"]/1000000\n",
    "budget_df = budget_df.rename(columns={\"DEPARTMENT DESCRIPTION\": \"OWNER_DEPARTMENT\"})\n",
    "budget_df = budget_df.merge(top_10_type[top_10_type[\"CREATED_YEAR\"]==2019], on='OWNER_DEPARTMENT', how='left')\n",
    "budget_filename = \"./data/budget.csv\"\n",
    "df_to_csv(budget_df, budget_filename, verbose=True)"
   ]
  },
  {
   "cell_type": "markdown",
   "metadata": {
    "colab_type": "text",
    "id": "QFeZc6YVHf_r"
   },
   "source": [
    "## Create a dataset for Census Tract (Number of Requests and Income Level)\n",
    "\n"
   ]
  },
  {
   "cell_type": "code",
   "execution_count": 15,
   "metadata": {
    "colab": {
     "base_uri": "https://localhost:8080/",
     "height": 204
    },
    "colab_type": "code",
    "id": "2Q0s5Pm1rz56",
    "outputId": "941f4043-3e61-4cee-9b35-e0981736fbcd"
   },
   "outputs": [
    {
     "data": {
      "text/html": [
       "<div>\n",
       "<style scoped>\n",
       "    .dataframe tbody tr th:only-of-type {\n",
       "        vertical-align: middle;\n",
       "    }\n",
       "\n",
       "    .dataframe tbody tr th {\n",
       "        vertical-align: top;\n",
       "    }\n",
       "\n",
       "    .dataframe thead th {\n",
       "        text-align: right;\n",
       "    }\n",
       "</style>\n",
       "<table border=\"1\" class=\"dataframe\">\n",
       "  <thead>\n",
       "    <tr style=\"text-align: right;\">\n",
       "      <th></th>\n",
       "      <th>statefp10</th>\n",
       "      <th>name10</th>\n",
       "      <th>commarea_n</th>\n",
       "      <th>namelsad10</th>\n",
       "      <th>commarea</th>\n",
       "      <th>geoid10</th>\n",
       "      <th>notes</th>\n",
       "      <th>tractce10</th>\n",
       "      <th>countyfp10</th>\n",
       "      <th>geometry</th>\n",
       "    </tr>\n",
       "  </thead>\n",
       "  <tbody>\n",
       "    <tr>\n",
       "      <th>274</th>\n",
       "      <td>17</td>\n",
       "      <td>204</td>\n",
       "      <td>2</td>\n",
       "      <td>Census Tract 204</td>\n",
       "      <td>2</td>\n",
       "      <td>17031020400</td>\n",
       "      <td></td>\n",
       "      <td>020400</td>\n",
       "      <td>031</td>\n",
       "      <td>MULTIPOLYGON (((-87.68380 42.01221, -87.68352 ...</td>\n",
       "    </tr>\n",
       "  </tbody>\n",
       "</table>\n",
       "</div>"
      ],
      "text/plain": [
       "    statefp10 name10 commarea_n        namelsad10 commarea      geoid10 notes  \\\n",
       "274        17    204          2  Census Tract 204        2  17031020400         \n",
       "\n",
       "    tractce10 countyfp10                                           geometry  \n",
       "274    020400        031  MULTIPOLYGON (((-87.68380 42.01221, -87.68352 ...  "
      ]
     },
     "execution_count": 15,
     "metadata": {},
     "output_type": "execute_result"
    }
   ],
   "source": [
    "# Load Census Tract Polygon dataset\n",
    "tract_dir = \"./data/census_tract_boundary/tracts.geojson\"\n",
    "tracts = gpd.read_file(tract_dir)\n",
    "tracts.crs = 'epsg:4326'\n",
    "tracts.sample(n=1)"
   ]
  },
  {
   "cell_type": "code",
   "execution_count": 16,
   "metadata": {
    "colab": {},
    "colab_type": "code",
    "id": "8h4zpAmFtLtF"
   },
   "outputs": [],
   "source": [
    "cleaned_311 = gpd.GeoDataFrame(df, geometry=gpd.points_from_xy(df.LONGITUDE, df.LATITUDE))"
   ]
  },
  {
   "cell_type": "code",
   "execution_count": 17,
   "metadata": {
    "colab": {
     "base_uri": "https://localhost:8080/",
     "height": 134
    },
    "colab_type": "code",
    "id": "z1JF51WKuEQO",
    "outputId": "b44a7eec-9ae2-476f-da9f-a50d2fe66fd9"
   },
   "outputs": [
    {
     "data": {
      "text/html": [
       "<div>\n",
       "<style scoped>\n",
       "    .dataframe tbody tr th:only-of-type {\n",
       "        vertical-align: middle;\n",
       "    }\n",
       "\n",
       "    .dataframe tbody tr th {\n",
       "        vertical-align: top;\n",
       "    }\n",
       "\n",
       "    .dataframe thead th {\n",
       "        text-align: right;\n",
       "    }\n",
       "</style>\n",
       "<table border=\"1\" class=\"dataframe\">\n",
       "  <thead>\n",
       "    <tr style=\"text-align: right;\">\n",
       "      <th></th>\n",
       "      <th>SR_NUMBER</th>\n",
       "      <th>SR_TYPE</th>\n",
       "      <th>SR_SHORT_CODE</th>\n",
       "      <th>OWNER_DEPARTMENT</th>\n",
       "      <th>STATUS</th>\n",
       "      <th>CREATED_DATE</th>\n",
       "      <th>CLOSED_DATE</th>\n",
       "      <th>ZIP_CODE</th>\n",
       "      <th>DUPLICATE</th>\n",
       "      <th>LEGACY_RECORD</th>\n",
       "      <th>...</th>\n",
       "      <th>LATITUDE</th>\n",
       "      <th>LONGITUDE</th>\n",
       "      <th>LOCATION</th>\n",
       "      <th>DAYS_TAKEN</th>\n",
       "      <th>CREATED_YEAR</th>\n",
       "      <th>CLOSED_YEAR</th>\n",
       "      <th>CREATED_HOUR</th>\n",
       "      <th>CREATED_DAY_OF_WEEK</th>\n",
       "      <th>CREATED_MONTH</th>\n",
       "      <th>geometry</th>\n",
       "    </tr>\n",
       "  </thead>\n",
       "  <tbody>\n",
       "    <tr>\n",
       "      <th>1662951</th>\n",
       "      <td>SR19-00999245</td>\n",
       "      <td>Water On Street Complaint</td>\n",
       "      <td>AAE</td>\n",
       "      <td>DWM - Department of Water Management</td>\n",
       "      <td>Open</td>\n",
       "      <td>2019-02-12 08:29:00</td>\n",
       "      <td>2020-01-16 22:20:00</td>\n",
       "      <td>60649</td>\n",
       "      <td>False</td>\n",
       "      <td>False</td>\n",
       "      <td>...</td>\n",
       "      <td>41.75577</td>\n",
       "      <td>-87.584259</td>\n",
       "      <td>(41.755769845808246, -87.58425944985173)</td>\n",
       "      <td>338</td>\n",
       "      <td>2019</td>\n",
       "      <td>2020</td>\n",
       "      <td>8</td>\n",
       "      <td>3</td>\n",
       "      <td>2</td>\n",
       "      <td>POINT (-87.58426 41.75577)</td>\n",
       "    </tr>\n",
       "  </tbody>\n",
       "</table>\n",
       "<p>1 rows × 21 columns</p>\n",
       "</div>"
      ],
      "text/plain": [
       "             SR_NUMBER                    SR_TYPE SR_SHORT_CODE  \\\n",
       "1662951  SR19-00999245  Water On Street Complaint           AAE   \n",
       "\n",
       "                             OWNER_DEPARTMENT STATUS        CREATED_DATE  \\\n",
       "1662951  DWM - Department of Water Management   Open 2019-02-12 08:29:00   \n",
       "\n",
       "                CLOSED_DATE ZIP_CODE  DUPLICATE  LEGACY_RECORD  ...  LATITUDE  \\\n",
       "1662951 2020-01-16 22:20:00    60649      False          False  ...  41.75577   \n",
       "\n",
       "         LONGITUDE                                  LOCATION DAYS_TAKEN  \\\n",
       "1662951 -87.584259  (41.755769845808246, -87.58425944985173)        338   \n",
       "\n",
       "         CREATED_YEAR  CLOSED_YEAR  CREATED_HOUR  CREATED_DAY_OF_WEEK  \\\n",
       "1662951          2019         2020             8                    3   \n",
       "\n",
       "         CREATED_MONTH                    geometry  \n",
       "1662951              2  POINT (-87.58426 41.75577)  \n",
       "\n",
       "[1 rows x 21 columns]"
      ]
     },
     "execution_count": 17,
     "metadata": {},
     "output_type": "execute_result"
    }
   ],
   "source": [
    "cleaned_311.sample(n=1)"
   ]
  },
  {
   "cell_type": "code",
   "execution_count": 18,
   "metadata": {
    "colab": {},
    "colab_type": "code",
    "id": "WMsxN6A9uPdO"
   },
   "outputs": [],
   "source": [
    "cleaned_311.crs = \"epsg:4326\"\n",
    "cleaned_311 = cleaned_311[cleaned_311.geometry.type == 'Point']\n",
    "tracts_311 = gpd.sjoin(cleaned_311, tracts, how=\"inner\", op='intersects')"
   ]
  },
  {
   "cell_type": "code",
   "execution_count": 19,
   "metadata": {
    "colab": {
     "base_uri": "https://localhost:8080/",
     "height": 134
    },
    "colab_type": "code",
    "id": "SJJ_gqgew1V9",
    "outputId": "f756c753-8bbe-4a95-c5cd-c066a67ae58a"
   },
   "outputs": [
    {
     "data": {
      "text/html": [
       "<div>\n",
       "<style scoped>\n",
       "    .dataframe tbody tr th:only-of-type {\n",
       "        vertical-align: middle;\n",
       "    }\n",
       "\n",
       "    .dataframe tbody tr th {\n",
       "        vertical-align: top;\n",
       "    }\n",
       "\n",
       "    .dataframe thead th {\n",
       "        text-align: right;\n",
       "    }\n",
       "</style>\n",
       "<table border=\"1\" class=\"dataframe\">\n",
       "  <thead>\n",
       "    <tr style=\"text-align: right;\">\n",
       "      <th></th>\n",
       "      <th>SR_NUMBER</th>\n",
       "      <th>SR_TYPE</th>\n",
       "      <th>SR_SHORT_CODE</th>\n",
       "      <th>OWNER_DEPARTMENT</th>\n",
       "      <th>STATUS</th>\n",
       "      <th>CREATED_DATE</th>\n",
       "      <th>CLOSED_DATE</th>\n",
       "      <th>ZIP_CODE</th>\n",
       "      <th>DUPLICATE</th>\n",
       "      <th>LEGACY_RECORD</th>\n",
       "      <th>...</th>\n",
       "      <th>index_right</th>\n",
       "      <th>statefp10</th>\n",
       "      <th>name10</th>\n",
       "      <th>commarea_n</th>\n",
       "      <th>namelsad10</th>\n",
       "      <th>commarea</th>\n",
       "      <th>geoid10</th>\n",
       "      <th>notes</th>\n",
       "      <th>tractce10</th>\n",
       "      <th>countyfp10</th>\n",
       "    </tr>\n",
       "  </thead>\n",
       "  <tbody>\n",
       "    <tr>\n",
       "      <th>203169</th>\n",
       "      <td>SR19-01832172</td>\n",
       "      <td>311 INFORMATION ONLY CALL</td>\n",
       "      <td>311IOC</td>\n",
       "      <td>311 City Services</td>\n",
       "      <td>Completed</td>\n",
       "      <td>2019-07-01 07:28:16</td>\n",
       "      <td>2019-07-01 07:28:16</td>\n",
       "      <td>60612</td>\n",
       "      <td>False</td>\n",
       "      <td>False</td>\n",
       "      <td>...</td>\n",
       "      <td>5</td>\n",
       "      <td>17</td>\n",
       "      <td>8382</td>\n",
       "      <td>28</td>\n",
       "      <td>Census Tract 8382</td>\n",
       "      <td>28</td>\n",
       "      <td>17031838200</td>\n",
       "      <td></td>\n",
       "      <td>838200</td>\n",
       "      <td>031</td>\n",
       "    </tr>\n",
       "  </tbody>\n",
       "</table>\n",
       "<p>1 rows × 31 columns</p>\n",
       "</div>"
      ],
      "text/plain": [
       "            SR_NUMBER                    SR_TYPE SR_SHORT_CODE  \\\n",
       "203169  SR19-01832172  311 INFORMATION ONLY CALL        311IOC   \n",
       "\n",
       "         OWNER_DEPARTMENT     STATUS        CREATED_DATE         CLOSED_DATE  \\\n",
       "203169  311 City Services  Completed 2019-07-01 07:28:16 2019-07-01 07:28:16   \n",
       "\n",
       "       ZIP_CODE  DUPLICATE  LEGACY_RECORD  ...  index_right  statefp10  \\\n",
       "203169    60612      False          False  ...            5         17   \n",
       "\n",
       "        name10 commarea_n         namelsad10  commarea      geoid10  notes  \\\n",
       "203169    8382         28  Census Tract 8382        28  17031838200          \n",
       "\n",
       "        tractce10  countyfp10  \n",
       "203169     838200         031  \n",
       "\n",
       "[1 rows x 31 columns]"
      ]
     },
     "execution_count": 19,
     "metadata": {},
     "output_type": "execute_result"
    }
   ],
   "source": [
    "tracts_311.sample(n=1)"
   ]
  },
  {
   "cell_type": "code",
   "execution_count": 20,
   "metadata": {
    "colab": {},
    "colab_type": "code",
    "id": "qPEztIUCzur0"
   },
   "outputs": [],
   "source": [
    "# tracts_311_call = tracts_311[(tracts_311['SR_TYPE'] == \"311 INFORMATION ONLY CALL\")]\n",
    "# tracts_count = tracts_311.groupby([\"namelsad10\"]).size().reset_index()\n",
    "# tracts_count = tracts_count.rename(columns={0: \"Number_of_Requests\"})"
   ]
  },
  {
   "cell_type": "code",
   "execution_count": 21,
   "metadata": {
    "colab": {
     "base_uri": "https://localhost:8080/",
     "height": 80
    },
    "colab_type": "code",
    "id": "dT3xL7ZMeyvo",
    "outputId": "fb350d56-62f8-4301-f147-6e1246be1083"
   },
   "outputs": [
    {
     "data": {
      "text/html": [
       "<div>\n",
       "<style scoped>\n",
       "    .dataframe tbody tr th:only-of-type {\n",
       "        vertical-align: middle;\n",
       "    }\n",
       "\n",
       "    .dataframe tbody tr th {\n",
       "        vertical-align: top;\n",
       "    }\n",
       "\n",
       "    .dataframe thead th {\n",
       "        text-align: right;\n",
       "    }\n",
       "</style>\n",
       "<table border=\"1\" class=\"dataframe\">\n",
       "  <thead>\n",
       "    <tr style=\"text-align: right;\">\n",
       "      <th></th>\n",
       "      <th>namelsad10</th>\n",
       "      <th>Number_of_Requests</th>\n",
       "    </tr>\n",
       "  </thead>\n",
       "  <tbody>\n",
       "    <tr>\n",
       "      <th>337</th>\n",
       "      <td>Census Tract 407</td>\n",
       "      <td>1897</td>\n",
       "    </tr>\n",
       "  </tbody>\n",
       "</table>\n",
       "</div>"
      ],
      "text/plain": [
       "           namelsad10  Number_of_Requests\n",
       "337  Census Tract 407                1897"
      ]
     },
     "execution_count": 21,
     "metadata": {},
     "output_type": "execute_result"
    }
   ],
   "source": [
    "tracts_count.sample(n=1)"
   ]
  },
  {
   "cell_type": "code",
   "execution_count": 22,
   "metadata": {
    "colab": {
     "base_uri": "https://localhost:8080/",
     "height": 214
    },
    "colab_type": "code",
    "id": "UQTExGRjcnuP",
    "outputId": "f2ba7201-ac9b-404d-a7bc-7a9e26308ca3"
   },
   "outputs": [
    {
     "data": {
      "text/html": [
       "<div>\n",
       "<style scoped>\n",
       "    .dataframe tbody tr th:only-of-type {\n",
       "        vertical-align: middle;\n",
       "    }\n",
       "\n",
       "    .dataframe tbody tr th {\n",
       "        vertical-align: top;\n",
       "    }\n",
       "\n",
       "    .dataframe thead th {\n",
       "        text-align: right;\n",
       "    }\n",
       "</style>\n",
       "<table border=\"1\" class=\"dataframe\">\n",
       "  <thead>\n",
       "    <tr style=\"text-align: right;\">\n",
       "      <th></th>\n",
       "      <th>GEO_ID</th>\n",
       "      <th>NAME</th>\n",
       "      <th>S1901_C01_001E</th>\n",
       "      <th>S1901_C01_001M</th>\n",
       "      <th>S1901_C02_001E</th>\n",
       "      <th>S1901_C02_001M</th>\n",
       "      <th>S1901_C03_001E</th>\n",
       "      <th>S1901_C03_001M</th>\n",
       "      <th>S1901_C04_001E</th>\n",
       "      <th>S1901_C04_001M</th>\n",
       "      <th>...</th>\n",
       "      <th>S1901_C04_015E</th>\n",
       "      <th>S1901_C04_015M</th>\n",
       "      <th>S1901_C01_016E</th>\n",
       "      <th>S1901_C01_016M</th>\n",
       "      <th>S1901_C02_016E</th>\n",
       "      <th>S1901_C02_016M</th>\n",
       "      <th>S1901_C03_016E</th>\n",
       "      <th>S1901_C03_016M</th>\n",
       "      <th>S1901_C04_016E</th>\n",
       "      <th>S1901_C04_016M</th>\n",
       "    </tr>\n",
       "  </thead>\n",
       "  <tbody>\n",
       "    <tr>\n",
       "      <th>961</th>\n",
       "      <td>1400000US17031814700</td>\n",
       "      <td>Census Tract 8147, Cook County, Illinois</td>\n",
       "      <td>1587</td>\n",
       "      <td>133</td>\n",
       "      <td>1227</td>\n",
       "      <td>138</td>\n",
       "      <td>828</td>\n",
       "      <td>118</td>\n",
       "      <td>360</td>\n",
       "      <td>105</td>\n",
       "      <td>...</td>\n",
       "      <td>(X)</td>\n",
       "      <td>(X)</td>\n",
       "      <td>(X)</td>\n",
       "      <td>(X)</td>\n",
       "      <td>(X)</td>\n",
       "      <td>(X)</td>\n",
       "      <td>(X)</td>\n",
       "      <td>(X)</td>\n",
       "      <td>28.9</td>\n",
       "      <td>(X)</td>\n",
       "    </tr>\n",
       "  </tbody>\n",
       "</table>\n",
       "<p>1 rows × 130 columns</p>\n",
       "</div>"
      ],
      "text/plain": [
       "                   GEO_ID                                      NAME  \\\n",
       "961  1400000US17031814700  Census Tract 8147, Cook County, Illinois   \n",
       "\n",
       "    S1901_C01_001E S1901_C01_001M S1901_C02_001E S1901_C02_001M  \\\n",
       "961           1587            133           1227            138   \n",
       "\n",
       "    S1901_C03_001E S1901_C03_001M S1901_C04_001E S1901_C04_001M  ...  \\\n",
       "961            828            118            360            105  ...   \n",
       "\n",
       "    S1901_C04_015E S1901_C04_015M S1901_C01_016E S1901_C01_016M  \\\n",
       "961            (X)            (X)            (X)            (X)   \n",
       "\n",
       "    S1901_C02_016E S1901_C02_016M S1901_C03_016E S1901_C03_016M  \\\n",
       "961            (X)            (X)            (X)            (X)   \n",
       "\n",
       "    S1901_C04_016E S1901_C04_016M  \n",
       "961           28.9            (X)  \n",
       "\n",
       "[1 rows x 130 columns]"
      ]
     },
     "execution_count": 22,
     "metadata": {},
     "output_type": "execute_result"
    }
   ],
   "source": [
    "# load income dataset\n",
    "income_dir = \"./data/income_by_census_tract/income_2018_by_census_tract.csv\"\n",
    "income_df = pd.read_csv(income_dir)\n",
    "income_df.sample(n=1)"
   ]
  },
  {
   "cell_type": "code",
   "execution_count": 23,
   "metadata": {
    "colab": {},
    "colab_type": "code",
    "id": "9TPtGdtOeOd5"
   },
   "outputs": [],
   "source": [
    "# Extract Census Tract\n",
    "income_df[\"NAME\"] = income_df[\"NAME\"].apply(lambda x : extract_census_tract(x))\n",
    "\n",
    "# Save Estimate!!Households!!Mean income (dollars)\n",
    "columns = [\"NAME\", \"S1901_C01_013M\"]\n",
    "income_df = save_columns(income_df, columns)\n",
    "income_df = income_df.rename(columns={\"NAME\": \"namelsad10\", \"S1901_C01_013M\": \"Household_Income\"})"
   ]
  },
  {
   "cell_type": "code",
   "execution_count": 24,
   "metadata": {
    "colab": {
     "base_uri": "https://localhost:8080/",
     "height": 51
    },
    "colab_type": "code",
    "id": "sg6iiLtYgAeE",
    "outputId": "fb14fbc9-0c56-4871-e77d-06c044133cb9"
   },
   "outputs": [
    {
     "name": "stdout",
     "output_type": "stream",
     "text": [
      "Removing all non-numeric rows for the following columns: ['Household_Income'].\n",
      "Removed 3 rows from Household_Income.\n"
     ]
    }
   ],
   "source": [
    "# # Merge it with tracts_count\n",
    "# tracts_count = tracts_count.merge(income_df, on='namelsad10', how='left')\n",
    "# tracts_count = drop_non_numeric(tracts_count, [\"Household_Income\"], verbose=True)"
   ]
  },
  {
   "cell_type": "code",
   "execution_count": 25,
   "metadata": {
    "colab": {
     "base_uri": "https://localhost:8080/",
     "height": 80
    },
    "colab_type": "code",
    "id": "w8hiMmxGDFG7",
    "outputId": "afc7afa8-9126-45f1-e430-9d9f22d82e4c"
   },
   "outputs": [
    {
     "data": {
      "text/html": [
       "<div>\n",
       "<style scoped>\n",
       "    .dataframe tbody tr th:only-of-type {\n",
       "        vertical-align: middle;\n",
       "    }\n",
       "\n",
       "    .dataframe tbody tr th {\n",
       "        vertical-align: top;\n",
       "    }\n",
       "\n",
       "    .dataframe thead th {\n",
       "        text-align: right;\n",
       "    }\n",
       "</style>\n",
       "<table border=\"1\" class=\"dataframe\">\n",
       "  <thead>\n",
       "    <tr style=\"text-align: right;\">\n",
       "      <th></th>\n",
       "      <th>namelsad10</th>\n",
       "      <th>Number_of_Requests</th>\n",
       "      <th>Household_Income</th>\n",
       "    </tr>\n",
       "  </thead>\n",
       "  <tbody>\n",
       "    <tr>\n",
       "      <th>637</th>\n",
       "      <td>Census Tract 7203</td>\n",
       "      <td>2547</td>\n",
       "      <td>11508</td>\n",
       "    </tr>\n",
       "  </tbody>\n",
       "</table>\n",
       "</div>"
      ],
      "text/plain": [
       "            namelsad10  Number_of_Requests Household_Income\n",
       "637  Census Tract 7203                2547            11508"
      ]
     },
     "execution_count": 25,
     "metadata": {},
     "output_type": "execute_result"
    }
   ],
   "source": [
    "tracts_count.sample(n=1)"
   ]
  },
  {
   "cell_type": "code",
   "execution_count": 99,
   "metadata": {
    "colab": {
     "base_uri": "https://localhost:8080/",
     "height": 34
    },
    "colab_type": "code",
    "id": "7hJ2HNTsjHwv",
    "outputId": "029c3f8e-8d3f-4dbc-ee0a-f870d8163ce6"
   },
   "outputs": [
    {
     "name": "stdout",
     "output_type": "stream",
     "text": [
      "Successfully saved to ./data/tracts_count_by_type.csv.\n"
     ]
    }
   ],
   "source": [
    "# Save the merged dataset\n",
    "sr_type = [\n",
    "    \"Aircraft Noise Complaint\",\n",
    "    \"Pothole in Street Complaint\",\n",
    "    \"Rodent Baiting/Rat Complaint\",\n",
    "    \"311 INFORMATION ONLY CALL\",\n",
    "    \"Street Light Out Complaint\",\n",
    "    \"Graffiti Removal Request\"\n",
    "    ]\n",
    "request_by_tract_per_type(tracts_311, sr_type)"
   ]
  },
  {
   "cell_type": "code",
   "execution_count": 100,
   "metadata": {
    "colab": {
     "base_uri": "https://localhost:8080/",
     "height": 419
    },
    "colab_type": "code",
    "id": "MQmOiUAvsRQO",
    "outputId": "477e000a-083b-4920-ca6d-f7cf8a508f3b"
   },
   "outputs": [
    {
     "name": "stdout",
     "output_type": "stream",
     "text": [
      "Removing all non-numeric rows for the following columns: ['Household_Income'].\n",
      "Removed 3 rows from Household_Income.\n"
     ]
    },
    {
     "data": {
      "text/html": [
       "<div>\n",
       "<style scoped>\n",
       "    .dataframe tbody tr th:only-of-type {\n",
       "        vertical-align: middle;\n",
       "    }\n",
       "\n",
       "    .dataframe tbody tr th {\n",
       "        vertical-align: top;\n",
       "    }\n",
       "\n",
       "    .dataframe thead th {\n",
       "        text-align: right;\n",
       "    }\n",
       "</style>\n",
       "<table border=\"1\" class=\"dataframe\">\n",
       "  <thead>\n",
       "    <tr style=\"text-align: right;\">\n",
       "      <th></th>\n",
       "      <th>namelsad10</th>\n",
       "      <th>Number_of_Requests</th>\n",
       "      <th>Household_Income</th>\n",
       "    </tr>\n",
       "  </thead>\n",
       "  <tbody>\n",
       "    <tr>\n",
       "      <th>627</th>\n",
       "      <td>Census Tract 7115</td>\n",
       "      <td>1947</td>\n",
       "      <td>8970</td>\n",
       "    </tr>\n",
       "  </tbody>\n",
       "</table>\n",
       "</div>"
      ],
      "text/plain": [
       "            namelsad10  Number_of_Requests Household_Income\n",
       "627  Census Tract 7115                1947             8970"
      ]
     },
     "execution_count": 100,
     "metadata": {},
     "output_type": "execute_result"
    }
   ],
   "source": [
    "tracts_count = income_by_tract(tracts_311, income_df)\n",
    "tracts_count.sample(n=1)"
   ]
  },
  {
   "cell_type": "code",
   "execution_count": 101,
   "metadata": {
    "colab": {},
    "colab_type": "code",
    "id": "sHZhEfWWrchf"
   },
   "outputs": [],
   "source": [
    "tracts_count[\"color\"] = tracts_count.apply(lambda x : evaluateForBivariate(x), axis = 1)"
   ]
  },
  {
   "cell_type": "code",
   "execution_count": 104,
   "metadata": {
    "colab": {
     "base_uri": "https://localhost:8080/",
     "height": 142
    },
    "colab_type": "code",
    "id": "O8sJ8VcUJSGm",
    "outputId": "188eda3c-4583-4780-ba2f-1284e9e88c7b"
   },
   "outputs": [
    {
     "data": {
      "text/html": [
       "<div>\n",
       "<style scoped>\n",
       "    .dataframe tbody tr th:only-of-type {\n",
       "        vertical-align: middle;\n",
       "    }\n",
       "\n",
       "    .dataframe tbody tr th {\n",
       "        vertical-align: top;\n",
       "    }\n",
       "\n",
       "    .dataframe thead th {\n",
       "        text-align: right;\n",
       "    }\n",
       "</style>\n",
       "<table border=\"1\" class=\"dataframe\">\n",
       "  <thead>\n",
       "    <tr style=\"text-align: right;\">\n",
       "      <th></th>\n",
       "      <th>namelsad10</th>\n",
       "      <th>Number_of_Requests</th>\n",
       "      <th>Household_Income</th>\n",
       "      <th>color</th>\n",
       "    </tr>\n",
       "  </thead>\n",
       "  <tbody>\n",
       "    <tr>\n",
       "      <th>557</th>\n",
       "      <td>Census Tract 6611</td>\n",
       "      <td>2916</td>\n",
       "      <td>7522</td>\n",
       "      <td>#c85a5a</td>\n",
       "    </tr>\n",
       "    <tr>\n",
       "      <th>120</th>\n",
       "      <td>Census Tract 2105.02</td>\n",
       "      <td>1424</td>\n",
       "      <td>8441</td>\n",
       "      <td>#ad9ea5</td>\n",
       "    </tr>\n",
       "    <tr>\n",
       "      <th>249</th>\n",
       "      <td>Census Tract 301.01</td>\n",
       "      <td>570</td>\n",
       "      <td>7960</td>\n",
       "      <td>#e8e8e8</td>\n",
       "    </tr>\n",
       "    <tr>\n",
       "      <th>423</th>\n",
       "      <td>Census Tract 5101</td>\n",
       "      <td>2449</td>\n",
       "      <td>10833</td>\n",
       "      <td>#985356</td>\n",
       "    </tr>\n",
       "    <tr>\n",
       "      <th>320</th>\n",
       "      <td>Census Tract 3902</td>\n",
       "      <td>1015</td>\n",
       "      <td>26852</td>\n",
       "      <td>#64acbe</td>\n",
       "    </tr>\n",
       "    <tr>\n",
       "      <th>768</th>\n",
       "      <td>Census Tract 8411</td>\n",
       "      <td>2822</td>\n",
       "      <td>6618</td>\n",
       "      <td>#c85a5a</td>\n",
       "    </tr>\n",
       "    <tr>\n",
       "      <th>299</th>\n",
       "      <td>Census Tract 3404</td>\n",
       "      <td>545</td>\n",
       "      <td>11347</td>\n",
       "      <td>#b0d5df</td>\n",
       "    </tr>\n",
       "    <tr>\n",
       "      <th>123</th>\n",
       "      <td>Census Tract 2107</td>\n",
       "      <td>2003</td>\n",
       "      <td>8423</td>\n",
       "      <td>#985356</td>\n",
       "    </tr>\n",
       "    <tr>\n",
       "      <th>250</th>\n",
       "      <td>Census Tract 301.02</td>\n",
       "      <td>572</td>\n",
       "      <td>16175</td>\n",
       "      <td>#64acbe</td>\n",
       "    </tr>\n",
       "    <tr>\n",
       "      <th>273</th>\n",
       "      <td>Census Tract 309</td>\n",
       "      <td>1517</td>\n",
       "      <td>13427</td>\n",
       "      <td>#627f8c</td>\n",
       "    </tr>\n",
       "  </tbody>\n",
       "</table>\n",
       "</div>"
      ],
      "text/plain": [
       "               namelsad10  Number_of_Requests Household_Income    color\n",
       "557     Census Tract 6611                2916             7522  #c85a5a\n",
       "120  Census Tract 2105.02                1424             8441  #ad9ea5\n",
       "249   Census Tract 301.01                 570             7960  #e8e8e8\n",
       "423     Census Tract 5101                2449            10833  #985356\n",
       "320     Census Tract 3902                1015            26852  #64acbe\n",
       "768     Census Tract 8411                2822             6618  #c85a5a\n",
       "299     Census Tract 3404                 545            11347  #b0d5df\n",
       "123     Census Tract 2107                2003             8423  #985356\n",
       "250   Census Tract 301.02                 572            16175  #64acbe\n",
       "273      Census Tract 309                1517            13427  #627f8c"
      ]
     },
     "execution_count": 104,
     "metadata": {},
     "output_type": "execute_result"
    }
   ],
   "source": [
    "tracts_count.sample(n=10)"
   ]
  },
  {
   "cell_type": "code",
   "execution_count": 103,
   "metadata": {
    "colab": {
     "base_uri": "https://localhost:8080/",
     "height": 34
    },
    "colab_type": "code",
    "id": "4-K7tKy9Fc1i",
    "outputId": "68d6ce8b-0364-4b83-cf31-7f186e6c20c2"
   },
   "outputs": [
    {
     "name": "stdout",
     "output_type": "stream",
     "text": [
      "Successfully saved to ./data/tracts_count.csv.\n"
     ]
    }
   ],
   "source": [
    "# Save the merged dataset\n",
    "tracts_311_count_filename = \"./data/tracts_count.csv\"\n",
    "df_to_csv(tracts_count, tracts_311_count_filename, verbose=True)"
   ]
  },
  {
   "cell_type": "code",
   "execution_count": 31,
   "metadata": {
    "colab": {},
    "colab_type": "code",
    "id": "ZItf7KeXJV6G"
   },
   "outputs": [],
   "source": [
    "tracts_311_pothole = tracts_311[(tracts_311['SR_TYPE'] == \"Pothole in Street Complaint\")]"
   ]
  },
  {
   "cell_type": "code",
   "execution_count": 32,
   "metadata": {
    "colab": {
     "base_uri": "https://localhost:8080/",
     "height": 394
    },
    "colab_type": "code",
    "id": "-0PRVhtmWswb",
    "outputId": "9b334701-79ca-46b1-f9e6-fe9abff1ce4d"
   },
   "outputs": [
    {
     "data": {
      "text/html": [
       "<div>\n",
       "<style scoped>\n",
       "    .dataframe tbody tr th:only-of-type {\n",
       "        vertical-align: middle;\n",
       "    }\n",
       "\n",
       "    .dataframe tbody tr th {\n",
       "        vertical-align: top;\n",
       "    }\n",
       "\n",
       "    .dataframe thead th {\n",
       "        text-align: right;\n",
       "    }\n",
       "</style>\n",
       "<table border=\"1\" class=\"dataframe\">\n",
       "  <thead>\n",
       "    <tr style=\"text-align: right;\">\n",
       "      <th></th>\n",
       "      <th>SR_NUMBER</th>\n",
       "      <th>SR_TYPE</th>\n",
       "      <th>SR_SHORT_CODE</th>\n",
       "      <th>OWNER_DEPARTMENT</th>\n",
       "      <th>STATUS</th>\n",
       "      <th>CREATED_DATE</th>\n",
       "      <th>CLOSED_DATE</th>\n",
       "      <th>ZIP_CODE</th>\n",
       "      <th>DUPLICATE</th>\n",
       "      <th>LEGACY_RECORD</th>\n",
       "      <th>...</th>\n",
       "      <th>index_right</th>\n",
       "      <th>statefp10</th>\n",
       "      <th>name10</th>\n",
       "      <th>commarea_n</th>\n",
       "      <th>namelsad10</th>\n",
       "      <th>commarea</th>\n",
       "      <th>geoid10</th>\n",
       "      <th>notes</th>\n",
       "      <th>tractce10</th>\n",
       "      <th>countyfp10</th>\n",
       "    </tr>\n",
       "  </thead>\n",
       "  <tbody>\n",
       "    <tr>\n",
       "      <th>1402051</th>\n",
       "      <td>SR19-00448116</td>\n",
       "      <td>Pothole in Street Complaint</td>\n",
       "      <td>PHF</td>\n",
       "      <td>CDOT - Department of Transportation</td>\n",
       "      <td>Completed</td>\n",
       "      <td>2018-08-24 15:24:56</td>\n",
       "      <td>2018-08-24 15:25:31</td>\n",
       "      <td>60656</td>\n",
       "      <td>False</td>\n",
       "      <td>True</td>\n",
       "      <td>...</td>\n",
       "      <td>135</td>\n",
       "      <td>17</td>\n",
       "      <td>7608.02</td>\n",
       "      <td>76</td>\n",
       "      <td>Census Tract 7608.02</td>\n",
       "      <td>76</td>\n",
       "      <td>17031760802</td>\n",
       "      <td></td>\n",
       "      <td>760802</td>\n",
       "      <td>031</td>\n",
       "    </tr>\n",
       "  </tbody>\n",
       "</table>\n",
       "<p>1 rows × 31 columns</p>\n",
       "</div>"
      ],
      "text/plain": [
       "             SR_NUMBER                      SR_TYPE SR_SHORT_CODE  \\\n",
       "1402051  SR19-00448116  Pothole in Street Complaint           PHF   \n",
       "\n",
       "                            OWNER_DEPARTMENT     STATUS        CREATED_DATE  \\\n",
       "1402051  CDOT - Department of Transportation  Completed 2018-08-24 15:24:56   \n",
       "\n",
       "                CLOSED_DATE ZIP_CODE  DUPLICATE  LEGACY_RECORD  ...  \\\n",
       "1402051 2018-08-24 15:25:31    60656      False           True  ...   \n",
       "\n",
       "         index_right  statefp10   name10 commarea_n            namelsad10  \\\n",
       "1402051          135         17  7608.02         76  Census Tract 7608.02   \n",
       "\n",
       "         commarea      geoid10  notes  tractce10  countyfp10  \n",
       "1402051        76  17031760802            760802         031  \n",
       "\n",
       "[1 rows x 31 columns]"
      ]
     },
     "execution_count": 32,
     "metadata": {},
     "output_type": "execute_result"
    }
   ],
   "source": [
    "tracts_311_pothole.sample(n=1)"
   ]
  },
  {
   "cell_type": "code",
   "execution_count": 33,
   "metadata": {
    "colab": {
     "base_uri": "https://localhost:8080/",
     "height": 34
    },
    "colab_type": "code",
    "id": "y0qEKE71xIWt",
    "outputId": "96da4f1d-bf61-4702-9893-c59de0748f8f"
   },
   "outputs": [
    {
     "name": "stdout",
     "output_type": "stream",
     "text": [
      "Successfully saved to ./data/tracts_311_pothole.csv.\n"
     ]
    }
   ],
   "source": [
    "# Save Pothole dataset\n",
    "pothole_filename = \"./data/tracts_311_pothole.csv\"\n",
    "df_to_csv(tracts_311_pothole, pothole_filename, verbose=True)"
   ]
  },
  {
   "cell_type": "code",
   "execution_count": 34,
   "metadata": {
    "colab": {
     "base_uri": "https://localhost:8080/",
     "height": 34
    },
    "colab_type": "code",
    "id": "UzZcTu2r3xN3",
    "outputId": "d7b95874-33cc-4d32-f4ea-531fbe021616"
   },
   "outputs": [
    {
     "data": {
      "text/plain": [
       "(110816, 31)"
      ]
     },
     "execution_count": 34,
     "metadata": {},
     "output_type": "execute_result"
    }
   ],
   "source": [
    "tracts_311_pothole.shape"
   ]
  },
  {
   "cell_type": "code",
   "execution_count": 35,
   "metadata": {
    "colab": {
     "base_uri": "https://localhost:8080/",
     "height": 34
    },
    "colab_type": "code",
    "id": "19PyzuGYYWpf",
    "outputId": "acdd9382-28c9-48d8-910c-1b89044b0518"
   },
   "outputs": [
    {
     "name": "stdout",
     "output_type": "stream",
     "text": [
      "Successfully saved to ./data/tracts_311_call.csv.\n"
     ]
    }
   ],
   "source": [
    "tracts_311_call = tracts_311[(tracts_311['SR_TYPE'] == \"311 INFORMATION ONLY CALL\")]\n",
    "\n",
    "# Save 311 call dataset\n",
    "call_filename = \"./data/tracts_311_call.csv\"\n",
    "df_to_csv(tracts_311_call, call_filename, verbose=True)"
   ]
  },
  {
   "cell_type": "code",
   "execution_count": 36,
   "metadata": {
    "colab": {
     "base_uri": "https://localhost:8080/"
    },
    "colab_type": "code",
    "id": "NQswFWImgfY0",
    "outputId": "af3df87b-d8c8-4bb4-d585-560566093fba"
   },
   "outputs": [
    {
     "data": {
      "text/html": [
       "<div>\n",
       "<style scoped>\n",
       "    .dataframe tbody tr th:only-of-type {\n",
       "        vertical-align: middle;\n",
       "    }\n",
       "\n",
       "    .dataframe tbody tr th {\n",
       "        vertical-align: top;\n",
       "    }\n",
       "\n",
       "    .dataframe thead th {\n",
       "        text-align: right;\n",
       "    }\n",
       "</style>\n",
       "<table border=\"1\" class=\"dataframe\">\n",
       "  <thead>\n",
       "    <tr style=\"text-align: right;\">\n",
       "      <th></th>\n",
       "      <th>SR_NUMBER</th>\n",
       "      <th>SR_TYPE</th>\n",
       "      <th>SR_SHORT_CODE</th>\n",
       "      <th>OWNER_DEPARTMENT</th>\n",
       "      <th>STATUS</th>\n",
       "      <th>CREATED_DATE</th>\n",
       "      <th>CLOSED_DATE</th>\n",
       "      <th>ZIP_CODE</th>\n",
       "      <th>DUPLICATE</th>\n",
       "      <th>LEGACY_RECORD</th>\n",
       "      <th>...</th>\n",
       "      <th>index_right</th>\n",
       "      <th>statefp10</th>\n",
       "      <th>name10</th>\n",
       "      <th>commarea_n</th>\n",
       "      <th>namelsad10</th>\n",
       "      <th>commarea</th>\n",
       "      <th>geoid10</th>\n",
       "      <th>notes</th>\n",
       "      <th>tractce10</th>\n",
       "      <th>countyfp10</th>\n",
       "    </tr>\n",
       "  </thead>\n",
       "  <tbody>\n",
       "    <tr>\n",
       "      <th>745494</th>\n",
       "      <td>SR19-02486976</td>\n",
       "      <td>311 INFORMATION ONLY CALL</td>\n",
       "      <td>311IOC</td>\n",
       "      <td>311 City Services</td>\n",
       "      <td>Completed</td>\n",
       "      <td>2019-09-15 08:34:26</td>\n",
       "      <td>2019-09-15 08:34:26</td>\n",
       "      <td>60612</td>\n",
       "      <td>False</td>\n",
       "      <td>False</td>\n",
       "      <td>...</td>\n",
       "      <td>5</td>\n",
       "      <td>17</td>\n",
       "      <td>8382</td>\n",
       "      <td>28</td>\n",
       "      <td>Census Tract 8382</td>\n",
       "      <td>28</td>\n",
       "      <td>17031838200</td>\n",
       "      <td></td>\n",
       "      <td>838200</td>\n",
       "      <td>031</td>\n",
       "    </tr>\n",
       "  </tbody>\n",
       "</table>\n",
       "<p>1 rows × 31 columns</p>\n",
       "</div>"
      ],
      "text/plain": [
       "            SR_NUMBER                    SR_TYPE SR_SHORT_CODE  \\\n",
       "745494  SR19-02486976  311 INFORMATION ONLY CALL        311IOC   \n",
       "\n",
       "         OWNER_DEPARTMENT     STATUS        CREATED_DATE         CLOSED_DATE  \\\n",
       "745494  311 City Services  Completed 2019-09-15 08:34:26 2019-09-15 08:34:26   \n",
       "\n",
       "       ZIP_CODE  DUPLICATE  LEGACY_RECORD  ...  index_right  statefp10  \\\n",
       "745494    60612      False          False  ...            5         17   \n",
       "\n",
       "        name10 commarea_n         namelsad10  commarea      geoid10  notes  \\\n",
       "745494    8382         28  Census Tract 8382        28  17031838200          \n",
       "\n",
       "        tractce10  countyfp10  \n",
       "745494     838200         031  \n",
       "\n",
       "[1 rows x 31 columns]"
      ]
     },
     "execution_count": 36,
     "metadata": {},
     "output_type": "execute_result"
    }
   ],
   "source": [
    "tracts_311_call.sample(n=1)"
   ]
  }
 ],
 "metadata": {
  "colab": {
   "authorship_tag": "ABX9TyM7mSxYmmqDc1yUGy1otLzT",
   "collapsed_sections": [],
   "name": "data_preprocessing.ipynb",
   "provenance": []
  },
  "kernelspec": {
   "display_name": "Python 3",
   "language": "python",
   "name": "python3"
  },
  "language_info": {
   "codemirror_mode": {
    "name": "ipython",
    "version": 3
   },
   "file_extension": ".py",
   "mimetype": "text/x-python",
   "name": "python",
   "nbconvert_exporter": "python",
   "pygments_lexer": "ipython3",
   "version": "3.7.6"
  }
 },
 "nbformat": 4,
 "nbformat_minor": 1
}
