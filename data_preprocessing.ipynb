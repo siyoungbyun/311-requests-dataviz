{
 "cells": [
  {
   "cell_type": "markdown",
   "metadata": {
    "colab_type": "text",
    "id": "iv2puIDxIVUR"
   },
   "source": [
    "# __311 Service Requests in Chicago__"
   ]
  },
  {
   "cell_type": "markdown",
   "metadata": {
    "colab_type": "text",
    "id": "78kvahNHWotg"
   },
   "source": [
    "## Import dependencies"
   ]
  },
  {
   "cell_type": "code",
   "execution_count": 1,
   "metadata": {
    "colab": {
     "base_uri": "https://localhost:8080/",
     "height": 1000
    },
    "colab_type": "code",
    "id": "vBft81AiWiXH",
    "outputId": "56b9e5c1-3228-4d96-dc71-f0de603c5687"
   },
   "outputs": [],
   "source": [
    "import altair as alt\n",
    "import pandas as pd\n",
    "import geopandas as gpd"
   ]
  },
  {
   "cell_type": "markdown",
   "metadata": {
    "colab_type": "text",
    "id": "PvDJYiZ5FPVm"
   },
   "source": [
    "## Helper Functions"
   ]
  },
  {
   "cell_type": "code",
   "execution_count": 2,
   "metadata": {
    "colab": {},
    "colab_type": "code",
    "id": "VitLcZrXFSHC"
   },
   "outputs": [],
   "source": [
    "def show_col_row_count(df):\n",
    "\n",
    "    row, col = df.shape\n",
    "    msg = \"The dataframe currently has {} rows and {} columns.\"\n",
    "    print(msg.format(row, col))\n",
    "\n",
    "def drop_non_numeric(df, columns, verbose=False):\n",
    "\n",
    "    if verbose:\n",
    "        rows, _ = df.shape\n",
    "        col_msg = \"Removing all non-numeric rows for the following columns: {}.\"\n",
    "        print(col_msg.format(columns))\n",
    "    for col in columns:\n",
    "        df = df[pd.to_numeric(df[col], errors=\"coerce\").notnull()]\n",
    "        if verbose:\n",
    "            new_rows, _ = df.shape\n",
    "            print(\"Removed {} rows from {}.\".format(rows - new_rows, col))\n",
    "            rows = new_rows\n",
    "    return df\n",
    "\n",
    "def drop_na(dataframe, columns, verbose=False):\n",
    "\n",
    "    if verbose:\n",
    "        rows, _ = dataframe.shape\n",
    "        col_msg = \"Removing all rows with NAs for the following columns: {}.\"\n",
    "        print(col_msg.format(columns))\n",
    "    df = dataframe.dropna(subset = columns)\n",
    "    if verbose:\n",
    "        new_rows, _ = dataframe.shape\n",
    "        print(\"Removed {} rows.\".format(rows - new_rows))\n",
    "    return df\n",
    "\n",
    "def save_columns(dataframe, columns):\n",
    "\n",
    "    dataframe = dataframe[columns]\n",
    "    return dataframe\n",
    "\n",
    "def df_to_csv(dataframe, filename, verbose=False):\n",
    "\n",
    "    try:\n",
    "        dataframe.to_csv(filename, index=False)\n",
    "        if verbose:\n",
    "            print(\"Successfully saved to {}.\".format(filename))\n",
    "    except:\n",
    "        if verbose:\n",
    "            print(\"Failed to save to {}.\".format(filename))\n",
    "\n",
    "def extract_census_tract(row):\n",
    "    return row.split(\",\")[0]\n",
    "\n",
    "def evaluateForBivariate(row):\n",
    "    # Adapted from the slack channel (Credit to Andrew McNutt)\n",
    "    colorMatrix = [\n",
    "        [\"#64acbe\", \"#627f8c\", \"#574249\"],\n",
    "        [\"#b0d5df\", \"#ad9ea5\", \"#985356\"],\n",
    "        [\"#e8e8e8\", \"#e4acac\", \"#c85a5a\"],\n",
    "    ]\n",
    "    xBoundaries = [1165.02, 1959.06]\n",
    "    xIdx = 0\n",
    "    if row[\"Number_of_Requests\"] < xBoundaries[0]:\n",
    "        xIdx = 0\n",
    "    elif row[\"Number_of_Requests\"] < xBoundaries[1]:\n",
    "        xIdx = 1\n",
    "    else:\n",
    "        xIdx = 2\n",
    "    yBoundaries = [8200.15, 12498.46]\n",
    "    yIdx = 0\n",
    "    if int(row[\"Household_Income\"]) < yBoundaries[0]:\n",
    "        yIdx = 2\n",
    "    elif int(row[\"Household_Income\"]) < yBoundaries[1]:\n",
    "        yIdx = 1\n",
    "    else:\n",
    "        yIdx = 0\n",
    "\n",
    "    return colorMatrix[yIdx][xIdx]"
   ]
  },
  {
   "cell_type": "markdown",
   "metadata": {
    "colab_type": "text",
    "id": "5zncAkRmW8yy"
   },
   "source": [
    "## Load the dataset - `311_Service_Requests.csv`"
   ]
  },
  {
   "cell_type": "code",
   "execution_count": 3,
   "metadata": {
    "colab": {
     "base_uri": "https://localhost:8080/",
     "height": 51
    },
    "colab_type": "code",
    "id": "Zv1PoBr_W4_k",
    "outputId": "ca0e208a-3d67-44e3-d5c9-7210d1cd2b9f"
   },
   "outputs": [
    {
     "name": "stderr",
     "output_type": "stream",
     "text": [
      "/usr/local/lib/python3.7/dist-packages/IPython/core/interactiveshell.py:3063: DtypeWarning: Columns (11) have mixed types.Specify dtype option on import or set low_memory=False.\n",
      "  interactivity=interactivity, compiler=compiler, result=result)\n"
     ]
    }
   ],
   "source": [
    "data_dir = \"./data/311_Service_Requests_Chicago.csv\"\n",
    "dtype_dict = {\n",
    "    \"STREET_NUMBER\": \"object\",\n",
    "    \"LEGACY_SR_NUMBER\": \"object\",\n",
    "    \"PARENT_SR_NUMBER\": \"object\",\n",
    "    \"SANITATION_DIVISION_DAYS\": \"object\",\n",
    "    }\n",
    "df = pd.read_csv(data_dir, dtype=dtype_dict)"
   ]
  },
  {
   "cell_type": "code",
   "execution_count": 4,
   "metadata": {
    "colab": {},
    "colab_type": "code",
    "id": "tOOIccKLTDqU"
   },
   "outputs": [],
   "source": [
    "df[\"CREATED_DATE\"] = pd.to_datetime(df[\"CREATED_DATE\"], format='%m/%d/%Y %I:%M:%S %p')\n",
    "df[\"CREATED_YEAR\"] = df[\"CREATED_DATE\"].dt.year\n",
    "df[\"CLOSED_DATE\"].fillna(\"01/16/2020 10:20:00 PM\", inplace = True) \n",
    "df[\"CLOSED_DATE\"]= pd.to_datetime(df[\"CLOSED_DATE\"], format='%m/%d/%Y %I:%M:%S %p')\n",
    "df[\"CLOSED_YEAR\"] = df[\"CLOSED_DATE\"].dt.year\n",
    "df[\"DAYS_TAKEN\"] = df[\"CLOSED_DATE\"] - df[\"CREATED_DATE\"]\n",
    "df[\"DAYS_TAKEN\"] = df[\"DAYS_TAKEN\"].dt.days"
   ]
  },
  {
   "cell_type": "code",
   "execution_count": 5,
   "metadata": {
    "colab": {
     "base_uri": "https://localhost:8080/",
     "height": 343
    },
    "colab_type": "code",
    "id": "mJ7WAKp3Yh9Z",
    "outputId": "8fd4178c-9f48-42cb-aa6d-22e0b5c825ea"
   },
   "outputs": [
    {
     "data": {
      "text/html": [
       "<div>\n",
       "<style scoped>\n",
       "    .dataframe tbody tr th:only-of-type {\n",
       "        vertical-align: middle;\n",
       "    }\n",
       "\n",
       "    .dataframe tbody tr th {\n",
       "        vertical-align: top;\n",
       "    }\n",
       "\n",
       "    .dataframe thead th {\n",
       "        text-align: right;\n",
       "    }\n",
       "</style>\n",
       "<table border=\"1\" class=\"dataframe\">\n",
       "  <thead>\n",
       "    <tr style=\"text-align: right;\">\n",
       "      <th></th>\n",
       "      <th>SR_NUMBER</th>\n",
       "      <th>SR_TYPE</th>\n",
       "      <th>SR_SHORT_CODE</th>\n",
       "      <th>OWNER_DEPARTMENT</th>\n",
       "      <th>STATUS</th>\n",
       "      <th>CREATED_DATE</th>\n",
       "      <th>LAST_MODIFIED_DATE</th>\n",
       "      <th>CLOSED_DATE</th>\n",
       "      <th>STREET_ADDRESS</th>\n",
       "      <th>CITY</th>\n",
       "      <th>...</th>\n",
       "      <th>CREATED_DAY_OF_WEEK</th>\n",
       "      <th>CREATED_MONTH</th>\n",
       "      <th>X_COORDINATE</th>\n",
       "      <th>Y_COORDINATE</th>\n",
       "      <th>LATITUDE</th>\n",
       "      <th>LONGITUDE</th>\n",
       "      <th>LOCATION</th>\n",
       "      <th>CREATED_YEAR</th>\n",
       "      <th>CLOSED_YEAR</th>\n",
       "      <th>DAYS_TAKEN</th>\n",
       "    </tr>\n",
       "  </thead>\n",
       "  <tbody>\n",
       "    <tr>\n",
       "      <th>1631758</th>\n",
       "      <td>SR19-00936264</td>\n",
       "      <td>Graffiti Removal Request</td>\n",
       "      <td>GRAF</td>\n",
       "      <td>Streets and Sanitation</td>\n",
       "      <td>Completed</td>\n",
       "      <td>2018-10-30 14:10:25</td>\n",
       "      <td>05/17/2019 12:25:34 PM</td>\n",
       "      <td>2018-10-31 14:15:48</td>\n",
       "      <td>2655 W CERMAK RD</td>\n",
       "      <td>CHICAGO</td>\n",
       "      <td>...</td>\n",
       "      <td>3</td>\n",
       "      <td>10</td>\n",
       "      <td>1.158780e+06</td>\n",
       "      <td>1.889279e+06</td>\n",
       "      <td>41.851922</td>\n",
       "      <td>-87.692726</td>\n",
       "      <td>(41.851921903115795, -87.69272618195643)</td>\n",
       "      <td>2018</td>\n",
       "      <td>2018</td>\n",
       "      <td>1</td>\n",
       "    </tr>\n",
       "  </tbody>\n",
       "</table>\n",
       "<p>1 rows × 40 columns</p>\n",
       "</div>"
      ],
      "text/plain": [
       "             SR_NUMBER                   SR_TYPE SR_SHORT_CODE  \\\n",
       "1631758  SR19-00936264  Graffiti Removal Request          GRAF   \n",
       "\n",
       "               OWNER_DEPARTMENT     STATUS        CREATED_DATE  \\\n",
       "1631758  Streets and Sanitation  Completed 2018-10-30 14:10:25   \n",
       "\n",
       "             LAST_MODIFIED_DATE         CLOSED_DATE    STREET_ADDRESS  \\\n",
       "1631758  05/17/2019 12:25:34 PM 2018-10-31 14:15:48  2655 W CERMAK RD   \n",
       "\n",
       "            CITY  ... CREATED_DAY_OF_WEEK CREATED_MONTH  X_COORDINATE  \\\n",
       "1631758  CHICAGO  ...                   3            10  1.158780e+06   \n",
       "\n",
       "         Y_COORDINATE   LATITUDE  LONGITUDE  \\\n",
       "1631758  1.889279e+06  41.851922 -87.692726   \n",
       "\n",
       "                                         LOCATION  CREATED_YEAR CLOSED_YEAR  \\\n",
       "1631758  (41.851921903115795, -87.69272618195643)          2018        2018   \n",
       "\n",
       "        DAYS_TAKEN  \n",
       "1631758          1  \n",
       "\n",
       "[1 rows x 40 columns]"
      ]
     },
     "execution_count": 5,
     "metadata": {},
     "output_type": "execute_result"
    }
   ],
   "source": [
    "df.sample(n = 1) "
   ]
  },
  {
   "cell_type": "code",
   "execution_count": 6,
   "metadata": {
    "colab": {
     "base_uri": "https://localhost:8080/",
     "height": 34
    },
    "colab_type": "code",
    "id": "fOiCi0u1-hzQ",
    "outputId": "2c110e44-68c9-41ac-c3cd-0b669692d347"
   },
   "outputs": [
    {
     "name": "stdout",
     "output_type": "stream",
     "text": [
      "The dataframe currently has 2362297 rows and 40 columns.\n"
     ]
    }
   ],
   "source": [
    "show_col_row_count(df)"
   ]
  },
  {
   "cell_type": "code",
   "execution_count": 7,
   "metadata": {
    "colab": {
     "base_uri": "https://localhost:8080/",
     "height": 51
    },
    "colab_type": "code",
    "id": "c4CKchr79-31",
    "outputId": "10f50c72-00f1-4fde-d347-52cf145fe79f"
   },
   "outputs": [
    {
     "name": "stdout",
     "output_type": "stream",
     "text": [
      "Removing all non-numeric rows for the following columns: ['ZIP_CODE'].\n",
      "Removed 17961 rows from ZIP_CODE.\n"
     ]
    }
   ],
   "source": [
    "df = drop_non_numeric(df, [\"ZIP_CODE\"], verbose=True)"
   ]
  },
  {
   "cell_type": "code",
   "execution_count": 8,
   "metadata": {
    "colab": {
     "base_uri": "https://localhost:8080/",
     "height": 51
    },
    "colab_type": "code",
    "id": "3JMxUKjzIjiA",
    "outputId": "0f40d823-5f90-4971-fe27-63292f6f8c8a"
   },
   "outputs": [
    {
     "name": "stdout",
     "output_type": "stream",
     "text": [
      "Removing all rows with NAs for the following columns: ['ZIP_CODE', 'CREATED_DATE', 'WARD', 'LOCATION', 'LATITUDE', 'LATITUDE'].\n",
      "Removed 0 rows.\n"
     ]
    }
   ],
   "source": [
    "df = drop_na(df, [\"ZIP_CODE\", \"CREATED_DATE\", \"WARD\", \"LOCATION\", \"LATITUDE\", \"LATITUDE\"], verbose=True)"
   ]
  },
  {
   "cell_type": "code",
   "execution_count": 9,
   "metadata": {
    "colab": {},
    "colab_type": "code",
    "id": "Yq7QK7axQKOB"
   },
   "outputs": [],
   "source": [
    "columns = [\n",
    "    \"SR_NUMBER\", \"SR_TYPE\", \"SR_SHORT_CODE\",\n",
    "    \"OWNER_DEPARTMENT\",\"STATUS\", \"CREATED_DATE\",\n",
    "    \"CLOSED_DATE\", \"ZIP_CODE\", \"DUPLICATE\",\n",
    "    \"LEGACY_RECORD\", \"WARD\", \"LATITUDE\",\n",
    "    \"LONGITUDE\", \"LOCATION\",\n",
    "    \"DAYS_TAKEN\", \"CREATED_YEAR\", \"CLOSED_YEAR\",\n",
    "    \"CREATED_HOUR\",\t\"CREATED_DAY_OF_WEEK\", \"CREATED_MONTH\"\n",
    "]\n",
    "df = save_columns(df, columns)"
   ]
  },
  {
   "cell_type": "code",
   "execution_count": 10,
   "metadata": {
    "colab": {
     "base_uri": "https://localhost:8080/",
     "height": 377
    },
    "colab_type": "code",
    "id": "xrxdyxYDS0M6",
    "outputId": "474b9b7b-8da2-4560-be5e-e51ef8e55360"
   },
   "outputs": [
    {
     "data": {
      "text/html": [
       "<div>\n",
       "<style scoped>\n",
       "    .dataframe tbody tr th:only-of-type {\n",
       "        vertical-align: middle;\n",
       "    }\n",
       "\n",
       "    .dataframe tbody tr th {\n",
       "        vertical-align: top;\n",
       "    }\n",
       "\n",
       "    .dataframe thead th {\n",
       "        text-align: right;\n",
       "    }\n",
       "</style>\n",
       "<table border=\"1\" class=\"dataframe\">\n",
       "  <thead>\n",
       "    <tr style=\"text-align: right;\">\n",
       "      <th></th>\n",
       "      <th>SR_NUMBER</th>\n",
       "      <th>SR_TYPE</th>\n",
       "      <th>SR_SHORT_CODE</th>\n",
       "      <th>OWNER_DEPARTMENT</th>\n",
       "      <th>STATUS</th>\n",
       "      <th>CREATED_DATE</th>\n",
       "      <th>CLOSED_DATE</th>\n",
       "      <th>ZIP_CODE</th>\n",
       "      <th>DUPLICATE</th>\n",
       "      <th>LEGACY_RECORD</th>\n",
       "      <th>WARD</th>\n",
       "      <th>LATITUDE</th>\n",
       "      <th>LONGITUDE</th>\n",
       "      <th>LOCATION</th>\n",
       "      <th>DAYS_TAKEN</th>\n",
       "      <th>CREATED_YEAR</th>\n",
       "      <th>CLOSED_YEAR</th>\n",
       "      <th>CREATED_HOUR</th>\n",
       "      <th>CREATED_DAY_OF_WEEK</th>\n",
       "      <th>CREATED_MONTH</th>\n",
       "    </tr>\n",
       "  </thead>\n",
       "  <tbody>\n",
       "    <tr>\n",
       "      <th>324983</th>\n",
       "      <td>SR19-01929310</td>\n",
       "      <td>311 INFORMATION ONLY CALL</td>\n",
       "      <td>311IOC</td>\n",
       "      <td>311 City Services</td>\n",
       "      <td>Completed</td>\n",
       "      <td>2019-07-12 11:19:42</td>\n",
       "      <td>2019-07-12 11:19:42</td>\n",
       "      <td>60612</td>\n",
       "      <td>False</td>\n",
       "      <td>False</td>\n",
       "      <td>28.0</td>\n",
       "      <td>41.871831</td>\n",
       "      <td>-87.679846</td>\n",
       "      <td>(41.871831277993564, -87.67984621876099)</td>\n",
       "      <td>0</td>\n",
       "      <td>2019</td>\n",
       "      <td>2019</td>\n",
       "      <td>11</td>\n",
       "      <td>6</td>\n",
       "      <td>7</td>\n",
       "    </tr>\n",
       "  </tbody>\n",
       "</table>\n",
       "</div>"
      ],
      "text/plain": [
       "            SR_NUMBER                    SR_TYPE SR_SHORT_CODE  \\\n",
       "324983  SR19-01929310  311 INFORMATION ONLY CALL        311IOC   \n",
       "\n",
       "         OWNER_DEPARTMENT     STATUS        CREATED_DATE         CLOSED_DATE  \\\n",
       "324983  311 City Services  Completed 2019-07-12 11:19:42 2019-07-12 11:19:42   \n",
       "\n",
       "       ZIP_CODE  DUPLICATE  LEGACY_RECORD  WARD   LATITUDE  LONGITUDE  \\\n",
       "324983    60612      False          False  28.0  41.871831 -87.679846   \n",
       "\n",
       "                                        LOCATION  DAYS_TAKEN  CREATED_YEAR  \\\n",
       "324983  (41.871831277993564, -87.67984621876099)           0          2019   \n",
       "\n",
       "        CLOSED_YEAR  CREATED_HOUR  CREATED_DAY_OF_WEEK  CREATED_MONTH  \n",
       "324983         2019            11                    6              7  "
      ]
     },
     "execution_count": 10,
     "metadata": {},
     "output_type": "execute_result"
    }
   ],
   "source": [
    "df.sample(n=1)"
   ]
  },
  {
   "cell_type": "code",
   "execution_count": 11,
   "metadata": {
    "colab": {
     "base_uri": "https://localhost:8080/",
     "height": 34
    },
    "colab_type": "code",
    "id": "OHTbP7c36v47",
    "outputId": "5b71c46e-4e78-4a84-821f-58ffda99c180"
   },
   "outputs": [
    {
     "name": "stdout",
     "output_type": "stream",
     "text": [
      "The dataframe currently has 2325604 rows and 20 columns.\n"
     ]
    }
   ],
   "source": [
    "show_col_row_count(df)"
   ]
  },
  {
   "cell_type": "code",
   "execution_count": 12,
   "metadata": {
    "colab": {
     "base_uri": "https://localhost:8080/",
     "height": 68
    },
    "colab_type": "code",
    "id": "iJ2-TB_7ONr6",
    "outputId": "60d40239-802e-4838-d3f2-c4b297fa7159"
   },
   "outputs": [
    {
     "name": "stdout",
     "output_type": "stream",
     "text": [
      "Successfully saved to ./data/cleaned_311_2018.csv.\n",
      "Successfully saved to ./data/cleaned_311_2019.csv.\n",
      "Successfully saved to ./data/cleaned_311.csv.\n"
     ]
    }
   ],
   "source": [
    "# Save the dataset\n",
    "\n",
    "# Dataset for 2018/07/01 - 2018/12/31\n",
    "df_2018 = df[(df['CREATED_DATE'] > '2018-07-01 00:00:00') & (df['CREATED_DATE'] <= '2018-12-31 23:59:59')]\n",
    "filename_2018 = \"./data/cleaned_311_2018.csv\"\n",
    "df_to_csv(df_2018, filename_2018, verbose=True)\n",
    "# Dataset for 2019/07/01 - 2019/12/31\n",
    "df_2019 = df[(df['CREATED_DATE'] > '2019-07-01 00:00:00') & (df['CREATED_DATE'] <= '2019-12-31 23:59:59')]\n",
    "filename_2019 = \"./data/cleaned_311_2019.csv\"\n",
    "df_to_csv(df_2019, filename_2019, verbose=True)\n",
    "# Entire cleaned dataset\n",
    "filename = \"./data/cleaned_311.csv\"\n",
    "df_to_csv(df, filename, verbose=True)"
   ]
  },
  {
   "cell_type": "markdown",
   "metadata": {
    "colab_type": "text",
    "id": "QFeZc6YVHf_r"
   },
   "source": [
    "## Create a dataset for Census Tract (Number of Requests and Income Level)\n",
    "\n"
   ]
  },
  {
   "cell_type": "code",
   "execution_count": 13,
   "metadata": {
    "colab": {
     "base_uri": "https://localhost:8080/",
     "height": 204
    },
    "colab_type": "code",
    "id": "2Q0s5Pm1rz56",
    "outputId": "941f4043-3e61-4cee-9b35-e0981736fbcd"
   },
   "outputs": [
    {
     "data": {
      "text/html": [
       "<div>\n",
       "<style scoped>\n",
       "    .dataframe tbody tr th:only-of-type {\n",
       "        vertical-align: middle;\n",
       "    }\n",
       "\n",
       "    .dataframe tbody tr th {\n",
       "        vertical-align: top;\n",
       "    }\n",
       "\n",
       "    .dataframe thead th {\n",
       "        text-align: right;\n",
       "    }\n",
       "</style>\n",
       "<table border=\"1\" class=\"dataframe\">\n",
       "  <thead>\n",
       "    <tr style=\"text-align: right;\">\n",
       "      <th></th>\n",
       "      <th>statefp10</th>\n",
       "      <th>name10</th>\n",
       "      <th>commarea_n</th>\n",
       "      <th>namelsad10</th>\n",
       "      <th>commarea</th>\n",
       "      <th>geoid10</th>\n",
       "      <th>notes</th>\n",
       "      <th>tractce10</th>\n",
       "      <th>countyfp10</th>\n",
       "      <th>geometry</th>\n",
       "    </tr>\n",
       "  </thead>\n",
       "  <tbody>\n",
       "    <tr>\n",
       "      <th>575</th>\n",
       "      <td>17</td>\n",
       "      <td>309</td>\n",
       "      <td>77</td>\n",
       "      <td>Census Tract 309</td>\n",
       "      <td>77</td>\n",
       "      <td>17031030900</td>\n",
       "      <td></td>\n",
       "      <td>030900</td>\n",
       "      <td>031</td>\n",
       "      <td>MULTIPOLYGON (((-87.67259 41.97613, -87.67367 ...</td>\n",
       "    </tr>\n",
       "  </tbody>\n",
       "</table>\n",
       "</div>"
      ],
      "text/plain": [
       "    statefp10 name10 commarea_n        namelsad10 commarea      geoid10 notes  \\\n",
       "575        17    309         77  Census Tract 309       77  17031030900         \n",
       "\n",
       "    tractce10 countyfp10                                           geometry  \n",
       "575    030900        031  MULTIPOLYGON (((-87.67259 41.97613, -87.67367 ...  "
      ]
     },
     "execution_count": 13,
     "metadata": {},
     "output_type": "execute_result"
    }
   ],
   "source": [
    "# Load Census Tract Polygon dataset\n",
    "tract_dir = \"./data/census_tract_boundary/tracts.geojson\"\n",
    "tracts = gpd.read_file(tract_dir)\n",
    "tracts.crs = 'epsg:4326'\n",
    "tracts.sample(n=1)"
   ]
  },
  {
   "cell_type": "code",
   "execution_count": 14,
   "metadata": {
    "colab": {},
    "colab_type": "code",
    "id": "8h4zpAmFtLtF"
   },
   "outputs": [],
   "source": [
    "cleaned_311 = gpd.GeoDataFrame(df, geometry=gpd.points_from_xy(df.LONGITUDE, df.LATITUDE))"
   ]
  },
  {
   "cell_type": "code",
   "execution_count": 15,
   "metadata": {
    "colab": {
     "base_uri": "https://localhost:8080/",
     "height": 134
    },
    "colab_type": "code",
    "id": "z1JF51WKuEQO",
    "outputId": "b44a7eec-9ae2-476f-da9f-a50d2fe66fd9"
   },
   "outputs": [
    {
     "data": {
      "text/html": [
       "<div>\n",
       "<style scoped>\n",
       "    .dataframe tbody tr th:only-of-type {\n",
       "        vertical-align: middle;\n",
       "    }\n",
       "\n",
       "    .dataframe tbody tr th {\n",
       "        vertical-align: top;\n",
       "    }\n",
       "\n",
       "    .dataframe thead th {\n",
       "        text-align: right;\n",
       "    }\n",
       "</style>\n",
       "<table border=\"1\" class=\"dataframe\">\n",
       "  <thead>\n",
       "    <tr style=\"text-align: right;\">\n",
       "      <th></th>\n",
       "      <th>SR_NUMBER</th>\n",
       "      <th>SR_TYPE</th>\n",
       "      <th>SR_SHORT_CODE</th>\n",
       "      <th>OWNER_DEPARTMENT</th>\n",
       "      <th>STATUS</th>\n",
       "      <th>CREATED_DATE</th>\n",
       "      <th>CLOSED_DATE</th>\n",
       "      <th>ZIP_CODE</th>\n",
       "      <th>DUPLICATE</th>\n",
       "      <th>LEGACY_RECORD</th>\n",
       "      <th>...</th>\n",
       "      <th>LATITUDE</th>\n",
       "      <th>LONGITUDE</th>\n",
       "      <th>LOCATION</th>\n",
       "      <th>DAYS_TAKEN</th>\n",
       "      <th>CREATED_YEAR</th>\n",
       "      <th>CLOSED_YEAR</th>\n",
       "      <th>CREATED_HOUR</th>\n",
       "      <th>CREATED_DAY_OF_WEEK</th>\n",
       "      <th>CREATED_MONTH</th>\n",
       "      <th>geometry</th>\n",
       "    </tr>\n",
       "  </thead>\n",
       "  <tbody>\n",
       "    <tr>\n",
       "      <th>2117143</th>\n",
       "      <td>SR19-02949173</td>\n",
       "      <td>Snow – Uncleared Sidewalk Complaint</td>\n",
       "      <td>SWSNOREM</td>\n",
       "      <td>CDOT - Department of Transportation</td>\n",
       "      <td>Completed</td>\n",
       "      <td>2019-11-14 18:36:43</td>\n",
       "      <td>2019-11-21 09:24:13</td>\n",
       "      <td>60641</td>\n",
       "      <td>True</td>\n",
       "      <td>False</td>\n",
       "      <td>...</td>\n",
       "      <td>41.956306</td>\n",
       "      <td>-87.73215</td>\n",
       "      <td>(41.95630642007092, -87.73215041449315)</td>\n",
       "      <td>6</td>\n",
       "      <td>2019</td>\n",
       "      <td>2019</td>\n",
       "      <td>18</td>\n",
       "      <td>5</td>\n",
       "      <td>11</td>\n",
       "      <td>POINT (-87.73215 41.95631)</td>\n",
       "    </tr>\n",
       "  </tbody>\n",
       "</table>\n",
       "<p>1 rows × 21 columns</p>\n",
       "</div>"
      ],
      "text/plain": [
       "             SR_NUMBER                              SR_TYPE SR_SHORT_CODE  \\\n",
       "2117143  SR19-02949173  Snow – Uncleared Sidewalk Complaint      SWSNOREM   \n",
       "\n",
       "                            OWNER_DEPARTMENT     STATUS        CREATED_DATE  \\\n",
       "2117143  CDOT - Department of Transportation  Completed 2019-11-14 18:36:43   \n",
       "\n",
       "                CLOSED_DATE ZIP_CODE  DUPLICATE  LEGACY_RECORD  ...  \\\n",
       "2117143 2019-11-21 09:24:13    60641       True          False  ...   \n",
       "\n",
       "          LATITUDE  LONGITUDE                                 LOCATION  \\\n",
       "2117143  41.956306  -87.73215  (41.95630642007092, -87.73215041449315)   \n",
       "\n",
       "        DAYS_TAKEN  CREATED_YEAR  CLOSED_YEAR  CREATED_HOUR  \\\n",
       "2117143          6          2019         2019            18   \n",
       "\n",
       "         CREATED_DAY_OF_WEEK  CREATED_MONTH                    geometry  \n",
       "2117143                    5             11  POINT (-87.73215 41.95631)  \n",
       "\n",
       "[1 rows x 21 columns]"
      ]
     },
     "execution_count": 15,
     "metadata": {},
     "output_type": "execute_result"
    }
   ],
   "source": [
    "cleaned_311.sample(n=1)"
   ]
  },
  {
   "cell_type": "code",
   "execution_count": null,
   "metadata": {
    "colab": {},
    "colab_type": "code",
    "id": "WMsxN6A9uPdO"
   },
   "outputs": [],
   "source": [
    "cleaned_311.crs = \"epsg:4326\"\n",
    "cleaned_311 = cleaned_311[cleaned_311.geometry.type == 'Point']\n",
    "tracts_311 = gpd.sjoin(cleaned_311, tracts, how=\"inner\", op='intersects')"
   ]
  },
  {
   "cell_type": "code",
   "execution_count": null,
   "metadata": {
    "colab": {
     "base_uri": "https://localhost:8080/",
     "height": 134
    },
    "colab_type": "code",
    "id": "SJJ_gqgew1V9",
    "outputId": "f756c753-8bbe-4a95-c5cd-c066a67ae58a"
   },
   "outputs": [],
   "source": [
    "tracts_311.sample(n=1)"
   ]
  },
  {
   "cell_type": "code",
   "execution_count": null,
   "metadata": {
    "colab": {},
    "colab_type": "code",
    "id": "qPEztIUCzur0"
   },
   "outputs": [],
   "source": [
    "tracts_count = tracts_311.groupby([\"namelsad10\"]).size().reset_index()\n",
    "tracts_count = tracts_count.rename(columns={0: \"Number_of_Requests\"})"
   ]
  },
  {
   "cell_type": "code",
   "execution_count": null,
   "metadata": {
    "colab": {
     "base_uri": "https://localhost:8080/",
     "height": 80
    },
    "colab_type": "code",
    "id": "dT3xL7ZMeyvo",
    "outputId": "fb350d56-62f8-4301-f147-6e1246be1083"
   },
   "outputs": [],
   "source": [
    "tracts_count.sample(n=1)"
   ]
  },
  {
   "cell_type": "code",
   "execution_count": null,
   "metadata": {
    "colab": {
     "base_uri": "https://localhost:8080/",
     "height": 214
    },
    "colab_type": "code",
    "id": "UQTExGRjcnuP",
    "outputId": "f2ba7201-ac9b-404d-a7bc-7a9e26308ca3"
   },
   "outputs": [],
   "source": [
    "# load income dataset\n",
    "income_dir = \"./data/income_by_census_tract/income_2018_by_census_tract.csv\"\n",
    "income_df = pd.read_csv(income_dir)\n",
    "income_df.sample(n=1)"
   ]
  },
  {
   "cell_type": "code",
   "execution_count": null,
   "metadata": {
    "colab": {},
    "colab_type": "code",
    "id": "9TPtGdtOeOd5"
   },
   "outputs": [],
   "source": [
    "# Extract Census Tract\n",
    "income_df[\"NAME\"] = income_df[\"NAME\"].apply(lambda x : extract_census_tract(x))\n",
    "\n",
    "# Save Estimate!!Households!!Mean income (dollars)\n",
    "columns = [\"NAME\", \"S1901_C01_013M\"]\n",
    "income_df = save_columns(income_df, columns)\n",
    "income_df = income_df.rename(columns={\"NAME\": \"namelsad10\", \"S1901_C01_013M\": \"Household_Income\"})"
   ]
  },
  {
   "cell_type": "code",
   "execution_count": null,
   "metadata": {
    "colab": {
     "base_uri": "https://localhost:8080/",
     "height": 51
    },
    "colab_type": "code",
    "id": "sg6iiLtYgAeE",
    "outputId": "fb14fbc9-0c56-4871-e77d-06c044133cb9"
   },
   "outputs": [],
   "source": [
    "# Merge it with tracts_count\n",
    "tracts_count = tracts_count.merge(income_df, on='namelsad10', how='left')\n",
    "tracts_count = drop_non_numeric(tracts_count, [\"Household_Income\"], verbose=True)"
   ]
  },
  {
   "cell_type": "code",
   "execution_count": null,
   "metadata": {
    "colab": {
     "base_uri": "https://localhost:8080/",
     "height": 80
    },
    "colab_type": "code",
    "id": "w8hiMmxGDFG7",
    "outputId": "afc7afa8-9126-45f1-e430-9d9f22d82e4c"
   },
   "outputs": [],
   "source": [
    "tracts_count.sample(n=1)"
   ]
  },
  {
   "cell_type": "code",
   "execution_count": null,
   "metadata": {
    "colab": {
     "base_uri": "https://localhost:8080/",
     "height": 34
    },
    "colab_type": "code",
    "id": "7hJ2HNTsjHwv",
    "outputId": "029c3f8e-8d3f-4dbc-ee0a-f870d8163ce6"
   },
   "outputs": [],
   "source": [
    "# Save the merged dataset\n",
    "tracts_311_count_filename = \"./data/tracts_count.csv\"\n",
    "df_to_csv(tracts_count, tracts_311_count_filename, verbose=True)"
   ]
  },
  {
   "cell_type": "code",
   "execution_count": null,
   "metadata": {
    "colab": {
     "base_uri": "https://localhost:8080/",
     "height": 419
    },
    "colab_type": "code",
    "id": "MQmOiUAvsRQO",
    "outputId": "477e000a-083b-4920-ca6d-f7cf8a508f3b"
   },
   "outputs": [],
   "source": [
    "tracts_count.sample(n=1)"
   ]
  },
  {
   "cell_type": "code",
   "execution_count": null,
   "metadata": {
    "colab": {},
    "colab_type": "code",
    "id": "sHZhEfWWrchf"
   },
   "outputs": [],
   "source": [
    "tracts_count[\"color\"] = tracts_count.apply(lambda x : evaluateForBivariate(x), axis = 1)"
   ]
  },
  {
   "cell_type": "code",
   "execution_count": null,
   "metadata": {
    "colab": {
     "base_uri": "https://localhost:8080/",
     "height": 142
    },
    "colab_type": "code",
    "id": "O8sJ8VcUJSGm",
    "outputId": "188eda3c-4583-4780-ba2f-1284e9e88c7b"
   },
   "outputs": [],
   "source": [
    "tracts_count.sample(n=1)"
   ]
  },
  {
   "cell_type": "code",
   "execution_count": null,
   "metadata": {
    "colab": {
     "base_uri": "https://localhost:8080/",
     "height": 34
    },
    "colab_type": "code",
    "id": "4-K7tKy9Fc1i",
    "outputId": "68d6ce8b-0364-4b83-cf31-7f186e6c20c2"
   },
   "outputs": [],
   "source": [
    "# Save the merged dataset\n",
    "tracts_311_count_filename = \"./data/tracts_count.csv\"\n",
    "df_to_csv(tracts_count, tracts_311_count_filename, verbose=True)"
   ]
  },
  {
   "cell_type": "code",
   "execution_count": null,
   "metadata": {
    "colab": {},
    "colab_type": "code",
    "id": "ZItf7KeXJV6G"
   },
   "outputs": [],
   "source": [
    "tracts_311_pothole = tracts_311[(tracts_311['SR_TYPE'] == \"Pothole in Street Complaint\")]"
   ]
  },
  {
   "cell_type": "code",
   "execution_count": null,
   "metadata": {
    "colab": {
     "base_uri": "https://localhost:8080/",
     "height": 394
    },
    "colab_type": "code",
    "id": "-0PRVhtmWswb",
    "outputId": "9b334701-79ca-46b1-f9e6-fe9abff1ce4d"
   },
   "outputs": [],
   "source": [
    "tracts_311_pothole.sample(n=1)"
   ]
  },
  {
   "cell_type": "code",
   "execution_count": null,
   "metadata": {
    "colab": {
     "base_uri": "https://localhost:8080/",
     "height": 34
    },
    "colab_type": "code",
    "id": "y0qEKE71xIWt",
    "outputId": "96da4f1d-bf61-4702-9893-c59de0748f8f"
   },
   "outputs": [],
   "source": [
    "# Save Pothole dataset\n",
    "pothole_filename = \"./data/tracts_311_pothole.csv\"\n",
    "df_to_csv(tracts_311_pothole, pothole_filename, verbose=True)"
   ]
  },
  {
   "cell_type": "code",
   "execution_count": null,
   "metadata": {
    "colab": {
     "base_uri": "https://localhost:8080/",
     "height": 34
    },
    "colab_type": "code",
    "id": "UzZcTu2r3xN3",
    "outputId": "d7b95874-33cc-4d32-f4ea-531fbe021616"
   },
   "outputs": [],
   "source": [
    "tracts_311_pothole.shape"
   ]
  },
  {
   "cell_type": "code",
   "execution_count": null,
   "metadata": {
    "colab": {
     "base_uri": "https://localhost:8080/",
     "height": 34
    },
    "colab_type": "code",
    "id": "19PyzuGYYWpf",
    "outputId": "acdd9382-28c9-48d8-910c-1b89044b0518"
   },
   "outputs": [],
   "source": [
    "tracts_311_call = tracts_311[(tracts_311['SR_TYPE'] == \"311 INFORMATION ONLY CALL\")]\n",
    "\n",
    "# Save 311 call dataset\n",
    "call_filename = \"./data/tracts_311_call.csv\"\n",
    "df_to_csv(tracts_311_call, call_filename, verbose=True)"
   ]
  },
  {
   "cell_type": "code",
   "execution_count": null,
   "metadata": {
    "colab": {
     "base_uri": "https://localhost:8080/"
    },
    "colab_type": "code",
    "id": "NQswFWImgfY0",
    "outputId": "af3df87b-d8c8-4bb4-d585-560566093fba"
   },
   "outputs": [],
   "source": [
    "tracts_311_call.sample(n=1)"
   ]
  }
 ],
 "metadata": {
  "colab": {
   "authorship_tag": "ABX9TyM7mSxYmmqDc1yUGy1otLzT",
   "collapsed_sections": [],
   "name": "data_preprocessing.ipynb",
   "provenance": []
  },
  "kernelspec": {
   "display_name": "Python 3",
   "language": "python",
   "name": "python3"
  },
  "language_info": {
   "codemirror_mode": {
    "name": "ipython",
    "version": 3
   },
   "file_extension": ".py",
   "mimetype": "text/x-python",
   "name": "python",
   "nbconvert_exporter": "python",
   "pygments_lexer": "ipython3",
   "version": "3.7.6"
  }
 },
 "nbformat": 4,
 "nbformat_minor": 1
}
