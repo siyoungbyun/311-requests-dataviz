{
 "cells": [
  {
   "cell_type": "markdown",
   "metadata": {
    "colab_type": "text",
    "id": "iv2puIDxIVUR"
   },
   "source": [
    "# __311 Service Requests in Chicago__"
   ]
  },
  {
   "cell_type": "markdown",
   "metadata": {
    "colab_type": "text",
    "id": "78kvahNHWotg"
   },
   "source": [
    "## Import dependencies"
   ]
  },
  {
   "cell_type": "code",
   "execution_count": 1,
   "metadata": {
    "colab": {
     "base_uri": "https://localhost:8080/",
     "height": 1000
    },
    "colab_type": "code",
    "id": "vBft81AiWiXH",
    "outputId": "56b9e5c1-3228-4d96-dc71-f0de603c5687"
   },
   "outputs": [],
   "source": [
    "import altair as alt\n",
    "import pandas as pd\n",
    "import geopandas as gpd"
   ]
  },
  {
   "cell_type": "markdown",
   "metadata": {
    "colab_type": "text",
    "id": "PvDJYiZ5FPVm"
   },
   "source": [
    "## Helper Functions"
   ]
  },
  {
   "cell_type": "code",
   "execution_count": 2,
   "metadata": {
    "colab": {},
    "colab_type": "code",
    "id": "VitLcZrXFSHC"
   },
   "outputs": [],
   "source": [
    "def show_col_row_count(df):\n",
    "\n",
    "    row, col = df.shape\n",
    "    msg = \"The dataframe currently has {} rows and {} columns.\"\n",
    "    print(msg.format(row, col))\n",
    "\n",
    "def drop_non_numeric(df, columns, verbose=False):\n",
    "\n",
    "    if verbose:\n",
    "        rows, _ = df.shape\n",
    "        col_msg = \"Removing all non-numeric rows for the following columns: {}.\"\n",
    "        print(col_msg.format(columns))\n",
    "    for col in columns:\n",
    "        df = df[pd.to_numeric(df[col], errors=\"coerce\").notnull()]\n",
    "        if verbose:\n",
    "            new_rows, _ = df.shape\n",
    "            print(\"Removed {} rows from {}.\".format(rows - new_rows, col))\n",
    "            rows = new_rows\n",
    "    return df\n",
    "\n",
    "def drop_na(dataframe, columns, verbose=False):\n",
    "\n",
    "    if verbose:\n",
    "        rows, _ = dataframe.shape\n",
    "        col_msg = \"Removing all rows with NAs for the following columns: {}.\"\n",
    "        print(col_msg.format(columns))\n",
    "    df = dataframe.dropna(subset = columns)\n",
    "    if verbose:\n",
    "        new_rows, _ = dataframe.shape\n",
    "        print(\"Removed {} rows.\".format(rows - new_rows))\n",
    "    return df\n",
    "\n",
    "def save_columns(dataframe, columns):\n",
    "\n",
    "    dataframe = dataframe[columns]\n",
    "    return dataframe\n",
    "\n",
    "def df_to_csv(dataframe, filename, verbose=False):\n",
    "\n",
    "    try:\n",
    "        dataframe.to_csv(filename, index=False)\n",
    "        if verbose:\n",
    "            print(\"Successfully saved to {}.\".format(filename))\n",
    "    except:\n",
    "        if verbose:\n",
    "            print(\"Failed to save to {}.\".format(filename))\n",
    "\n",
    "def extract_census_tract(row):\n",
    "    return row.split(\",\")[0]\n",
    "\n",
    "def evaluateForBivariate(row, x_var):\n",
    "    # Adapted from the slack channel (Credit to Andrew McNutt)\n",
    "    colorMatrix = [\n",
    "        [\"#64acbe\", \"#627f8c\", \"#574249\"],\n",
    "        [\"#b0d5df\", \"#ad9ea5\", \"#985356\"],\n",
    "        [\"#e8e8e8\", \"#e4acac\", \"#c85a5a\"],\n",
    "    ]\n",
    "    xBoundaries = x_var[1]#[1165.02, 1959.06]\n",
    "    xIdx = 0\n",
    "    if row[x_var[0]] < xBoundaries[0]:\n",
    "        xIdx = 0\n",
    "    elif row[x_var[0]] < xBoundaries[1]:\n",
    "        xIdx = 1\n",
    "    else:\n",
    "        xIdx = 2\n",
    "    yBoundaries = [8200.15, 12498.46]\n",
    "    yIdx = 0\n",
    "    if int(row[\"Household_Income\"]) < yBoundaries[0]:\n",
    "        yIdx = 2\n",
    "    elif int(row[\"Household_Income\"]) < yBoundaries[1]:\n",
    "        yIdx = 1\n",
    "    else:\n",
    "        yIdx = 0\n",
    "\n",
    "    return colorMatrix[yIdx][xIdx]\n",
    "\n",
    "def create_count_df_by_time(df, time_col):\n",
    "\n",
    "    df = df[[time_col, \"CREATED_YEAR\", \"STATUS\"]]\\\n",
    "        .groupby([time_col, \"CREATED_YEAR\"])\\\n",
    "        .STATUS.agg(\"count\")\\\n",
    "        .reset_index(name=\"COUNT\")\n",
    "    df[\"COUNT\"] = df[\"COUNT\"].div(1000)\n",
    "    return df\n",
    "\n",
    "def create_count_df_by_year(dfs, time_col, verbose=False):\n",
    "    \n",
    "    merged_df = create_count_df_by_time(dfs[0], time_col)\n",
    "    for df in dfs[1:]:\n",
    "        df = create_count_df_by_time(df, time_col)\n",
    "        merged_df = merged_df.append(df, ignore_index=True)\n",
    "    if verbose:\n",
    "        print(merged_df.sample(n=5))\n",
    "    return merged_df\n",
    "\n",
    "def income_by_tract(request_df, income_df):\n",
    "    \n",
    "    tracts_by_type = request_df.groupby([\"namelsad10\"]).size().reset_index()\n",
    "    tracts_by_type = tracts_by_type.rename(columns={0: \"Number_of_Requests\"})\n",
    "    tracts_by_type = tracts_by_type.merge(income_df, on='namelsad10', how='left')\n",
    "    tracts_by_type = drop_non_numeric(tracts_by_type, [\"Household_Income\"], verbose=True)\n",
    "    return tracts_by_type\n",
    "\n",
    "def request_by_tract_per_type(request_df, sr_types):\n",
    "    \n",
    "    result_df = request_df.groupby([\"namelsad10\"]).size().reset_index()\n",
    "    result_df = result_df.rename(columns={0: \"All Requests\"})\n",
    "    for sr_type in sr_types:\n",
    "        tracts_by_type = request_df[(request_df['SR_TYPE'] == sr_type)]\n",
    "        tracts_by_type = tracts_by_type.groupby([\"namelsad10\"]).size().reset_index()\n",
    "        tracts_by_type = tracts_by_type.rename(columns={0: \"{}\".format(sr_type)})\n",
    "        result_df = result_df.merge(tracts_by_type, on='namelsad10', how='left')\n",
    "    filename = \"./data/tracts_count_by_type.csv\"\n",
    "    df_to_csv(result_df, filename, verbose=True)\n",
    "        "
   ]
  },
  {
   "cell_type": "markdown",
   "metadata": {
    "colab_type": "text",
    "id": "5zncAkRmW8yy"
   },
   "source": [
    "## Load the dataset - `311_Service_Requests.csv`"
   ]
  },
  {
   "cell_type": "code",
   "execution_count": 3,
   "metadata": {
    "colab": {
     "base_uri": "https://localhost:8080/",
     "height": 51
    },
    "colab_type": "code",
    "id": "Zv1PoBr_W4_k",
    "outputId": "ca0e208a-3d67-44e3-d5c9-7210d1cd2b9f"
   },
   "outputs": [
    {
     "name": "stderr",
     "output_type": "stream",
     "text": [
      "/usr/local/lib/python3.7/dist-packages/IPython/core/interactiveshell.py:3063: DtypeWarning: Columns (11) have mixed types.Specify dtype option on import or set low_memory=False.\n",
      "  interactivity=interactivity, compiler=compiler, result=result)\n"
     ]
    }
   ],
   "source": [
    "data_dir = \"./data/311_Service_Requests_Chicago.csv\"\n",
    "dtype_dict = {\n",
    "    \"STREET_NUMBER\": \"object\",\n",
    "    \"LEGACY_SR_NUMBER\": \"object\",\n",
    "    \"PARENT_SR_NUMBER\": \"object\",\n",
    "    \"SANITATION_DIVISION_DAYS\": \"object\",\n",
    "    }\n",
    "df = pd.read_csv(data_dir, dtype=dtype_dict)"
   ]
  },
  {
   "cell_type": "code",
   "execution_count": 4,
   "metadata": {
    "colab": {},
    "colab_type": "code",
    "id": "tOOIccKLTDqU"
   },
   "outputs": [],
   "source": [
    "df[\"CREATED_DATE\"] = pd.to_datetime(df[\"CREATED_DATE\"], format='%m/%d/%Y %I:%M:%S %p')\n",
    "df[\"CREATED_YEAR\"] = df[\"CREATED_DATE\"].dt.year\n",
    "df[\"CLOSED_DATE\"].fillna(\"01/16/2020 10:20:00 PM\", inplace = True) \n",
    "df[\"CLOSED_DATE\"]= pd.to_datetime(df[\"CLOSED_DATE\"], format='%m/%d/%Y %I:%M:%S %p')\n",
    "df[\"CLOSED_YEAR\"] = df[\"CLOSED_DATE\"].dt.year\n",
    "df[\"DAYS_TAKEN\"] = df[\"CLOSED_DATE\"] - df[\"CREATED_DATE\"]\n",
    "df[\"DAYS_TAKEN\"] = df[\"DAYS_TAKEN\"].dt.days"
   ]
  },
  {
   "cell_type": "code",
   "execution_count": 5,
   "metadata": {
    "colab": {
     "base_uri": "https://localhost:8080/",
     "height": 343
    },
    "colab_type": "code",
    "id": "mJ7WAKp3Yh9Z",
    "outputId": "8fd4178c-9f48-42cb-aa6d-22e0b5c825ea"
   },
   "outputs": [
    {
     "data": {
      "text/html": [
       "<div>\n",
       "<style scoped>\n",
       "    .dataframe tbody tr th:only-of-type {\n",
       "        vertical-align: middle;\n",
       "    }\n",
       "\n",
       "    .dataframe tbody tr th {\n",
       "        vertical-align: top;\n",
       "    }\n",
       "\n",
       "    .dataframe thead th {\n",
       "        text-align: right;\n",
       "    }\n",
       "</style>\n",
       "<table border=\"1\" class=\"dataframe\">\n",
       "  <thead>\n",
       "    <tr style=\"text-align: right;\">\n",
       "      <th></th>\n",
       "      <th>SR_NUMBER</th>\n",
       "      <th>SR_TYPE</th>\n",
       "      <th>SR_SHORT_CODE</th>\n",
       "      <th>OWNER_DEPARTMENT</th>\n",
       "      <th>STATUS</th>\n",
       "      <th>CREATED_DATE</th>\n",
       "      <th>LAST_MODIFIED_DATE</th>\n",
       "      <th>CLOSED_DATE</th>\n",
       "      <th>STREET_ADDRESS</th>\n",
       "      <th>CITY</th>\n",
       "      <th>...</th>\n",
       "      <th>CREATED_DAY_OF_WEEK</th>\n",
       "      <th>CREATED_MONTH</th>\n",
       "      <th>X_COORDINATE</th>\n",
       "      <th>Y_COORDINATE</th>\n",
       "      <th>LATITUDE</th>\n",
       "      <th>LONGITUDE</th>\n",
       "      <th>LOCATION</th>\n",
       "      <th>CREATED_YEAR</th>\n",
       "      <th>CLOSED_YEAR</th>\n",
       "      <th>DAYS_TAKEN</th>\n",
       "    </tr>\n",
       "  </thead>\n",
       "  <tbody>\n",
       "    <tr>\n",
       "      <th>803001</th>\n",
       "      <td>SR19-02588449</td>\n",
       "      <td>Street Light Out Complaint</td>\n",
       "      <td>SFD</td>\n",
       "      <td>CDOT - Department of Transportation</td>\n",
       "      <td>Completed</td>\n",
       "      <td>2019-09-27 07:19:46</td>\n",
       "      <td>09/30/2019 06:19:14 PM</td>\n",
       "      <td>2019-09-30 18:19:14</td>\n",
       "      <td>7642 S PEORIA ST</td>\n",
       "      <td>NaN</td>\n",
       "      <td>...</td>\n",
       "      <td>6</td>\n",
       "      <td>9</td>\n",
       "      <td>1.171557e+06</td>\n",
       "      <td>1.853972e+06</td>\n",
       "      <td>41.754766</td>\n",
       "      <td>-87.646869</td>\n",
       "      <td>(41.75476556052962, -87.64686906674802)</td>\n",
       "      <td>2019</td>\n",
       "      <td>2019</td>\n",
       "      <td>3</td>\n",
       "    </tr>\n",
       "  </tbody>\n",
       "</table>\n",
       "<p>1 rows × 40 columns</p>\n",
       "</div>"
      ],
      "text/plain": [
       "            SR_NUMBER                     SR_TYPE SR_SHORT_CODE  \\\n",
       "803001  SR19-02588449  Street Light Out Complaint           SFD   \n",
       "\n",
       "                           OWNER_DEPARTMENT     STATUS        CREATED_DATE  \\\n",
       "803001  CDOT - Department of Transportation  Completed 2019-09-27 07:19:46   \n",
       "\n",
       "            LAST_MODIFIED_DATE         CLOSED_DATE    STREET_ADDRESS CITY  \\\n",
       "803001  09/30/2019 06:19:14 PM 2019-09-30 18:19:14  7642 S PEORIA ST  NaN   \n",
       "\n",
       "        ... CREATED_DAY_OF_WEEK CREATED_MONTH  X_COORDINATE  Y_COORDINATE  \\\n",
       "803001  ...                   6             9  1.171557e+06  1.853972e+06   \n",
       "\n",
       "         LATITUDE  LONGITUDE                                 LOCATION  \\\n",
       "803001  41.754766 -87.646869  (41.75476556052962, -87.64686906674802)   \n",
       "\n",
       "        CREATED_YEAR CLOSED_YEAR DAYS_TAKEN  \n",
       "803001          2019        2019          3  \n",
       "\n",
       "[1 rows x 40 columns]"
      ]
     },
     "execution_count": 5,
     "metadata": {},
     "output_type": "execute_result"
    }
   ],
   "source": [
    "df.sample(n = 1) "
   ]
  },
  {
   "cell_type": "code",
   "execution_count": 6,
   "metadata": {
    "colab": {
     "base_uri": "https://localhost:8080/",
     "height": 34
    },
    "colab_type": "code",
    "id": "fOiCi0u1-hzQ",
    "outputId": "2c110e44-68c9-41ac-c3cd-0b669692d347"
   },
   "outputs": [
    {
     "name": "stdout",
     "output_type": "stream",
     "text": [
      "The dataframe currently has 2362297 rows and 40 columns.\n"
     ]
    }
   ],
   "source": [
    "show_col_row_count(df)"
   ]
  },
  {
   "cell_type": "code",
   "execution_count": 7,
   "metadata": {
    "colab": {
     "base_uri": "https://localhost:8080/",
     "height": 51
    },
    "colab_type": "code",
    "id": "c4CKchr79-31",
    "outputId": "10f50c72-00f1-4fde-d347-52cf145fe79f"
   },
   "outputs": [
    {
     "name": "stdout",
     "output_type": "stream",
     "text": [
      "Removing all non-numeric rows for the following columns: ['ZIP_CODE'].\n",
      "Removed 17961 rows from ZIP_CODE.\n"
     ]
    }
   ],
   "source": [
    "df = drop_non_numeric(df, [\"ZIP_CODE\"], verbose=True)"
   ]
  },
  {
   "cell_type": "code",
   "execution_count": 8,
   "metadata": {
    "colab": {
     "base_uri": "https://localhost:8080/",
     "height": 51
    },
    "colab_type": "code",
    "id": "3JMxUKjzIjiA",
    "outputId": "0f40d823-5f90-4971-fe27-63292f6f8c8a"
   },
   "outputs": [
    {
     "name": "stdout",
     "output_type": "stream",
     "text": [
      "Removing all rows with NAs for the following columns: ['ZIP_CODE', 'CREATED_DATE', 'WARD', 'LOCATION', 'LATITUDE', 'LATITUDE'].\n",
      "Removed 0 rows.\n"
     ]
    }
   ],
   "source": [
    "df = drop_na(df, [\"ZIP_CODE\", \"CREATED_DATE\", \"WARD\", \"LOCATION\", \"LATITUDE\", \"LATITUDE\"], verbose=True)"
   ]
  },
  {
   "cell_type": "code",
   "execution_count": 9,
   "metadata": {
    "colab": {},
    "colab_type": "code",
    "id": "Yq7QK7axQKOB"
   },
   "outputs": [],
   "source": [
    "columns = [\n",
    "    \"SR_NUMBER\", \"SR_TYPE\", \"SR_SHORT_CODE\",\n",
    "    \"OWNER_DEPARTMENT\",\"STATUS\", \"CREATED_DATE\",\n",
    "    \"CLOSED_DATE\", \"ZIP_CODE\", \"DUPLICATE\",\n",
    "    \"LEGACY_RECORD\", \"WARD\", \"LATITUDE\",\n",
    "    \"LONGITUDE\", \"LOCATION\",\n",
    "    \"DAYS_TAKEN\", \"CREATED_YEAR\", \"CLOSED_YEAR\",\n",
    "    \"CREATED_HOUR\",\t\"CREATED_DAY_OF_WEEK\", \"CREATED_MONTH\"\n",
    "]\n",
    "df = save_columns(df, columns)"
   ]
  },
  {
   "cell_type": "code",
   "execution_count": 10,
   "metadata": {
    "colab": {
     "base_uri": "https://localhost:8080/",
     "height": 377
    },
    "colab_type": "code",
    "id": "xrxdyxYDS0M6",
    "outputId": "474b9b7b-8da2-4560-be5e-e51ef8e55360"
   },
   "outputs": [
    {
     "data": {
      "text/html": [
       "<div>\n",
       "<style scoped>\n",
       "    .dataframe tbody tr th:only-of-type {\n",
       "        vertical-align: middle;\n",
       "    }\n",
       "\n",
       "    .dataframe tbody tr th {\n",
       "        vertical-align: top;\n",
       "    }\n",
       "\n",
       "    .dataframe thead th {\n",
       "        text-align: right;\n",
       "    }\n",
       "</style>\n",
       "<table border=\"1\" class=\"dataframe\">\n",
       "  <thead>\n",
       "    <tr style=\"text-align: right;\">\n",
       "      <th></th>\n",
       "      <th>SR_NUMBER</th>\n",
       "      <th>SR_TYPE</th>\n",
       "      <th>SR_SHORT_CODE</th>\n",
       "      <th>OWNER_DEPARTMENT</th>\n",
       "      <th>STATUS</th>\n",
       "      <th>CREATED_DATE</th>\n",
       "      <th>CLOSED_DATE</th>\n",
       "      <th>ZIP_CODE</th>\n",
       "      <th>DUPLICATE</th>\n",
       "      <th>LEGACY_RECORD</th>\n",
       "      <th>WARD</th>\n",
       "      <th>LATITUDE</th>\n",
       "      <th>LONGITUDE</th>\n",
       "      <th>LOCATION</th>\n",
       "      <th>DAYS_TAKEN</th>\n",
       "      <th>CREATED_YEAR</th>\n",
       "      <th>CLOSED_YEAR</th>\n",
       "      <th>CREATED_HOUR</th>\n",
       "      <th>CREATED_DAY_OF_WEEK</th>\n",
       "      <th>CREATED_MONTH</th>\n",
       "    </tr>\n",
       "  </thead>\n",
       "  <tbody>\n",
       "    <tr>\n",
       "      <th>630673</th>\n",
       "      <td>SR19-02269888</td>\n",
       "      <td>311 INFORMATION ONLY CALL</td>\n",
       "      <td>311IOC</td>\n",
       "      <td>311 City Services</td>\n",
       "      <td>Completed</td>\n",
       "      <td>2019-08-21 20:11:45</td>\n",
       "      <td>2019-08-21 20:11:45</td>\n",
       "      <td>60612</td>\n",
       "      <td>False</td>\n",
       "      <td>False</td>\n",
       "      <td>28.0</td>\n",
       "      <td>41.871831</td>\n",
       "      <td>-87.679846</td>\n",
       "      <td>(41.871831277993564, -87.67984621876099)</td>\n",
       "      <td>0</td>\n",
       "      <td>2019</td>\n",
       "      <td>2019</td>\n",
       "      <td>20</td>\n",
       "      <td>4</td>\n",
       "      <td>8</td>\n",
       "    </tr>\n",
       "  </tbody>\n",
       "</table>\n",
       "</div>"
      ],
      "text/plain": [
       "            SR_NUMBER                    SR_TYPE SR_SHORT_CODE  \\\n",
       "630673  SR19-02269888  311 INFORMATION ONLY CALL        311IOC   \n",
       "\n",
       "         OWNER_DEPARTMENT     STATUS        CREATED_DATE         CLOSED_DATE  \\\n",
       "630673  311 City Services  Completed 2019-08-21 20:11:45 2019-08-21 20:11:45   \n",
       "\n",
       "       ZIP_CODE  DUPLICATE  LEGACY_RECORD  WARD   LATITUDE  LONGITUDE  \\\n",
       "630673    60612      False          False  28.0  41.871831 -87.679846   \n",
       "\n",
       "                                        LOCATION  DAYS_TAKEN  CREATED_YEAR  \\\n",
       "630673  (41.871831277993564, -87.67984621876099)           0          2019   \n",
       "\n",
       "        CLOSED_YEAR  CREATED_HOUR  CREATED_DAY_OF_WEEK  CREATED_MONTH  \n",
       "630673         2019            20                    4              8  "
      ]
     },
     "execution_count": 10,
     "metadata": {},
     "output_type": "execute_result"
    }
   ],
   "source": [
    "df.sample(n=1)"
   ]
  },
  {
   "cell_type": "code",
   "execution_count": 11,
   "metadata": {
    "colab": {
     "base_uri": "https://localhost:8080/",
     "height": 34
    },
    "colab_type": "code",
    "id": "OHTbP7c36v47",
    "outputId": "5b71c46e-4e78-4a84-821f-58ffda99c180"
   },
   "outputs": [
    {
     "name": "stdout",
     "output_type": "stream",
     "text": [
      "The dataframe currently has 2325604 rows and 20 columns.\n"
     ]
    }
   ],
   "source": [
    "show_col_row_count(df)"
   ]
  },
  {
   "cell_type": "code",
   "execution_count": 12,
   "metadata": {
    "colab": {
     "base_uri": "https://localhost:8080/",
     "height": 68
    },
    "colab_type": "code",
    "id": "iJ2-TB_7ONr6",
    "outputId": "60d40239-802e-4838-d3f2-c4b297fa7159"
   },
   "outputs": [
    {
     "name": "stdout",
     "output_type": "stream",
     "text": [
      "Successfully saved to ./data/cleaned_311_2018.csv.\n",
      "Successfully saved to ./data/cleaned_311_2019.csv.\n",
      "Successfully saved to ./data/cleaned_311.csv.\n"
     ]
    }
   ],
   "source": [
    "# Save the dataset\n",
    "\n",
    "# Dataset for 2018/07/01 - 2018/12/31\n",
    "df_2018 = df[(df['CREATED_DATE'] > '2018-07-01 00:00:00') & (df['CREATED_DATE'] <= '2018-12-31 23:59:59')]\n",
    "filename_2018 = \"./data/cleaned_311_2018.csv\"\n",
    "df_to_csv(df_2018, filename_2018, verbose=True)\n",
    "# Dataset for 2019/07/01 - 2019/12/31\n",
    "df_2019 = df[(df['CREATED_DATE'] > '2019-07-01 00:00:00') & (df['CREATED_DATE'] <= '2019-12-31 23:59:59')]\n",
    "filename_2019 = \"./data/cleaned_311_2019.csv\"\n",
    "df_to_csv(df_2019, filename_2019, verbose=True)\n",
    "# Entire cleaned dataset\n",
    "filename = \"./data/cleaned_311.csv\"\n",
    "df_to_csv(df, filename, verbose=True)"
   ]
  },
  {
   "cell_type": "code",
   "execution_count": 13,
   "metadata": {},
   "outputs": [
    {
     "name": "stdout",
     "output_type": "stream",
     "text": [
      "Successfully saved to ./data/311_requests_by_day.csv.\n"
     ]
    }
   ],
   "source": [
    "day_dict = {\n",
    "    1: \"Sunday\",\n",
    "    2: \"Monday\",\n",
    "    3: \"Tuesday\",\n",
    "    4: \"Wednesday\",\n",
    "    5: \"Thursday\",\n",
    "    6: \"Friday\",\n",
    "    7: \"Saturday\",\n",
    "}\n",
    "\n",
    "requests_by_day = create_count_df_by_year([df_2018, df_2019], \"CREATED_DAY_OF_WEEK\")\n",
    "requests_by_day[\"CREATED_DAY_OF_WEEK\"] = requests_by_day[\"CREATED_DAY_OF_WEEK\"].apply(lambda x: day_dict[x])\n",
    "\n",
    "day_filename = \"./data/311_requests_by_day.csv\"\n",
    "df_to_csv(requests_by_day, day_filename, verbose=True)"
   ]
  },
  {
   "cell_type": "code",
   "execution_count": 14,
   "metadata": {},
   "outputs": [
    {
     "name": "stdout",
     "output_type": "stream",
     "text": [
      "Successfully saved to ./data/311_requests_by_month.csv.\n"
     ]
    }
   ],
   "source": [
    "month_dict = {\n",
    "    7: \"July\",\n",
    "    8: \"August\",\n",
    "    9: \"September\",\n",
    "    10: \"October\",\n",
    "    11: \"November\",\n",
    "    12: \"December\"\n",
    "}\n",
    "requests_by_month = create_count_df_by_year([df_2018, df_2019], \"CREATED_MONTH\")\n",
    "requests_by_month[\"MONTH\"] = requests_by_month[\"CREATED_MONTH\"].apply(lambda x: month_dict[x])\n",
    "\n",
    "month_filename = \"./data/311_requests_by_month.csv\"\n",
    "df_to_csv(requests_by_month, month_filename, verbose=True)"
   ]
  },
  {
   "cell_type": "code",
   "execution_count": 15,
   "metadata": {},
   "outputs": [
    {
     "name": "stdout",
     "output_type": "stream",
     "text": [
      "Successfully saved to ./data/top_10_dept.csv.\n"
     ]
    }
   ],
   "source": [
    "dept = [\n",
    "        \"Streets and Sanitation\",\n",
    "        \"CDOT - Department of Transportation\",\n",
    "        \"DWM - Department of Water Management\",\n",
    "        \"DOB - Buildings\",\n",
    "        \"Animal Care and Control\",\n",
    "        \"BACP - Business Affairs and Consumer Protection\",\n",
    "        \"311 City Services\"\n",
    "        ]\n",
    "dept_dict = {\n",
    "    \"Streets and Sanitation\": \"Streets and Sanitation\",\n",
    "    \"CDOT - Department of Transportation\": \"Transportation\",\n",
    "    \"DWM - Department of Water Management\": \"Water Management\",\n",
    "    \"DOB - Buildings\": \"Buildings\",\n",
    "    \"Animal Care and Control\": \"Animal Care / Control\",\n",
    "    \"BACP - Business Affairs and Consumer Protection\": \"Business Affairs\",\n",
    "    \"311 City Services\": \"311 City Services\"\n",
    "    }\n",
    "\n",
    "dept_count = df_2018.groupby(['OWNER_DEPARTMENT', \"CREATED_YEAR\"]).size().sort_values(ascending=False).reset_index(name='COUNT')\n",
    "top_10_type_2018 = dept_count.nlargest(8, 'COUNT')\n",
    "dept_count = df_2019.groupby(['OWNER_DEPARTMENT', \"CREATED_YEAR\"]).size().sort_values(ascending=False).reset_index(name='COUNT')\n",
    "top_10_type_2019 = dept_count.nlargest(8, 'COUNT')\n",
    "\n",
    "top_10_type = top_10_type_2018.append(top_10_type_2019, ignore_index=True)\n",
    "top_10_type = top_10_type[top_10_type.OWNER_DEPARTMENT.isin(dept)].reset_index(drop=True)\n",
    "top_10_type[\"OWNER_DEPARTMENT\"] = top_10_type[\"OWNER_DEPARTMENT\"].apply(lambda x: dept_dict[x])\n",
    "top_10_type[\"COUNT\"] = top_10_type[\"COUNT\"] / 1000\n",
    "\n",
    "top_10_filename = \"./data/top_10_dept.csv\"\n",
    "df_to_csv(top_10_type, top_10_filename, verbose=True)"
   ]
  },
  {
   "cell_type": "code",
   "execution_count": 16,
   "metadata": {},
   "outputs": [
    {
     "data": {
      "text/html": [
       "<div>\n",
       "<style scoped>\n",
       "    .dataframe tbody tr th:only-of-type {\n",
       "        vertical-align: middle;\n",
       "    }\n",
       "\n",
       "    .dataframe tbody tr th {\n",
       "        vertical-align: top;\n",
       "    }\n",
       "\n",
       "    .dataframe thead th {\n",
       "        text-align: right;\n",
       "    }\n",
       "</style>\n",
       "<table border=\"1\" class=\"dataframe\">\n",
       "  <thead>\n",
       "    <tr style=\"text-align: right;\">\n",
       "      <th></th>\n",
       "      <th>OWNER_DEPARTMENT</th>\n",
       "      <th>CREATED_YEAR</th>\n",
       "      <th>COUNT</th>\n",
       "    </tr>\n",
       "  </thead>\n",
       "  <tbody>\n",
       "    <tr>\n",
       "      <th>0</th>\n",
       "      <td>Streets and Sanitation</td>\n",
       "      <td>2018</td>\n",
       "      <td>240.046</td>\n",
       "    </tr>\n",
       "  </tbody>\n",
       "</table>\n",
       "</div>"
      ],
      "text/plain": [
       "         OWNER_DEPARTMENT  CREATED_YEAR    COUNT\n",
       "0  Streets and Sanitation          2018  240.046"
      ]
     },
     "execution_count": 16,
     "metadata": {},
     "output_type": "execute_result"
    }
   ],
   "source": [
    "top_10_type.sample(n=1)"
   ]
  },
  {
   "cell_type": "code",
   "execution_count": 17,
   "metadata": {},
   "outputs": [
    {
     "name": "stdout",
     "output_type": "stream",
     "text": [
      "Successfully saved to ./data/top_10_sr_type.csv.\n"
     ]
    }
   ],
   "source": [
    "top_10_sr_type_2018 = df_2018.groupby(['SR_TYPE', \"CREATED_YEAR\"]).size().sort_values(ascending=False).reset_index(name='COUNT')\n",
    "top_10_sr_type_2019 = df_2019.groupby(['SR_TYPE', \"CREATED_YEAR\"]).size().sort_values(ascending=False).reset_index(name='COUNT')\n",
    "sr_type = [\n",
    "    \"Aircraft Noise Complaint\",\n",
    "    \"Pothole in Street Complaint\",\n",
    "    \"Rodent Baiting/Rat Complaint\",\n",
    "    \"311 INFORMATION ONLY CALL\",\n",
    "    \"Street Light Out Complaint\",\n",
    "    \"Graffiti Removal Request\"\n",
    "    ]\n",
    "top_10_sr_type = top_10_sr_type_2018.append(top_10_sr_type_2019, ignore_index=True)\n",
    "top_10_sr_type = top_10_sr_type[top_10_sr_type.SR_TYPE.isin(sr_type)].reset_index(drop=True)\n",
    "#top_10_sr_type[\"SR_TYPE\"] = top_10_sr_type[\"SR_TYPE\"].apply(lambda x: dept_dict[x])\n",
    "top_10_sr_type[\"COUNT\"] = top_10_sr_type[\"COUNT\"] / 1000\n",
    "\n",
    "top_10_sr_filename = \"./data/top_10_sr_type.csv\"\n",
    "df_to_csv(top_10_sr_type, top_10_sr_filename, verbose=True)"
   ]
  },
  {
   "cell_type": "code",
   "execution_count": 18,
   "metadata": {},
   "outputs": [
    {
     "data": {
      "text/html": [
       "<div>\n",
       "<style scoped>\n",
       "    .dataframe tbody tr th:only-of-type {\n",
       "        vertical-align: middle;\n",
       "    }\n",
       "\n",
       "    .dataframe tbody tr th {\n",
       "        vertical-align: top;\n",
       "    }\n",
       "\n",
       "    .dataframe thead th {\n",
       "        text-align: right;\n",
       "    }\n",
       "</style>\n",
       "<table border=\"1\" class=\"dataframe\">\n",
       "  <thead>\n",
       "    <tr style=\"text-align: right;\">\n",
       "      <th></th>\n",
       "      <th>SR_TYPE</th>\n",
       "      <th>CREATED_YEAR</th>\n",
       "      <th>COUNT</th>\n",
       "    </tr>\n",
       "  </thead>\n",
       "  <tbody>\n",
       "    <tr>\n",
       "      <th>0</th>\n",
       "      <td>Graffiti Removal Request</td>\n",
       "      <td>2018</td>\n",
       "      <td>49.983</td>\n",
       "    </tr>\n",
       "    <tr>\n",
       "      <th>1</th>\n",
       "      <td>Street Light Out Complaint</td>\n",
       "      <td>2018</td>\n",
       "      <td>42.677</td>\n",
       "    </tr>\n",
       "    <tr>\n",
       "      <th>2</th>\n",
       "      <td>Rodent Baiting/Rat Complaint</td>\n",
       "      <td>2018</td>\n",
       "      <td>24.243</td>\n",
       "    </tr>\n",
       "    <tr>\n",
       "      <th>3</th>\n",
       "      <td>Pothole in Street Complaint</td>\n",
       "      <td>2018</td>\n",
       "      <td>20.114</td>\n",
       "    </tr>\n",
       "    <tr>\n",
       "      <th>4</th>\n",
       "      <td>311 INFORMATION ONLY CALL</td>\n",
       "      <td>2018</td>\n",
       "      <td>17.812</td>\n",
       "    </tr>\n",
       "    <tr>\n",
       "      <th>5</th>\n",
       "      <td>Aircraft Noise Complaint</td>\n",
       "      <td>2018</td>\n",
       "      <td>1.825</td>\n",
       "    </tr>\n",
       "    <tr>\n",
       "      <th>6</th>\n",
       "      <td>311 INFORMATION ONLY CALL</td>\n",
       "      <td>2019</td>\n",
       "      <td>348.179</td>\n",
       "    </tr>\n",
       "    <tr>\n",
       "      <th>7</th>\n",
       "      <td>Aircraft Noise Complaint</td>\n",
       "      <td>2019</td>\n",
       "      <td>243.317</td>\n",
       "    </tr>\n",
       "    <tr>\n",
       "      <th>8</th>\n",
       "      <td>Street Light Out Complaint</td>\n",
       "      <td>2019</td>\n",
       "      <td>51.460</td>\n",
       "    </tr>\n",
       "    <tr>\n",
       "      <th>9</th>\n",
       "      <td>Graffiti Removal Request</td>\n",
       "      <td>2019</td>\n",
       "      <td>49.783</td>\n",
       "    </tr>\n",
       "    <tr>\n",
       "      <th>10</th>\n",
       "      <td>Pothole in Street Complaint</td>\n",
       "      <td>2019</td>\n",
       "      <td>32.244</td>\n",
       "    </tr>\n",
       "    <tr>\n",
       "      <th>11</th>\n",
       "      <td>Rodent Baiting/Rat Complaint</td>\n",
       "      <td>2019</td>\n",
       "      <td>27.435</td>\n",
       "    </tr>\n",
       "  </tbody>\n",
       "</table>\n",
       "</div>"
      ],
      "text/plain": [
       "                         SR_TYPE  CREATED_YEAR    COUNT\n",
       "0       Graffiti Removal Request          2018   49.983\n",
       "1     Street Light Out Complaint          2018   42.677\n",
       "2   Rodent Baiting/Rat Complaint          2018   24.243\n",
       "3    Pothole in Street Complaint          2018   20.114\n",
       "4      311 INFORMATION ONLY CALL          2018   17.812\n",
       "5       Aircraft Noise Complaint          2018    1.825\n",
       "6      311 INFORMATION ONLY CALL          2019  348.179\n",
       "7       Aircraft Noise Complaint          2019  243.317\n",
       "8     Street Light Out Complaint          2019   51.460\n",
       "9       Graffiti Removal Request          2019   49.783\n",
       "10   Pothole in Street Complaint          2019   32.244\n",
       "11  Rodent Baiting/Rat Complaint          2019   27.435"
      ]
     },
     "execution_count": 18,
     "metadata": {},
     "output_type": "execute_result"
    }
   ],
   "source": [
    "top_10_sr_type"
   ]
  },
  {
   "cell_type": "markdown",
   "metadata": {},
   "source": [
    "## Create a dataset related to the budget for Chicago"
   ]
  },
  {
   "cell_type": "code",
   "execution_count": 19,
   "metadata": {},
   "outputs": [
    {
     "name": "stdout",
     "output_type": "stream",
     "text": [
      "Successfully saved to ./data/budget.csv.\n"
     ]
    }
   ],
   "source": [
    "dept = [\n",
    "    \"Aviation\",\n",
    "    \"CDOT - Department of Transportation\",\n",
    "    \"Streets and Sanitation\",\n",
    "    \"Fire\",\n",
    "    \"DWM - Department of Water Management\"\n",
    "    ]\n",
    "dept_dict = {\n",
    "    \"AVIATION\": \"Aviation\",\n",
    "    \"CDOT\": \"CDOT - Department of Transportation\",\n",
    "    \"DSS\": \"Streets and Sanitation\",\n",
    "    \"CFD\": \"Fire\",\n",
    "    \"OEMC\": \"DWM - Department of Water Management\",\n",
    "    }\n",
    "label_dict = {\n",
    "    \"Aviation\": \"Aviation\",\n",
    "    \"CDOT - Department of Transportation\": \"Transportation\",\n",
    "    \"Streets and Sanitation\": \"Streets and Sanitation\",\n",
    "    \"Fire\": \"Fire Department\",\n",
    "    \"DWM - Department of Water Management\": \"Water Management\"\n",
    "    }\n",
    "\n",
    "count_by_dept = df.groupby(['OWNER_DEPARTMENT', \"CREATED_YEAR\"]).size().sort_values(ascending=False).reset_index(name='COUNT')\n",
    "count_by_dept = count_by_dept[count_by_dept.OWNER_DEPARTMENT.isin(dept)].reset_index(drop=True)\n",
    "count_by_dept[\"COUNT\"] = count_by_dept[\"COUNT\"] / 1000\n",
    "\n",
    "budget_dir = \"./data/budget/2019_Budget_Ordinance.csv\"\n",
    "budget_df = pd.read_csv(budget_dir)\n",
    "\n",
    "budget_df = budget_df[budget_df[\"DEPARTMENT DESCRIPTION\"].isin(dept_dict)].reset_index(drop=True)\n",
    "budget_df[\"DEPARTMENT DESCRIPTION\"] = budget_df[\"DEPARTMENT DESCRIPTION\"].apply(lambda x: dept_dict[x])\n",
    "budget_df = budget_df.groupby(['DEPARTMENT DESCRIPTION'])['2019 ORDINANCE (AMOUNT $)'].agg('sum').reset_index()\n",
    "budget_df[\"2019 ORDINANCE (AMOUNT $)\"] = budget_df[\"2019 ORDINANCE (AMOUNT $)\"]/1000000\n",
    "budget_df = budget_df.rename(columns={\"DEPARTMENT DESCRIPTION\": \"OWNER_DEPARTMENT\"})\n",
    "budget_df = budget_df.merge(count_by_dept[count_by_dept[\"CREATED_YEAR\"]==2019], on='OWNER_DEPARTMENT', how='left')\n",
    "budget_df[\"OWNER_DEPARTMENT\"] = budget_df[\"OWNER_DEPARTMENT\"].apply(lambda x: label_dict[x])\n",
    "budget_filename = \"./data/budget.csv\"\n",
    "df_to_csv(budget_df, budget_filename, verbose=True)"
   ]
  },
  {
   "cell_type": "code",
   "execution_count": 20,
   "metadata": {},
   "outputs": [
    {
     "data": {
      "text/html": [
       "<div>\n",
       "<style scoped>\n",
       "    .dataframe tbody tr th:only-of-type {\n",
       "        vertical-align: middle;\n",
       "    }\n",
       "\n",
       "    .dataframe tbody tr th {\n",
       "        vertical-align: top;\n",
       "    }\n",
       "\n",
       "    .dataframe thead th {\n",
       "        text-align: right;\n",
       "    }\n",
       "</style>\n",
       "<table border=\"1\" class=\"dataframe\">\n",
       "  <thead>\n",
       "    <tr style=\"text-align: right;\">\n",
       "      <th></th>\n",
       "      <th>OWNER_DEPARTMENT</th>\n",
       "      <th>2019 ORDINANCE (AMOUNT $)</th>\n",
       "      <th>CREATED_YEAR</th>\n",
       "      <th>COUNT</th>\n",
       "    </tr>\n",
       "  </thead>\n",
       "  <tbody>\n",
       "    <tr>\n",
       "      <th>0</th>\n",
       "      <td>Aviation</td>\n",
       "      <td>911.289787</td>\n",
       "      <td>2019</td>\n",
       "      <td>345.002</td>\n",
       "    </tr>\n",
       "    <tr>\n",
       "      <th>1</th>\n",
       "      <td>Transportation</td>\n",
       "      <td>543.060487</td>\n",
       "      <td>2019</td>\n",
       "      <td>319.012</td>\n",
       "    </tr>\n",
       "    <tr>\n",
       "      <th>2</th>\n",
       "      <td>Water Management</td>\n",
       "      <td>233.860841</td>\n",
       "      <td>2019</td>\n",
       "      <td>55.205</td>\n",
       "    </tr>\n",
       "    <tr>\n",
       "      <th>3</th>\n",
       "      <td>Fire Department</td>\n",
       "      <td>652.282316</td>\n",
       "      <td>2019</td>\n",
       "      <td>0.355</td>\n",
       "    </tr>\n",
       "    <tr>\n",
       "      <th>4</th>\n",
       "      <td>Streets and Sanitation</td>\n",
       "      <td>268.026340</td>\n",
       "      <td>2019</td>\n",
       "      <td>413.550</td>\n",
       "    </tr>\n",
       "  </tbody>\n",
       "</table>\n",
       "</div>"
      ],
      "text/plain": [
       "         OWNER_DEPARTMENT  2019 ORDINANCE (AMOUNT $)  CREATED_YEAR    COUNT\n",
       "0                Aviation                 911.289787          2019  345.002\n",
       "1          Transportation                 543.060487          2019  319.012\n",
       "2        Water Management                 233.860841          2019   55.205\n",
       "3         Fire Department                 652.282316          2019    0.355\n",
       "4  Streets and Sanitation                 268.026340          2019  413.550"
      ]
     },
     "execution_count": 20,
     "metadata": {},
     "output_type": "execute_result"
    }
   ],
   "source": [
    "budget_df"
   ]
  },
  {
   "cell_type": "code",
   "execution_count": 21,
   "metadata": {},
   "outputs": [
    {
     "name": "stdout",
     "output_type": "stream",
     "text": [
      "Successfully saved to ./data/budget_all.csv.\n"
     ]
    }
   ],
   "source": [
    "dept = [\n",
    "    \"BACP - Business Affairs and Consumer Protection\",\n",
    "    \"Health\",\n",
    "    \"Department of Planning and Development\",\n",
    "    \"City Clerk's Office\",\n",
    "    \"DOB - Buildings\",\n",
    "    \"Animal Care and Control\",\n",
    "    \"Extreme Weather Notification\",\n",
    "    ]\n",
    "dept_dict = {\n",
    "    \"BUILDINGS\": \"DOB - Buildings\",\n",
    "    \"BACP\": \"BACP - Business Affairs and Consumer Protection\",\n",
    "    \"HEALTH\": \"Health\",\n",
    "    \"PLANNING AND DEVELOPMENT\": \"Department of Planning and Development\",\n",
    "    \"CITY CLERK\": \"City Clerk's Office\",\n",
    "    \"ANIMAL CARE / CONTROL\": \"Animal Care and Control\",\n",
    "    \"OEMC\": \"Extreme Weather Notification\",\n",
    "    }\n",
    "\n",
    "count_by_dept = df.groupby(['OWNER_DEPARTMENT', \"CREATED_YEAR\"]).size().sort_values(ascending=False).reset_index(name='COUNT')\n",
    "count_by_dept = count_by_dept[count_by_dept.OWNER_DEPARTMENT.isin(dept)].reset_index(drop=True)\n",
    "count_by_dept[\"COUNT\"] = count_by_dept[\"COUNT\"] / 1000\n",
    "\n",
    "budget_dir = \"./data/budget/2019_Budget_Ordinance.csv\"\n",
    "budget_df = pd.read_csv(budget_dir)\n",
    "\n",
    "budget_df = budget_df[budget_df[\"DEPARTMENT DESCRIPTION\"].isin(dept_dict)].reset_index(drop=True)\n",
    "budget_df[\"DEPARTMENT DESCRIPTION\"] = budget_df[\"DEPARTMENT DESCRIPTION\"].apply(lambda x: dept_dict[x])\n",
    "budget_df = budget_df.groupby(['DEPARTMENT DESCRIPTION'])['2019 ORDINANCE (AMOUNT $)'].agg('sum').reset_index()\n",
    "budget_df[\"2019 ORDINANCE (AMOUNT $)\"] = budget_df[\"2019 ORDINANCE (AMOUNT $)\"]/1000000\n",
    "budget_df = budget_df.rename(columns={\"DEPARTMENT DESCRIPTION\": \"OWNER_DEPARTMENT\"})\n",
    "budget_df = budget_df.merge(count_by_dept[count_by_dept[\"CREATED_YEAR\"]==2019], on='OWNER_DEPARTMENT', how='left')\n",
    "budget_filename = \"./data/budget_all.csv\"\n",
    "df_to_csv(budget_df, budget_filename, verbose=True)"
   ]
  },
  {
   "cell_type": "code",
   "execution_count": 22,
   "metadata": {},
   "outputs": [
    {
     "data": {
      "text/html": [
       "<div>\n",
       "<style scoped>\n",
       "    .dataframe tbody tr th:only-of-type {\n",
       "        vertical-align: middle;\n",
       "    }\n",
       "\n",
       "    .dataframe tbody tr th {\n",
       "        vertical-align: top;\n",
       "    }\n",
       "\n",
       "    .dataframe thead th {\n",
       "        text-align: right;\n",
       "    }\n",
       "</style>\n",
       "<table border=\"1\" class=\"dataframe\">\n",
       "  <thead>\n",
       "    <tr style=\"text-align: right;\">\n",
       "      <th></th>\n",
       "      <th>OWNER_DEPARTMENT</th>\n",
       "      <th>2019 ORDINANCE (AMOUNT $)</th>\n",
       "      <th>CREATED_YEAR</th>\n",
       "      <th>COUNT</th>\n",
       "    </tr>\n",
       "  </thead>\n",
       "  <tbody>\n",
       "    <tr>\n",
       "      <th>0</th>\n",
       "      <td>Animal Care and Control</td>\n",
       "      <td>6.843307</td>\n",
       "      <td>2019</td>\n",
       "      <td>33.876</td>\n",
       "    </tr>\n",
       "    <tr>\n",
       "      <th>1</th>\n",
       "      <td>BACP - Business Affairs and Consumer Protection</td>\n",
       "      <td>22.199674</td>\n",
       "      <td>2019</td>\n",
       "      <td>11.741</td>\n",
       "    </tr>\n",
       "    <tr>\n",
       "      <th>2</th>\n",
       "      <td>City Clerk's Office</td>\n",
       "      <td>10.756887</td>\n",
       "      <td>2019</td>\n",
       "      <td>1.293</td>\n",
       "    </tr>\n",
       "    <tr>\n",
       "      <th>3</th>\n",
       "      <td>DOB - Buildings</td>\n",
       "      <td>38.119079</td>\n",
       "      <td>2019</td>\n",
       "      <td>34.554</td>\n",
       "    </tr>\n",
       "    <tr>\n",
       "      <th>4</th>\n",
       "      <td>Department of Planning and Development</td>\n",
       "      <td>35.082318</td>\n",
       "      <td>2019</td>\n",
       "      <td>0.765</td>\n",
       "    </tr>\n",
       "    <tr>\n",
       "      <th>5</th>\n",
       "      <td>Extreme Weather Notification</td>\n",
       "      <td>233.860841</td>\n",
       "      <td>2019</td>\n",
       "      <td>0.049</td>\n",
       "    </tr>\n",
       "    <tr>\n",
       "      <th>6</th>\n",
       "      <td>Health</td>\n",
       "      <td>177.264833</td>\n",
       "      <td>2019</td>\n",
       "      <td>4.195</td>\n",
       "    </tr>\n",
       "  </tbody>\n",
       "</table>\n",
       "</div>"
      ],
      "text/plain": [
       "                                  OWNER_DEPARTMENT  2019 ORDINANCE (AMOUNT $)  \\\n",
       "0                          Animal Care and Control                   6.843307   \n",
       "1  BACP - Business Affairs and Consumer Protection                  22.199674   \n",
       "2                              City Clerk's Office                  10.756887   \n",
       "3                                  DOB - Buildings                  38.119079   \n",
       "4           Department of Planning and Development                  35.082318   \n",
       "5                     Extreme Weather Notification                 233.860841   \n",
       "6                                           Health                 177.264833   \n",
       "\n",
       "   CREATED_YEAR   COUNT  \n",
       "0          2019  33.876  \n",
       "1          2019  11.741  \n",
       "2          2019   1.293  \n",
       "3          2019  34.554  \n",
       "4          2019   0.765  \n",
       "5          2019   0.049  \n",
       "6          2019   4.195  "
      ]
     },
     "execution_count": 22,
     "metadata": {},
     "output_type": "execute_result"
    }
   ],
   "source": [
    "budget_df"
   ]
  },
  {
   "cell_type": "markdown",
   "metadata": {
    "colab_type": "text",
    "id": "QFeZc6YVHf_r"
   },
   "source": [
    "## Create a dataset for Census Tract (Number of Requests and Income Level)\n",
    "\n"
   ]
  },
  {
   "cell_type": "code",
   "execution_count": 23,
   "metadata": {
    "colab": {
     "base_uri": "https://localhost:8080/",
     "height": 204
    },
    "colab_type": "code",
    "id": "2Q0s5Pm1rz56",
    "outputId": "941f4043-3e61-4cee-9b35-e0981736fbcd"
   },
   "outputs": [
    {
     "data": {
      "text/html": [
       "<div>\n",
       "<style scoped>\n",
       "    .dataframe tbody tr th:only-of-type {\n",
       "        vertical-align: middle;\n",
       "    }\n",
       "\n",
       "    .dataframe tbody tr th {\n",
       "        vertical-align: top;\n",
       "    }\n",
       "\n",
       "    .dataframe thead th {\n",
       "        text-align: right;\n",
       "    }\n",
       "</style>\n",
       "<table border=\"1\" class=\"dataframe\">\n",
       "  <thead>\n",
       "    <tr style=\"text-align: right;\">\n",
       "      <th></th>\n",
       "      <th>statefp10</th>\n",
       "      <th>name10</th>\n",
       "      <th>commarea_n</th>\n",
       "      <th>namelsad10</th>\n",
       "      <th>commarea</th>\n",
       "      <th>geoid10</th>\n",
       "      <th>notes</th>\n",
       "      <th>tractce10</th>\n",
       "      <th>countyfp10</th>\n",
       "      <th>geometry</th>\n",
       "    </tr>\n",
       "  </thead>\n",
       "  <tbody>\n",
       "    <tr>\n",
       "      <th>103</th>\n",
       "      <td>17</td>\n",
       "      <td>8419</td>\n",
       "      <td>28</td>\n",
       "      <td>Census Tract 8419</td>\n",
       "      <td>28</td>\n",
       "      <td>17031841900</td>\n",
       "      <td></td>\n",
       "      <td>841900</td>\n",
       "      <td>031</td>\n",
       "      <td>MULTIPOLYGON (((-87.65086 41.86096, -87.65086 ...</td>\n",
       "    </tr>\n",
       "  </tbody>\n",
       "</table>\n",
       "</div>"
      ],
      "text/plain": [
       "    statefp10 name10 commarea_n         namelsad10 commarea      geoid10  \\\n",
       "103        17   8419         28  Census Tract 8419       28  17031841900   \n",
       "\n",
       "    notes tractce10 countyfp10  \\\n",
       "103          841900        031   \n",
       "\n",
       "                                              geometry  \n",
       "103  MULTIPOLYGON (((-87.65086 41.86096, -87.65086 ...  "
      ]
     },
     "execution_count": 23,
     "metadata": {},
     "output_type": "execute_result"
    }
   ],
   "source": [
    "# Load Census Tract Polygon dataset\n",
    "tract_dir = \"./data/census_tract_boundary/tracts.geojson\"\n",
    "tracts = gpd.read_file(tract_dir)\n",
    "tracts.crs = 'epsg:4326'\n",
    "tracts.sample(n=1)"
   ]
  },
  {
   "cell_type": "code",
   "execution_count": 24,
   "metadata": {
    "colab": {},
    "colab_type": "code",
    "id": "8h4zpAmFtLtF"
   },
   "outputs": [],
   "source": [
    "cleaned_311 = gpd.GeoDataFrame(df, geometry=gpd.points_from_xy(df.LONGITUDE, df.LATITUDE))"
   ]
  },
  {
   "cell_type": "code",
   "execution_count": 25,
   "metadata": {
    "colab": {
     "base_uri": "https://localhost:8080/",
     "height": 134
    },
    "colab_type": "code",
    "id": "z1JF51WKuEQO",
    "outputId": "b44a7eec-9ae2-476f-da9f-a50d2fe66fd9"
   },
   "outputs": [
    {
     "data": {
      "text/html": [
       "<div>\n",
       "<style scoped>\n",
       "    .dataframe tbody tr th:only-of-type {\n",
       "        vertical-align: middle;\n",
       "    }\n",
       "\n",
       "    .dataframe tbody tr th {\n",
       "        vertical-align: top;\n",
       "    }\n",
       "\n",
       "    .dataframe thead th {\n",
       "        text-align: right;\n",
       "    }\n",
       "</style>\n",
       "<table border=\"1\" class=\"dataframe\">\n",
       "  <thead>\n",
       "    <tr style=\"text-align: right;\">\n",
       "      <th></th>\n",
       "      <th>SR_NUMBER</th>\n",
       "      <th>SR_TYPE</th>\n",
       "      <th>SR_SHORT_CODE</th>\n",
       "      <th>OWNER_DEPARTMENT</th>\n",
       "      <th>STATUS</th>\n",
       "      <th>CREATED_DATE</th>\n",
       "      <th>CLOSED_DATE</th>\n",
       "      <th>ZIP_CODE</th>\n",
       "      <th>DUPLICATE</th>\n",
       "      <th>LEGACY_RECORD</th>\n",
       "      <th>...</th>\n",
       "      <th>LATITUDE</th>\n",
       "      <th>LONGITUDE</th>\n",
       "      <th>LOCATION</th>\n",
       "      <th>DAYS_TAKEN</th>\n",
       "      <th>CREATED_YEAR</th>\n",
       "      <th>CLOSED_YEAR</th>\n",
       "      <th>CREATED_HOUR</th>\n",
       "      <th>CREATED_DAY_OF_WEEK</th>\n",
       "      <th>CREATED_MONTH</th>\n",
       "      <th>geometry</th>\n",
       "    </tr>\n",
       "  </thead>\n",
       "  <tbody>\n",
       "    <tr>\n",
       "      <th>994851</th>\n",
       "      <td>SR19-02816552</td>\n",
       "      <td>Garbage Cart Maintenance</td>\n",
       "      <td>SIE</td>\n",
       "      <td>Streets and Sanitation</td>\n",
       "      <td>Completed</td>\n",
       "      <td>2019-10-26 02:00:53</td>\n",
       "      <td>2019-11-18 12:26:09</td>\n",
       "      <td>60617</td>\n",
       "      <td>False</td>\n",
       "      <td>False</td>\n",
       "      <td>...</td>\n",
       "      <td>41.75093</td>\n",
       "      <td>-87.576916</td>\n",
       "      <td>(41.75092996168121, -87.5769163541104)</td>\n",
       "      <td>23</td>\n",
       "      <td>2019</td>\n",
       "      <td>2019</td>\n",
       "      <td>2</td>\n",
       "      <td>7</td>\n",
       "      <td>10</td>\n",
       "      <td>POINT (-87.57692 41.75093)</td>\n",
       "    </tr>\n",
       "  </tbody>\n",
       "</table>\n",
       "<p>1 rows × 21 columns</p>\n",
       "</div>"
      ],
      "text/plain": [
       "            SR_NUMBER                   SR_TYPE SR_SHORT_CODE  \\\n",
       "994851  SR19-02816552  Garbage Cart Maintenance           SIE   \n",
       "\n",
       "              OWNER_DEPARTMENT     STATUS        CREATED_DATE  \\\n",
       "994851  Streets and Sanitation  Completed 2019-10-26 02:00:53   \n",
       "\n",
       "               CLOSED_DATE ZIP_CODE  DUPLICATE  LEGACY_RECORD  ...  LATITUDE  \\\n",
       "994851 2019-11-18 12:26:09    60617      False          False  ...  41.75093   \n",
       "\n",
       "        LONGITUDE                                LOCATION DAYS_TAKEN  \\\n",
       "994851 -87.576916  (41.75092996168121, -87.5769163541104)         23   \n",
       "\n",
       "        CREATED_YEAR  CLOSED_YEAR  CREATED_HOUR  CREATED_DAY_OF_WEEK  \\\n",
       "994851          2019         2019             2                    7   \n",
       "\n",
       "        CREATED_MONTH                    geometry  \n",
       "994851             10  POINT (-87.57692 41.75093)  \n",
       "\n",
       "[1 rows x 21 columns]"
      ]
     },
     "execution_count": 25,
     "metadata": {},
     "output_type": "execute_result"
    }
   ],
   "source": [
    "cleaned_311.sample(n=1)"
   ]
  },
  {
   "cell_type": "code",
   "execution_count": 26,
   "metadata": {
    "colab": {},
    "colab_type": "code",
    "id": "WMsxN6A9uPdO"
   },
   "outputs": [],
   "source": [
    "cleaned_311.crs = \"epsg:4326\"\n",
    "cleaned_311 = cleaned_311[cleaned_311.geometry.type == 'Point']\n",
    "tracts_311 = gpd.sjoin(cleaned_311, tracts, how=\"inner\", op='intersects')"
   ]
  },
  {
   "cell_type": "code",
   "execution_count": 27,
   "metadata": {
    "colab": {
     "base_uri": "https://localhost:8080/",
     "height": 134
    },
    "colab_type": "code",
    "id": "SJJ_gqgew1V9",
    "outputId": "f756c753-8bbe-4a95-c5cd-c066a67ae58a"
   },
   "outputs": [
    {
     "data": {
      "text/html": [
       "<div>\n",
       "<style scoped>\n",
       "    .dataframe tbody tr th:only-of-type {\n",
       "        vertical-align: middle;\n",
       "    }\n",
       "\n",
       "    .dataframe tbody tr th {\n",
       "        vertical-align: top;\n",
       "    }\n",
       "\n",
       "    .dataframe thead th {\n",
       "        text-align: right;\n",
       "    }\n",
       "</style>\n",
       "<table border=\"1\" class=\"dataframe\">\n",
       "  <thead>\n",
       "    <tr style=\"text-align: right;\">\n",
       "      <th></th>\n",
       "      <th>SR_NUMBER</th>\n",
       "      <th>SR_TYPE</th>\n",
       "      <th>SR_SHORT_CODE</th>\n",
       "      <th>OWNER_DEPARTMENT</th>\n",
       "      <th>STATUS</th>\n",
       "      <th>CREATED_DATE</th>\n",
       "      <th>CLOSED_DATE</th>\n",
       "      <th>ZIP_CODE</th>\n",
       "      <th>DUPLICATE</th>\n",
       "      <th>LEGACY_RECORD</th>\n",
       "      <th>...</th>\n",
       "      <th>index_right</th>\n",
       "      <th>statefp10</th>\n",
       "      <th>name10</th>\n",
       "      <th>commarea_n</th>\n",
       "      <th>namelsad10</th>\n",
       "      <th>commarea</th>\n",
       "      <th>geoid10</th>\n",
       "      <th>notes</th>\n",
       "      <th>tractce10</th>\n",
       "      <th>countyfp10</th>\n",
       "    </tr>\n",
       "  </thead>\n",
       "  <tbody>\n",
       "    <tr>\n",
       "      <th>1301475</th>\n",
       "      <td>SR20-03256684</td>\n",
       "      <td>311 INFORMATION ONLY CALL</td>\n",
       "      <td>311IOC</td>\n",
       "      <td>311 City Services</td>\n",
       "      <td>Completed</td>\n",
       "      <td>2020-01-04 15:54:22</td>\n",
       "      <td>2020-01-04 15:54:22</td>\n",
       "      <td>60612</td>\n",
       "      <td>False</td>\n",
       "      <td>False</td>\n",
       "      <td>...</td>\n",
       "      <td>5</td>\n",
       "      <td>17</td>\n",
       "      <td>8382</td>\n",
       "      <td>28</td>\n",
       "      <td>Census Tract 8382</td>\n",
       "      <td>28</td>\n",
       "      <td>17031838200</td>\n",
       "      <td></td>\n",
       "      <td>838200</td>\n",
       "      <td>031</td>\n",
       "    </tr>\n",
       "  </tbody>\n",
       "</table>\n",
       "<p>1 rows × 31 columns</p>\n",
       "</div>"
      ],
      "text/plain": [
       "             SR_NUMBER                    SR_TYPE SR_SHORT_CODE  \\\n",
       "1301475  SR20-03256684  311 INFORMATION ONLY CALL        311IOC   \n",
       "\n",
       "          OWNER_DEPARTMENT     STATUS        CREATED_DATE         CLOSED_DATE  \\\n",
       "1301475  311 City Services  Completed 2020-01-04 15:54:22 2020-01-04 15:54:22   \n",
       "\n",
       "        ZIP_CODE  DUPLICATE  LEGACY_RECORD  ...  index_right  statefp10  \\\n",
       "1301475    60612      False          False  ...            5         17   \n",
       "\n",
       "         name10 commarea_n         namelsad10  commarea      geoid10  notes  \\\n",
       "1301475    8382         28  Census Tract 8382        28  17031838200          \n",
       "\n",
       "         tractce10  countyfp10  \n",
       "1301475     838200         031  \n",
       "\n",
       "[1 rows x 31 columns]"
      ]
     },
     "execution_count": 27,
     "metadata": {},
     "output_type": "execute_result"
    }
   ],
   "source": [
    "tracts_311.sample(n=1)"
   ]
  },
  {
   "cell_type": "code",
   "execution_count": 28,
   "metadata": {
    "colab": {},
    "colab_type": "code",
    "id": "qPEztIUCzur0"
   },
   "outputs": [],
   "source": [
    "# tracts_311_call = tracts_311[(tracts_311['SR_TYPE'] == \"311 INFORMATION ONLY CALL\")]\n",
    "tracts_count = tracts_311.groupby([\"namelsad10\"]).size().reset_index()\n",
    "tracts_count = tracts_count.rename(columns={0: \"Number_of_Requests\"})"
   ]
  },
  {
   "cell_type": "code",
   "execution_count": 29,
   "metadata": {
    "colab": {
     "base_uri": "https://localhost:8080/",
     "height": 80
    },
    "colab_type": "code",
    "id": "dT3xL7ZMeyvo",
    "outputId": "fb350d56-62f8-4301-f147-6e1246be1083"
   },
   "outputs": [
    {
     "data": {
      "text/html": [
       "<div>\n",
       "<style scoped>\n",
       "    .dataframe tbody tr th:only-of-type {\n",
       "        vertical-align: middle;\n",
       "    }\n",
       "\n",
       "    .dataframe tbody tr th {\n",
       "        vertical-align: top;\n",
       "    }\n",
       "\n",
       "    .dataframe thead th {\n",
       "        text-align: right;\n",
       "    }\n",
       "</style>\n",
       "<table border=\"1\" class=\"dataframe\">\n",
       "  <thead>\n",
       "    <tr style=\"text-align: right;\">\n",
       "      <th></th>\n",
       "      <th>namelsad10</th>\n",
       "      <th>Number_of_Requests</th>\n",
       "    </tr>\n",
       "  </thead>\n",
       "  <tbody>\n",
       "    <tr>\n",
       "      <th>387</th>\n",
       "      <td>Census Tract 4604</td>\n",
       "      <td>1858</td>\n",
       "    </tr>\n",
       "  </tbody>\n",
       "</table>\n",
       "</div>"
      ],
      "text/plain": [
       "            namelsad10  Number_of_Requests\n",
       "387  Census Tract 4604                1858"
      ]
     },
     "execution_count": 29,
     "metadata": {},
     "output_type": "execute_result"
    }
   ],
   "source": [
    "tracts_count.sample(n=1)"
   ]
  },
  {
   "cell_type": "code",
   "execution_count": 30,
   "metadata": {
    "colab": {
     "base_uri": "https://localhost:8080/",
     "height": 214
    },
    "colab_type": "code",
    "id": "UQTExGRjcnuP",
    "outputId": "f2ba7201-ac9b-404d-a7bc-7a9e26308ca3"
   },
   "outputs": [
    {
     "data": {
      "text/html": [
       "<div>\n",
       "<style scoped>\n",
       "    .dataframe tbody tr th:only-of-type {\n",
       "        vertical-align: middle;\n",
       "    }\n",
       "\n",
       "    .dataframe tbody tr th {\n",
       "        vertical-align: top;\n",
       "    }\n",
       "\n",
       "    .dataframe thead th {\n",
       "        text-align: right;\n",
       "    }\n",
       "</style>\n",
       "<table border=\"1\" class=\"dataframe\">\n",
       "  <thead>\n",
       "    <tr style=\"text-align: right;\">\n",
       "      <th></th>\n",
       "      <th>GEO_ID</th>\n",
       "      <th>NAME</th>\n",
       "      <th>S1901_C01_001E</th>\n",
       "      <th>S1901_C01_001M</th>\n",
       "      <th>S1901_C02_001E</th>\n",
       "      <th>S1901_C02_001M</th>\n",
       "      <th>S1901_C03_001E</th>\n",
       "      <th>S1901_C03_001M</th>\n",
       "      <th>S1901_C04_001E</th>\n",
       "      <th>S1901_C04_001M</th>\n",
       "      <th>...</th>\n",
       "      <th>S1901_C04_015E</th>\n",
       "      <th>S1901_C04_015M</th>\n",
       "      <th>S1901_C01_016E</th>\n",
       "      <th>S1901_C01_016M</th>\n",
       "      <th>S1901_C02_016E</th>\n",
       "      <th>S1901_C02_016M</th>\n",
       "      <th>S1901_C03_016E</th>\n",
       "      <th>S1901_C03_016M</th>\n",
       "      <th>S1901_C04_016E</th>\n",
       "      <th>S1901_C04_016M</th>\n",
       "    </tr>\n",
       "  </thead>\n",
       "  <tbody>\n",
       "    <tr>\n",
       "      <th>1259</th>\n",
       "      <td>1400000US17031836800</td>\n",
       "      <td>Census Tract 8368, Cook County, Illinois</td>\n",
       "      <td>826</td>\n",
       "      <td>113</td>\n",
       "      <td>445</td>\n",
       "      <td>113</td>\n",
       "      <td>101</td>\n",
       "      <td>54</td>\n",
       "      <td>381</td>\n",
       "      <td>101</td>\n",
       "      <td>...</td>\n",
       "      <td>(X)</td>\n",
       "      <td>(X)</td>\n",
       "      <td>(X)</td>\n",
       "      <td>(X)</td>\n",
       "      <td>(X)</td>\n",
       "      <td>(X)</td>\n",
       "      <td>(X)</td>\n",
       "      <td>(X)</td>\n",
       "      <td>27.3</td>\n",
       "      <td>(X)</td>\n",
       "    </tr>\n",
       "  </tbody>\n",
       "</table>\n",
       "<p>1 rows × 130 columns</p>\n",
       "</div>"
      ],
      "text/plain": [
       "                    GEO_ID                                      NAME  \\\n",
       "1259  1400000US17031836800  Census Tract 8368, Cook County, Illinois   \n",
       "\n",
       "     S1901_C01_001E S1901_C01_001M S1901_C02_001E S1901_C02_001M  \\\n",
       "1259            826            113            445            113   \n",
       "\n",
       "     S1901_C03_001E S1901_C03_001M S1901_C04_001E S1901_C04_001M  ...  \\\n",
       "1259            101             54            381            101  ...   \n",
       "\n",
       "     S1901_C04_015E S1901_C04_015M S1901_C01_016E S1901_C01_016M  \\\n",
       "1259            (X)            (X)            (X)            (X)   \n",
       "\n",
       "     S1901_C02_016E S1901_C02_016M S1901_C03_016E S1901_C03_016M  \\\n",
       "1259            (X)            (X)            (X)            (X)   \n",
       "\n",
       "     S1901_C04_016E S1901_C04_016M  \n",
       "1259           27.3            (X)  \n",
       "\n",
       "[1 rows x 130 columns]"
      ]
     },
     "execution_count": 30,
     "metadata": {},
     "output_type": "execute_result"
    }
   ],
   "source": [
    "# load income dataset\n",
    "income_dir = \"./data/income_by_census_tract/income_2018_by_census_tract.csv\"\n",
    "income_df = pd.read_csv(income_dir)\n",
    "income_df.sample(n=1)"
   ]
  },
  {
   "cell_type": "code",
   "execution_count": 31,
   "metadata": {
    "colab": {},
    "colab_type": "code",
    "id": "9TPtGdtOeOd5"
   },
   "outputs": [],
   "source": [
    "# Extract Census Tract\n",
    "income_df[\"NAME\"] = income_df[\"NAME\"].apply(lambda x : extract_census_tract(x))\n",
    "\n",
    "# Save Estimate!!Households!!Mean income (dollars)\n",
    "columns = [\"NAME\", \"S1901_C01_013M\"]\n",
    "income_df = save_columns(income_df, columns)\n",
    "income_df = income_df.rename(columns={\"NAME\": \"namelsad10\", \"S1901_C01_013M\": \"Household_Income\"})"
   ]
  },
  {
   "cell_type": "code",
   "execution_count": 32,
   "metadata": {
    "colab": {
     "base_uri": "https://localhost:8080/",
     "height": 51
    },
    "colab_type": "code",
    "id": "sg6iiLtYgAeE",
    "outputId": "fb14fbc9-0c56-4871-e77d-06c044133cb9"
   },
   "outputs": [
    {
     "name": "stdout",
     "output_type": "stream",
     "text": [
      "Removing all non-numeric rows for the following columns: ['Household_Income'].\n",
      "Removed 3 rows from Household_Income.\n"
     ]
    }
   ],
   "source": [
    "# Merge it with tracts_count\n",
    "tracts_count = tracts_count.merge(income_df, on='namelsad10', how='left')\n",
    "tracts_count = drop_non_numeric(tracts_count, [\"Household_Income\"], verbose=True)"
   ]
  },
  {
   "cell_type": "code",
   "execution_count": 33,
   "metadata": {
    "colab": {
     "base_uri": "https://localhost:8080/",
     "height": 80
    },
    "colab_type": "code",
    "id": "w8hiMmxGDFG7",
    "outputId": "afc7afa8-9126-45f1-e430-9d9f22d82e4c"
   },
   "outputs": [
    {
     "data": {
      "text/html": [
       "<div>\n",
       "<style scoped>\n",
       "    .dataframe tbody tr th:only-of-type {\n",
       "        vertical-align: middle;\n",
       "    }\n",
       "\n",
       "    .dataframe tbody tr th {\n",
       "        vertical-align: top;\n",
       "    }\n",
       "\n",
       "    .dataframe thead th {\n",
       "        text-align: right;\n",
       "    }\n",
       "</style>\n",
       "<table border=\"1\" class=\"dataframe\">\n",
       "  <thead>\n",
       "    <tr style=\"text-align: right;\">\n",
       "      <th></th>\n",
       "      <th>namelsad10</th>\n",
       "      <th>Number_of_Requests</th>\n",
       "      <th>Household_Income</th>\n",
       "    </tr>\n",
       "  </thead>\n",
       "  <tbody>\n",
       "    <tr>\n",
       "      <th>528</th>\n",
       "      <td>Census Tract 6309</td>\n",
       "      <td>2208</td>\n",
       "      <td>5166</td>\n",
       "    </tr>\n",
       "  </tbody>\n",
       "</table>\n",
       "</div>"
      ],
      "text/plain": [
       "            namelsad10  Number_of_Requests Household_Income\n",
       "528  Census Tract 6309                2208             5166"
      ]
     },
     "execution_count": 33,
     "metadata": {},
     "output_type": "execute_result"
    }
   ],
   "source": [
    "tracts_count.sample(n=1)"
   ]
  },
  {
   "cell_type": "markdown",
   "metadata": {},
   "source": [
    "## Create a dataset for Census Tract (Population)\n"
   ]
  },
  {
   "cell_type": "code",
   "execution_count": 34,
   "metadata": {},
   "outputs": [
    {
     "name": "stdout",
     "output_type": "stream",
     "text": [
      "Removing all non-numeric rows for the following columns: ['Population'].\n",
      "Removed 0 rows from Population.\n"
     ]
    }
   ],
   "source": [
    "# load income dataset\n",
    "pop_dir = \"./data/population/population_by_tract.csv\"\n",
    "pop_df = pd.read_csv(pop_dir)\n",
    "\n",
    "# Extract Census Tract\n",
    "pop_df[\"NAME\"] = pop_df[\"NAME\"].apply(lambda x : extract_census_tract(x))\n",
    "\n",
    "# Save Population\n",
    "columns = [\"NAME\", \"S0101_C01_001E\"]\n",
    "pop_df = save_columns(pop_df, columns)\n",
    "pop_df = pop_df.rename(columns={\"NAME\": \"namelsad10\", \"S0101_C01_001E\": \"Population\"})\n",
    "\n",
    "# Merge it with tracts_count\n",
    "tracts_count = tracts_count.merge(pop_df, on='namelsad10', how='left')\n",
    "tracts_count = drop_non_numeric(tracts_count, [\"Population\"], verbose=True)\n",
    "tracts_count[\"Number_of_Requests\"] = pd.to_numeric(tracts_count[\"Number_of_Requests\"])\n",
    "tracts_count[\"Population\"] = pd.to_numeric(tracts_count[\"Population\"])\n",
    "tracts_count[\"Household_Income\"] = pd.to_numeric(tracts_count[\"Household_Income\"])\n",
    "tracts_count[\"Request_Rate\"] = tracts_count[\"Number_of_Requests\"]/tracts_count[\"Population\"]"
   ]
  },
  {
   "cell_type": "code",
   "execution_count": 35,
   "metadata": {},
   "outputs": [
    {
     "data": {
      "text/html": [
       "<div>\n",
       "<style scoped>\n",
       "    .dataframe tbody tr th:only-of-type {\n",
       "        vertical-align: middle;\n",
       "    }\n",
       "\n",
       "    .dataframe tbody tr th {\n",
       "        vertical-align: top;\n",
       "    }\n",
       "\n",
       "    .dataframe thead th {\n",
       "        text-align: right;\n",
       "    }\n",
       "</style>\n",
       "<table border=\"1\" class=\"dataframe\">\n",
       "  <thead>\n",
       "    <tr style=\"text-align: right;\">\n",
       "      <th></th>\n",
       "      <th>namelsad10</th>\n",
       "      <th>Number_of_Requests</th>\n",
       "      <th>Household_Income</th>\n",
       "      <th>Population</th>\n",
       "      <th>Request_Rate</th>\n",
       "    </tr>\n",
       "  </thead>\n",
       "  <tbody>\n",
       "    <tr>\n",
       "      <th>212</th>\n",
       "      <td>Census Tract 2601</td>\n",
       "      <td>1358</td>\n",
       "      <td>7488</td>\n",
       "      <td>1154</td>\n",
       "      <td>1.176776</td>\n",
       "    </tr>\n",
       "  </tbody>\n",
       "</table>\n",
       "</div>"
      ],
      "text/plain": [
       "            namelsad10  Number_of_Requests  Household_Income  Population  \\\n",
       "212  Census Tract 2601                1358              7488        1154   \n",
       "\n",
       "     Request_Rate  \n",
       "212      1.176776  "
      ]
     },
     "execution_count": 35,
     "metadata": {},
     "output_type": "execute_result"
    }
   ],
   "source": [
    "tracts_count.sample(n=1)"
   ]
  },
  {
   "cell_type": "code",
   "execution_count": 36,
   "metadata": {},
   "outputs": [
    {
     "data": {
      "text/html": [
       "<div>\n",
       "<style scoped>\n",
       "    .dataframe tbody tr th:only-of-type {\n",
       "        vertical-align: middle;\n",
       "    }\n",
       "\n",
       "    .dataframe tbody tr th {\n",
       "        vertical-align: top;\n",
       "    }\n",
       "\n",
       "    .dataframe thead th {\n",
       "        text-align: right;\n",
       "    }\n",
       "</style>\n",
       "<table border=\"1\" class=\"dataframe\">\n",
       "  <thead>\n",
       "    <tr style=\"text-align: right;\">\n",
       "      <th></th>\n",
       "      <th>Number_of_Requests</th>\n",
       "      <th>Household_Income</th>\n",
       "      <th>Population</th>\n",
       "      <th>Request_Rate</th>\n",
       "    </tr>\n",
       "  </thead>\n",
       "  <tbody>\n",
       "    <tr>\n",
       "      <th>0.33</th>\n",
       "      <td>1165.02</td>\n",
       "      <td>8200.15</td>\n",
       "      <td>2370.05</td>\n",
       "      <td>0.404341</td>\n",
       "    </tr>\n",
       "    <tr>\n",
       "      <th>0.66</th>\n",
       "      <td>1959.06</td>\n",
       "      <td>12498.46</td>\n",
       "      <td>3943.16</td>\n",
       "      <td>0.600562</td>\n",
       "    </tr>\n",
       "  </tbody>\n",
       "</table>\n",
       "</div>"
      ],
      "text/plain": [
       "      Number_of_Requests  Household_Income  Population  Request_Rate\n",
       "0.33             1165.02           8200.15     2370.05      0.404341\n",
       "0.66             1959.06          12498.46     3943.16      0.600562"
      ]
     },
     "execution_count": 36,
     "metadata": {},
     "output_type": "execute_result"
    }
   ],
   "source": [
    "tracts_count.quantile([.33, .66])"
   ]
  },
  {
   "cell_type": "code",
   "execution_count": 37,
   "metadata": {
    "colab": {},
    "colab_type": "code",
    "id": "sHZhEfWWrchf"
   },
   "outputs": [],
   "source": [
    "# \n",
    "tracts_count[\"color\"] = tracts_count.apply(lambda x : evaluateForBivariate(x, (\"Number_of_Requests\", [1165.02, 1959.06])), axis = 1)\n",
    "tracts_count[\"rate_color\"] = tracts_count.apply(lambda x : evaluateForBivariate(x, (\"Request_Rate\", [0.404341, 0.600562])), axis = 1)"
   ]
  },
  {
   "cell_type": "code",
   "execution_count": 38,
   "metadata": {
    "colab": {
     "base_uri": "https://localhost:8080/",
     "height": 142
    },
    "colab_type": "code",
    "id": "O8sJ8VcUJSGm",
    "outputId": "188eda3c-4583-4780-ba2f-1284e9e88c7b"
   },
   "outputs": [
    {
     "data": {
      "text/html": [
       "<div>\n",
       "<style scoped>\n",
       "    .dataframe tbody tr th:only-of-type {\n",
       "        vertical-align: middle;\n",
       "    }\n",
       "\n",
       "    .dataframe tbody tr th {\n",
       "        vertical-align: top;\n",
       "    }\n",
       "\n",
       "    .dataframe thead th {\n",
       "        text-align: right;\n",
       "    }\n",
       "</style>\n",
       "<table border=\"1\" class=\"dataframe\">\n",
       "  <thead>\n",
       "    <tr style=\"text-align: right;\">\n",
       "      <th></th>\n",
       "      <th>namelsad10</th>\n",
       "      <th>Number_of_Requests</th>\n",
       "      <th>Household_Income</th>\n",
       "      <th>Population</th>\n",
       "      <th>Request_Rate</th>\n",
       "      <th>color</th>\n",
       "      <th>rate_color</th>\n",
       "    </tr>\n",
       "  </thead>\n",
       "  <tbody>\n",
       "    <tr>\n",
       "      <th>324</th>\n",
       "      <td>Census Tract 3907</td>\n",
       "      <td>797</td>\n",
       "      <td>10939</td>\n",
       "      <td>5639</td>\n",
       "      <td>0.141337</td>\n",
       "      <td>#b0d5df</td>\n",
       "      <td>#b0d5df</td>\n",
       "    </tr>\n",
       "  </tbody>\n",
       "</table>\n",
       "</div>"
      ],
      "text/plain": [
       "            namelsad10  Number_of_Requests  Household_Income  Population  \\\n",
       "324  Census Tract 3907                 797             10939        5639   \n",
       "\n",
       "     Request_Rate    color rate_color  \n",
       "324      0.141337  #b0d5df    #b0d5df  "
      ]
     },
     "execution_count": 38,
     "metadata": {},
     "output_type": "execute_result"
    }
   ],
   "source": [
    "tracts_count.sample(n=1)"
   ]
  },
  {
   "cell_type": "code",
   "execution_count": 39,
   "metadata": {
    "colab": {
     "base_uri": "https://localhost:8080/",
     "height": 34
    },
    "colab_type": "code",
    "id": "4-K7tKy9Fc1i",
    "outputId": "68d6ce8b-0364-4b83-cf31-7f186e6c20c2"
   },
   "outputs": [
    {
     "name": "stdout",
     "output_type": "stream",
     "text": [
      "Successfully saved to ./data/tracts_count.csv.\n"
     ]
    }
   ],
   "source": [
    "# Save the merged dataset\n",
    "tracts_311_count_filename = \"./data/tracts_count.csv\"\n",
    "df_to_csv(tracts_count, tracts_311_count_filename, verbose=True)"
   ]
  },
  {
   "cell_type": "code",
   "execution_count": 40,
   "metadata": {
    "colab": {
     "base_uri": "https://localhost:8080/",
     "height": 34
    },
    "colab_type": "code",
    "id": "7hJ2HNTsjHwv",
    "outputId": "029c3f8e-8d3f-4dbc-ee0a-f870d8163ce6"
   },
   "outputs": [
    {
     "name": "stdout",
     "output_type": "stream",
     "text": [
      "Successfully saved to ./data/tracts_count_by_type.csv.\n"
     ]
    }
   ],
   "source": [
    "# Save the merged dataset (by type)\n",
    "sr_type = [\n",
    "    \"Aircraft Noise Complaint\",\n",
    "    \"Pothole in Street Complaint\",\n",
    "    \"Rodent Baiting/Rat Complaint\",\n",
    "    \"Weed Removal Request\",\n",
    "    \"Street Light Out Complaint\",\n",
    "    \"Graffiti Removal Request\"\n",
    "    ]\n",
    "request_by_tract_per_type(tracts_311, sr_type)"
   ]
  }
 ],
 "metadata": {
  "colab": {
   "authorship_tag": "ABX9TyM7mSxYmmqDc1yUGy1otLzT",
   "collapsed_sections": [],
   "name": "data_preprocessing.ipynb",
   "provenance": []
  },
  "kernelspec": {
   "display_name": "Python 3",
   "language": "python",
   "name": "python3"
  },
  "language_info": {
   "codemirror_mode": {
    "name": "ipython",
    "version": 3
   },
   "file_extension": ".py",
   "mimetype": "text/x-python",
   "name": "python",
   "nbconvert_exporter": "python",
   "pygments_lexer": "ipython3",
   "version": "3.7.6"
  }
 },
 "nbformat": 4,
 "nbformat_minor": 1
}
